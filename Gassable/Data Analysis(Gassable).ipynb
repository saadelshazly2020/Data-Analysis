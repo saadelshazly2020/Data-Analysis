{
 "cells": [
  {
   "cell_type": "code",
   "execution_count": 249,
   "metadata": {},
   "outputs": [],
   "source": [
    "import pandas as pd\n",
    "import numpy as np\n",
    "import seaborn as sns\n",
    "import matplotlib.pyplot as plt\n",
    "import matplotlib.colors as mcolors\n",
    "%matplotlib inline  \n",
    "plt.style.use('seaborn')"
   ]
  },
  {
   "cell_type": "markdown",
   "metadata": {},
   "source": [
    "# Load Data"
   ]
  },
  {
   "cell_type": "code",
   "execution_count": 8,
   "metadata": {},
   "outputs": [
    {
     "name": "stdout",
     "output_type": "stream",
     "text": [
      "(25213, 14)\n"
     ]
    },
    {
     "data": {
      "text/html": [
       "<div>\n",
       "<style scoped>\n",
       "    .dataframe tbody tr th:only-of-type {\n",
       "        vertical-align: middle;\n",
       "    }\n",
       "\n",
       "    .dataframe tbody tr th {\n",
       "        vertical-align: top;\n",
       "    }\n",
       "\n",
       "    .dataframe thead th {\n",
       "        text-align: right;\n",
       "    }\n",
       "</style>\n",
       "<table border=\"1\" class=\"dataframe\">\n",
       "  <thead>\n",
       "    <tr style=\"text-align: right;\">\n",
       "      <th></th>\n",
       "      <th>Order ID</th>\n",
       "      <th>Driver ID</th>\n",
       "      <th>Product</th>\n",
       "      <th>Service Type</th>\n",
       "      <th>Qty</th>\n",
       "      <th>City</th>\n",
       "      <th>Area</th>\n",
       "      <th>Status</th>\n",
       "      <th>Urgent</th>\n",
       "      <th>Preferred Date</th>\n",
       "      <th>Preferred Time</th>\n",
       "      <th>Delivery Date</th>\n",
       "      <th>Order Date</th>\n",
       "      <th>Cancellation Reason</th>\n",
       "    </tr>\n",
       "  </thead>\n",
       "  <tbody>\n",
       "    <tr>\n",
       "      <th>0</th>\n",
       "      <td>4056668.0</td>\n",
       "      <td>278.0</td>\n",
       "      <td>11 Kg Steel (15 SAR)+ other services (2.25 SAR)</td>\n",
       "      <td>Refill</td>\n",
       "      <td>4</td>\n",
       "      <td>Riyadh</td>\n",
       "      <td>AL IZDIHAR</td>\n",
       "      <td>Delivered</td>\n",
       "      <td>No</td>\n",
       "      <td>2020-09-01</td>\n",
       "      <td>6:00 PM - 8:00 PM</td>\n",
       "      <td>2020-09-01 6:27 pm</td>\n",
       "      <td>2020-09-01 2:51 am</td>\n",
       "      <td>NaN</td>\n",
       "    </tr>\n",
       "    <tr>\n",
       "      <th>1</th>\n",
       "      <td>NaN</td>\n",
       "      <td>NaN</td>\n",
       "      <td>11 Kg Steel (15 SAR)+ other services (2.25 SAR)</td>\n",
       "      <td>Installation</td>\n",
       "      <td>4</td>\n",
       "      <td>NaN</td>\n",
       "      <td>NaN</td>\n",
       "      <td>NaN</td>\n",
       "      <td>NaN</td>\n",
       "      <td>NaN</td>\n",
       "      <td>NaN</td>\n",
       "      <td>NaN</td>\n",
       "      <td>NaN</td>\n",
       "      <td>NaN</td>\n",
       "    </tr>\n",
       "    <tr>\n",
       "      <th>2</th>\n",
       "      <td>4056667.0</td>\n",
       "      <td>1536.0</td>\n",
       "      <td>11 Kg Steel (15 SAR)+ other services (2.25 SAR)</td>\n",
       "      <td>Refill</td>\n",
       "      <td>2</td>\n",
       "      <td>Riyadh</td>\n",
       "      <td>AS SALAM</td>\n",
       "      <td>Delivered</td>\n",
       "      <td>No</td>\n",
       "      <td>2020-09-01</td>\n",
       "      <td>2:00 PM - 4:00 PM</td>\n",
       "      <td>2020-09-01 1:53 pm</td>\n",
       "      <td>2020-09-01 2:44 am</td>\n",
       "      <td>NaN</td>\n",
       "    </tr>\n",
       "    <tr>\n",
       "      <th>3</th>\n",
       "      <td>4056666.0</td>\n",
       "      <td>NaN</td>\n",
       "      <td>11 Kg Steel (15 SAR)+ other services (2.25 SAR)</td>\n",
       "      <td>Refill</td>\n",
       "      <td>1</td>\n",
       "      <td>Jeddah</td>\n",
       "      <td>Al-Rehab</td>\n",
       "      <td>Canceled</td>\n",
       "      <td>No</td>\n",
       "      <td>2020-09-01</td>\n",
       "      <td>6:00 PM - 8:00 PM</td>\n",
       "      <td>Not yet</td>\n",
       "      <td>2020-09-01 2:20 am</td>\n",
       "      <td>I want to modify the order</td>\n",
       "    </tr>\n",
       "    <tr>\n",
       "      <th>4</th>\n",
       "      <td>NaN</td>\n",
       "      <td>NaN</td>\n",
       "      <td>11 Kg Steel (15 SAR)+ other services (2.25 SAR)</td>\n",
       "      <td>Installation</td>\n",
       "      <td>1</td>\n",
       "      <td>NaN</td>\n",
       "      <td>NaN</td>\n",
       "      <td>NaN</td>\n",
       "      <td>NaN</td>\n",
       "      <td>NaN</td>\n",
       "      <td>NaN</td>\n",
       "      <td>NaN</td>\n",
       "      <td>NaN</td>\n",
       "      <td>NaN</td>\n",
       "    </tr>\n",
       "  </tbody>\n",
       "</table>\n",
       "</div>"
      ],
      "text/plain": [
       "    Order ID  Driver ID                                          Product  \\\n",
       "0  4056668.0      278.0  11 Kg Steel (15 SAR)+ other services (2.25 SAR)   \n",
       "1        NaN        NaN  11 Kg Steel (15 SAR)+ other services (2.25 SAR)   \n",
       "2  4056667.0     1536.0  11 Kg Steel (15 SAR)+ other services (2.25 SAR)   \n",
       "3  4056666.0        NaN  11 Kg Steel (15 SAR)+ other services (2.25 SAR)   \n",
       "4        NaN        NaN  11 Kg Steel (15 SAR)+ other services (2.25 SAR)   \n",
       "\n",
       "   Service Type  Qty    City        Area     Status Urgent Preferred Date  \\\n",
       "0        Refill    4  Riyadh  AL IZDIHAR  Delivered     No     2020-09-01   \n",
       "1  Installation    4     NaN         NaN        NaN    NaN            NaN   \n",
       "2        Refill    2  Riyadh    AS SALAM  Delivered     No     2020-09-01   \n",
       "3        Refill    1  Jeddah    Al-Rehab   Canceled     No     2020-09-01   \n",
       "4  Installation    1     NaN         NaN        NaN    NaN            NaN   \n",
       "\n",
       "      Preferred Time       Delivery Date          Order Date  \\\n",
       "0  6:00 PM - 8:00 PM  2020-09-01 6:27 pm  2020-09-01 2:51 am   \n",
       "1                NaN                 NaN                 NaN   \n",
       "2  2:00 PM - 4:00 PM  2020-09-01 1:53 pm  2020-09-01 2:44 am   \n",
       "3  6:00 PM - 8:00 PM             Not yet  2020-09-01 2:20 am   \n",
       "4                NaN                 NaN                 NaN   \n",
       "\n",
       "          Cancellation Reason  \n",
       "0                         NaN  \n",
       "1                         NaN  \n",
       "2                         NaN  \n",
       "3  I want to modify the order  \n",
       "4                         NaN  "
      ]
     },
     "execution_count": 8,
     "metadata": {},
     "output_type": "execute_result"
    }
   ],
   "source": [
    "df_order_8=pd.read_excel('Order_2020-8.xlsx')\n",
    "print(df_order_8.shape)\n",
    "df_order_8.head()"
   ]
  },
  {
   "cell_type": "code",
   "execution_count": 9,
   "metadata": {},
   "outputs": [
    {
     "name": "stdout",
     "output_type": "stream",
     "text": [
      "(10875, 14)\n"
     ]
    },
    {
     "data": {
      "text/html": [
       "<div>\n",
       "<style scoped>\n",
       "    .dataframe tbody tr th:only-of-type {\n",
       "        vertical-align: middle;\n",
       "    }\n",
       "\n",
       "    .dataframe tbody tr th {\n",
       "        vertical-align: top;\n",
       "    }\n",
       "\n",
       "    .dataframe thead th {\n",
       "        text-align: right;\n",
       "    }\n",
       "</style>\n",
       "<table border=\"1\" class=\"dataframe\">\n",
       "  <thead>\n",
       "    <tr style=\"text-align: right;\">\n",
       "      <th></th>\n",
       "      <th>Order ID</th>\n",
       "      <th>Driver ID</th>\n",
       "      <th>Product</th>\n",
       "      <th>Service Type</th>\n",
       "      <th>Qty</th>\n",
       "      <th>City</th>\n",
       "      <th>Area</th>\n",
       "      <th>Status</th>\n",
       "      <th>Urgent</th>\n",
       "      <th>Preferred Date</th>\n",
       "      <th>Preferred Time</th>\n",
       "      <th>Delivery Date</th>\n",
       "      <th>Order Date</th>\n",
       "      <th>Cancellation Reason</th>\n",
       "    </tr>\n",
       "  </thead>\n",
       "  <tbody>\n",
       "    <tr>\n",
       "      <th>0</th>\n",
       "      <td>4065151.0</td>\n",
       "      <td>1332.0</td>\n",
       "      <td>11 Kg Steel (15 SAR)+ other services (2.25 SAR)</td>\n",
       "      <td>Refill</td>\n",
       "      <td>1</td>\n",
       "      <td>Riyadh</td>\n",
       "      <td>AL IZDIHAR</td>\n",
       "      <td>Delivered</td>\n",
       "      <td>No</td>\n",
       "      <td>2020-09-16</td>\n",
       "      <td>10:00 AM - 12:00 PM</td>\n",
       "      <td>2020-09-16 9:59 am</td>\n",
       "      <td>2020-09-16 2:02 am</td>\n",
       "      <td>NaN</td>\n",
       "    </tr>\n",
       "    <tr>\n",
       "      <th>1</th>\n",
       "      <td>4065150.0</td>\n",
       "      <td>1038.0</td>\n",
       "      <td>11 Kg Steel (15 SAR)+ other services (2.25 SAR)</td>\n",
       "      <td>Refill</td>\n",
       "      <td>1</td>\n",
       "      <td>Riyadh</td>\n",
       "      <td>AS SUWAIDI</td>\n",
       "      <td>Delivered</td>\n",
       "      <td>No</td>\n",
       "      <td>2020-09-16</td>\n",
       "      <td>10:00 AM - 12:00 PM</td>\n",
       "      <td>2020-09-16 11:05 am</td>\n",
       "      <td>2020-09-16 1:53 am</td>\n",
       "      <td>NaN</td>\n",
       "    </tr>\n",
       "    <tr>\n",
       "      <th>2</th>\n",
       "      <td>4065149.0</td>\n",
       "      <td>1247.0</td>\n",
       "      <td>11 Kg Steel (15 SAR)+ other services (2.25 SAR)</td>\n",
       "      <td>Refill</td>\n",
       "      <td>1</td>\n",
       "      <td>Riyadh</td>\n",
       "      <td>AL MUNSIYAH</td>\n",
       "      <td>Delivered</td>\n",
       "      <td>No</td>\n",
       "      <td>2020-09-17</td>\n",
       "      <td>12:00 PM - 2:00 PM</td>\n",
       "      <td>2020-09-17 12:56 pm</td>\n",
       "      <td>2020-09-16 1:41 am</td>\n",
       "      <td>NaN</td>\n",
       "    </tr>\n",
       "    <tr>\n",
       "      <th>3</th>\n",
       "      <td>4065148.0</td>\n",
       "      <td>1509.0</td>\n",
       "      <td>11 Kg Steel (15 SAR)+ other services (2.25 SAR)</td>\n",
       "      <td>Refill</td>\n",
       "      <td>4</td>\n",
       "      <td>Riyadh</td>\n",
       "      <td>AR RAWABI</td>\n",
       "      <td>Delivered</td>\n",
       "      <td>No</td>\n",
       "      <td>2020-09-16</td>\n",
       "      <td>2:00 PM - 4:00 PM</td>\n",
       "      <td>2020-09-16 6:09 pm</td>\n",
       "      <td>2020-09-16 1:32 am</td>\n",
       "      <td>NaN</td>\n",
       "    </tr>\n",
       "    <tr>\n",
       "      <th>4</th>\n",
       "      <td>4065147.0</td>\n",
       "      <td>1472.0</td>\n",
       "      <td>11 Kg Steel (15 SAR)+ other services (2.25 SAR)</td>\n",
       "      <td>Refill</td>\n",
       "      <td>2</td>\n",
       "      <td>Riyadh</td>\n",
       "      <td>BADR</td>\n",
       "      <td>Delivered</td>\n",
       "      <td>No</td>\n",
       "      <td>2020-09-16</td>\n",
       "      <td>10:00 AM - 12:00 PM</td>\n",
       "      <td>2020-09-16 11:17 am</td>\n",
       "      <td>2020-09-16 1:08 am</td>\n",
       "      <td>NaN</td>\n",
       "    </tr>\n",
       "  </tbody>\n",
       "</table>\n",
       "</div>"
      ],
      "text/plain": [
       "    Order ID  Driver ID                                          Product  \\\n",
       "0  4065151.0     1332.0  11 Kg Steel (15 SAR)+ other services (2.25 SAR)   \n",
       "1  4065150.0     1038.0  11 Kg Steel (15 SAR)+ other services (2.25 SAR)   \n",
       "2  4065149.0     1247.0  11 Kg Steel (15 SAR)+ other services (2.25 SAR)   \n",
       "3  4065148.0     1509.0  11 Kg Steel (15 SAR)+ other services (2.25 SAR)   \n",
       "4  4065147.0     1472.0  11 Kg Steel (15 SAR)+ other services (2.25 SAR)   \n",
       "\n",
       "  Service Type  Qty    City         Area     Status Urgent Preferred Date  \\\n",
       "0       Refill    1  Riyadh   AL IZDIHAR  Delivered     No     2020-09-16   \n",
       "1       Refill    1  Riyadh   AS SUWAIDI  Delivered     No     2020-09-16   \n",
       "2       Refill    1  Riyadh  AL MUNSIYAH  Delivered     No     2020-09-17   \n",
       "3       Refill    4  Riyadh    AR RAWABI  Delivered     No     2020-09-16   \n",
       "4       Refill    2  Riyadh         BADR  Delivered     No     2020-09-16   \n",
       "\n",
       "        Preferred Time        Delivery Date          Order Date  \\\n",
       "0  10:00 AM - 12:00 PM   2020-09-16 9:59 am  2020-09-16 2:02 am   \n",
       "1  10:00 AM - 12:00 PM  2020-09-16 11:05 am  2020-09-16 1:53 am   \n",
       "2   12:00 PM - 2:00 PM  2020-09-17 12:56 pm  2020-09-16 1:41 am   \n",
       "3    2:00 PM - 4:00 PM   2020-09-16 6:09 pm  2020-09-16 1:32 am   \n",
       "4  10:00 AM - 12:00 PM  2020-09-16 11:17 am  2020-09-16 1:08 am   \n",
       "\n",
       "  Cancellation Reason  \n",
       "0                 NaN  \n",
       "1                 NaN  \n",
       "2                 NaN  \n",
       "3                 NaN  \n",
       "4                 NaN  "
      ]
     },
     "execution_count": 9,
     "metadata": {},
     "output_type": "execute_result"
    }
   ],
   "source": [
    "df_order_9_1=pd.read_excel('Order_2020-9(1).xlsx')\n",
    "print(df_order_9_1.shape)\n",
    "df_order_9_1.head()"
   ]
  },
  {
   "cell_type": "code",
   "execution_count": 10,
   "metadata": {},
   "outputs": [
    {
     "name": "stdout",
     "output_type": "stream",
     "text": [
      "(15090, 14)\n"
     ]
    },
    {
     "data": {
      "text/html": [
       "<div>\n",
       "<style scoped>\n",
       "    .dataframe tbody tr th:only-of-type {\n",
       "        vertical-align: middle;\n",
       "    }\n",
       "\n",
       "    .dataframe tbody tr th {\n",
       "        vertical-align: top;\n",
       "    }\n",
       "\n",
       "    .dataframe thead th {\n",
       "        text-align: right;\n",
       "    }\n",
       "</style>\n",
       "<table border=\"1\" class=\"dataframe\">\n",
       "  <thead>\n",
       "    <tr style=\"text-align: right;\">\n",
       "      <th></th>\n",
       "      <th>Order ID</th>\n",
       "      <th>Driver ID</th>\n",
       "      <th>Product</th>\n",
       "      <th>Service Type</th>\n",
       "      <th>Qty</th>\n",
       "      <th>City</th>\n",
       "      <th>Area</th>\n",
       "      <th>Status</th>\n",
       "      <th>Urgent</th>\n",
       "      <th>Preferred Date</th>\n",
       "      <th>Preferred Time</th>\n",
       "      <th>Delivery Date</th>\n",
       "      <th>Order Date</th>\n",
       "      <th>Cancellation Reason</th>\n",
       "    </tr>\n",
       "  </thead>\n",
       "  <tbody>\n",
       "    <tr>\n",
       "      <th>0</th>\n",
       "      <td>4077675.0</td>\n",
       "      <td>NaN</td>\n",
       "      <td>Water Bottle 18L - Tania</td>\n",
       "      <td>Refill</td>\n",
       "      <td>3</td>\n",
       "      <td>Ad Diriyah</td>\n",
       "      <td>AD DIRIYAH</td>\n",
       "      <td>Canceled</td>\n",
       "      <td>No</td>\n",
       "      <td>2020-10-04</td>\n",
       "      <td>2:00 PM - 4:00 PM</td>\n",
       "      <td>Not yet</td>\n",
       "      <td>2020-10-01 2:43 am</td>\n",
       "      <td>الوقت لا يناسبني</td>\n",
       "    </tr>\n",
       "    <tr>\n",
       "      <th>1</th>\n",
       "      <td>4077674.0</td>\n",
       "      <td>1509.0</td>\n",
       "      <td>11 Kg Steel (15 SAR)+ other services (2.25 SAR)</td>\n",
       "      <td>Refill</td>\n",
       "      <td>4</td>\n",
       "      <td>Riyadh</td>\n",
       "      <td>AR RAWABI</td>\n",
       "      <td>Delivered</td>\n",
       "      <td>No</td>\n",
       "      <td>2020-10-01</td>\n",
       "      <td>12:00 PM - 2:00 PM</td>\n",
       "      <td>2020-10-01 1:24 pm</td>\n",
       "      <td>2020-10-01 2:19 am</td>\n",
       "      <td>NaN</td>\n",
       "    </tr>\n",
       "    <tr>\n",
       "      <th>2</th>\n",
       "      <td>4077673.0</td>\n",
       "      <td>1532.0</td>\n",
       "      <td>11 Kg Steel (15 SAR)+ other services (2.25 SAR)</td>\n",
       "      <td>Refill</td>\n",
       "      <td>2</td>\n",
       "      <td>Riyadh</td>\n",
       "      <td>AL AQIQ</td>\n",
       "      <td>Delivered</td>\n",
       "      <td>No</td>\n",
       "      <td>2020-10-01</td>\n",
       "      <td>12:00 PM - 2:00 PM</td>\n",
       "      <td>2020-10-01 11:08 am</td>\n",
       "      <td>2020-10-01 2:17 am</td>\n",
       "      <td>NaN</td>\n",
       "    </tr>\n",
       "    <tr>\n",
       "      <th>3</th>\n",
       "      <td>4077672.0</td>\n",
       "      <td>1230.0</td>\n",
       "      <td>11 Kg Steel (15 SAR)+ other services (2.25 SAR)</td>\n",
       "      <td>Refill</td>\n",
       "      <td>12</td>\n",
       "      <td>Riyadh</td>\n",
       "      <td>Al Mansourah</td>\n",
       "      <td>Canceled</td>\n",
       "      <td>No</td>\n",
       "      <td>2020-10-01</td>\n",
       "      <td>10:00 AM - 12:00 PM</td>\n",
       "      <td>Not yet</td>\n",
       "      <td>2020-10-01 2:12 am</td>\n",
       "      <td>أريد تعديل الطلب</td>\n",
       "    </tr>\n",
       "    <tr>\n",
       "      <th>4</th>\n",
       "      <td>4077671.0</td>\n",
       "      <td>1474.0</td>\n",
       "      <td>11 Kg Steel (15 SAR)+ other services (2.25 SAR)</td>\n",
       "      <td>Refill</td>\n",
       "      <td>1</td>\n",
       "      <td>Riyadh</td>\n",
       "      <td>AL YARMUK</td>\n",
       "      <td>Delivered</td>\n",
       "      <td>No</td>\n",
       "      <td>2020-10-01</td>\n",
       "      <td>2:00 PM - 4:00 PM</td>\n",
       "      <td>2020-10-01 2:19 pm</td>\n",
       "      <td>2020-10-01 2:10 am</td>\n",
       "      <td>NaN</td>\n",
       "    </tr>\n",
       "  </tbody>\n",
       "</table>\n",
       "</div>"
      ],
      "text/plain": [
       "    Order ID  Driver ID                                          Product  \\\n",
       "0  4077675.0        NaN                         Water Bottle 18L - Tania   \n",
       "1  4077674.0     1509.0  11 Kg Steel (15 SAR)+ other services (2.25 SAR)   \n",
       "2  4077673.0     1532.0  11 Kg Steel (15 SAR)+ other services (2.25 SAR)   \n",
       "3  4077672.0     1230.0  11 Kg Steel (15 SAR)+ other services (2.25 SAR)   \n",
       "4  4077671.0     1474.0  11 Kg Steel (15 SAR)+ other services (2.25 SAR)   \n",
       "\n",
       "  Service Type  Qty        City          Area     Status Urgent  \\\n",
       "0       Refill    3  Ad Diriyah    AD DIRIYAH   Canceled     No   \n",
       "1       Refill    4      Riyadh     AR RAWABI  Delivered     No   \n",
       "2       Refill    2      Riyadh       AL AQIQ  Delivered     No   \n",
       "3       Refill   12      Riyadh  Al Mansourah   Canceled     No   \n",
       "4       Refill    1      Riyadh     AL YARMUK  Delivered     No   \n",
       "\n",
       "  Preferred Date       Preferred Time        Delivery Date  \\\n",
       "0     2020-10-04    2:00 PM - 4:00 PM              Not yet   \n",
       "1     2020-10-01   12:00 PM - 2:00 PM   2020-10-01 1:24 pm   \n",
       "2     2020-10-01   12:00 PM - 2:00 PM  2020-10-01 11:08 am   \n",
       "3     2020-10-01  10:00 AM - 12:00 PM              Not yet   \n",
       "4     2020-10-01    2:00 PM - 4:00 PM   2020-10-01 2:19 pm   \n",
       "\n",
       "           Order Date Cancellation Reason  \n",
       "0  2020-10-01 2:43 am    الوقت لا يناسبني  \n",
       "1  2020-10-01 2:19 am                 NaN  \n",
       "2  2020-10-01 2:17 am                 NaN  \n",
       "3  2020-10-01 2:12 am    أريد تعديل الطلب  \n",
       "4  2020-10-01 2:10 am                 NaN  "
      ]
     },
     "execution_count": 10,
     "metadata": {},
     "output_type": "execute_result"
    }
   ],
   "source": [
    "df_order_9_2=pd.read_excel('Order_2020-9(2).xlsx')\n",
    "print(df_order_9_2.shape)\n",
    "df_order_9_2.head()"
   ]
  },
  {
   "cell_type": "code",
   "execution_count": 11,
   "metadata": {},
   "outputs": [
    {
     "name": "stdout",
     "output_type": "stream",
     "text": [
      "(8621, 14)\n"
     ]
    },
    {
     "data": {
      "text/html": [
       "<div>\n",
       "<style scoped>\n",
       "    .dataframe tbody tr th:only-of-type {\n",
       "        vertical-align: middle;\n",
       "    }\n",
       "\n",
       "    .dataframe tbody tr th {\n",
       "        vertical-align: top;\n",
       "    }\n",
       "\n",
       "    .dataframe thead th {\n",
       "        text-align: right;\n",
       "    }\n",
       "</style>\n",
       "<table border=\"1\" class=\"dataframe\">\n",
       "  <thead>\n",
       "    <tr style=\"text-align: right;\">\n",
       "      <th></th>\n",
       "      <th>Order ID</th>\n",
       "      <th>Driver ID</th>\n",
       "      <th>Product</th>\n",
       "      <th>Service Type</th>\n",
       "      <th>Qty</th>\n",
       "      <th>City</th>\n",
       "      <th>Area</th>\n",
       "      <th>Status</th>\n",
       "      <th>Urgent</th>\n",
       "      <th>Preferred Date</th>\n",
       "      <th>Preferred Time</th>\n",
       "      <th>Delivery Date</th>\n",
       "      <th>Order Date</th>\n",
       "      <th>Cancellation Reason</th>\n",
       "    </tr>\n",
       "  </thead>\n",
       "  <tbody>\n",
       "    <tr>\n",
       "      <th>0</th>\n",
       "      <td>4084458.0</td>\n",
       "      <td>1547.0</td>\n",
       "      <td>11 Kg Steel (15 SAR)+ other services (2.25 SAR)</td>\n",
       "      <td>Refill</td>\n",
       "      <td>1</td>\n",
       "      <td>Al Khobar</td>\n",
       "      <td>Qurtoba</td>\n",
       "      <td>Confirmed</td>\n",
       "      <td>No</td>\n",
       "      <td>2020-10-15</td>\n",
       "      <td>4:00 PM - 6:00 PM</td>\n",
       "      <td>Not yet</td>\n",
       "      <td>2020-10-13 2:53 am</td>\n",
       "      <td>NaN</td>\n",
       "    </tr>\n",
       "    <tr>\n",
       "      <th>1</th>\n",
       "      <td>4084457.0</td>\n",
       "      <td>NaN</td>\n",
       "      <td>11 Kg Steel (15 SAR)+ other services (2.25 SAR)</td>\n",
       "      <td>Refill</td>\n",
       "      <td>2</td>\n",
       "      <td>Riyadh</td>\n",
       "      <td>TUWAIQ</td>\n",
       "      <td>Canceled</td>\n",
       "      <td>No</td>\n",
       "      <td>2020-10-13</td>\n",
       "      <td>2:00 PM - 4:00 PM</td>\n",
       "      <td>Not yet</td>\n",
       "      <td>2020-10-13 2:53 am</td>\n",
       "      <td>NaN</td>\n",
       "    </tr>\n",
       "    <tr>\n",
       "      <th>2</th>\n",
       "      <td>NaN</td>\n",
       "      <td>NaN</td>\n",
       "      <td>11 Kg Steel (15 SAR)+ other services (2.25 SAR)</td>\n",
       "      <td>Installation</td>\n",
       "      <td>1</td>\n",
       "      <td>NaN</td>\n",
       "      <td>NaN</td>\n",
       "      <td>NaN</td>\n",
       "      <td>NaN</td>\n",
       "      <td>NaN</td>\n",
       "      <td>NaN</td>\n",
       "      <td>NaN</td>\n",
       "      <td>NaN</td>\n",
       "      <td>NaN</td>\n",
       "    </tr>\n",
       "    <tr>\n",
       "      <th>3</th>\n",
       "      <td>4084456.0</td>\n",
       "      <td>1282.0</td>\n",
       "      <td>11 Kg Steel (15 SAR)+ other services (2.25 SAR)</td>\n",
       "      <td>Refill</td>\n",
       "      <td>1</td>\n",
       "      <td>Dammam</td>\n",
       "      <td>Al Safa</td>\n",
       "      <td>Confirmed</td>\n",
       "      <td>No</td>\n",
       "      <td>2020-10-15</td>\n",
       "      <td>6:00 PM - 8:00 PM</td>\n",
       "      <td>Not yet</td>\n",
       "      <td>2020-10-13 2:46 am</td>\n",
       "      <td>NaN</td>\n",
       "    </tr>\n",
       "    <tr>\n",
       "      <th>4</th>\n",
       "      <td>NaN</td>\n",
       "      <td>NaN</td>\n",
       "      <td>11 Kg Steel (15 SAR)+ other services (2.25 SAR)</td>\n",
       "      <td>Installation</td>\n",
       "      <td>1</td>\n",
       "      <td>NaN</td>\n",
       "      <td>NaN</td>\n",
       "      <td>NaN</td>\n",
       "      <td>NaN</td>\n",
       "      <td>NaN</td>\n",
       "      <td>NaN</td>\n",
       "      <td>NaN</td>\n",
       "      <td>NaN</td>\n",
       "      <td>NaN</td>\n",
       "    </tr>\n",
       "  </tbody>\n",
       "</table>\n",
       "</div>"
      ],
      "text/plain": [
       "    Order ID  Driver ID                                          Product  \\\n",
       "0  4084458.0     1547.0  11 Kg Steel (15 SAR)+ other services (2.25 SAR)   \n",
       "1  4084457.0        NaN  11 Kg Steel (15 SAR)+ other services (2.25 SAR)   \n",
       "2        NaN        NaN  11 Kg Steel (15 SAR)+ other services (2.25 SAR)   \n",
       "3  4084456.0     1282.0  11 Kg Steel (15 SAR)+ other services (2.25 SAR)   \n",
       "4        NaN        NaN  11 Kg Steel (15 SAR)+ other services (2.25 SAR)   \n",
       "\n",
       "   Service Type  Qty       City     Area     Status Urgent Preferred Date  \\\n",
       "0        Refill    1  Al Khobar  Qurtoba  Confirmed     No     2020-10-15   \n",
       "1        Refill    2     Riyadh   TUWAIQ   Canceled     No     2020-10-13   \n",
       "2  Installation    1        NaN      NaN        NaN    NaN            NaN   \n",
       "3        Refill    1     Dammam  Al Safa  Confirmed     No     2020-10-15   \n",
       "4  Installation    1        NaN      NaN        NaN    NaN            NaN   \n",
       "\n",
       "      Preferred Time Delivery Date          Order Date Cancellation Reason  \n",
       "0  4:00 PM - 6:00 PM       Not yet  2020-10-13 2:53 am                 NaN  \n",
       "1  2:00 PM - 4:00 PM       Not yet  2020-10-13 2:53 am                 NaN  \n",
       "2                NaN           NaN                 NaN                 NaN  \n",
       "3  6:00 PM - 8:00 PM       Not yet  2020-10-13 2:46 am                 NaN  \n",
       "4                NaN           NaN                 NaN                 NaN  "
      ]
     },
     "execution_count": 11,
     "metadata": {},
     "output_type": "execute_result"
    }
   ],
   "source": [
    "df_order_10=pd.read_excel('Order_2020-10.xlsx')\n",
    "print(df_order_10.shape)\n",
    "df_order_10.head()"
   ]
  },
  {
   "cell_type": "markdown",
   "metadata": {},
   "source": [
    "### Drivers Data"
   ]
  },
  {
   "cell_type": "code",
   "execution_count": 15,
   "metadata": {},
   "outputs": [
    {
     "name": "stdout",
     "output_type": "stream",
     "text": [
      "(1207, 5)\n"
     ]
    },
    {
     "data": {
      "text/html": [
       "<div>\n",
       "<style scoped>\n",
       "    .dataframe tbody tr th:only-of-type {\n",
       "        vertical-align: middle;\n",
       "    }\n",
       "\n",
       "    .dataframe tbody tr th {\n",
       "        vertical-align: top;\n",
       "    }\n",
       "\n",
       "    .dataframe thead th {\n",
       "        text-align: right;\n",
       "    }\n",
       "</style>\n",
       "<table border=\"1\" class=\"dataframe\">\n",
       "  <thead>\n",
       "    <tr style=\"text-align: right;\">\n",
       "      <th></th>\n",
       "      <th>ID</th>\n",
       "      <th>Cities</th>\n",
       "      <th>Areas</th>\n",
       "      <th>Status</th>\n",
       "      <th>Date Added</th>\n",
       "    </tr>\n",
       "  </thead>\n",
       "  <tbody>\n",
       "    <tr>\n",
       "      <th>0</th>\n",
       "      <td>114</td>\n",
       "      <td>Riyadh</td>\n",
       "      <td>AS SULIMANIYAH, KING FAHD, HITTIN</td>\n",
       "      <td>Inactive</td>\n",
       "      <td>2017-02-02 10:22 am</td>\n",
       "    </tr>\n",
       "    <tr>\n",
       "      <th>1</th>\n",
       "      <td>125</td>\n",
       "      <td>Riyadh</td>\n",
       "      <td>ALYASMIN, AS SULIMANIYAH</td>\n",
       "      <td>Inactive</td>\n",
       "      <td>2017-02-21 11:33 am</td>\n",
       "    </tr>\n",
       "    <tr>\n",
       "      <th>2</th>\n",
       "      <td>126</td>\n",
       "      <td>Riyadh</td>\n",
       "      <td>ALYASMIN, AS SULIMANIYAH</td>\n",
       "      <td>Inactive</td>\n",
       "      <td>2017-02-21 2:37 pm</td>\n",
       "    </tr>\n",
       "    <tr>\n",
       "      <th>3</th>\n",
       "      <td>127</td>\n",
       "      <td>Riyadh</td>\n",
       "      <td>AN NADA</td>\n",
       "      <td>Inactive</td>\n",
       "      <td>2017-02-22 12:52 pm</td>\n",
       "    </tr>\n",
       "    <tr>\n",
       "      <th>4</th>\n",
       "      <td>128</td>\n",
       "      <td>Riyadh</td>\n",
       "      <td>AS SULIMANIYAH, KING FAHD, HITTIN</td>\n",
       "      <td>Inactive</td>\n",
       "      <td>2017-02-23 7:55 am</td>\n",
       "    </tr>\n",
       "  </tbody>\n",
       "</table>\n",
       "</div>"
      ],
      "text/plain": [
       "    ID  Cities                              Areas    Status  \\\n",
       "0  114  Riyadh  AS SULIMANIYAH, KING FAHD, HITTIN  Inactive   \n",
       "1  125  Riyadh           ALYASMIN, AS SULIMANIYAH  Inactive   \n",
       "2  126  Riyadh           ALYASMIN, AS SULIMANIYAH  Inactive   \n",
       "3  127  Riyadh                            AN NADA  Inactive   \n",
       "4  128  Riyadh  AS SULIMANIYAH, KING FAHD, HITTIN  Inactive   \n",
       "\n",
       "            Date Added  \n",
       "0  2017-02-02 10:22 am  \n",
       "1  2017-02-21 11:33 am  \n",
       "2   2017-02-21 2:37 pm  \n",
       "3  2017-02-22 12:52 pm  \n",
       "4   2017-02-23 7:55 am  "
      ]
     },
     "execution_count": 15,
     "metadata": {},
     "output_type": "execute_result"
    }
   ],
   "source": [
    "df_drivers=pd.read_excel('Driver.xlsx')\n",
    "print(df_drivers.shape)\n",
    "df_drivers.head()"
   ]
  },
  {
   "cell_type": "markdown",
   "metadata": {},
   "source": [
    "# Data Cleaning"
   ]
  },
  {
   "cell_type": "markdown",
   "metadata": {},
   "source": [
    "#### Concatenate order Data\n"
   ]
  },
  {
   "cell_type": "code",
   "execution_count": 141,
   "metadata": {},
   "outputs": [],
   "source": [
    "df_order_8['month']=8\n",
    "df_order_9_1['month']=9\n",
    "df_order_9_2['month']=9\n",
    "df_order_10['month']=10"
   ]
  },
  {
   "cell_type": "code",
   "execution_count": 142,
   "metadata": {
    "scrolled": false
   },
   "outputs": [
    {
     "name": "stdout",
     "output_type": "stream",
     "text": [
      "(59799, 15)\n"
     ]
    },
    {
     "data": {
      "text/html": [
       "<div>\n",
       "<style scoped>\n",
       "    .dataframe tbody tr th:only-of-type {\n",
       "        vertical-align: middle;\n",
       "    }\n",
       "\n",
       "    .dataframe tbody tr th {\n",
       "        vertical-align: top;\n",
       "    }\n",
       "\n",
       "    .dataframe thead th {\n",
       "        text-align: right;\n",
       "    }\n",
       "</style>\n",
       "<table border=\"1\" class=\"dataframe\">\n",
       "  <thead>\n",
       "    <tr style=\"text-align: right;\">\n",
       "      <th></th>\n",
       "      <th>Order ID</th>\n",
       "      <th>Driver ID</th>\n",
       "      <th>Product</th>\n",
       "      <th>Service Type</th>\n",
       "      <th>Qty</th>\n",
       "      <th>City</th>\n",
       "      <th>Area</th>\n",
       "      <th>Status</th>\n",
       "      <th>Urgent</th>\n",
       "      <th>Preferred Date</th>\n",
       "      <th>Preferred Time</th>\n",
       "      <th>Delivery Date</th>\n",
       "      <th>Order Date</th>\n",
       "      <th>Cancellation Reason</th>\n",
       "      <th>month</th>\n",
       "    </tr>\n",
       "  </thead>\n",
       "  <tbody>\n",
       "    <tr>\n",
       "      <th>0</th>\n",
       "      <td>4056668.0</td>\n",
       "      <td>278.0</td>\n",
       "      <td>11 Kg Steel (15 SAR)+ other services (2.25 SAR)</td>\n",
       "      <td>Refill</td>\n",
       "      <td>4</td>\n",
       "      <td>Riyadh</td>\n",
       "      <td>AL IZDIHAR</td>\n",
       "      <td>Delivered</td>\n",
       "      <td>No</td>\n",
       "      <td>2020-09-01</td>\n",
       "      <td>6:00 PM - 8:00 PM</td>\n",
       "      <td>2020-09-01 6:27 pm</td>\n",
       "      <td>2020-09-01 2:51 am</td>\n",
       "      <td>NaN</td>\n",
       "      <td>8</td>\n",
       "    </tr>\n",
       "    <tr>\n",
       "      <th>1</th>\n",
       "      <td>NaN</td>\n",
       "      <td>NaN</td>\n",
       "      <td>11 Kg Steel (15 SAR)+ other services (2.25 SAR)</td>\n",
       "      <td>Installation</td>\n",
       "      <td>4</td>\n",
       "      <td>NaN</td>\n",
       "      <td>NaN</td>\n",
       "      <td>NaN</td>\n",
       "      <td>NaN</td>\n",
       "      <td>NaN</td>\n",
       "      <td>NaN</td>\n",
       "      <td>NaN</td>\n",
       "      <td>NaN</td>\n",
       "      <td>NaN</td>\n",
       "      <td>8</td>\n",
       "    </tr>\n",
       "    <tr>\n",
       "      <th>2</th>\n",
       "      <td>4056667.0</td>\n",
       "      <td>1536.0</td>\n",
       "      <td>11 Kg Steel (15 SAR)+ other services (2.25 SAR)</td>\n",
       "      <td>Refill</td>\n",
       "      <td>2</td>\n",
       "      <td>Riyadh</td>\n",
       "      <td>AS SALAM</td>\n",
       "      <td>Delivered</td>\n",
       "      <td>No</td>\n",
       "      <td>2020-09-01</td>\n",
       "      <td>2:00 PM - 4:00 PM</td>\n",
       "      <td>2020-09-01 1:53 pm</td>\n",
       "      <td>2020-09-01 2:44 am</td>\n",
       "      <td>NaN</td>\n",
       "      <td>8</td>\n",
       "    </tr>\n",
       "    <tr>\n",
       "      <th>3</th>\n",
       "      <td>4056666.0</td>\n",
       "      <td>NaN</td>\n",
       "      <td>11 Kg Steel (15 SAR)+ other services (2.25 SAR)</td>\n",
       "      <td>Refill</td>\n",
       "      <td>1</td>\n",
       "      <td>Jeddah</td>\n",
       "      <td>Al-Rehab</td>\n",
       "      <td>Canceled</td>\n",
       "      <td>No</td>\n",
       "      <td>2020-09-01</td>\n",
       "      <td>6:00 PM - 8:00 PM</td>\n",
       "      <td>Not yet</td>\n",
       "      <td>2020-09-01 2:20 am</td>\n",
       "      <td>I want to modify the order</td>\n",
       "      <td>8</td>\n",
       "    </tr>\n",
       "    <tr>\n",
       "      <th>4</th>\n",
       "      <td>NaN</td>\n",
       "      <td>NaN</td>\n",
       "      <td>11 Kg Steel (15 SAR)+ other services (2.25 SAR)</td>\n",
       "      <td>Installation</td>\n",
       "      <td>1</td>\n",
       "      <td>NaN</td>\n",
       "      <td>NaN</td>\n",
       "      <td>NaN</td>\n",
       "      <td>NaN</td>\n",
       "      <td>NaN</td>\n",
       "      <td>NaN</td>\n",
       "      <td>NaN</td>\n",
       "      <td>NaN</td>\n",
       "      <td>NaN</td>\n",
       "      <td>8</td>\n",
       "    </tr>\n",
       "  </tbody>\n",
       "</table>\n",
       "</div>"
      ],
      "text/plain": [
       "    Order ID  Driver ID                                          Product  \\\n",
       "0  4056668.0      278.0  11 Kg Steel (15 SAR)+ other services (2.25 SAR)   \n",
       "1        NaN        NaN  11 Kg Steel (15 SAR)+ other services (2.25 SAR)   \n",
       "2  4056667.0     1536.0  11 Kg Steel (15 SAR)+ other services (2.25 SAR)   \n",
       "3  4056666.0        NaN  11 Kg Steel (15 SAR)+ other services (2.25 SAR)   \n",
       "4        NaN        NaN  11 Kg Steel (15 SAR)+ other services (2.25 SAR)   \n",
       "\n",
       "   Service Type  Qty    City        Area     Status Urgent Preferred Date  \\\n",
       "0        Refill    4  Riyadh  AL IZDIHAR  Delivered     No     2020-09-01   \n",
       "1  Installation    4     NaN         NaN        NaN    NaN            NaN   \n",
       "2        Refill    2  Riyadh    AS SALAM  Delivered     No     2020-09-01   \n",
       "3        Refill    1  Jeddah    Al-Rehab   Canceled     No     2020-09-01   \n",
       "4  Installation    1     NaN         NaN        NaN    NaN            NaN   \n",
       "\n",
       "      Preferred Time       Delivery Date          Order Date  \\\n",
       "0  6:00 PM - 8:00 PM  2020-09-01 6:27 pm  2020-09-01 2:51 am   \n",
       "1                NaN                 NaN                 NaN   \n",
       "2  2:00 PM - 4:00 PM  2020-09-01 1:53 pm  2020-09-01 2:44 am   \n",
       "3  6:00 PM - 8:00 PM             Not yet  2020-09-01 2:20 am   \n",
       "4                NaN                 NaN                 NaN   \n",
       "\n",
       "          Cancellation Reason  month  \n",
       "0                         NaN      8  \n",
       "1                         NaN      8  \n",
       "2                         NaN      8  \n",
       "3  I want to modify the order      8  \n",
       "4                         NaN      8  "
      ]
     },
     "execution_count": 142,
     "metadata": {},
     "output_type": "execute_result"
    }
   ],
   "source": [
    "df_orders=pd.concat([df_order_8,df_order_9_1,df_order_9_2,df_order_10],axis=0)\n",
    "print(df_orders.shape)\n",
    "df_orders.head()"
   ]
  },
  {
   "cell_type": "code",
   "execution_count": 143,
   "metadata": {},
   "outputs": [
    {
     "name": "stdout",
     "output_type": "stream",
     "text": [
      "8: (25213, 15) , 9: (25965, 15) , 10: (8621, 15)\n"
     ]
    }
   ],
   "source": [
    "#check data validity\n",
    "print('8: {} , 9: {} , 10: {}'.format( df_orders[df_orders.month==8].shape,\\\n",
    "                                                df_orders[df_orders.month==9].shape,df_orders[df_orders.month==10].shape\n",
    "                                               ))"
   ]
  },
  {
   "cell_type": "markdown",
   "metadata": {},
   "source": [
    "#### extract month and day of week"
   ]
  },
  {
   "cell_type": "code",
   "execution_count": 144,
   "metadata": {},
   "outputs": [],
   "source": [
    "df_orders['day_of_week']=pd.to_datetime(df_orders['Order Date']).dt.day_name()"
   ]
  },
  {
   "cell_type": "markdown",
   "metadata": {},
   "source": [
    "#### check for duplication"
   ]
  },
  {
   "cell_type": "code",
   "execution_count": 145,
   "metadata": {},
   "outputs": [
    {
     "name": "stdout",
     "output_type": "stream",
     "text": [
      "Number of duplicated rows :  12776\n",
      "Number of duplicated rows 8:  5339\n",
      "Number of duplicated rows 9:  5370\n",
      "Number of duplicated rows 10:  2067\n"
     ]
    },
    {
     "data": {
      "text/html": [
       "<div>\n",
       "<style scoped>\n",
       "    .dataframe tbody tr th:only-of-type {\n",
       "        vertical-align: middle;\n",
       "    }\n",
       "\n",
       "    .dataframe tbody tr th {\n",
       "        vertical-align: top;\n",
       "    }\n",
       "\n",
       "    .dataframe thead th {\n",
       "        text-align: right;\n",
       "    }\n",
       "</style>\n",
       "<table border=\"1\" class=\"dataframe\">\n",
       "  <thead>\n",
       "    <tr style=\"text-align: right;\">\n",
       "      <th></th>\n",
       "      <th>Order ID</th>\n",
       "      <th>Driver ID</th>\n",
       "      <th>Product</th>\n",
       "      <th>Service Type</th>\n",
       "      <th>Qty</th>\n",
       "      <th>City</th>\n",
       "      <th>Area</th>\n",
       "      <th>Status</th>\n",
       "      <th>Urgent</th>\n",
       "      <th>Preferred Date</th>\n",
       "      <th>Preferred Time</th>\n",
       "      <th>Delivery Date</th>\n",
       "      <th>Order Date</th>\n",
       "      <th>Cancellation Reason</th>\n",
       "      <th>month</th>\n",
       "      <th>day_of_week</th>\n",
       "    </tr>\n",
       "  </thead>\n",
       "  <tbody>\n",
       "    <tr>\n",
       "      <th>4</th>\n",
       "      <td>NaN</td>\n",
       "      <td>NaN</td>\n",
       "      <td>11 Kg Steel (15 SAR)+ other services (2.25 SAR)</td>\n",
       "      <td>Installation</td>\n",
       "      <td>1</td>\n",
       "      <td>NaN</td>\n",
       "      <td>NaN</td>\n",
       "      <td>NaN</td>\n",
       "      <td>NaN</td>\n",
       "      <td>NaN</td>\n",
       "      <td>NaN</td>\n",
       "      <td>NaN</td>\n",
       "      <td>NaN</td>\n",
       "      <td>NaN</td>\n",
       "      <td>10</td>\n",
       "      <td>NaN</td>\n",
       "    </tr>\n",
       "  </tbody>\n",
       "</table>\n",
       "</div>"
      ],
      "text/plain": [
       "   Order ID  Driver ID                                          Product  \\\n",
       "4       NaN        NaN  11 Kg Steel (15 SAR)+ other services (2.25 SAR)   \n",
       "\n",
       "   Service Type  Qty City Area Status Urgent Preferred Date Preferred Time  \\\n",
       "4  Installation    1  NaN  NaN    NaN    NaN            NaN            NaN   \n",
       "\n",
       "  Delivery Date Order Date Cancellation Reason  month day_of_week  \n",
       "4           NaN        NaN                 NaN     10         NaN  "
      ]
     },
     "execution_count": 145,
     "metadata": {},
     "output_type": "execute_result"
    }
   ],
   "source": [
    "print(\"Number of duplicated rows : \",df_orders[df_orders.duplicated()].shape[0])\n",
    "print(\"Number of duplicated rows 8: \",df_orders[((df_orders.duplicated()) & (df_orders.month==8) )].shape[0])\n",
    "print(\"Number of duplicated rows 9: \",df_orders[((df_orders.duplicated()) & (df_orders.month==9) )].shape[0])\n",
    "print(\"Number of duplicated rows 10: \",df_orders[((df_orders.duplicated()) & (df_orders.month==10) )].shape[0])\n",
    "df_orders[((df_orders.duplicated()) & (df_orders.month==10) )].head(1)"
   ]
  },
  {
   "cell_type": "markdown",
   "metadata": {},
   "source": [
    "#### drop duplication"
   ]
  },
  {
   "cell_type": "code",
   "execution_count": 146,
   "metadata": {},
   "outputs": [
    {
     "data": {
      "text/plain": [
       "(47023, 16)"
      ]
     },
     "execution_count": 146,
     "metadata": {},
     "output_type": "execute_result"
    }
   ],
   "source": [
    "df_orders_cleaned=df_orders.drop_duplicates()\n",
    "df_orders_cleaned.shape"
   ]
  },
  {
   "cell_type": "markdown",
   "metadata": {},
   "source": [
    "#### Check null values"
   ]
  },
  {
   "cell_type": "code",
   "execution_count": 147,
   "metadata": {},
   "outputs": [
    {
     "data": {
      "text/plain": [
       "Order ID                 202\n",
       "Driver ID              10786\n",
       "Product                    0\n",
       "Service Type               0\n",
       "Qty                        0\n",
       "City                     202\n",
       "Area                     202\n",
       "Status                   202\n",
       "Urgent                   202\n",
       "Preferred Date           202\n",
       "Preferred Time           678\n",
       "Delivery Date            202\n",
       "Order Date               202\n",
       "Cancellation Reason    40071\n",
       "month                      0\n",
       "day_of_week              202\n",
       "dtype: int64"
      ]
     },
     "execution_count": 147,
     "metadata": {},
     "output_type": "execute_result"
    }
   ],
   "source": [
    "df_orders_cleaned.isna().sum()"
   ]
  },
  {
   "cell_type": "code",
   "execution_count": 163,
   "metadata": {},
   "outputs": [
    {
     "data": {
      "text/html": [
       "<div>\n",
       "<style scoped>\n",
       "    .dataframe tbody tr th:only-of-type {\n",
       "        vertical-align: middle;\n",
       "    }\n",
       "\n",
       "    .dataframe tbody tr th {\n",
       "        vertical-align: top;\n",
       "    }\n",
       "\n",
       "    .dataframe thead th {\n",
       "        text-align: right;\n",
       "    }\n",
       "</style>\n",
       "<table border=\"1\" class=\"dataframe\">\n",
       "  <thead>\n",
       "    <tr style=\"text-align: right;\">\n",
       "      <th></th>\n",
       "      <th>Order ID</th>\n",
       "      <th>Driver ID</th>\n",
       "      <th>Product</th>\n",
       "      <th>Service Type</th>\n",
       "      <th>Qty</th>\n",
       "      <th>City</th>\n",
       "      <th>Area</th>\n",
       "      <th>Status</th>\n",
       "      <th>Urgent</th>\n",
       "      <th>Preferred Date</th>\n",
       "      <th>Preferred Time</th>\n",
       "      <th>Delivery Date</th>\n",
       "      <th>Order Date</th>\n",
       "      <th>Cancellation Reason</th>\n",
       "      <th>month</th>\n",
       "      <th>day_of_week</th>\n",
       "    </tr>\n",
       "  </thead>\n",
       "  <tbody>\n",
       "    <tr>\n",
       "      <th>1</th>\n",
       "      <td>NaN</td>\n",
       "      <td>NaN</td>\n",
       "      <td>11 Kg Steel (15 SAR)+ other services (2.25 SAR)</td>\n",
       "      <td>Installation</td>\n",
       "      <td>4</td>\n",
       "      <td>NaN</td>\n",
       "      <td>NaN</td>\n",
       "      <td>NaN</td>\n",
       "      <td>NaN</td>\n",
       "      <td>NaN</td>\n",
       "      <td>NaN</td>\n",
       "      <td>NaN</td>\n",
       "      <td>NaN</td>\n",
       "      <td>NaN</td>\n",
       "      <td>8</td>\n",
       "      <td>NaN</td>\n",
       "    </tr>\n",
       "    <tr>\n",
       "      <th>4</th>\n",
       "      <td>NaN</td>\n",
       "      <td>NaN</td>\n",
       "      <td>11 Kg Steel (15 SAR)+ other services (2.25 SAR)</td>\n",
       "      <td>Installation</td>\n",
       "      <td>1</td>\n",
       "      <td>NaN</td>\n",
       "      <td>NaN</td>\n",
       "      <td>NaN</td>\n",
       "      <td>NaN</td>\n",
       "      <td>NaN</td>\n",
       "      <td>NaN</td>\n",
       "      <td>NaN</td>\n",
       "      <td>NaN</td>\n",
       "      <td>NaN</td>\n",
       "      <td>8</td>\n",
       "      <td>NaN</td>\n",
       "    </tr>\n",
       "    <tr>\n",
       "      <th>12</th>\n",
       "      <td>NaN</td>\n",
       "      <td>NaN</td>\n",
       "      <td>Water Bottle Nestlé 18L</td>\n",
       "      <td>Refill</td>\n",
       "      <td>2</td>\n",
       "      <td>NaN</td>\n",
       "      <td>NaN</td>\n",
       "      <td>NaN</td>\n",
       "      <td>NaN</td>\n",
       "      <td>NaN</td>\n",
       "      <td>NaN</td>\n",
       "      <td>NaN</td>\n",
       "      <td>NaN</td>\n",
       "      <td>NaN</td>\n",
       "      <td>8</td>\n",
       "      <td>NaN</td>\n",
       "    </tr>\n",
       "    <tr>\n",
       "      <th>21</th>\n",
       "      <td>NaN</td>\n",
       "      <td>NaN</td>\n",
       "      <td>Water Bottle 18L -Fayha</td>\n",
       "      <td>Refill</td>\n",
       "      <td>1</td>\n",
       "      <td>NaN</td>\n",
       "      <td>NaN</td>\n",
       "      <td>NaN</td>\n",
       "      <td>NaN</td>\n",
       "      <td>NaN</td>\n",
       "      <td>NaN</td>\n",
       "      <td>NaN</td>\n",
       "      <td>NaN</td>\n",
       "      <td>NaN</td>\n",
       "      <td>8</td>\n",
       "      <td>NaN</td>\n",
       "    </tr>\n",
       "    <tr>\n",
       "      <th>23</th>\n",
       "      <td>NaN</td>\n",
       "      <td>NaN</td>\n",
       "      <td>Water Bottle 18L - Al Manhal</td>\n",
       "      <td>Refill</td>\n",
       "      <td>1</td>\n",
       "      <td>NaN</td>\n",
       "      <td>NaN</td>\n",
       "      <td>NaN</td>\n",
       "      <td>NaN</td>\n",
       "      <td>NaN</td>\n",
       "      <td>NaN</td>\n",
       "      <td>NaN</td>\n",
       "      <td>NaN</td>\n",
       "      <td>NaN</td>\n",
       "      <td>8</td>\n",
       "      <td>NaN</td>\n",
       "    </tr>\n",
       "  </tbody>\n",
       "</table>\n",
       "</div>"
      ],
      "text/plain": [
       "    Order ID  Driver ID                                          Product  \\\n",
       "1        NaN        NaN  11 Kg Steel (15 SAR)+ other services (2.25 SAR)   \n",
       "4        NaN        NaN  11 Kg Steel (15 SAR)+ other services (2.25 SAR)   \n",
       "12       NaN        NaN                          Water Bottle Nestlé 18L   \n",
       "21       NaN        NaN                          Water Bottle 18L -Fayha   \n",
       "23       NaN        NaN                     Water Bottle 18L - Al Manhal   \n",
       "\n",
       "    Service Type  Qty City Area Status Urgent Preferred Date Preferred Time  \\\n",
       "1   Installation    4  NaN  NaN    NaN    NaN            NaN            NaN   \n",
       "4   Installation    1  NaN  NaN    NaN    NaN            NaN            NaN   \n",
       "12        Refill    2  NaN  NaN    NaN    NaN            NaN            NaN   \n",
       "21        Refill    1  NaN  NaN    NaN    NaN            NaN            NaN   \n",
       "23        Refill    1  NaN  NaN    NaN    NaN            NaN            NaN   \n",
       "\n",
       "   Delivery Date Order Date Cancellation Reason  month day_of_week  \n",
       "1            NaN        NaN                 NaN      8         NaN  \n",
       "4            NaN        NaN                 NaN      8         NaN  \n",
       "12           NaN        NaN                 NaN      8         NaN  \n",
       "21           NaN        NaN                 NaN      8         NaN  \n",
       "23           NaN        NaN                 NaN      8         NaN  "
      ]
     },
     "execution_count": 163,
     "metadata": {},
     "output_type": "execute_result"
    }
   ],
   "source": [
    "#check null value sample\n",
    "df_orders_cleaned[pd.isnull( df_orders_cleaned.day_of_week)  ].head()"
   ]
  },
  {
   "cell_type": "markdown",
   "metadata": {},
   "source": [
    "#### drop null values"
   ]
  },
  {
   "cell_type": "code",
   "execution_count": 165,
   "metadata": {},
   "outputs": [
    {
     "data": {
      "text/plain": [
       "Order ID                   0\n",
       "Driver ID              10584\n",
       "Product                    0\n",
       "Service Type               0\n",
       "Qty                        0\n",
       "City                       0\n",
       "Area                       0\n",
       "Status                     0\n",
       "Urgent                     0\n",
       "Preferred Date             0\n",
       "Preferred Time           476\n",
       "Delivery Date              0\n",
       "Order Date                 0\n",
       "Cancellation Reason    39869\n",
       "month                      0\n",
       "day_of_week                0\n",
       "dtype: int64"
      ]
     },
     "execution_count": 165,
     "metadata": {},
     "output_type": "execute_result"
    }
   ],
   "source": [
    "# drop null values\n",
    "df_orders_cleaned=df_orders_cleaned.dropna(subset=['City','Area','Status','Urgent','Preferred Date','Delivery Date','Order Date','day_of_week'],axis=0)\n",
    "df_orders_cleaned.isna().sum()"
   ]
  },
  {
   "cell_type": "markdown",
   "metadata": {},
   "source": [
    "#### Fill Null Values in (Preferred Time ,Cancellation Reason)"
   ]
  },
  {
   "cell_type": "code",
   "execution_count": 173,
   "metadata": {},
   "outputs": [
    {
     "data": {
      "text/plain": [
       "array(['6:00 PM - 8:00 PM', '2:00 PM - 4:00 PM', '10:00 AM - 12:00 PM',\n",
       "       '4:00 PM - 6:00 PM', '12:00 PM - 2:00 PM', 'No prefered Time'],\n",
       "      dtype=object)"
      ]
     },
     "execution_count": 173,
     "metadata": {},
     "output_type": "execute_result"
    }
   ],
   "source": [
    "# fill Preferred Time with 'No prefered Time'\n",
    "df_orders_cleaned['Preferred Time']=df_orders_cleaned['Preferred Time'].fillna('No prefered Time')\n",
    "df_orders_cleaned['Preferred Time'].unique()"
   ]
  },
  {
   "cell_type": "code",
   "execution_count": 176,
   "metadata": {},
   "outputs": [
    {
     "data": {
      "text/plain": [
       "(39869, 16)"
      ]
     },
     "execution_count": 176,
     "metadata": {},
     "output_type": "execute_result"
    }
   ],
   "source": [
    "# fill cancellation reason with 'no reason'\n",
    "df_orders_cleaned['Cancellation Reason']=df_orders_cleaned['Cancellation Reason'].fillna('No Reason')\n",
    "df_orders_cleaned[df_orders_cleaned['Cancellation Reason']=='No Reason'].shape"
   ]
  },
  {
   "cell_type": "code",
   "execution_count": 177,
   "metadata": {},
   "outputs": [
    {
     "data": {
      "text/plain": [
       "Order ID                   0\n",
       "Driver ID              10584\n",
       "Product                    0\n",
       "Service Type               0\n",
       "Qty                        0\n",
       "City                       0\n",
       "Area                       0\n",
       "Status                     0\n",
       "Urgent                     0\n",
       "Preferred Date             0\n",
       "Preferred Time             0\n",
       "Delivery Date              0\n",
       "Order Date                 0\n",
       "Cancellation Reason        0\n",
       "month                      0\n",
       "day_of_week                0\n",
       "dtype: int64"
      ]
     },
     "execution_count": 177,
     "metadata": {},
     "output_type": "execute_result"
    }
   ],
   "source": [
    "df_orders_cleaned.isna().sum()"
   ]
  },
  {
   "cell_type": "code",
   "execution_count": 179,
   "metadata": {},
   "outputs": [
    {
     "data": {
      "text/html": [
       "<div>\n",
       "<style scoped>\n",
       "    .dataframe tbody tr th:only-of-type {\n",
       "        vertical-align: middle;\n",
       "    }\n",
       "\n",
       "    .dataframe tbody tr th {\n",
       "        vertical-align: top;\n",
       "    }\n",
       "\n",
       "    .dataframe thead th {\n",
       "        text-align: right;\n",
       "    }\n",
       "</style>\n",
       "<table border=\"1\" class=\"dataframe\">\n",
       "  <thead>\n",
       "    <tr style=\"text-align: right;\">\n",
       "      <th></th>\n",
       "      <th>Order ID</th>\n",
       "      <th>Driver ID</th>\n",
       "      <th>Product</th>\n",
       "      <th>Service Type</th>\n",
       "      <th>Qty</th>\n",
       "      <th>City</th>\n",
       "      <th>Area</th>\n",
       "      <th>Status</th>\n",
       "      <th>Urgent</th>\n",
       "      <th>Preferred Date</th>\n",
       "      <th>Preferred Time</th>\n",
       "      <th>Delivery Date</th>\n",
       "      <th>Order Date</th>\n",
       "      <th>Cancellation Reason</th>\n",
       "      <th>month</th>\n",
       "      <th>day_of_week</th>\n",
       "    </tr>\n",
       "  </thead>\n",
       "  <tbody>\n",
       "    <tr>\n",
       "      <th>0</th>\n",
       "      <td>4056668.0</td>\n",
       "      <td>278.0</td>\n",
       "      <td>11 Kg Steel (15 SAR)+ other services (2.25 SAR)</td>\n",
       "      <td>Refill</td>\n",
       "      <td>4</td>\n",
       "      <td>Riyadh</td>\n",
       "      <td>AL IZDIHAR</td>\n",
       "      <td>Delivered</td>\n",
       "      <td>No</td>\n",
       "      <td>2020-09-01</td>\n",
       "      <td>6:00 PM - 8:00 PM</td>\n",
       "      <td>2020-09-01 6:27 pm</td>\n",
       "      <td>2020-09-01 2:51 am</td>\n",
       "      <td>No Reason</td>\n",
       "      <td>8</td>\n",
       "      <td>Tuesday</td>\n",
       "    </tr>\n",
       "    <tr>\n",
       "      <th>2</th>\n",
       "      <td>4056667.0</td>\n",
       "      <td>1536.0</td>\n",
       "      <td>11 Kg Steel (15 SAR)+ other services (2.25 SAR)</td>\n",
       "      <td>Refill</td>\n",
       "      <td>2</td>\n",
       "      <td>Riyadh</td>\n",
       "      <td>AS SALAM</td>\n",
       "      <td>Delivered</td>\n",
       "      <td>No</td>\n",
       "      <td>2020-09-01</td>\n",
       "      <td>2:00 PM - 4:00 PM</td>\n",
       "      <td>2020-09-01 1:53 pm</td>\n",
       "      <td>2020-09-01 2:44 am</td>\n",
       "      <td>No Reason</td>\n",
       "      <td>8</td>\n",
       "      <td>Tuesday</td>\n",
       "    </tr>\n",
       "    <tr>\n",
       "      <th>3</th>\n",
       "      <td>4056666.0</td>\n",
       "      <td>NaN</td>\n",
       "      <td>11 Kg Steel (15 SAR)+ other services (2.25 SAR)</td>\n",
       "      <td>Refill</td>\n",
       "      <td>1</td>\n",
       "      <td>Jeddah</td>\n",
       "      <td>Al-Rehab</td>\n",
       "      <td>Canceled</td>\n",
       "      <td>No</td>\n",
       "      <td>2020-09-01</td>\n",
       "      <td>6:00 PM - 8:00 PM</td>\n",
       "      <td>Not yet</td>\n",
       "      <td>2020-09-01 2:20 am</td>\n",
       "      <td>I want to modify the order</td>\n",
       "      <td>8</td>\n",
       "      <td>Tuesday</td>\n",
       "    </tr>\n",
       "    <tr>\n",
       "      <th>5</th>\n",
       "      <td>4056665.0</td>\n",
       "      <td>278.0</td>\n",
       "      <td>11 Kg Steel (15 SAR)+ other services (2.25 SAR)</td>\n",
       "      <td>Refill</td>\n",
       "      <td>2</td>\n",
       "      <td>Riyadh</td>\n",
       "      <td>ALMASIAF</td>\n",
       "      <td>Delivered</td>\n",
       "      <td>No</td>\n",
       "      <td>2020-09-03</td>\n",
       "      <td>10:00 AM - 12:00 PM</td>\n",
       "      <td>2020-09-03 10:22 am</td>\n",
       "      <td>2020-09-01 2:10 am</td>\n",
       "      <td>No Reason</td>\n",
       "      <td>8</td>\n",
       "      <td>Tuesday</td>\n",
       "    </tr>\n",
       "    <tr>\n",
       "      <th>6</th>\n",
       "      <td>4056664.0</td>\n",
       "      <td>NaN</td>\n",
       "      <td>11 Kg Wathfa (15 SAR)+ other services (2.25 SAR)</td>\n",
       "      <td>New</td>\n",
       "      <td>1</td>\n",
       "      <td>Jeddah</td>\n",
       "      <td>An Nuzhah</td>\n",
       "      <td>Canceled</td>\n",
       "      <td>No</td>\n",
       "      <td>2020-09-01</td>\n",
       "      <td>4:00 PM - 6:00 PM</td>\n",
       "      <td>Not yet</td>\n",
       "      <td>2020-09-01 1:55 am</td>\n",
       "      <td>السعر مرتفع</td>\n",
       "      <td>8</td>\n",
       "      <td>Tuesday</td>\n",
       "    </tr>\n",
       "  </tbody>\n",
       "</table>\n",
       "</div>"
      ],
      "text/plain": [
       "    Order ID  Driver ID                                           Product  \\\n",
       "0  4056668.0      278.0   11 Kg Steel (15 SAR)+ other services (2.25 SAR)   \n",
       "2  4056667.0     1536.0   11 Kg Steel (15 SAR)+ other services (2.25 SAR)   \n",
       "3  4056666.0        NaN   11 Kg Steel (15 SAR)+ other services (2.25 SAR)   \n",
       "5  4056665.0      278.0   11 Kg Steel (15 SAR)+ other services (2.25 SAR)   \n",
       "6  4056664.0        NaN  11 Kg Wathfa (15 SAR)+ other services (2.25 SAR)   \n",
       "\n",
       "  Service Type  Qty    City        Area     Status Urgent Preferred Date  \\\n",
       "0       Refill    4  Riyadh  AL IZDIHAR  Delivered     No     2020-09-01   \n",
       "2       Refill    2  Riyadh    AS SALAM  Delivered     No     2020-09-01   \n",
       "3       Refill    1  Jeddah    Al-Rehab   Canceled     No     2020-09-01   \n",
       "5       Refill    2  Riyadh    ALMASIAF  Delivered     No     2020-09-03   \n",
       "6          New    1  Jeddah   An Nuzhah   Canceled     No     2020-09-01   \n",
       "\n",
       "        Preferred Time        Delivery Date          Order Date  \\\n",
       "0    6:00 PM - 8:00 PM   2020-09-01 6:27 pm  2020-09-01 2:51 am   \n",
       "2    2:00 PM - 4:00 PM   2020-09-01 1:53 pm  2020-09-01 2:44 am   \n",
       "3    6:00 PM - 8:00 PM              Not yet  2020-09-01 2:20 am   \n",
       "5  10:00 AM - 12:00 PM  2020-09-03 10:22 am  2020-09-01 2:10 am   \n",
       "6    4:00 PM - 6:00 PM              Not yet  2020-09-01 1:55 am   \n",
       "\n",
       "          Cancellation Reason  month day_of_week  \n",
       "0                   No Reason      8     Tuesday  \n",
       "2                   No Reason      8     Tuesday  \n",
       "3  I want to modify the order      8     Tuesday  \n",
       "5                   No Reason      8     Tuesday  \n",
       "6                 السعر مرتفع      8     Tuesday  "
      ]
     },
     "execution_count": 179,
     "metadata": {},
     "output_type": "execute_result"
    }
   ],
   "source": [
    "df_orders_cleaned.head()"
   ]
  },
  {
   "cell_type": "markdown",
   "metadata": {},
   "source": [
    "# Explaratory Data Analysis"
   ]
  },
  {
   "cell_type": "code",
   "execution_count": 201,
   "metadata": {},
   "outputs": [
    {
     "data": {
      "text/html": [
       "<div>\n",
       "<style scoped>\n",
       "    .dataframe tbody tr th:only-of-type {\n",
       "        vertical-align: middle;\n",
       "    }\n",
       "\n",
       "    .dataframe tbody tr th {\n",
       "        vertical-align: top;\n",
       "    }\n",
       "\n",
       "    .dataframe thead th {\n",
       "        text-align: right;\n",
       "    }\n",
       "</style>\n",
       "<table border=\"1\" class=\"dataframe\">\n",
       "  <thead>\n",
       "    <tr style=\"text-align: right;\">\n",
       "      <th></th>\n",
       "      <th>Order ID</th>\n",
       "      <th>Driver ID</th>\n",
       "      <th>Product</th>\n",
       "      <th>Service Type</th>\n",
       "      <th>Qty</th>\n",
       "      <th>City</th>\n",
       "      <th>Area</th>\n",
       "      <th>Status</th>\n",
       "      <th>Urgent</th>\n",
       "      <th>Preferred Date</th>\n",
       "      <th>Preferred Time</th>\n",
       "      <th>Delivery Date</th>\n",
       "      <th>Order Date</th>\n",
       "      <th>Cancellation Reason</th>\n",
       "      <th>month</th>\n",
       "      <th>day_of_week</th>\n",
       "    </tr>\n",
       "  </thead>\n",
       "  <tbody>\n",
       "    <tr>\n",
       "      <th>0</th>\n",
       "      <td>4056668.0</td>\n",
       "      <td>278.0</td>\n",
       "      <td>11 Kg Steel (15 SAR)+ other services (2.25 SAR)</td>\n",
       "      <td>Refill</td>\n",
       "      <td>4</td>\n",
       "      <td>Riyadh</td>\n",
       "      <td>AL IZDIHAR</td>\n",
       "      <td>Delivered</td>\n",
       "      <td>No</td>\n",
       "      <td>2020-09-01</td>\n",
       "      <td>6:00 PM - 8:00 PM</td>\n",
       "      <td>2020-09-01 6:27 pm</td>\n",
       "      <td>2020-09-01 2:51 am</td>\n",
       "      <td>NaN</td>\n",
       "      <td>8</td>\n",
       "      <td>Tuesday</td>\n",
       "    </tr>\n",
       "    <tr>\n",
       "      <th>1</th>\n",
       "      <td>NaN</td>\n",
       "      <td>NaN</td>\n",
       "      <td>11 Kg Steel (15 SAR)+ other services (2.25 SAR)</td>\n",
       "      <td>Installation</td>\n",
       "      <td>4</td>\n",
       "      <td>NaN</td>\n",
       "      <td>NaN</td>\n",
       "      <td>NaN</td>\n",
       "      <td>NaN</td>\n",
       "      <td>NaN</td>\n",
       "      <td>NaN</td>\n",
       "      <td>NaN</td>\n",
       "      <td>NaN</td>\n",
       "      <td>NaN</td>\n",
       "      <td>8</td>\n",
       "      <td>NaN</td>\n",
       "    </tr>\n",
       "  </tbody>\n",
       "</table>\n",
       "</div>"
      ],
      "text/plain": [
       "    Order ID  Driver ID                                          Product  \\\n",
       "0  4056668.0      278.0  11 Kg Steel (15 SAR)+ other services (2.25 SAR)   \n",
       "1        NaN        NaN  11 Kg Steel (15 SAR)+ other services (2.25 SAR)   \n",
       "\n",
       "   Service Type  Qty    City        Area     Status Urgent Preferred Date  \\\n",
       "0        Refill    4  Riyadh  AL IZDIHAR  Delivered     No     2020-09-01   \n",
       "1  Installation    4     NaN         NaN        NaN    NaN            NaN   \n",
       "\n",
       "      Preferred Time       Delivery Date          Order Date  \\\n",
       "0  6:00 PM - 8:00 PM  2020-09-01 6:27 pm  2020-09-01 2:51 am   \n",
       "1                NaN                 NaN                 NaN   \n",
       "\n",
       "  Cancellation Reason  month day_of_week  \n",
       "0                 NaN      8     Tuesday  \n",
       "1                 NaN      8         NaN  "
      ]
     },
     "execution_count": 201,
     "metadata": {},
     "output_type": "execute_result"
    }
   ],
   "source": [
    "df_orders.head(2)"
   ]
  },
  {
   "cell_type": "markdown",
   "metadata": {},
   "source": [
    "<h1 style=\"color: green\">1. Frist Part</h1>"
   ]
  },
  {
   "cell_type": "markdown",
   "metadata": {},
   "source": [
    "### What is the best month in sales?"
   ]
  },
  {
   "cell_type": "code",
   "execution_count": 276,
   "metadata": {},
   "outputs": [
    {
     "data": {
      "image/png": "[encoded data removed]",
      "text/plain": [
       "<Figure size 936x504 with 1 Axes>"
      ]
     },
     "metadata": {},
     "output_type": "display_data"
    }
   ],
   "source": [
    "colors = random.choices(list(mcolors.CSS4_COLORS.values()),k = 3)\n",
    "df_orders.month.value_counts().plot(kind='pie',figsize=(13,7),autopct=\"%1.1f%%\",shadow=True,fontsize='13',\\\n",
    "                                    colors=['green','orange','blue'])\n",
    "plt.title('The best month in sales',y=1,fontsize='20')\n",
    "plt.ylabel(None)\n",
    "plt.show()"
   ]
  },
  {
   "cell_type": "markdown",
   "metadata": {},
   "source": [
    "### What about type of service sales according to month?"
   ]
  },
  {
   "cell_type": "code",
   "execution_count": 396,
   "metadata": {},
   "outputs": [
    {
     "name": "stdout",
     "output_type": "stream",
     "text": [
      "0 -0.31 -0.28 -0.31\n",
      "1 0.69 0.72 0.69\n",
      "2 1.69 1.72 1.69\n"
     ]
    },
    {
     "data": {
      "image/png": "[encoded data removed]",
      "text/plain": [
       "<Figure size 936x432 with 1 Axes>"
      ]
     },
     "metadata": {},
     "output_type": "display_data"
    }
   ],
   "source": [
    "pvt_service=pd.pivot_table(df_orders,values='Order ID', index=['month'],\\\n",
    "               columns=['Service Type'], aggfunc='count')\n",
    "pvt_service.plot(kind='bar',width=0.8,figsize=(13,6))\n",
    "plt.ylim(-2,22000)\n",
    "plt.legend(fontsize='13')\n",
    "plt.ylabel('Count of orders',fontsize='13')\n",
    "plt.xlabel('Month',fontsize='13')\n",
    "plt.title('Number of orders by service sales and month',fontsize='20')\n",
    "plt.xticks(fontsize='15',rotation='0')\n",
    "for index,inst,new,ref in zip(enumerate(pvt_service.index),pvt_service['Installation'],\\\n",
    "                              pvt_service['New'],pvt_service['Refill']):\n",
    "    print(index[0],index[0] - .31,index[0] - .28,index[0] - .31)\n",
    "    plt.annotate(inst, xy=(index[0] - .31 , inst + 500), color='#5cb85c',fontsize=12)\n",
    "    plt.annotate(new, xy=((index[0] - .35 )+ .25  , new + 500), color='#5bc0de',fontsize=12)\n",
    "    plt.annotate(ref, xy=((index[0] - .38) +.25+.3 , ref + 500), color='#d9534f',fontsize=12) "
   ]
  },
  {
   "cell_type": "markdown",
   "metadata": {},
   "source": [
    "### What is the max of Quantity  by service type and month?"
   ]
  },
  {
   "cell_type": "code",
   "execution_count": 413,
   "metadata": {},
   "outputs": [
    {
     "data": {
      "image/png": "[encoded data removed]",
      "text/plain": [
       "<Figure size 936x432 with 1 Axes>"
      ]
     },
     "metadata": {},
     "output_type": "display_data"
    }
   ],
   "source": [
    "pvt_service_Qty=pd.pivot_table(df_orders,values='Qty', index=['month'],\\\n",
    "               columns=['Service Type'], aggfunc='max')\n",
    "\n",
    "pvt_service_Qty.plot(kind='bar',width=0.8,figsize=(13,6))\n",
    "plt.ylim(0,60)\n",
    "plt.legend(fontsize='13')\n",
    "plt.ylabel('Count of orders',fontsize='13')\n",
    "plt.xlabel('Month',fontsize='13')\n",
    "plt.xticks(fontsize='15',rotation='0')\n",
    "plt.title('Max of Quantity by service type and month',fontsize='20')\n",
    "for index,inst,new,ref in zip(enumerate(pvt_service_Qty.index),pvt_service_Qty['Installation'],\\\n",
    "                              pvt_service_Qty['New'],pvt_service_Qty['Refill']):\n",
    "    plt.annotate(inst, xy=(index[0] - .31 , inst + 2), color='#5cb85c',fontsize=12)\n",
    "    plt.annotate(new, xy=((index[0] - .30 )+ .25  , new + 2), color='#5bc0de',fontsize=12)\n",
    "    plt.annotate(ref, xy=((index[0] - .33) +.25+.3 , ref + 2), color='#d9534f',fontsize=12) "
   ]
  },
  {
   "cell_type": "markdown",
   "metadata": {},
   "source": [
    "### What is the top 10  Products in month?"
   ]
  },
  {
   "cell_type": "code",
   "execution_count": 565,
   "metadata": {},
   "outputs": [
    {
     "data": {
      "text/html": [
       "<div>\n",
       "<style scoped>\n",
       "    .dataframe tbody tr th:only-of-type {\n",
       "        vertical-align: middle;\n",
       "    }\n",
       "\n",
       "    .dataframe tbody tr th {\n",
       "        vertical-align: top;\n",
       "    }\n",
       "\n",
       "    .dataframe thead tr th {\n",
       "        text-align: left;\n",
       "    }\n",
       "\n",
       "    .dataframe thead tr:last-of-type th {\n",
       "        text-align: right;\n",
       "    }\n",
       "</style>\n",
       "<table border=\"1\" class=\"dataframe\">\n",
       "  <thead>\n",
       "    <tr>\n",
       "      <th></th>\n",
       "      <th colspan=\"3\" halign=\"left\">count</th>\n",
       "    </tr>\n",
       "    <tr>\n",
       "      <th>month</th>\n",
       "      <th>8</th>\n",
       "      <th>9</th>\n",
       "      <th>10</th>\n",
       "    </tr>\n",
       "    <tr>\n",
       "      <th>Product</th>\n",
       "      <th></th>\n",
       "      <th></th>\n",
       "      <th></th>\n",
       "    </tr>\n",
       "  </thead>\n",
       "  <tbody>\n",
       "    <tr>\n",
       "      <th>11 Kg Steel (15 SAR)+ other services (2.25 SAR)</th>\n",
       "      <td>18686.0</td>\n",
       "      <td>19524.0</td>\n",
       "      <td>6124.0</td>\n",
       "    </tr>\n",
       "    <tr>\n",
       "      <th>11 Kg Fiber (15 SAR) + other services (2.25 SAR)</th>\n",
       "      <td>237.0</td>\n",
       "      <td>313.0</td>\n",
       "      <td>93.0</td>\n",
       "    </tr>\n",
       "    <tr>\n",
       "      <th>Water Bottle 18L - Al Manhal</th>\n",
       "      <td>277.0</td>\n",
       "      <td>208.0</td>\n",
       "      <td>110.0</td>\n",
       "    </tr>\n",
       "    <tr>\n",
       "      <th>11 Kg Wathfa (15 SAR)+ other services (2.25 SAR)</th>\n",
       "      <td>122.0</td>\n",
       "      <td>150.0</td>\n",
       "      <td>40.0</td>\n",
       "    </tr>\n",
       "    <tr>\n",
       "      <th>Water Bottle 18L - Tania</th>\n",
       "      <td>146.0</td>\n",
       "      <td>104.0</td>\n",
       "      <td>55.0</td>\n",
       "    </tr>\n",
       "    <tr>\n",
       "      <th>Water Bottle Nestlé 18L</th>\n",
       "      <td>134.0</td>\n",
       "      <td>59.0</td>\n",
       "      <td>26.0</td>\n",
       "    </tr>\n",
       "    <tr>\n",
       "      <th>2 Carton Water Nova - 40X0.33L</th>\n",
       "      <td>0.0</td>\n",
       "      <td>23.0</td>\n",
       "      <td>0.0</td>\n",
       "    </tr>\n",
       "    <tr>\n",
       "      <th>Fixed Regulator 50 Mbar</th>\n",
       "      <td>26.0</td>\n",
       "      <td>0.0</td>\n",
       "      <td>0.0</td>\n",
       "    </tr>\n",
       "    <tr>\n",
       "      <th>Regulator 20-90mbar variable</th>\n",
       "      <td>27.0</td>\n",
       "      <td>0.0</td>\n",
       "      <td>0.0</td>\n",
       "    </tr>\n",
       "    <tr>\n",
       "      <th>Water Bottle 18L - Al Eayn</th>\n",
       "      <td>24.0</td>\n",
       "      <td>0.0</td>\n",
       "      <td>0.0</td>\n",
       "    </tr>\n",
       "    <tr>\n",
       "      <th>Water Bottle 18L - Yanbea</th>\n",
       "      <td>22.0</td>\n",
       "      <td>0.0</td>\n",
       "      <td>0.0</td>\n",
       "    </tr>\n",
       "    <tr>\n",
       "      <th>Water Bottle 18L -Fayha</th>\n",
       "      <td>22.0</td>\n",
       "      <td>0.0</td>\n",
       "      <td>0.0</td>\n",
       "    </tr>\n",
       "  </tbody>\n",
       "</table>\n",
       "</div>"
      ],
      "text/plain": [
       "                                                    count                 \n",
       "month                                                  8        9       10\n",
       "Product                                                                   \n",
       "11 Kg Steel (15 SAR)+ other services (2.25 SAR)   18686.0  19524.0  6124.0\n",
       "11 Kg Fiber (15 SAR) + other services (2.25 SAR)    237.0    313.0    93.0\n",
       "Water Bottle 18L - Al Manhal                        277.0    208.0   110.0\n",
       "11 Kg Wathfa (15 SAR)+ other services (2.25 SAR)    122.0    150.0    40.0\n",
       "Water Bottle 18L - Tania                            146.0    104.0    55.0\n",
       "Water Bottle Nestlé 18L                             134.0     59.0    26.0\n",
       "2 Carton Water Nova - 40X0.33L                        0.0     23.0     0.0\n",
       "Fixed Regulator 50 Mbar                              26.0      0.0     0.0\n",
       "Regulator 20-90mbar variable                         27.0      0.0     0.0\n",
       "Water Bottle 18L - Al Eayn                           24.0      0.0     0.0\n",
       "Water Bottle 18L - Yanbea                            22.0      0.0     0.0\n",
       "Water Bottle 18L -Fayha                              22.0      0.0     0.0"
      ]
     },
     "execution_count": 565,
     "metadata": {},
     "output_type": "execute_result"
    }
   ],
   "source": [
    "df_orders.groupby(['month','Product'])['Order ID'].count().to_frame().\\\n",
    "rename(columns={'Order ID':'count'}).query('count>20').unstack('month').\\\n",
    "sort_values(by=[('count',9)],ascending=False).fillna(0)"
   ]
  },
  {
   "cell_type": "code",
   "execution_count": 564,
   "metadata": {},
   "outputs": [
    {
     "data": {
      "text/plain": [
       "<matplotlib.legend.Legend at 0x9779d40a88>"
      ]
     },
     "execution_count": 564,
     "metadata": {},
     "output_type": "execute_result"
    },
    {
     "data": {
      "image/png": "[encoded data removed]",
      "text/plain": [
       "<Figure size 1080x432 with 1 Axes>"
      ]
     },
     "metadata": {},
     "output_type": "display_data"
    }
   ],
   "source": [
    "\n",
    "df_orders.groupby(['month','Product'])['Order ID'].count().to_frame().\\\n",
    "rename(columns={'Order ID':'count'}).query('count>20').unstack('month').\\\n",
    "sort_values(by=[('count',9)],ascending=False).fillna(0).plot(kind='bar',figsize=(15,6))\n",
    "plt.legend([8,9,10])"
   ]
  },
  {
   "cell_type": "markdown",
   "metadata": {},
   "source": [
    "### ----------------------------------------------------------------------------------------------------------------------------------------------------"
   ]
  },
  {
   "cell_type": "markdown",
   "metadata": {},
   "source": [
    "<h1 style=\"color: green\">1. Second Part</h1>"
   ]
  },
  {
   "cell_type": "markdown",
   "metadata": {},
   "source": [
    "### What is the number of cancellation according to week days?"
   ]
  },
  {
   "cell_type": "code",
   "execution_count": null,
   "metadata": {},
   "outputs": [],
   "source": []
  },
  {
   "cell_type": "markdown",
   "metadata": {},
   "source": [
    "### What is the best day in sales according to months? "
   ]
  },
  {
   "cell_type": "code",
   "execution_count": null,
   "metadata": {},
   "outputs": [],
   "source": []
  },
  {
   "cell_type": "markdown",
   "metadata": {},
   "source": [
    "### What is the relation between Urgency week days?"
   ]
  },
  {
   "cell_type": "code",
   "execution_count": null,
   "metadata": {},
   "outputs": [],
   "source": []
  },
  {
   "cell_type": "markdown",
   "metadata": {},
   "source": [
    "### What is the relation between Urgency and Area?"
   ]
  },
  {
   "cell_type": "code",
   "execution_count": null,
   "metadata": {},
   "outputs": [],
   "source": []
  },
  {
   "cell_type": "markdown",
   "metadata": {},
   "source": [
    "### What is the relation between Urgency and City?"
   ]
  },
  {
   "cell_type": "code",
   "execution_count": null,
   "metadata": {},
   "outputs": [],
   "source": []
  },
  {
   "cell_type": "markdown",
   "metadata": {},
   "source": [
    "### What is the relation between Urgency and Time?"
   ]
  },
  {
   "cell_type": "code",
   "execution_count": null,
   "metadata": {},
   "outputs": [],
   "source": []
  },
  {
   "cell_type": "markdown",
   "metadata": {},
   "source": [
    "### What is the relation between status and week days?"
   ]
  },
  {
   "cell_type": "code",
   "execution_count": null,
   "metadata": {},
   "outputs": [],
   "source": []
  },
  {
   "cell_type": "markdown",
   "metadata": {},
   "source": [
    "### what is the city of high cancellation rate?"
   ]
  },
  {
   "cell_type": "code",
   "execution_count": null,
   "metadata": {},
   "outputs": [],
   "source": []
  },
  {
   "cell_type": "markdown",
   "metadata": {},
   "source": [
    "### Is there a relation between the cancellation and the driver?"
   ]
  },
  {
   "cell_type": "code",
   "execution_count": null,
   "metadata": {},
   "outputs": [],
   "source": []
  },
  {
   "cell_type": "markdown",
   "metadata": {},
   "source": [
    "### Is there a relation between the cancellation and Time?"
   ]
  },
  {
   "cell_type": "code",
   "execution_count": null,
   "metadata": {},
   "outputs": [],
   "source": []
  },
  {
   "cell_type": "markdown",
   "metadata": {},
   "source": [
    "### What is the most prefered delivery time?"
   ]
  },
  {
   "cell_type": "code",
   "execution_count": null,
   "metadata": {},
   "outputs": [],
   "source": []
  },
  {
   "cell_type": "code",
   "execution_count": null,
   "metadata": {},
   "outputs": [],
   "source": []
  }
 ],
 "metadata": {
  "kernelspec": {
   "display_name": "Python 3",
   "language": "python",
   "name": "python3"
  },
  "language_info": {
   "codemirror_mode": {
    "name": "ipython",
    "version": 3
   },
   "file_extension": ".py",
   "mimetype": "text/x-python",
   "name": "python",
   "nbconvert_exporter": "python",
   "pygments_lexer": "ipython3",
   "version": "3.7.6"
  }
 },
 "nbformat": 4,
 "nbformat_minor": 4
}
