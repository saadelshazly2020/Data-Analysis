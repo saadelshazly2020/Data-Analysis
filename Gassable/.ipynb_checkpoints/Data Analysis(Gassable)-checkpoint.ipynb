{
 "cells": [
  {
   "cell_type": "code",
   "execution_count": 1,
   "metadata": {},
   "outputs": [],
   "source": [
    "import pandas as pd\n",
    "import numpy as np\n",
    "import seaborn as sns\n",
    "import matplotlib.pyplot as plt\n",
    "import matplotlib.colors as mcolors\n",
    "import random\n",
    "%matplotlib inline  \n",
    "plt.style.use('seaborn')"
   ]
  },
  {
   "cell_type": "markdown",
   "metadata": {},
   "source": [
    "# Load Data"
   ]
  },
  {
   "cell_type": "code",
   "execution_count": 2,
   "metadata": {},
   "outputs": [
    {
     "name": "stdout",
     "output_type": "stream",
     "text": [
      "(25213, 14)\n"
     ]
    },
    {
     "data": {
      "text/html": [
       "<div>\n",
       "<style scoped>\n",
       "    .dataframe tbody tr th:only-of-type {\n",
       "        vertical-align: middle;\n",
       "    }\n",
       "\n",
       "    .dataframe tbody tr th {\n",
       "        vertical-align: top;\n",
       "    }\n",
       "\n",
       "    .dataframe thead th {\n",
       "        text-align: right;\n",
       "    }\n",
       "</style>\n",
       "<table border=\"1\" class=\"dataframe\">\n",
       "  <thead>\n",
       "    <tr style=\"text-align: right;\">\n",
       "      <th></th>\n",
       "      <th>Order ID</th>\n",
       "      <th>Driver ID</th>\n",
       "      <th>Product</th>\n",
       "      <th>Service Type</th>\n",
       "      <th>Qty</th>\n",
       "      <th>City</th>\n",
       "      <th>Area</th>\n",
       "      <th>Status</th>\n",
       "      <th>Urgent</th>\n",
       "      <th>Preferred Date</th>\n",
       "      <th>Preferred Time</th>\n",
       "      <th>Delivery Date</th>\n",
       "      <th>Order Date</th>\n",
       "      <th>Cancellation Reason</th>\n",
       "    </tr>\n",
       "  </thead>\n",
       "  <tbody>\n",
       "    <tr>\n",
       "      <th>0</th>\n",
       "      <td>4056668.0</td>\n",
       "      <td>278.0</td>\n",
       "      <td>11 Kg Steel (15 SAR)+ other services (2.25 SAR)</td>\n",
       "      <td>Refill</td>\n",
       "      <td>4</td>\n",
       "      <td>Riyadh</td>\n",
       "      <td>AL IZDIHAR</td>\n",
       "      <td>Delivered</td>\n",
       "      <td>No</td>\n",
       "      <td>2020-09-01</td>\n",
       "      <td>6:00 PM - 8:00 PM</td>\n",
       "      <td>2020-09-01 6:27 pm</td>\n",
       "      <td>2020-09-01 2:51 am</td>\n",
       "      <td>NaN</td>\n",
       "    </tr>\n",
       "    <tr>\n",
       "      <th>1</th>\n",
       "      <td>NaN</td>\n",
       "      <td>NaN</td>\n",
       "      <td>11 Kg Steel (15 SAR)+ other services (2.25 SAR)</td>\n",
       "      <td>Installation</td>\n",
       "      <td>4</td>\n",
       "      <td>NaN</td>\n",
       "      <td>NaN</td>\n",
       "      <td>NaN</td>\n",
       "      <td>NaN</td>\n",
       "      <td>NaN</td>\n",
       "      <td>NaN</td>\n",
       "      <td>NaN</td>\n",
       "      <td>NaN</td>\n",
       "      <td>NaN</td>\n",
       "    </tr>\n",
       "    <tr>\n",
       "      <th>2</th>\n",
       "      <td>4056667.0</td>\n",
       "      <td>1536.0</td>\n",
       "      <td>11 Kg Steel (15 SAR)+ other services (2.25 SAR)</td>\n",
       "      <td>Refill</td>\n",
       "      <td>2</td>\n",
       "      <td>Riyadh</td>\n",
       "      <td>AS SALAM</td>\n",
       "      <td>Delivered</td>\n",
       "      <td>No</td>\n",
       "      <td>2020-09-01</td>\n",
       "      <td>2:00 PM - 4:00 PM</td>\n",
       "      <td>2020-09-01 1:53 pm</td>\n",
       "      <td>2020-09-01 2:44 am</td>\n",
       "      <td>NaN</td>\n",
       "    </tr>\n",
       "    <tr>\n",
       "      <th>3</th>\n",
       "      <td>4056666.0</td>\n",
       "      <td>NaN</td>\n",
       "      <td>11 Kg Steel (15 SAR)+ other services (2.25 SAR)</td>\n",
       "      <td>Refill</td>\n",
       "      <td>1</td>\n",
       "      <td>Jeddah</td>\n",
       "      <td>Al-Rehab</td>\n",
       "      <td>Canceled</td>\n",
       "      <td>No</td>\n",
       "      <td>2020-09-01</td>\n",
       "      <td>6:00 PM - 8:00 PM</td>\n",
       "      <td>Not yet</td>\n",
       "      <td>2020-09-01 2:20 am</td>\n",
       "      <td>I want to modify the order</td>\n",
       "    </tr>\n",
       "    <tr>\n",
       "      <th>4</th>\n",
       "      <td>NaN</td>\n",
       "      <td>NaN</td>\n",
       "      <td>11 Kg Steel (15 SAR)+ other services (2.25 SAR)</td>\n",
       "      <td>Installation</td>\n",
       "      <td>1</td>\n",
       "      <td>NaN</td>\n",
       "      <td>NaN</td>\n",
       "      <td>NaN</td>\n",
       "      <td>NaN</td>\n",
       "      <td>NaN</td>\n",
       "      <td>NaN</td>\n",
       "      <td>NaN</td>\n",
       "      <td>NaN</td>\n",
       "      <td>NaN</td>\n",
       "    </tr>\n",
       "  </tbody>\n",
       "</table>\n",
       "</div>"
      ],
      "text/plain": [
       "    Order ID  Driver ID                                          Product  \\\n",
       "0  4056668.0      278.0  11 Kg Steel (15 SAR)+ other services (2.25 SAR)   \n",
       "1        NaN        NaN  11 Kg Steel (15 SAR)+ other services (2.25 SAR)   \n",
       "2  4056667.0     1536.0  11 Kg Steel (15 SAR)+ other services (2.25 SAR)   \n",
       "3  4056666.0        NaN  11 Kg Steel (15 SAR)+ other services (2.25 SAR)   \n",
       "4        NaN        NaN  11 Kg Steel (15 SAR)+ other services (2.25 SAR)   \n",
       "\n",
       "   Service Type  Qty    City        Area     Status Urgent Preferred Date  \\\n",
       "0        Refill    4  Riyadh  AL IZDIHAR  Delivered     No     2020-09-01   \n",
       "1  Installation    4     NaN         NaN        NaN    NaN            NaN   \n",
       "2        Refill    2  Riyadh    AS SALAM  Delivered     No     2020-09-01   \n",
       "3        Refill    1  Jeddah    Al-Rehab   Canceled     No     2020-09-01   \n",
       "4  Installation    1     NaN         NaN        NaN    NaN            NaN   \n",
       "\n",
       "      Preferred Time       Delivery Date          Order Date  \\\n",
       "0  6:00 PM - 8:00 PM  2020-09-01 6:27 pm  2020-09-01 2:51 am   \n",
       "1                NaN                 NaN                 NaN   \n",
       "2  2:00 PM - 4:00 PM  2020-09-01 1:53 pm  2020-09-01 2:44 am   \n",
       "3  6:00 PM - 8:00 PM             Not yet  2020-09-01 2:20 am   \n",
       "4                NaN                 NaN                 NaN   \n",
       "\n",
       "          Cancellation Reason  \n",
       "0                         NaN  \n",
       "1                         NaN  \n",
       "2                         NaN  \n",
       "3  I want to modify the order  \n",
       "4                         NaN  "
      ]
     },
     "execution_count": 2,
     "metadata": {},
     "output_type": "execute_result"
    }
   ],
   "source": [
    "df_order_8=pd.read_excel('Order_2020-8.xlsx')\n",
    "print(df_order_8.shape)\n",
    "df_order_8.head()"
   ]
  },
  {
   "cell_type": "code",
   "execution_count": 3,
   "metadata": {},
   "outputs": [
    {
     "name": "stdout",
     "output_type": "stream",
     "text": [
      "(10875, 14)\n"
     ]
    },
    {
     "data": {
      "text/html": [
       "<div>\n",
       "<style scoped>\n",
       "    .dataframe tbody tr th:only-of-type {\n",
       "        vertical-align: middle;\n",
       "    }\n",
       "\n",
       "    .dataframe tbody tr th {\n",
       "        vertical-align: top;\n",
       "    }\n",
       "\n",
       "    .dataframe thead th {\n",
       "        text-align: right;\n",
       "    }\n",
       "</style>\n",
       "<table border=\"1\" class=\"dataframe\">\n",
       "  <thead>\n",
       "    <tr style=\"text-align: right;\">\n",
       "      <th></th>\n",
       "      <th>Order ID</th>\n",
       "      <th>Driver ID</th>\n",
       "      <th>Product</th>\n",
       "      <th>Service Type</th>\n",
       "      <th>Qty</th>\n",
       "      <th>City</th>\n",
       "      <th>Area</th>\n",
       "      <th>Status</th>\n",
       "      <th>Urgent</th>\n",
       "      <th>Preferred Date</th>\n",
       "      <th>Preferred Time</th>\n",
       "      <th>Delivery Date</th>\n",
       "      <th>Order Date</th>\n",
       "      <th>Cancellation Reason</th>\n",
       "    </tr>\n",
       "  </thead>\n",
       "  <tbody>\n",
       "    <tr>\n",
       "      <th>0</th>\n",
       "      <td>4065151.0</td>\n",
       "      <td>1332.0</td>\n",
       "      <td>11 Kg Steel (15 SAR)+ other services (2.25 SAR)</td>\n",
       "      <td>Refill</td>\n",
       "      <td>1</td>\n",
       "      <td>Riyadh</td>\n",
       "      <td>AL IZDIHAR</td>\n",
       "      <td>Delivered</td>\n",
       "      <td>No</td>\n",
       "      <td>2020-09-16</td>\n",
       "      <td>10:00 AM - 12:00 PM</td>\n",
       "      <td>2020-09-16 9:59 am</td>\n",
       "      <td>2020-09-16 2:02 am</td>\n",
       "      <td>NaN</td>\n",
       "    </tr>\n",
       "    <tr>\n",
       "      <th>1</th>\n",
       "      <td>4065150.0</td>\n",
       "      <td>1038.0</td>\n",
       "      <td>11 Kg Steel (15 SAR)+ other services (2.25 SAR)</td>\n",
       "      <td>Refill</td>\n",
       "      <td>1</td>\n",
       "      <td>Riyadh</td>\n",
       "      <td>AS SUWAIDI</td>\n",
       "      <td>Delivered</td>\n",
       "      <td>No</td>\n",
       "      <td>2020-09-16</td>\n",
       "      <td>10:00 AM - 12:00 PM</td>\n",
       "      <td>2020-09-16 11:05 am</td>\n",
       "      <td>2020-09-16 1:53 am</td>\n",
       "      <td>NaN</td>\n",
       "    </tr>\n",
       "    <tr>\n",
       "      <th>2</th>\n",
       "      <td>4065149.0</td>\n",
       "      <td>1247.0</td>\n",
       "      <td>11 Kg Steel (15 SAR)+ other services (2.25 SAR)</td>\n",
       "      <td>Refill</td>\n",
       "      <td>1</td>\n",
       "      <td>Riyadh</td>\n",
       "      <td>AL MUNSIYAH</td>\n",
       "      <td>Delivered</td>\n",
       "      <td>No</td>\n",
       "      <td>2020-09-17</td>\n",
       "      <td>12:00 PM - 2:00 PM</td>\n",
       "      <td>2020-09-17 12:56 pm</td>\n",
       "      <td>2020-09-16 1:41 am</td>\n",
       "      <td>NaN</td>\n",
       "    </tr>\n",
       "    <tr>\n",
       "      <th>3</th>\n",
       "      <td>4065148.0</td>\n",
       "      <td>1509.0</td>\n",
       "      <td>11 Kg Steel (15 SAR)+ other services (2.25 SAR)</td>\n",
       "      <td>Refill</td>\n",
       "      <td>4</td>\n",
       "      <td>Riyadh</td>\n",
       "      <td>AR RAWABI</td>\n",
       "      <td>Delivered</td>\n",
       "      <td>No</td>\n",
       "      <td>2020-09-16</td>\n",
       "      <td>2:00 PM - 4:00 PM</td>\n",
       "      <td>2020-09-16 6:09 pm</td>\n",
       "      <td>2020-09-16 1:32 am</td>\n",
       "      <td>NaN</td>\n",
       "    </tr>\n",
       "    <tr>\n",
       "      <th>4</th>\n",
       "      <td>4065147.0</td>\n",
       "      <td>1472.0</td>\n",
       "      <td>11 Kg Steel (15 SAR)+ other services (2.25 SAR)</td>\n",
       "      <td>Refill</td>\n",
       "      <td>2</td>\n",
       "      <td>Riyadh</td>\n",
       "      <td>BADR</td>\n",
       "      <td>Delivered</td>\n",
       "      <td>No</td>\n",
       "      <td>2020-09-16</td>\n",
       "      <td>10:00 AM - 12:00 PM</td>\n",
       "      <td>2020-09-16 11:17 am</td>\n",
       "      <td>2020-09-16 1:08 am</td>\n",
       "      <td>NaN</td>\n",
       "    </tr>\n",
       "  </tbody>\n",
       "</table>\n",
       "</div>"
      ],
      "text/plain": [
       "    Order ID  Driver ID                                          Product  \\\n",
       "0  4065151.0     1332.0  11 Kg Steel (15 SAR)+ other services (2.25 SAR)   \n",
       "1  4065150.0     1038.0  11 Kg Steel (15 SAR)+ other services (2.25 SAR)   \n",
       "2  4065149.0     1247.0  11 Kg Steel (15 SAR)+ other services (2.25 SAR)   \n",
       "3  4065148.0     1509.0  11 Kg Steel (15 SAR)+ other services (2.25 SAR)   \n",
       "4  4065147.0     1472.0  11 Kg Steel (15 SAR)+ other services (2.25 SAR)   \n",
       "\n",
       "  Service Type  Qty    City         Area     Status Urgent Preferred Date  \\\n",
       "0       Refill    1  Riyadh   AL IZDIHAR  Delivered     No     2020-09-16   \n",
       "1       Refill    1  Riyadh   AS SUWAIDI  Delivered     No     2020-09-16   \n",
       "2       Refill    1  Riyadh  AL MUNSIYAH  Delivered     No     2020-09-17   \n",
       "3       Refill    4  Riyadh    AR RAWABI  Delivered     No     2020-09-16   \n",
       "4       Refill    2  Riyadh         BADR  Delivered     No     2020-09-16   \n",
       "\n",
       "        Preferred Time        Delivery Date          Order Date  \\\n",
       "0  10:00 AM - 12:00 PM   2020-09-16 9:59 am  2020-09-16 2:02 am   \n",
       "1  10:00 AM - 12:00 PM  2020-09-16 11:05 am  2020-09-16 1:53 am   \n",
       "2   12:00 PM - 2:00 PM  2020-09-17 12:56 pm  2020-09-16 1:41 am   \n",
       "3    2:00 PM - 4:00 PM   2020-09-16 6:09 pm  2020-09-16 1:32 am   \n",
       "4  10:00 AM - 12:00 PM  2020-09-16 11:17 am  2020-09-16 1:08 am   \n",
       "\n",
       "  Cancellation Reason  \n",
       "0                 NaN  \n",
       "1                 NaN  \n",
       "2                 NaN  \n",
       "3                 NaN  \n",
       "4                 NaN  "
      ]
     },
     "execution_count": 3,
     "metadata": {},
     "output_type": "execute_result"
    }
   ],
   "source": [
    "df_order_9_1=pd.read_excel('Order_2020-9(1).xlsx')\n",
    "print(df_order_9_1.shape)\n",
    "df_order_9_1.head()"
   ]
  },
  {
   "cell_type": "code",
   "execution_count": 4,
   "metadata": {},
   "outputs": [
    {
     "name": "stdout",
     "output_type": "stream",
     "text": [
      "(15090, 14)\n"
     ]
    },
    {
     "data": {
      "text/html": [
       "<div>\n",
       "<style scoped>\n",
       "    .dataframe tbody tr th:only-of-type {\n",
       "        vertical-align: middle;\n",
       "    }\n",
       "\n",
       "    .dataframe tbody tr th {\n",
       "        vertical-align: top;\n",
       "    }\n",
       "\n",
       "    .dataframe thead th {\n",
       "        text-align: right;\n",
       "    }\n",
       "</style>\n",
       "<table border=\"1\" class=\"dataframe\">\n",
       "  <thead>\n",
       "    <tr style=\"text-align: right;\">\n",
       "      <th></th>\n",
       "      <th>Order ID</th>\n",
       "      <th>Driver ID</th>\n",
       "      <th>Product</th>\n",
       "      <th>Service Type</th>\n",
       "      <th>Qty</th>\n",
       "      <th>City</th>\n",
       "      <th>Area</th>\n",
       "      <th>Status</th>\n",
       "      <th>Urgent</th>\n",
       "      <th>Preferred Date</th>\n",
       "      <th>Preferred Time</th>\n",
       "      <th>Delivery Date</th>\n",
       "      <th>Order Date</th>\n",
       "      <th>Cancellation Reason</th>\n",
       "    </tr>\n",
       "  </thead>\n",
       "  <tbody>\n",
       "    <tr>\n",
       "      <th>0</th>\n",
       "      <td>4077675.0</td>\n",
       "      <td>NaN</td>\n",
       "      <td>Water Bottle 18L - Tania</td>\n",
       "      <td>Refill</td>\n",
       "      <td>3</td>\n",
       "      <td>Ad Diriyah</td>\n",
       "      <td>AD DIRIYAH</td>\n",
       "      <td>Canceled</td>\n",
       "      <td>No</td>\n",
       "      <td>2020-10-04</td>\n",
       "      <td>2:00 PM - 4:00 PM</td>\n",
       "      <td>Not yet</td>\n",
       "      <td>2020-10-01 2:43 am</td>\n",
       "      <td>الوقت لا يناسبني</td>\n",
       "    </tr>\n",
       "    <tr>\n",
       "      <th>1</th>\n",
       "      <td>4077674.0</td>\n",
       "      <td>1509.0</td>\n",
       "      <td>11 Kg Steel (15 SAR)+ other services (2.25 SAR)</td>\n",
       "      <td>Refill</td>\n",
       "      <td>4</td>\n",
       "      <td>Riyadh</td>\n",
       "      <td>AR RAWABI</td>\n",
       "      <td>Delivered</td>\n",
       "      <td>No</td>\n",
       "      <td>2020-10-01</td>\n",
       "      <td>12:00 PM - 2:00 PM</td>\n",
       "      <td>2020-10-01 1:24 pm</td>\n",
       "      <td>2020-10-01 2:19 am</td>\n",
       "      <td>NaN</td>\n",
       "    </tr>\n",
       "    <tr>\n",
       "      <th>2</th>\n",
       "      <td>4077673.0</td>\n",
       "      <td>1532.0</td>\n",
       "      <td>11 Kg Steel (15 SAR)+ other services (2.25 SAR)</td>\n",
       "      <td>Refill</td>\n",
       "      <td>2</td>\n",
       "      <td>Riyadh</td>\n",
       "      <td>AL AQIQ</td>\n",
       "      <td>Delivered</td>\n",
       "      <td>No</td>\n",
       "      <td>2020-10-01</td>\n",
       "      <td>12:00 PM - 2:00 PM</td>\n",
       "      <td>2020-10-01 11:08 am</td>\n",
       "      <td>2020-10-01 2:17 am</td>\n",
       "      <td>NaN</td>\n",
       "    </tr>\n",
       "    <tr>\n",
       "      <th>3</th>\n",
       "      <td>4077672.0</td>\n",
       "      <td>1230.0</td>\n",
       "      <td>11 Kg Steel (15 SAR)+ other services (2.25 SAR)</td>\n",
       "      <td>Refill</td>\n",
       "      <td>12</td>\n",
       "      <td>Riyadh</td>\n",
       "      <td>Al Mansourah</td>\n",
       "      <td>Canceled</td>\n",
       "      <td>No</td>\n",
       "      <td>2020-10-01</td>\n",
       "      <td>10:00 AM - 12:00 PM</td>\n",
       "      <td>Not yet</td>\n",
       "      <td>2020-10-01 2:12 am</td>\n",
       "      <td>أريد تعديل الطلب</td>\n",
       "    </tr>\n",
       "    <tr>\n",
       "      <th>4</th>\n",
       "      <td>4077671.0</td>\n",
       "      <td>1474.0</td>\n",
       "      <td>11 Kg Steel (15 SAR)+ other services (2.25 SAR)</td>\n",
       "      <td>Refill</td>\n",
       "      <td>1</td>\n",
       "      <td>Riyadh</td>\n",
       "      <td>AL YARMUK</td>\n",
       "      <td>Delivered</td>\n",
       "      <td>No</td>\n",
       "      <td>2020-10-01</td>\n",
       "      <td>2:00 PM - 4:00 PM</td>\n",
       "      <td>2020-10-01 2:19 pm</td>\n",
       "      <td>2020-10-01 2:10 am</td>\n",
       "      <td>NaN</td>\n",
       "    </tr>\n",
       "  </tbody>\n",
       "</table>\n",
       "</div>"
      ],
      "text/plain": [
       "    Order ID  Driver ID                                          Product  \\\n",
       "0  4077675.0        NaN                         Water Bottle 18L - Tania   \n",
       "1  4077674.0     1509.0  11 Kg Steel (15 SAR)+ other services (2.25 SAR)   \n",
       "2  4077673.0     1532.0  11 Kg Steel (15 SAR)+ other services (2.25 SAR)   \n",
       "3  4077672.0     1230.0  11 Kg Steel (15 SAR)+ other services (2.25 SAR)   \n",
       "4  4077671.0     1474.0  11 Kg Steel (15 SAR)+ other services (2.25 SAR)   \n",
       "\n",
       "  Service Type  Qty        City          Area     Status Urgent  \\\n",
       "0       Refill    3  Ad Diriyah    AD DIRIYAH   Canceled     No   \n",
       "1       Refill    4      Riyadh     AR RAWABI  Delivered     No   \n",
       "2       Refill    2      Riyadh       AL AQIQ  Delivered     No   \n",
       "3       Refill   12      Riyadh  Al Mansourah   Canceled     No   \n",
       "4       Refill    1      Riyadh     AL YARMUK  Delivered     No   \n",
       "\n",
       "  Preferred Date       Preferred Time        Delivery Date  \\\n",
       "0     2020-10-04    2:00 PM - 4:00 PM              Not yet   \n",
       "1     2020-10-01   12:00 PM - 2:00 PM   2020-10-01 1:24 pm   \n",
       "2     2020-10-01   12:00 PM - 2:00 PM  2020-10-01 11:08 am   \n",
       "3     2020-10-01  10:00 AM - 12:00 PM              Not yet   \n",
       "4     2020-10-01    2:00 PM - 4:00 PM   2020-10-01 2:19 pm   \n",
       "\n",
       "           Order Date Cancellation Reason  \n",
       "0  2020-10-01 2:43 am    الوقت لا يناسبني  \n",
       "1  2020-10-01 2:19 am                 NaN  \n",
       "2  2020-10-01 2:17 am                 NaN  \n",
       "3  2020-10-01 2:12 am    أريد تعديل الطلب  \n",
       "4  2020-10-01 2:10 am                 NaN  "
      ]
     },
     "execution_count": 4,
     "metadata": {},
     "output_type": "execute_result"
    }
   ],
   "source": [
    "df_order_9_2=pd.read_excel('Order_2020-9(2).xlsx')\n",
    "print(df_order_9_2.shape)\n",
    "df_order_9_2.head()"
   ]
  },
  {
   "cell_type": "code",
   "execution_count": 5,
   "metadata": {},
   "outputs": [
    {
     "name": "stdout",
     "output_type": "stream",
     "text": [
      "(8621, 14)\n"
     ]
    },
    {
     "data": {
      "text/html": [
       "<div>\n",
       "<style scoped>\n",
       "    .dataframe tbody tr th:only-of-type {\n",
       "        vertical-align: middle;\n",
       "    }\n",
       "\n",
       "    .dataframe tbody tr th {\n",
       "        vertical-align: top;\n",
       "    }\n",
       "\n",
       "    .dataframe thead th {\n",
       "        text-align: right;\n",
       "    }\n",
       "</style>\n",
       "<table border=\"1\" class=\"dataframe\">\n",
       "  <thead>\n",
       "    <tr style=\"text-align: right;\">\n",
       "      <th></th>\n",
       "      <th>Order ID</th>\n",
       "      <th>Driver ID</th>\n",
       "      <th>Product</th>\n",
       "      <th>Service Type</th>\n",
       "      <th>Qty</th>\n",
       "      <th>City</th>\n",
       "      <th>Area</th>\n",
       "      <th>Status</th>\n",
       "      <th>Urgent</th>\n",
       "      <th>Preferred Date</th>\n",
       "      <th>Preferred Time</th>\n",
       "      <th>Delivery Date</th>\n",
       "      <th>Order Date</th>\n",
       "      <th>Cancellation Reason</th>\n",
       "    </tr>\n",
       "  </thead>\n",
       "  <tbody>\n",
       "    <tr>\n",
       "      <th>0</th>\n",
       "      <td>4084458.0</td>\n",
       "      <td>1547.0</td>\n",
       "      <td>11 Kg Steel (15 SAR)+ other services (2.25 SAR)</td>\n",
       "      <td>Refill</td>\n",
       "      <td>1</td>\n",
       "      <td>Al Khobar</td>\n",
       "      <td>Qurtoba</td>\n",
       "      <td>Confirmed</td>\n",
       "      <td>No</td>\n",
       "      <td>2020-10-15</td>\n",
       "      <td>4:00 PM - 6:00 PM</td>\n",
       "      <td>Not yet</td>\n",
       "      <td>2020-10-13 2:53 am</td>\n",
       "      <td>NaN</td>\n",
       "    </tr>\n",
       "    <tr>\n",
       "      <th>1</th>\n",
       "      <td>4084457.0</td>\n",
       "      <td>NaN</td>\n",
       "      <td>11 Kg Steel (15 SAR)+ other services (2.25 SAR)</td>\n",
       "      <td>Refill</td>\n",
       "      <td>2</td>\n",
       "      <td>Riyadh</td>\n",
       "      <td>TUWAIQ</td>\n",
       "      <td>Canceled</td>\n",
       "      <td>No</td>\n",
       "      <td>2020-10-13</td>\n",
       "      <td>2:00 PM - 4:00 PM</td>\n",
       "      <td>Not yet</td>\n",
       "      <td>2020-10-13 2:53 am</td>\n",
       "      <td>NaN</td>\n",
       "    </tr>\n",
       "    <tr>\n",
       "      <th>2</th>\n",
       "      <td>NaN</td>\n",
       "      <td>NaN</td>\n",
       "      <td>11 Kg Steel (15 SAR)+ other services (2.25 SAR)</td>\n",
       "      <td>Installation</td>\n",
       "      <td>1</td>\n",
       "      <td>NaN</td>\n",
       "      <td>NaN</td>\n",
       "      <td>NaN</td>\n",
       "      <td>NaN</td>\n",
       "      <td>NaN</td>\n",
       "      <td>NaN</td>\n",
       "      <td>NaN</td>\n",
       "      <td>NaN</td>\n",
       "      <td>NaN</td>\n",
       "    </tr>\n",
       "    <tr>\n",
       "      <th>3</th>\n",
       "      <td>4084456.0</td>\n",
       "      <td>1282.0</td>\n",
       "      <td>11 Kg Steel (15 SAR)+ other services (2.25 SAR)</td>\n",
       "      <td>Refill</td>\n",
       "      <td>1</td>\n",
       "      <td>Dammam</td>\n",
       "      <td>Al Safa</td>\n",
       "      <td>Confirmed</td>\n",
       "      <td>No</td>\n",
       "      <td>2020-10-15</td>\n",
       "      <td>6:00 PM - 8:00 PM</td>\n",
       "      <td>Not yet</td>\n",
       "      <td>2020-10-13 2:46 am</td>\n",
       "      <td>NaN</td>\n",
       "    </tr>\n",
       "    <tr>\n",
       "      <th>4</th>\n",
       "      <td>NaN</td>\n",
       "      <td>NaN</td>\n",
       "      <td>11 Kg Steel (15 SAR)+ other services (2.25 SAR)</td>\n",
       "      <td>Installation</td>\n",
       "      <td>1</td>\n",
       "      <td>NaN</td>\n",
       "      <td>NaN</td>\n",
       "      <td>NaN</td>\n",
       "      <td>NaN</td>\n",
       "      <td>NaN</td>\n",
       "      <td>NaN</td>\n",
       "      <td>NaN</td>\n",
       "      <td>NaN</td>\n",
       "      <td>NaN</td>\n",
       "    </tr>\n",
       "  </tbody>\n",
       "</table>\n",
       "</div>"
      ],
      "text/plain": [
       "    Order ID  Driver ID                                          Product  \\\n",
       "0  4084458.0     1547.0  11 Kg Steel (15 SAR)+ other services (2.25 SAR)   \n",
       "1  4084457.0        NaN  11 Kg Steel (15 SAR)+ other services (2.25 SAR)   \n",
       "2        NaN        NaN  11 Kg Steel (15 SAR)+ other services (2.25 SAR)   \n",
       "3  4084456.0     1282.0  11 Kg Steel (15 SAR)+ other services (2.25 SAR)   \n",
       "4        NaN        NaN  11 Kg Steel (15 SAR)+ other services (2.25 SAR)   \n",
       "\n",
       "   Service Type  Qty       City     Area     Status Urgent Preferred Date  \\\n",
       "0        Refill    1  Al Khobar  Qurtoba  Confirmed     No     2020-10-15   \n",
       "1        Refill    2     Riyadh   TUWAIQ   Canceled     No     2020-10-13   \n",
       "2  Installation    1        NaN      NaN        NaN    NaN            NaN   \n",
       "3        Refill    1     Dammam  Al Safa  Confirmed     No     2020-10-15   \n",
       "4  Installation    1        NaN      NaN        NaN    NaN            NaN   \n",
       "\n",
       "      Preferred Time Delivery Date          Order Date Cancellation Reason  \n",
       "0  4:00 PM - 6:00 PM       Not yet  2020-10-13 2:53 am                 NaN  \n",
       "1  2:00 PM - 4:00 PM       Not yet  2020-10-13 2:53 am                 NaN  \n",
       "2                NaN           NaN                 NaN                 NaN  \n",
       "3  6:00 PM - 8:00 PM       Not yet  2020-10-13 2:46 am                 NaN  \n",
       "4                NaN           NaN                 NaN                 NaN  "
      ]
     },
     "execution_count": 5,
     "metadata": {},
     "output_type": "execute_result"
    }
   ],
   "source": [
    "df_order_10=pd.read_excel('Order_2020-10.xlsx')\n",
    "print(df_order_10.shape)\n",
    "df_order_10.head()"
   ]
  },
  {
   "cell_type": "markdown",
   "metadata": {},
   "source": [
    "### Drivers Data"
   ]
  },
  {
   "cell_type": "code",
   "execution_count": 6,
   "metadata": {},
   "outputs": [
    {
     "name": "stdout",
     "output_type": "stream",
     "text": [
      "(1207, 5)\n"
     ]
    },
    {
     "data": {
      "text/html": [
       "<div>\n",
       "<style scoped>\n",
       "    .dataframe tbody tr th:only-of-type {\n",
       "        vertical-align: middle;\n",
       "    }\n",
       "\n",
       "    .dataframe tbody tr th {\n",
       "        vertical-align: top;\n",
       "    }\n",
       "\n",
       "    .dataframe thead th {\n",
       "        text-align: right;\n",
       "    }\n",
       "</style>\n",
       "<table border=\"1\" class=\"dataframe\">\n",
       "  <thead>\n",
       "    <tr style=\"text-align: right;\">\n",
       "      <th></th>\n",
       "      <th>ID</th>\n",
       "      <th>Cities</th>\n",
       "      <th>Areas</th>\n",
       "      <th>Status</th>\n",
       "      <th>Date Added</th>\n",
       "    </tr>\n",
       "  </thead>\n",
       "  <tbody>\n",
       "    <tr>\n",
       "      <th>0</th>\n",
       "      <td>114</td>\n",
       "      <td>Riyadh</td>\n",
       "      <td>AS SULIMANIYAH, KING FAHD, HITTIN</td>\n",
       "      <td>Inactive</td>\n",
       "      <td>2017-02-02 10:22 am</td>\n",
       "    </tr>\n",
       "    <tr>\n",
       "      <th>1</th>\n",
       "      <td>125</td>\n",
       "      <td>Riyadh</td>\n",
       "      <td>ALYASMIN, AS SULIMANIYAH</td>\n",
       "      <td>Inactive</td>\n",
       "      <td>2017-02-21 11:33 am</td>\n",
       "    </tr>\n",
       "    <tr>\n",
       "      <th>2</th>\n",
       "      <td>126</td>\n",
       "      <td>Riyadh</td>\n",
       "      <td>ALYASMIN, AS SULIMANIYAH</td>\n",
       "      <td>Inactive</td>\n",
       "      <td>2017-02-21 2:37 pm</td>\n",
       "    </tr>\n",
       "    <tr>\n",
       "      <th>3</th>\n",
       "      <td>127</td>\n",
       "      <td>Riyadh</td>\n",
       "      <td>AN NADA</td>\n",
       "      <td>Inactive</td>\n",
       "      <td>2017-02-22 12:52 pm</td>\n",
       "    </tr>\n",
       "    <tr>\n",
       "      <th>4</th>\n",
       "      <td>128</td>\n",
       "      <td>Riyadh</td>\n",
       "      <td>AS SULIMANIYAH, KING FAHD, HITTIN</td>\n",
       "      <td>Inactive</td>\n",
       "      <td>2017-02-23 7:55 am</td>\n",
       "    </tr>\n",
       "  </tbody>\n",
       "</table>\n",
       "</div>"
      ],
      "text/plain": [
       "    ID  Cities                              Areas    Status  \\\n",
       "0  114  Riyadh  AS SULIMANIYAH, KING FAHD, HITTIN  Inactive   \n",
       "1  125  Riyadh           ALYASMIN, AS SULIMANIYAH  Inactive   \n",
       "2  126  Riyadh           ALYASMIN, AS SULIMANIYAH  Inactive   \n",
       "3  127  Riyadh                            AN NADA  Inactive   \n",
       "4  128  Riyadh  AS SULIMANIYAH, KING FAHD, HITTIN  Inactive   \n",
       "\n",
       "            Date Added  \n",
       "0  2017-02-02 10:22 am  \n",
       "1  2017-02-21 11:33 am  \n",
       "2   2017-02-21 2:37 pm  \n",
       "3  2017-02-22 12:52 pm  \n",
       "4   2017-02-23 7:55 am  "
      ]
     },
     "execution_count": 6,
     "metadata": {},
     "output_type": "execute_result"
    }
   ],
   "source": [
    "df_drivers=pd.read_excel('Driver.xlsx')\n",
    "print(df_drivers.shape)\n",
    "df_drivers.head()"
   ]
  },
  {
   "cell_type": "markdown",
   "metadata": {},
   "source": [
    "# Data Cleaning"
   ]
  },
  {
   "cell_type": "markdown",
   "metadata": {},
   "source": [
    "#### Concatenate order Data\n"
   ]
  },
  {
   "cell_type": "code",
   "execution_count": 7,
   "metadata": {},
   "outputs": [],
   "source": [
    "df_order_8['month']=8\n",
    "df_order_9_1['month']=9\n",
    "df_order_9_2['month']=9\n",
    "df_order_10['month']=10"
   ]
  },
  {
   "cell_type": "code",
   "execution_count": 8,
   "metadata": {
    "scrolled": false
   },
   "outputs": [
    {
     "name": "stdout",
     "output_type": "stream",
     "text": [
      "(59799, 15)\n"
     ]
    },
    {
     "data": {
      "text/html": [
       "<div>\n",
       "<style scoped>\n",
       "    .dataframe tbody tr th:only-of-type {\n",
       "        vertical-align: middle;\n",
       "    }\n",
       "\n",
       "    .dataframe tbody tr th {\n",
       "        vertical-align: top;\n",
       "    }\n",
       "\n",
       "    .dataframe thead th {\n",
       "        text-align: right;\n",
       "    }\n",
       "</style>\n",
       "<table border=\"1\" class=\"dataframe\">\n",
       "  <thead>\n",
       "    <tr style=\"text-align: right;\">\n",
       "      <th></th>\n",
       "      <th>Order ID</th>\n",
       "      <th>Driver ID</th>\n",
       "      <th>Product</th>\n",
       "      <th>Service Type</th>\n",
       "      <th>Qty</th>\n",
       "      <th>City</th>\n",
       "      <th>Area</th>\n",
       "      <th>Status</th>\n",
       "      <th>Urgent</th>\n",
       "      <th>Preferred Date</th>\n",
       "      <th>Preferred Time</th>\n",
       "      <th>Delivery Date</th>\n",
       "      <th>Order Date</th>\n",
       "      <th>Cancellation Reason</th>\n",
       "      <th>month</th>\n",
       "    </tr>\n",
       "  </thead>\n",
       "  <tbody>\n",
       "    <tr>\n",
       "      <th>0</th>\n",
       "      <td>4056668.0</td>\n",
       "      <td>278.0</td>\n",
       "      <td>11 Kg Steel (15 SAR)+ other services (2.25 SAR)</td>\n",
       "      <td>Refill</td>\n",
       "      <td>4</td>\n",
       "      <td>Riyadh</td>\n",
       "      <td>AL IZDIHAR</td>\n",
       "      <td>Delivered</td>\n",
       "      <td>No</td>\n",
       "      <td>2020-09-01</td>\n",
       "      <td>6:00 PM - 8:00 PM</td>\n",
       "      <td>2020-09-01 6:27 pm</td>\n",
       "      <td>2020-09-01 2:51 am</td>\n",
       "      <td>NaN</td>\n",
       "      <td>8</td>\n",
       "    </tr>\n",
       "    <tr>\n",
       "      <th>1</th>\n",
       "      <td>NaN</td>\n",
       "      <td>NaN</td>\n",
       "      <td>11 Kg Steel (15 SAR)+ other services (2.25 SAR)</td>\n",
       "      <td>Installation</td>\n",
       "      <td>4</td>\n",
       "      <td>NaN</td>\n",
       "      <td>NaN</td>\n",
       "      <td>NaN</td>\n",
       "      <td>NaN</td>\n",
       "      <td>NaN</td>\n",
       "      <td>NaN</td>\n",
       "      <td>NaN</td>\n",
       "      <td>NaN</td>\n",
       "      <td>NaN</td>\n",
       "      <td>8</td>\n",
       "    </tr>\n",
       "    <tr>\n",
       "      <th>2</th>\n",
       "      <td>4056667.0</td>\n",
       "      <td>1536.0</td>\n",
       "      <td>11 Kg Steel (15 SAR)+ other services (2.25 SAR)</td>\n",
       "      <td>Refill</td>\n",
       "      <td>2</td>\n",
       "      <td>Riyadh</td>\n",
       "      <td>AS SALAM</td>\n",
       "      <td>Delivered</td>\n",
       "      <td>No</td>\n",
       "      <td>2020-09-01</td>\n",
       "      <td>2:00 PM - 4:00 PM</td>\n",
       "      <td>2020-09-01 1:53 pm</td>\n",
       "      <td>2020-09-01 2:44 am</td>\n",
       "      <td>NaN</td>\n",
       "      <td>8</td>\n",
       "    </tr>\n",
       "    <tr>\n",
       "      <th>3</th>\n",
       "      <td>4056666.0</td>\n",
       "      <td>NaN</td>\n",
       "      <td>11 Kg Steel (15 SAR)+ other services (2.25 SAR)</td>\n",
       "      <td>Refill</td>\n",
       "      <td>1</td>\n",
       "      <td>Jeddah</td>\n",
       "      <td>Al-Rehab</td>\n",
       "      <td>Canceled</td>\n",
       "      <td>No</td>\n",
       "      <td>2020-09-01</td>\n",
       "      <td>6:00 PM - 8:00 PM</td>\n",
       "      <td>Not yet</td>\n",
       "      <td>2020-09-01 2:20 am</td>\n",
       "      <td>I want to modify the order</td>\n",
       "      <td>8</td>\n",
       "    </tr>\n",
       "    <tr>\n",
       "      <th>4</th>\n",
       "      <td>NaN</td>\n",
       "      <td>NaN</td>\n",
       "      <td>11 Kg Steel (15 SAR)+ other services (2.25 SAR)</td>\n",
       "      <td>Installation</td>\n",
       "      <td>1</td>\n",
       "      <td>NaN</td>\n",
       "      <td>NaN</td>\n",
       "      <td>NaN</td>\n",
       "      <td>NaN</td>\n",
       "      <td>NaN</td>\n",
       "      <td>NaN</td>\n",
       "      <td>NaN</td>\n",
       "      <td>NaN</td>\n",
       "      <td>NaN</td>\n",
       "      <td>8</td>\n",
       "    </tr>\n",
       "  </tbody>\n",
       "</table>\n",
       "</div>"
      ],
      "text/plain": [
       "    Order ID  Driver ID                                          Product  \\\n",
       "0  4056668.0      278.0  11 Kg Steel (15 SAR)+ other services (2.25 SAR)   \n",
       "1        NaN        NaN  11 Kg Steel (15 SAR)+ other services (2.25 SAR)   \n",
       "2  4056667.0     1536.0  11 Kg Steel (15 SAR)+ other services (2.25 SAR)   \n",
       "3  4056666.0        NaN  11 Kg Steel (15 SAR)+ other services (2.25 SAR)   \n",
       "4        NaN        NaN  11 Kg Steel (15 SAR)+ other services (2.25 SAR)   \n",
       "\n",
       "   Service Type  Qty    City        Area     Status Urgent Preferred Date  \\\n",
       "0        Refill    4  Riyadh  AL IZDIHAR  Delivered     No     2020-09-01   \n",
       "1  Installation    4     NaN         NaN        NaN    NaN            NaN   \n",
       "2        Refill    2  Riyadh    AS SALAM  Delivered     No     2020-09-01   \n",
       "3        Refill    1  Jeddah    Al-Rehab   Canceled     No     2020-09-01   \n",
       "4  Installation    1     NaN         NaN        NaN    NaN            NaN   \n",
       "\n",
       "      Preferred Time       Delivery Date          Order Date  \\\n",
       "0  6:00 PM - 8:00 PM  2020-09-01 6:27 pm  2020-09-01 2:51 am   \n",
       "1                NaN                 NaN                 NaN   \n",
       "2  2:00 PM - 4:00 PM  2020-09-01 1:53 pm  2020-09-01 2:44 am   \n",
       "3  6:00 PM - 8:00 PM             Not yet  2020-09-01 2:20 am   \n",
       "4                NaN                 NaN                 NaN   \n",
       "\n",
       "          Cancellation Reason  month  \n",
       "0                         NaN      8  \n",
       "1                         NaN      8  \n",
       "2                         NaN      8  \n",
       "3  I want to modify the order      8  \n",
       "4                         NaN      8  "
      ]
     },
     "execution_count": 8,
     "metadata": {},
     "output_type": "execute_result"
    }
   ],
   "source": [
    "df_orders=pd.concat([df_order_8,df_order_9_1,df_order_9_2,df_order_10],axis=0)\n",
    "print(df_orders.shape)\n",
    "df_orders.head()"
   ]
  },
  {
   "cell_type": "code",
   "execution_count": 9,
   "metadata": {},
   "outputs": [
    {
     "name": "stdout",
     "output_type": "stream",
     "text": [
      "8: (25213, 15) , 9: (25965, 15) , 10: (8621, 15)\n"
     ]
    }
   ],
   "source": [
    "#check data validity\n",
    "print('8: {} , 9: {} , 10: {}'.format( df_orders[df_orders.month==8].shape,\\\n",
    "                                                df_orders[df_orders.month==9].shape,df_orders[df_orders.month==10].shape\n",
    "                                               ))"
   ]
  },
  {
   "cell_type": "markdown",
   "metadata": {},
   "source": [
    "#### extract month and day of week"
   ]
  },
  {
   "cell_type": "code",
   "execution_count": 10,
   "metadata": {},
   "outputs": [],
   "source": [
    "df_orders['day_of_week']=pd.to_datetime(df_orders['Order Date']).dt.day_name()"
   ]
  },
  {
   "cell_type": "markdown",
   "metadata": {},
   "source": [
    "#### check for duplication"
   ]
  },
  {
   "cell_type": "code",
   "execution_count": 11,
   "metadata": {},
   "outputs": [
    {
     "name": "stdout",
     "output_type": "stream",
     "text": [
      "Number of duplicated rows :  12776\n",
      "Number of duplicated rows 8:  5339\n",
      "Number of duplicated rows 9:  5370\n",
      "Number of duplicated rows 10:  2067\n"
     ]
    },
    {
     "data": {
      "text/html": [
       "<div>\n",
       "<style scoped>\n",
       "    .dataframe tbody tr th:only-of-type {\n",
       "        vertical-align: middle;\n",
       "    }\n",
       "\n",
       "    .dataframe tbody tr th {\n",
       "        vertical-align: top;\n",
       "    }\n",
       "\n",
       "    .dataframe thead th {\n",
       "        text-align: right;\n",
       "    }\n",
       "</style>\n",
       "<table border=\"1\" class=\"dataframe\">\n",
       "  <thead>\n",
       "    <tr style=\"text-align: right;\">\n",
       "      <th></th>\n",
       "      <th>Order ID</th>\n",
       "      <th>Driver ID</th>\n",
       "      <th>Product</th>\n",
       "      <th>Service Type</th>\n",
       "      <th>Qty</th>\n",
       "      <th>City</th>\n",
       "      <th>Area</th>\n",
       "      <th>Status</th>\n",
       "      <th>Urgent</th>\n",
       "      <th>Preferred Date</th>\n",
       "      <th>Preferred Time</th>\n",
       "      <th>Delivery Date</th>\n",
       "      <th>Order Date</th>\n",
       "      <th>Cancellation Reason</th>\n",
       "      <th>month</th>\n",
       "      <th>day_of_week</th>\n",
       "    </tr>\n",
       "  </thead>\n",
       "  <tbody>\n",
       "    <tr>\n",
       "      <th>4</th>\n",
       "      <td>NaN</td>\n",
       "      <td>NaN</td>\n",
       "      <td>11 Kg Steel (15 SAR)+ other services (2.25 SAR)</td>\n",
       "      <td>Installation</td>\n",
       "      <td>1</td>\n",
       "      <td>NaN</td>\n",
       "      <td>NaN</td>\n",
       "      <td>NaN</td>\n",
       "      <td>NaN</td>\n",
       "      <td>NaN</td>\n",
       "      <td>NaN</td>\n",
       "      <td>NaN</td>\n",
       "      <td>NaN</td>\n",
       "      <td>NaN</td>\n",
       "      <td>10</td>\n",
       "      <td>NaN</td>\n",
       "    </tr>\n",
       "  </tbody>\n",
       "</table>\n",
       "</div>"
      ],
      "text/plain": [
       "   Order ID  Driver ID                                          Product  \\\n",
       "4       NaN        NaN  11 Kg Steel (15 SAR)+ other services (2.25 SAR)   \n",
       "\n",
       "   Service Type  Qty City Area Status Urgent Preferred Date Preferred Time  \\\n",
       "4  Installation    1  NaN  NaN    NaN    NaN            NaN            NaN   \n",
       "\n",
       "  Delivery Date Order Date Cancellation Reason  month day_of_week  \n",
       "4           NaN        NaN                 NaN     10         NaN  "
      ]
     },
     "execution_count": 11,
     "metadata": {},
     "output_type": "execute_result"
    }
   ],
   "source": [
    "print(\"Number of duplicated rows : \",df_orders[df_orders.duplicated()].shape[0])\n",
    "print(\"Number of duplicated rows 8: \",df_orders[((df_orders.duplicated()) & (df_orders.month==8) )].shape[0])\n",
    "print(\"Number of duplicated rows 9: \",df_orders[((df_orders.duplicated()) & (df_orders.month==9) )].shape[0])\n",
    "print(\"Number of duplicated rows 10: \",df_orders[((df_orders.duplicated()) & (df_orders.month==10) )].shape[0])\n",
    "df_orders[((df_orders.duplicated()) & (df_orders.month==10) )].head(1)"
   ]
  },
  {
   "cell_type": "markdown",
   "metadata": {},
   "source": [
    "#### drop duplication"
   ]
  },
  {
   "cell_type": "code",
   "execution_count": 12,
   "metadata": {},
   "outputs": [
    {
     "data": {
      "text/plain": [
       "(47023, 16)"
      ]
     },
     "execution_count": 12,
     "metadata": {},
     "output_type": "execute_result"
    }
   ],
   "source": [
    "df_orders_cleaned=df_orders.drop_duplicates()\n",
    "df_orders_cleaned.shape"
   ]
  },
  {
   "cell_type": "markdown",
   "metadata": {},
   "source": [
    "#### Check null values"
   ]
  },
  {
   "cell_type": "code",
   "execution_count": 13,
   "metadata": {},
   "outputs": [
    {
     "data": {
      "text/plain": [
       "Order ID                 202\n",
       "Driver ID              10786\n",
       "Product                    0\n",
       "Service Type               0\n",
       "Qty                        0\n",
       "City                     202\n",
       "Area                     202\n",
       "Status                   202\n",
       "Urgent                   202\n",
       "Preferred Date           202\n",
       "Preferred Time           678\n",
       "Delivery Date            202\n",
       "Order Date               202\n",
       "Cancellation Reason    40071\n",
       "month                      0\n",
       "day_of_week              202\n",
       "dtype: int64"
      ]
     },
     "execution_count": 13,
     "metadata": {},
     "output_type": "execute_result"
    }
   ],
   "source": [
    "df_orders_cleaned.isna().sum()"
   ]
  },
  {
   "cell_type": "code",
   "execution_count": 14,
   "metadata": {},
   "outputs": [
    {
     "data": {
      "text/html": [
       "<div>\n",
       "<style scoped>\n",
       "    .dataframe tbody tr th:only-of-type {\n",
       "        vertical-align: middle;\n",
       "    }\n",
       "\n",
       "    .dataframe tbody tr th {\n",
       "        vertical-align: top;\n",
       "    }\n",
       "\n",
       "    .dataframe thead th {\n",
       "        text-align: right;\n",
       "    }\n",
       "</style>\n",
       "<table border=\"1\" class=\"dataframe\">\n",
       "  <thead>\n",
       "    <tr style=\"text-align: right;\">\n",
       "      <th></th>\n",
       "      <th>Order ID</th>\n",
       "      <th>Driver ID</th>\n",
       "      <th>Product</th>\n",
       "      <th>Service Type</th>\n",
       "      <th>Qty</th>\n",
       "      <th>City</th>\n",
       "      <th>Area</th>\n",
       "      <th>Status</th>\n",
       "      <th>Urgent</th>\n",
       "      <th>Preferred Date</th>\n",
       "      <th>Preferred Time</th>\n",
       "      <th>Delivery Date</th>\n",
       "      <th>Order Date</th>\n",
       "      <th>Cancellation Reason</th>\n",
       "      <th>month</th>\n",
       "      <th>day_of_week</th>\n",
       "    </tr>\n",
       "  </thead>\n",
       "  <tbody>\n",
       "    <tr>\n",
       "      <th>1</th>\n",
       "      <td>NaN</td>\n",
       "      <td>NaN</td>\n",
       "      <td>11 Kg Steel (15 SAR)+ other services (2.25 SAR)</td>\n",
       "      <td>Installation</td>\n",
       "      <td>4</td>\n",
       "      <td>NaN</td>\n",
       "      <td>NaN</td>\n",
       "      <td>NaN</td>\n",
       "      <td>NaN</td>\n",
       "      <td>NaN</td>\n",
       "      <td>NaN</td>\n",
       "      <td>NaN</td>\n",
       "      <td>NaN</td>\n",
       "      <td>NaN</td>\n",
       "      <td>8</td>\n",
       "      <td>NaN</td>\n",
       "    </tr>\n",
       "    <tr>\n",
       "      <th>4</th>\n",
       "      <td>NaN</td>\n",
       "      <td>NaN</td>\n",
       "      <td>11 Kg Steel (15 SAR)+ other services (2.25 SAR)</td>\n",
       "      <td>Installation</td>\n",
       "      <td>1</td>\n",
       "      <td>NaN</td>\n",
       "      <td>NaN</td>\n",
       "      <td>NaN</td>\n",
       "      <td>NaN</td>\n",
       "      <td>NaN</td>\n",
       "      <td>NaN</td>\n",
       "      <td>NaN</td>\n",
       "      <td>NaN</td>\n",
       "      <td>NaN</td>\n",
       "      <td>8</td>\n",
       "      <td>NaN</td>\n",
       "    </tr>\n",
       "    <tr>\n",
       "      <th>12</th>\n",
       "      <td>NaN</td>\n",
       "      <td>NaN</td>\n",
       "      <td>Water Bottle Nestlé 18L</td>\n",
       "      <td>Refill</td>\n",
       "      <td>2</td>\n",
       "      <td>NaN</td>\n",
       "      <td>NaN</td>\n",
       "      <td>NaN</td>\n",
       "      <td>NaN</td>\n",
       "      <td>NaN</td>\n",
       "      <td>NaN</td>\n",
       "      <td>NaN</td>\n",
       "      <td>NaN</td>\n",
       "      <td>NaN</td>\n",
       "      <td>8</td>\n",
       "      <td>NaN</td>\n",
       "    </tr>\n",
       "    <tr>\n",
       "      <th>21</th>\n",
       "      <td>NaN</td>\n",
       "      <td>NaN</td>\n",
       "      <td>Water Bottle 18L -Fayha</td>\n",
       "      <td>Refill</td>\n",
       "      <td>1</td>\n",
       "      <td>NaN</td>\n",
       "      <td>NaN</td>\n",
       "      <td>NaN</td>\n",
       "      <td>NaN</td>\n",
       "      <td>NaN</td>\n",
       "      <td>NaN</td>\n",
       "      <td>NaN</td>\n",
       "      <td>NaN</td>\n",
       "      <td>NaN</td>\n",
       "      <td>8</td>\n",
       "      <td>NaN</td>\n",
       "    </tr>\n",
       "    <tr>\n",
       "      <th>23</th>\n",
       "      <td>NaN</td>\n",
       "      <td>NaN</td>\n",
       "      <td>Water Bottle 18L - Al Manhal</td>\n",
       "      <td>Refill</td>\n",
       "      <td>1</td>\n",
       "      <td>NaN</td>\n",
       "      <td>NaN</td>\n",
       "      <td>NaN</td>\n",
       "      <td>NaN</td>\n",
       "      <td>NaN</td>\n",
       "      <td>NaN</td>\n",
       "      <td>NaN</td>\n",
       "      <td>NaN</td>\n",
       "      <td>NaN</td>\n",
       "      <td>8</td>\n",
       "      <td>NaN</td>\n",
       "    </tr>\n",
       "  </tbody>\n",
       "</table>\n",
       "</div>"
      ],
      "text/plain": [
       "    Order ID  Driver ID                                          Product  \\\n",
       "1        NaN        NaN  11 Kg Steel (15 SAR)+ other services (2.25 SAR)   \n",
       "4        NaN        NaN  11 Kg Steel (15 SAR)+ other services (2.25 SAR)   \n",
       "12       NaN        NaN                          Water Bottle Nestlé 18L   \n",
       "21       NaN        NaN                          Water Bottle 18L -Fayha   \n",
       "23       NaN        NaN                     Water Bottle 18L - Al Manhal   \n",
       "\n",
       "    Service Type  Qty City Area Status Urgent Preferred Date Preferred Time  \\\n",
       "1   Installation    4  NaN  NaN    NaN    NaN            NaN            NaN   \n",
       "4   Installation    1  NaN  NaN    NaN    NaN            NaN            NaN   \n",
       "12        Refill    2  NaN  NaN    NaN    NaN            NaN            NaN   \n",
       "21        Refill    1  NaN  NaN    NaN    NaN            NaN            NaN   \n",
       "23        Refill    1  NaN  NaN    NaN    NaN            NaN            NaN   \n",
       "\n",
       "   Delivery Date Order Date Cancellation Reason  month day_of_week  \n",
       "1            NaN        NaN                 NaN      8         NaN  \n",
       "4            NaN        NaN                 NaN      8         NaN  \n",
       "12           NaN        NaN                 NaN      8         NaN  \n",
       "21           NaN        NaN                 NaN      8         NaN  \n",
       "23           NaN        NaN                 NaN      8         NaN  "
      ]
     },
     "execution_count": 14,
     "metadata": {},
     "output_type": "execute_result"
    }
   ],
   "source": [
    "#check null value sample\n",
    "df_orders_cleaned[pd.isnull( df_orders_cleaned.day_of_week)].head()"
   ]
  },
  {
   "cell_type": "markdown",
   "metadata": {},
   "source": [
    "#### drop null values"
   ]
  },
  {
   "cell_type": "code",
   "execution_count": 15,
   "metadata": {},
   "outputs": [
    {
     "data": {
      "text/plain": [
       "Order ID                   0\n",
       "Driver ID              10584\n",
       "Product                    0\n",
       "Service Type               0\n",
       "Qty                        0\n",
       "City                       0\n",
       "Area                       0\n",
       "Status                     0\n",
       "Urgent                     0\n",
       "Preferred Date             0\n",
       "Preferred Time           476\n",
       "Delivery Date              0\n",
       "Order Date                 0\n",
       "Cancellation Reason    39869\n",
       "month                      0\n",
       "day_of_week                0\n",
       "dtype: int64"
      ]
     },
     "execution_count": 15,
     "metadata": {},
     "output_type": "execute_result"
    }
   ],
   "source": [
    "# drop null values\n",
    "df_orders_cleaned=df_orders_cleaned.dropna(subset=['City','Area','Status','Urgent','Preferred Date','Delivery Date','Order Date','day_of_week'],axis=0)\n",
    "df_orders_cleaned.isna().sum()"
   ]
  },
  {
   "cell_type": "markdown",
   "metadata": {},
   "source": [
    "#### Fill Null Values in (Preferred Time ,Cancellation Reason)"
   ]
  },
  {
   "cell_type": "code",
   "execution_count": 16,
   "metadata": {},
   "outputs": [
    {
     "data": {
      "text/plain": [
       "array(['6:00 PM - 8:00 PM', '2:00 PM - 4:00 PM', '10:00 AM - 12:00 PM',\n",
       "       '4:00 PM - 6:00 PM', '12:00 PM - 2:00 PM', 'No prefered Time'],\n",
       "      dtype=object)"
      ]
     },
     "execution_count": 16,
     "metadata": {},
     "output_type": "execute_result"
    }
   ],
   "source": [
    "# fill null Preferred Time with 'No prefered Time'\n",
    "df_orders_cleaned['Preferred Time']=df_orders_cleaned['Preferred Time'].fillna('No prefered Time')\n",
    "df_orders_cleaned['Preferred Time'].unique()"
   ]
  },
  {
   "cell_type": "code",
   "execution_count": 17,
   "metadata": {},
   "outputs": [
    {
     "data": {
      "text/plain": [
       "(39869, 16)"
      ]
     },
     "execution_count": 17,
     "metadata": {},
     "output_type": "execute_result"
    }
   ],
   "source": [
    "# fill null cancellation reason with 'no reason'\n",
    "df_orders_cleaned['Cancellation Reason']=df_orders_cleaned['Cancellation Reason'].fillna('No Reason')\n",
    "df_orders_cleaned[df_orders_cleaned['Cancellation Reason']=='No Reason'].shape"
   ]
  },
  {
   "cell_type": "code",
   "execution_count": 18,
   "metadata": {},
   "outputs": [
    {
     "data": {
      "text/plain": [
       "Order ID                   0\n",
       "Driver ID              10584\n",
       "Product                    0\n",
       "Service Type               0\n",
       "Qty                        0\n",
       "City                       0\n",
       "Area                       0\n",
       "Status                     0\n",
       "Urgent                     0\n",
       "Preferred Date             0\n",
       "Preferred Time             0\n",
       "Delivery Date              0\n",
       "Order Date                 0\n",
       "Cancellation Reason        0\n",
       "month                      0\n",
       "day_of_week                0\n",
       "dtype: int64"
      ]
     },
     "execution_count": 18,
     "metadata": {},
     "output_type": "execute_result"
    }
   ],
   "source": [
    "df_orders_cleaned.isna().sum()"
   ]
  },
  {
   "cell_type": "code",
   "execution_count": 19,
   "metadata": {},
   "outputs": [
    {
     "data": {
      "text/html": [
       "<div>\n",
       "<style scoped>\n",
       "    .dataframe tbody tr th:only-of-type {\n",
       "        vertical-align: middle;\n",
       "    }\n",
       "\n",
       "    .dataframe tbody tr th {\n",
       "        vertical-align: top;\n",
       "    }\n",
       "\n",
       "    .dataframe thead th {\n",
       "        text-align: right;\n",
       "    }\n",
       "</style>\n",
       "<table border=\"1\" class=\"dataframe\">\n",
       "  <thead>\n",
       "    <tr style=\"text-align: right;\">\n",
       "      <th></th>\n",
       "      <th>Order ID</th>\n",
       "      <th>Driver ID</th>\n",
       "      <th>Product</th>\n",
       "      <th>Service Type</th>\n",
       "      <th>Qty</th>\n",
       "      <th>City</th>\n",
       "      <th>Area</th>\n",
       "      <th>Status</th>\n",
       "      <th>Urgent</th>\n",
       "      <th>Preferred Date</th>\n",
       "      <th>Preferred Time</th>\n",
       "      <th>Delivery Date</th>\n",
       "      <th>Order Date</th>\n",
       "      <th>Cancellation Reason</th>\n",
       "      <th>month</th>\n",
       "      <th>day_of_week</th>\n",
       "    </tr>\n",
       "  </thead>\n",
       "  <tbody>\n",
       "    <tr>\n",
       "      <th>0</th>\n",
       "      <td>4056668.0</td>\n",
       "      <td>278.0</td>\n",
       "      <td>11 Kg Steel (15 SAR)+ other services (2.25 SAR)</td>\n",
       "      <td>Refill</td>\n",
       "      <td>4</td>\n",
       "      <td>Riyadh</td>\n",
       "      <td>AL IZDIHAR</td>\n",
       "      <td>Delivered</td>\n",
       "      <td>No</td>\n",
       "      <td>2020-09-01</td>\n",
       "      <td>6:00 PM - 8:00 PM</td>\n",
       "      <td>2020-09-01 6:27 pm</td>\n",
       "      <td>2020-09-01 2:51 am</td>\n",
       "      <td>No Reason</td>\n",
       "      <td>8</td>\n",
       "      <td>Tuesday</td>\n",
       "    </tr>\n",
       "    <tr>\n",
       "      <th>2</th>\n",
       "      <td>4056667.0</td>\n",
       "      <td>1536.0</td>\n",
       "      <td>11 Kg Steel (15 SAR)+ other services (2.25 SAR)</td>\n",
       "      <td>Refill</td>\n",
       "      <td>2</td>\n",
       "      <td>Riyadh</td>\n",
       "      <td>AS SALAM</td>\n",
       "      <td>Delivered</td>\n",
       "      <td>No</td>\n",
       "      <td>2020-09-01</td>\n",
       "      <td>2:00 PM - 4:00 PM</td>\n",
       "      <td>2020-09-01 1:53 pm</td>\n",
       "      <td>2020-09-01 2:44 am</td>\n",
       "      <td>No Reason</td>\n",
       "      <td>8</td>\n",
       "      <td>Tuesday</td>\n",
       "    </tr>\n",
       "    <tr>\n",
       "      <th>3</th>\n",
       "      <td>4056666.0</td>\n",
       "      <td>NaN</td>\n",
       "      <td>11 Kg Steel (15 SAR)+ other services (2.25 SAR)</td>\n",
       "      <td>Refill</td>\n",
       "      <td>1</td>\n",
       "      <td>Jeddah</td>\n",
       "      <td>Al-Rehab</td>\n",
       "      <td>Canceled</td>\n",
       "      <td>No</td>\n",
       "      <td>2020-09-01</td>\n",
       "      <td>6:00 PM - 8:00 PM</td>\n",
       "      <td>Not yet</td>\n",
       "      <td>2020-09-01 2:20 am</td>\n",
       "      <td>I want to modify the order</td>\n",
       "      <td>8</td>\n",
       "      <td>Tuesday</td>\n",
       "    </tr>\n",
       "    <tr>\n",
       "      <th>5</th>\n",
       "      <td>4056665.0</td>\n",
       "      <td>278.0</td>\n",
       "      <td>11 Kg Steel (15 SAR)+ other services (2.25 SAR)</td>\n",
       "      <td>Refill</td>\n",
       "      <td>2</td>\n",
       "      <td>Riyadh</td>\n",
       "      <td>ALMASIAF</td>\n",
       "      <td>Delivered</td>\n",
       "      <td>No</td>\n",
       "      <td>2020-09-03</td>\n",
       "      <td>10:00 AM - 12:00 PM</td>\n",
       "      <td>2020-09-03 10:22 am</td>\n",
       "      <td>2020-09-01 2:10 am</td>\n",
       "      <td>No Reason</td>\n",
       "      <td>8</td>\n",
       "      <td>Tuesday</td>\n",
       "    </tr>\n",
       "    <tr>\n",
       "      <th>6</th>\n",
       "      <td>4056664.0</td>\n",
       "      <td>NaN</td>\n",
       "      <td>11 Kg Wathfa (15 SAR)+ other services (2.25 SAR)</td>\n",
       "      <td>New</td>\n",
       "      <td>1</td>\n",
       "      <td>Jeddah</td>\n",
       "      <td>An Nuzhah</td>\n",
       "      <td>Canceled</td>\n",
       "      <td>No</td>\n",
       "      <td>2020-09-01</td>\n",
       "      <td>4:00 PM - 6:00 PM</td>\n",
       "      <td>Not yet</td>\n",
       "      <td>2020-09-01 1:55 am</td>\n",
       "      <td>السعر مرتفع</td>\n",
       "      <td>8</td>\n",
       "      <td>Tuesday</td>\n",
       "    </tr>\n",
       "  </tbody>\n",
       "</table>\n",
       "</div>"
      ],
      "text/plain": [
       "    Order ID  Driver ID                                           Product  \\\n",
       "0  4056668.0      278.0   11 Kg Steel (15 SAR)+ other services (2.25 SAR)   \n",
       "2  4056667.0     1536.0   11 Kg Steel (15 SAR)+ other services (2.25 SAR)   \n",
       "3  4056666.0        NaN   11 Kg Steel (15 SAR)+ other services (2.25 SAR)   \n",
       "5  4056665.0      278.0   11 Kg Steel (15 SAR)+ other services (2.25 SAR)   \n",
       "6  4056664.0        NaN  11 Kg Wathfa (15 SAR)+ other services (2.25 SAR)   \n",
       "\n",
       "  Service Type  Qty    City        Area     Status Urgent Preferred Date  \\\n",
       "0       Refill    4  Riyadh  AL IZDIHAR  Delivered     No     2020-09-01   \n",
       "2       Refill    2  Riyadh    AS SALAM  Delivered     No     2020-09-01   \n",
       "3       Refill    1  Jeddah    Al-Rehab   Canceled     No     2020-09-01   \n",
       "5       Refill    2  Riyadh    ALMASIAF  Delivered     No     2020-09-03   \n",
       "6          New    1  Jeddah   An Nuzhah   Canceled     No     2020-09-01   \n",
       "\n",
       "        Preferred Time        Delivery Date          Order Date  \\\n",
       "0    6:00 PM - 8:00 PM   2020-09-01 6:27 pm  2020-09-01 2:51 am   \n",
       "2    2:00 PM - 4:00 PM   2020-09-01 1:53 pm  2020-09-01 2:44 am   \n",
       "3    6:00 PM - 8:00 PM              Not yet  2020-09-01 2:20 am   \n",
       "5  10:00 AM - 12:00 PM  2020-09-03 10:22 am  2020-09-01 2:10 am   \n",
       "6    4:00 PM - 6:00 PM              Not yet  2020-09-01 1:55 am   \n",
       "\n",
       "          Cancellation Reason  month day_of_week  \n",
       "0                   No Reason      8     Tuesday  \n",
       "2                   No Reason      8     Tuesday  \n",
       "3  I want to modify the order      8     Tuesday  \n",
       "5                   No Reason      8     Tuesday  \n",
       "6                 السعر مرتفع      8     Tuesday  "
      ]
     },
     "execution_count": 19,
     "metadata": {},
     "output_type": "execute_result"
    }
   ],
   "source": [
    "df_orders_cleaned.head()"
   ]
  },
  {
   "cell_type": "markdown",
   "metadata": {},
   "source": [
    "# Explaratory Data Analysis"
   ]
  },
  {
   "cell_type": "code",
   "execution_count": 20,
   "metadata": {},
   "outputs": [
    {
     "data": {
      "text/html": [
       "<div>\n",
       "<style scoped>\n",
       "    .dataframe tbody tr th:only-of-type {\n",
       "        vertical-align: middle;\n",
       "    }\n",
       "\n",
       "    .dataframe tbody tr th {\n",
       "        vertical-align: top;\n",
       "    }\n",
       "\n",
       "    .dataframe thead th {\n",
       "        text-align: right;\n",
       "    }\n",
       "</style>\n",
       "<table border=\"1\" class=\"dataframe\">\n",
       "  <thead>\n",
       "    <tr style=\"text-align: right;\">\n",
       "      <th></th>\n",
       "      <th>Order ID</th>\n",
       "      <th>Driver ID</th>\n",
       "      <th>Product</th>\n",
       "      <th>Service Type</th>\n",
       "      <th>Qty</th>\n",
       "      <th>City</th>\n",
       "      <th>Area</th>\n",
       "      <th>Status</th>\n",
       "      <th>Urgent</th>\n",
       "      <th>Preferred Date</th>\n",
       "      <th>Preferred Time</th>\n",
       "      <th>Delivery Date</th>\n",
       "      <th>Order Date</th>\n",
       "      <th>Cancellation Reason</th>\n",
       "      <th>month</th>\n",
       "      <th>day_of_week</th>\n",
       "    </tr>\n",
       "  </thead>\n",
       "  <tbody>\n",
       "    <tr>\n",
       "      <th>0</th>\n",
       "      <td>4056668.0</td>\n",
       "      <td>278.0</td>\n",
       "      <td>11 Kg Steel (15 SAR)+ other services (2.25 SAR)</td>\n",
       "      <td>Refill</td>\n",
       "      <td>4</td>\n",
       "      <td>Riyadh</td>\n",
       "      <td>AL IZDIHAR</td>\n",
       "      <td>Delivered</td>\n",
       "      <td>No</td>\n",
       "      <td>2020-09-01</td>\n",
       "      <td>6:00 PM - 8:00 PM</td>\n",
       "      <td>2020-09-01 6:27 pm</td>\n",
       "      <td>2020-09-01 2:51 am</td>\n",
       "      <td>NaN</td>\n",
       "      <td>8</td>\n",
       "      <td>Tuesday</td>\n",
       "    </tr>\n",
       "    <tr>\n",
       "      <th>1</th>\n",
       "      <td>NaN</td>\n",
       "      <td>NaN</td>\n",
       "      <td>11 Kg Steel (15 SAR)+ other services (2.25 SAR)</td>\n",
       "      <td>Installation</td>\n",
       "      <td>4</td>\n",
       "      <td>NaN</td>\n",
       "      <td>NaN</td>\n",
       "      <td>NaN</td>\n",
       "      <td>NaN</td>\n",
       "      <td>NaN</td>\n",
       "      <td>NaN</td>\n",
       "      <td>NaN</td>\n",
       "      <td>NaN</td>\n",
       "      <td>NaN</td>\n",
       "      <td>8</td>\n",
       "      <td>NaN</td>\n",
       "    </tr>\n",
       "  </tbody>\n",
       "</table>\n",
       "</div>"
      ],
      "text/plain": [
       "    Order ID  Driver ID                                          Product  \\\n",
       "0  4056668.0      278.0  11 Kg Steel (15 SAR)+ other services (2.25 SAR)   \n",
       "1        NaN        NaN  11 Kg Steel (15 SAR)+ other services (2.25 SAR)   \n",
       "\n",
       "   Service Type  Qty    City        Area     Status Urgent Preferred Date  \\\n",
       "0        Refill    4  Riyadh  AL IZDIHAR  Delivered     No     2020-09-01   \n",
       "1  Installation    4     NaN         NaN        NaN    NaN            NaN   \n",
       "\n",
       "      Preferred Time       Delivery Date          Order Date  \\\n",
       "0  6:00 PM - 8:00 PM  2020-09-01 6:27 pm  2020-09-01 2:51 am   \n",
       "1                NaN                 NaN                 NaN   \n",
       "\n",
       "  Cancellation Reason  month day_of_week  \n",
       "0                 NaN      8     Tuesday  \n",
       "1                 NaN      8         NaN  "
      ]
     },
     "execution_count": 20,
     "metadata": {},
     "output_type": "execute_result"
    }
   ],
   "source": [
    "df_orders.head(2)"
   ]
  },
  {
   "cell_type": "markdown",
   "metadata": {},
   "source": [
    "<h1 style=\"color: green\">1. Frist Part</h1>"
   ]
  },
  {
   "cell_type": "markdown",
   "metadata": {},
   "source": [
    "### What is the best month in sales?"
   ]
  },
  {
   "cell_type": "code",
   "execution_count": 21,
   "metadata": {},
   "outputs": [
    {
     "data": {
      "image/png": "[encoded data removed]",
      "text/plain": [
       "<Figure size 936x504 with 1 Axes>"
      ]
     },
     "metadata": {},
     "output_type": "display_data"
    }
   ],
   "source": [
    "colors = random.choices(list(mcolors.CSS4_COLORS.values()),k = 3)\n",
    "df_orders.month.value_counts().plot(kind='pie',figsize=(13,7),autopct=\"%1.1f%%\",shadow=True,fontsize='13',\\\n",
    "                                    colors=['green','orange','blue'])\n",
    "plt.title('The best month in sales',y=1,fontsize='20')\n",
    "plt.ylabel(None)\n",
    "plt.show()"
   ]
  },
  {
   "cell_type": "markdown",
   "metadata": {},
   "source": [
    "### What about type of service sales according to month?"
   ]
  },
  {
   "cell_type": "code",
   "execution_count": 22,
   "metadata": {},
   "outputs": [
    {
     "data": {
      "image/png": "[encoded data removed]",
      "text/plain": [
       "<Figure size 936x432 with 1 Axes>"
      ]
     },
     "metadata": {},
     "output_type": "display_data"
    }
   ],
   "source": [
    "pvt_service=pd.pivot_table(df_orders,values='Order ID', index=['month'],\\\n",
    "               columns=['Service Type'], aggfunc='count')\n",
    "pvt_service.plot(kind='bar',width=0.8,figsize=(13,6))\n",
    "plt.ylim(-2,22000)\n",
    "plt.legend(fontsize='13')\n",
    "plt.ylabel('Count of orders',fontsize='13')\n",
    "plt.xlabel('Month',fontsize='13')\n",
    "plt.title('Number of orders by service Type and month',fontsize='20')\n",
    "plt.xticks(fontsize='15',rotation='0')\n",
    "for index,inst,new,ref in zip(enumerate(pvt_service.index),pvt_service['Installation'],\\\n",
    "                              pvt_service['New'],pvt_service['Refill']):\n",
    "    #print(index[0],index[0] - .31,index[0] - .28,index[0] - .31)\n",
    "    plt.annotate(inst, xy=(index[0] - .31 , inst + 500), color='#5cb85c',fontsize=12)\n",
    "    plt.annotate(new, xy=((index[0] - .35 )+ .25  , new + 500), color='#5bc0de',fontsize=12)\n",
    "    plt.annotate(ref, xy=((index[0] - .38) +.25+.3 , ref + 500), color='#d9534f',fontsize=12) \n",
    "plt.show()"
   ]
  },
  {
   "cell_type": "markdown",
   "metadata": {},
   "source": [
    "### What is the max of Quantity  per service type and month?"
   ]
  },
  {
   "cell_type": "code",
   "execution_count": 23,
   "metadata": {},
   "outputs": [
    {
     "data": {
      "image/png": "[encoded data removed]",
      "text/plain": [
       "<Figure size 936x432 with 1 Axes>"
      ]
     },
     "metadata": {},
     "output_type": "display_data"
    }
   ],
   "source": [
    "pvt_service_Qty=pd.pivot_table(df_orders,values='Qty', index=['month'],\\\n",
    "               columns=['Service Type'], aggfunc='max')\n",
    "\n",
    "pvt_service_Qty.plot(kind='bar',width=0.8,figsize=(13,6))\n",
    "plt.ylim(0,60)\n",
    "plt.legend(fontsize='13')\n",
    "plt.ylabel('Max Quantity',fontsize='13')\n",
    "plt.xlabel('Month',fontsize='13')\n",
    "plt.xticks(fontsize='15',rotation='0')\n",
    "plt.title('Max of Quantity per service type and month',fontsize='20')\n",
    "for index,inst,new,ref in zip(enumerate(pvt_service_Qty.index),pvt_service_Qty['Installation'],\\\n",
    "                              pvt_service_Qty['New'],pvt_service_Qty['Refill']):\n",
    "    plt.annotate(inst, xy=(index[0] - .31 , inst + 2), color='#5cb85c',fontsize=12)\n",
    "    plt.annotate(new, xy=((index[0] - .30 )+ .25  , new + 2), color='#5bc0de',fontsize=12)\n",
    "    plt.annotate(ref, xy=((index[0] - .33) +.25+.3 , ref + 2), color='#d9534f',fontsize=12) "
   ]
  },
  {
   "cell_type": "markdown",
   "metadata": {},
   "source": [
    "### Count of product orders per month(minimun 20 orders per month)?"
   ]
  },
  {
   "cell_type": "code",
   "execution_count": 24,
   "metadata": {},
   "outputs": [
    {
     "data": {
      "image/png": "[encoded data removed]",
      "text/plain": [
       "<Figure size 1080x432 with 1 Axes>"
      ]
     },
     "metadata": {},
     "output_type": "display_data"
    }
   ],
   "source": [
    "df_orders.groupby(['month','Product'])['Order ID'].count().to_frame().\\\n",
    "rename(columns={'Order ID':'count'}).query('count>20').unstack('month').\\\n",
    "sort_values(by=[('count',9)],ascending=False).fillna(0).plot(kind='bar',figsize=(15,6))\n",
    "plt.legend([8,9,10])\n",
    "plt.title('Count of product orders per month(minimun 20 orders per product in month)',fontsize='20')\n",
    "plt.ylabel('Count of orders',fontsize='15')\n",
    "plt.xlabel('Product',fontsize='15')\n",
    "plt.show()"
   ]
  },
  {
   "cell_type": "markdown",
   "metadata": {},
   "source": [
    "The interest is just on (11 kg steel) product"
   ]
  },
  {
   "cell_type": "markdown",
   "metadata": {},
   "source": [
    "### ----------------------------------------------------------------------------------------------------------------------------------------------------"
   ]
  },
  {
   "cell_type": "markdown",
   "metadata": {},
   "source": [
    "<h1 style=\"color: green\">2. Second Part</h1>"
   ]
  },
  {
   "cell_type": "markdown",
   "metadata": {},
   "source": [
    "### What about order status?"
   ]
  },
  {
   "cell_type": "code",
   "execution_count": 25,
   "metadata": {},
   "outputs": [
    {
     "data": {
      "image/png": "[encoded data removed]",
      "text/plain": [
       "<Figure size 936x504 with 1 Axes>"
      ]
     },
     "metadata": {},
     "output_type": "display_data"
    }
   ],
   "source": [
    "df_orders_cleaned.groupby(['Status'])['Order ID'].count()\\\n",
    ".plot(kind='pie',figsize=(13,7),autopct=\"%1.2f%%\",fontsize='13')\n",
    "plt.title('Order Status Percentage',y=1.01,fontsize='20')\n",
    "plt.ylabel(None)\n",
    "plt.legend()\n",
    "plt.show()"
   ]
  },
  {
   "cell_type": "markdown",
   "metadata": {},
   "source": [
    "### What about cancellation according to week days?"
   ]
  },
  {
   "cell_type": "code",
   "execution_count": 26,
   "metadata": {},
   "outputs": [
    {
     "data": {
      "image/png": "[encoded data removed]",
      "text/plain": [
       "<Figure size 576x396 with 1 Axes>"
      ]
     },
     "metadata": {},
     "output_type": "display_data"
    }
   ],
   "source": [
    "df_orders_cleaned[df_orders_cleaned.Status=='Canceled'].groupby(['month','day_of_week'])['Order ID']\\\n",
    ".count().unstack('month').plot(kind='bar')\n",
    "plt.title('Cancellation according to week days',fontsize=15)\n",
    "plt.ylabel('No. of Cancelled orders',fontsize=15)\n",
    "plt.show()"
   ]
  },
  {
   "cell_type": "markdown",
   "metadata": {},
   "source": [
    "### What about week days sales? "
   ]
  },
  {
   "cell_type": "code",
   "execution_count": 27,
   "metadata": {},
   "outputs": [
    {
     "data": {
      "image/png": "[encoded data removed]",
      "text/plain": [
       "<Figure size 1080x432 with 1 Axes>"
      ]
     },
     "metadata": {},
     "output_type": "display_data"
    }
   ],
   "source": [
    "df_orders_cleaned.groupby(['day_of_week'])['Order ID'].count().plot(figsize=(15,6))\n",
    "plt.ylabel('Count of orders',fontsize='12')\n",
    "plt.title('Week days sales',fontsize='20')\n",
    "plt.legend(fontsize='12')\n",
    "plt.show()"
   ]
  },
  {
   "cell_type": "markdown",
   "metadata": {},
   "source": [
    "### What about Urgency?"
   ]
  },
  {
   "cell_type": "code",
   "execution_count": 28,
   "metadata": {},
   "outputs": [
    {
     "data": {
      "image/png": "[encoded data removed]",
      "text/plain": [
       "<Figure size 936x504 with 1 Axes>"
      ]
     },
     "metadata": {},
     "output_type": "display_data"
    }
   ],
   "source": [
    "df_orders_cleaned.groupby(['Urgent'])['Order ID'].count()\\\n",
    ".plot(kind='pie',figsize=(13,7),autopct=\"%1.2f%%\",fontsize='13')\n",
    "plt.title('Order Urgency Percentage',y=1.01,fontsize='20')\n",
    "plt.ylabel(None)\n",
    "plt.legend()\n",
    "plt.show()"
   ]
  },
  {
   "cell_type": "markdown",
   "metadata": {},
   "source": [
    "### What is the relation between Urgency week days?"
   ]
  },
  {
   "cell_type": "code",
   "execution_count": 29,
   "metadata": {},
   "outputs": [],
   "source": [
    "urg_dof=df_orders_cleaned[['Urgent','day_of_week','Status','Area','City','Preferred Time','Driver ID']]"
   ]
  },
  {
   "cell_type": "code",
   "execution_count": 30,
   "metadata": {},
   "outputs": [
    {
     "name": "stderr",
     "output_type": "stream",
     "text": [
      "G:\\Users\\SAAD\\anaconda3\\lib\\site-packages\\pandas\\core\\series.py:4569: SettingWithCopyWarning: \n",
      "A value is trying to be set on a copy of a slice from a DataFrame\n",
      "\n",
      "See the caveats in the documentation: https://pandas.pydata.org/pandas-docs/stable/user_guide/indexing.html#returning-a-view-versus-a-copy\n",
      "  method=method,\n",
      "G:\\Users\\SAAD\\anaconda3\\lib\\site-packages\\pandas\\core\\generic.py:5165: SettingWithCopyWarning: \n",
      "A value is trying to be set on a copy of a slice from a DataFrame.\n",
      "Try using .loc[row_indexer,col_indexer] = value instead\n",
      "\n",
      "See the caveats in the documentation: https://pandas.pydata.org/pandas-docs/stable/user_guide/indexing.html#returning-a-view-versus-a-copy\n",
      "  self[name] = value\n"
     ]
    },
    {
     "data": {
      "text/html": [
       "<div>\n",
       "<style scoped>\n",
       "    .dataframe tbody tr th:only-of-type {\n",
       "        vertical-align: middle;\n",
       "    }\n",
       "\n",
       "    .dataframe tbody tr th {\n",
       "        vertical-align: top;\n",
       "    }\n",
       "\n",
       "    .dataframe thead th {\n",
       "        text-align: right;\n",
       "    }\n",
       "</style>\n",
       "<table border=\"1\" class=\"dataframe\">\n",
       "  <thead>\n",
       "    <tr style=\"text-align: right;\">\n",
       "      <th></th>\n",
       "      <th>Urgent</th>\n",
       "      <th>day_of_week</th>\n",
       "    </tr>\n",
       "  </thead>\n",
       "  <tbody>\n",
       "    <tr>\n",
       "      <th>Urgent</th>\n",
       "      <td>1.000000</td>\n",
       "      <td>-0.006623</td>\n",
       "    </tr>\n",
       "    <tr>\n",
       "      <th>day_of_week</th>\n",
       "      <td>-0.006623</td>\n",
       "      <td>1.000000</td>\n",
       "    </tr>\n",
       "  </tbody>\n",
       "</table>\n",
       "</div>"
      ],
      "text/plain": [
       "               Urgent  day_of_week\n",
       "Urgent       1.000000    -0.006623\n",
       "day_of_week -0.006623     1.000000"
      ]
     },
     "execution_count": 30,
     "metadata": {},
     "output_type": "execute_result"
    }
   ],
   "source": [
    "urg_dof.Urgent.replace({'No':0,'Yes':1},inplace=True)\n",
    "urg_dof.day_of_week=urg_dof.day_of_week.replace({'Tuesday':4, 'Monday':3, 'Sunday':2, 'Saturday':1, 'Friday':7, 'Thursday':6,\n",
    "        'Wednesday':5})\n",
    "urg_dof[['Urgent','day_of_week']].corr()"
   ]
  },
  {
   "cell_type": "markdown",
   "metadata": {},
   "source": [
    "it is very weak negative relationship"
   ]
  },
  {
   "cell_type": "markdown",
   "metadata": {},
   "source": [
    "### is there a relation between Status and Urgency?"
   ]
  },
  {
   "cell_type": "code",
   "execution_count": 31,
   "metadata": {},
   "outputs": [
    {
     "name": "stderr",
     "output_type": "stream",
     "text": [
      "G:\\Users\\SAAD\\anaconda3\\lib\\site-packages\\pandas\\core\\generic.py:5165: SettingWithCopyWarning: \n",
      "A value is trying to be set on a copy of a slice from a DataFrame.\n",
      "Try using .loc[row_indexer,col_indexer] = value instead\n",
      "\n",
      "See the caveats in the documentation: https://pandas.pydata.org/pandas-docs/stable/user_guide/indexing.html#returning-a-view-versus-a-copy\n",
      "  self[name] = value\n"
     ]
    },
    {
     "data": {
      "text/html": [
       "<div>\n",
       "<style scoped>\n",
       "    .dataframe tbody tr th:only-of-type {\n",
       "        vertical-align: middle;\n",
       "    }\n",
       "\n",
       "    .dataframe tbody tr th {\n",
       "        vertical-align: top;\n",
       "    }\n",
       "\n",
       "    .dataframe thead th {\n",
       "        text-align: right;\n",
       "    }\n",
       "</style>\n",
       "<table border=\"1\" class=\"dataframe\">\n",
       "  <thead>\n",
       "    <tr style=\"text-align: right;\">\n",
       "      <th></th>\n",
       "      <th>Urgent</th>\n",
       "      <th>day_of_week</th>\n",
       "      <th>Status</th>\n",
       "      <th>Driver ID</th>\n",
       "    </tr>\n",
       "  </thead>\n",
       "  <tbody>\n",
       "    <tr>\n",
       "      <th>Urgent</th>\n",
       "      <td>1.000000</td>\n",
       "      <td>-0.006623</td>\n",
       "      <td>0.024951</td>\n",
       "      <td>-0.022533</td>\n",
       "    </tr>\n",
       "    <tr>\n",
       "      <th>day_of_week</th>\n",
       "      <td>-0.006623</td>\n",
       "      <td>1.000000</td>\n",
       "      <td>-0.006639</td>\n",
       "      <td>0.013995</td>\n",
       "    </tr>\n",
       "    <tr>\n",
       "      <th>Status</th>\n",
       "      <td>0.024951</td>\n",
       "      <td>-0.006639</td>\n",
       "      <td>1.000000</td>\n",
       "      <td>0.048686</td>\n",
       "    </tr>\n",
       "    <tr>\n",
       "      <th>Driver ID</th>\n",
       "      <td>-0.022533</td>\n",
       "      <td>0.013995</td>\n",
       "      <td>0.048686</td>\n",
       "      <td>1.000000</td>\n",
       "    </tr>\n",
       "  </tbody>\n",
       "</table>\n",
       "</div>"
      ],
      "text/plain": [
       "               Urgent  day_of_week    Status  Driver ID\n",
       "Urgent       1.000000    -0.006623  0.024951  -0.022533\n",
       "day_of_week -0.006623     1.000000 -0.006639   0.013995\n",
       "Status       0.024951    -0.006639  1.000000   0.048686\n",
       "Driver ID   -0.022533     0.013995  0.048686   1.000000"
      ]
     },
     "execution_count": 31,
     "metadata": {},
     "output_type": "execute_result"
    }
   ],
   "source": [
    "urg_dof.Status=urg_dof.Status.replace({'Delivered':1, 'Canceled':2, 'Confirmed':3, 'Open':4})\n",
    "urg_dof.corr()"
   ]
  },
  {
   "cell_type": "markdown",
   "metadata": {},
   "source": [
    "it is very weak correlation (corr < 0.3 )"
   ]
  },
  {
   "cell_type": "markdown",
   "metadata": {},
   "source": [
    "### What is the relation between Urgency and Area?"
   ]
  },
  {
   "cell_type": "code",
   "execution_count": 32,
   "metadata": {},
   "outputs": [
    {
     "data": {
      "image/png": "[encoded data removed]",
      "text/plain": [
       "<Figure size 1080x432 with 1 Axes>"
      ]
     },
     "metadata": {},
     "output_type": "display_data"
    }
   ],
   "source": [
    "df_orders_cleaned[df_orders_cleaned.Urgent=='Yes'].groupby(['month','Area'])['Order ID'].count().to_frame().\\\n",
    "rename(columns={'Order ID':'count'}).query('count>=20').unstack('month').fillna(0).\\\n",
    "fillna(0).plot(kind='bar',figsize=(15,6))\n",
    "plt.title('Urgency by Area (min 20 orders)',fontsize='20')\n",
    "plt.ylabel('Count of orders',fontsize='15')\n",
    "plt.xlabel('Area',fontsize='15')\n",
    "plt.legend([8,9,10])\n",
    "plt.show()"
   ]
  },
  {
   "cell_type": "code",
   "execution_count": 33,
   "metadata": {},
   "outputs": [
    {
     "name": "stderr",
     "output_type": "stream",
     "text": [
      "G:\\Users\\SAAD\\anaconda3\\lib\\site-packages\\ipykernel_launcher.py:1: SettingWithCopyWarning: \n",
      "A value is trying to be set on a copy of a slice from a DataFrame.\n",
      "Try using .loc[row_indexer,col_indexer] = value instead\n",
      "\n",
      "See the caveats in the documentation: https://pandas.pydata.org/pandas-docs/stable/user_guide/indexing.html#returning-a-view-versus-a-copy\n",
      "  \"\"\"Entry point for launching an IPython kernel.\n"
     ]
    },
    {
     "data": {
      "text/html": [
       "<div>\n",
       "<style scoped>\n",
       "    .dataframe tbody tr th:only-of-type {\n",
       "        vertical-align: middle;\n",
       "    }\n",
       "\n",
       "    .dataframe tbody tr th {\n",
       "        vertical-align: top;\n",
       "    }\n",
       "\n",
       "    .dataframe thead th {\n",
       "        text-align: right;\n",
       "    }\n",
       "</style>\n",
       "<table border=\"1\" class=\"dataframe\">\n",
       "  <thead>\n",
       "    <tr style=\"text-align: right;\">\n",
       "      <th></th>\n",
       "      <th>Area</th>\n",
       "      <th>Area_code</th>\n",
       "    </tr>\n",
       "  </thead>\n",
       "  <tbody>\n",
       "    <tr>\n",
       "      <th>10</th>\n",
       "      <td>AL MALQA</td>\n",
       "      <td>9</td>\n",
       "    </tr>\n",
       "    <tr>\n",
       "      <th>37</th>\n",
       "      <td>AL MALQA</td>\n",
       "      <td>9</td>\n",
       "    </tr>\n",
       "  </tbody>\n",
       "</table>\n",
       "</div>"
      ],
      "text/plain": [
       "        Area  Area_code\n",
       "10  AL MALQA          9\n",
       "37  AL MALQA          9"
      ]
     },
     "execution_count": 33,
     "metadata": {},
     "output_type": "execute_result"
    }
   ],
   "source": [
    "urg_dof['Area_code']=pd.factorize(urg_dof.Area)[0]+1\n",
    "urg_dof[['Area','Area_code']].query('Area==\"AL MALQA\"').head(2)"
   ]
  },
  {
   "cell_type": "code",
   "execution_count": 34,
   "metadata": {},
   "outputs": [
    {
     "data": {
      "text/html": [
       "<div>\n",
       "<style scoped>\n",
       "    .dataframe tbody tr th:only-of-type {\n",
       "        vertical-align: middle;\n",
       "    }\n",
       "\n",
       "    .dataframe tbody tr th {\n",
       "        vertical-align: top;\n",
       "    }\n",
       "\n",
       "    .dataframe thead th {\n",
       "        text-align: right;\n",
       "    }\n",
       "</style>\n",
       "<table border=\"1\" class=\"dataframe\">\n",
       "  <thead>\n",
       "    <tr style=\"text-align: right;\">\n",
       "      <th></th>\n",
       "      <th>Urgent</th>\n",
       "      <th>Area_code</th>\n",
       "    </tr>\n",
       "  </thead>\n",
       "  <tbody>\n",
       "    <tr>\n",
       "      <th>Urgent</th>\n",
       "      <td>1.00000</td>\n",
       "      <td>0.00901</td>\n",
       "    </tr>\n",
       "    <tr>\n",
       "      <th>Area_code</th>\n",
       "      <td>0.00901</td>\n",
       "      <td>1.00000</td>\n",
       "    </tr>\n",
       "  </tbody>\n",
       "</table>\n",
       "</div>"
      ],
      "text/plain": [
       "            Urgent  Area_code\n",
       "Urgent     1.00000    0.00901\n",
       "Area_code  0.00901    1.00000"
      ]
     },
     "execution_count": 34,
     "metadata": {},
     "output_type": "execute_result"
    }
   ],
   "source": [
    "urg_dof[['Urgent','Area_code']].corr()"
   ]
  },
  {
   "cell_type": "markdown",
   "metadata": {},
   "source": [
    "It is very week relation"
   ]
  },
  {
   "cell_type": "markdown",
   "metadata": {},
   "source": [
    "### What is the relation between Urgency and City?"
   ]
  },
  {
   "cell_type": "code",
   "execution_count": 35,
   "metadata": {},
   "outputs": [
    {
     "data": {
      "image/png": "[encoded data removed]",
      "text/plain": [
       "<Figure size 1080x432 with 1 Axes>"
      ]
     },
     "metadata": {},
     "output_type": "display_data"
    }
   ],
   "source": [
    "df_orders_cleaned[df_orders_cleaned.Urgent=='Yes'].groupby(['month','City'])['Order ID'].count().to_frame().\\\n",
    "rename(columns={'Order ID':'count'}).unstack('month').fillna(0).\\\n",
    "fillna(0).plot(kind='bar',figsize=(15,6))\n",
    "plt.title('Urgency by City',fontsize='20')\n",
    "plt.ylabel('Count of orders',fontsize='15')\n",
    "plt.xlabel('City',fontsize='15')\n",
    "plt.legend([8,9,10])\n",
    "plt.show()"
   ]
  },
  {
   "cell_type": "code",
   "execution_count": 36,
   "metadata": {},
   "outputs": [
    {
     "name": "stderr",
     "output_type": "stream",
     "text": [
      "G:\\Users\\SAAD\\anaconda3\\lib\\site-packages\\ipykernel_launcher.py:1: SettingWithCopyWarning: \n",
      "A value is trying to be set on a copy of a slice from a DataFrame.\n",
      "Try using .loc[row_indexer,col_indexer] = value instead\n",
      "\n",
      "See the caveats in the documentation: https://pandas.pydata.org/pandas-docs/stable/user_guide/indexing.html#returning-a-view-versus-a-copy\n",
      "  \"\"\"Entry point for launching an IPython kernel.\n"
     ]
    },
    {
     "data": {
      "text/html": [
       "<div>\n",
       "<style scoped>\n",
       "    .dataframe tbody tr th:only-of-type {\n",
       "        vertical-align: middle;\n",
       "    }\n",
       "\n",
       "    .dataframe tbody tr th {\n",
       "        vertical-align: top;\n",
       "    }\n",
       "\n",
       "    .dataframe thead th {\n",
       "        text-align: right;\n",
       "    }\n",
       "</style>\n",
       "<table border=\"1\" class=\"dataframe\">\n",
       "  <thead>\n",
       "    <tr style=\"text-align: right;\">\n",
       "      <th></th>\n",
       "      <th>City</th>\n",
       "      <th>City_code</th>\n",
       "    </tr>\n",
       "  </thead>\n",
       "  <tbody>\n",
       "    <tr>\n",
       "      <th>0</th>\n",
       "      <td>Riyadh</td>\n",
       "      <td>1</td>\n",
       "    </tr>\n",
       "    <tr>\n",
       "      <th>2</th>\n",
       "      <td>Riyadh</td>\n",
       "      <td>1</td>\n",
       "    </tr>\n",
       "  </tbody>\n",
       "</table>\n",
       "</div>"
      ],
      "text/plain": [
       "     City  City_code\n",
       "0  Riyadh          1\n",
       "2  Riyadh          1"
      ]
     },
     "execution_count": 36,
     "metadata": {},
     "output_type": "execute_result"
    }
   ],
   "source": [
    "urg_dof['City_code']=pd.factorize(urg_dof.City)[0]+1\n",
    "urg_dof[['City','City_code']].query('City==\"Riyadh\"').head(2)"
   ]
  },
  {
   "cell_type": "code",
   "execution_count": 37,
   "metadata": {},
   "outputs": [
    {
     "data": {
      "text/html": [
       "<div>\n",
       "<style scoped>\n",
       "    .dataframe tbody tr th:only-of-type {\n",
       "        vertical-align: middle;\n",
       "    }\n",
       "\n",
       "    .dataframe tbody tr th {\n",
       "        vertical-align: top;\n",
       "    }\n",
       "\n",
       "    .dataframe thead th {\n",
       "        text-align: right;\n",
       "    }\n",
       "</style>\n",
       "<table border=\"1\" class=\"dataframe\">\n",
       "  <thead>\n",
       "    <tr style=\"text-align: right;\">\n",
       "      <th></th>\n",
       "      <th>Urgent</th>\n",
       "      <th>City_code</th>\n",
       "    </tr>\n",
       "  </thead>\n",
       "  <tbody>\n",
       "    <tr>\n",
       "      <th>Urgent</th>\n",
       "      <td>1.000000</td>\n",
       "      <td>0.010032</td>\n",
       "    </tr>\n",
       "    <tr>\n",
       "      <th>City_code</th>\n",
       "      <td>0.010032</td>\n",
       "      <td>1.000000</td>\n",
       "    </tr>\n",
       "  </tbody>\n",
       "</table>\n",
       "</div>"
      ],
      "text/plain": [
       "             Urgent  City_code\n",
       "Urgent     1.000000   0.010032\n",
       "City_code  0.010032   1.000000"
      ]
     },
     "execution_count": 37,
     "metadata": {},
     "output_type": "execute_result"
    }
   ],
   "source": [
    "urg_dof[['Urgent','City_code']].corr()"
   ]
  },
  {
   "cell_type": "markdown",
   "metadata": {},
   "source": [
    "It is very week relation"
   ]
  },
  {
   "cell_type": "markdown",
   "metadata": {},
   "source": [
    "### What is the relation between Urgency and Time?"
   ]
  },
  {
   "cell_type": "code",
   "execution_count": 38,
   "metadata": {},
   "outputs": [
    {
     "name": "stderr",
     "output_type": "stream",
     "text": [
      "G:\\Users\\SAAD\\anaconda3\\lib\\site-packages\\ipykernel_launcher.py:1: SettingWithCopyWarning: \n",
      "A value is trying to be set on a copy of a slice from a DataFrame.\n",
      "Try using .loc[row_indexer,col_indexer] = value instead\n",
      "\n",
      "See the caveats in the documentation: https://pandas.pydata.org/pandas-docs/stable/user_guide/indexing.html#returning-a-view-versus-a-copy\n",
      "  \"\"\"Entry point for launching an IPython kernel.\n"
     ]
    }
   ],
   "source": [
    "urg_dof['Preferred Time']=pd.factorize(urg_dof['Preferred Time'])[0]+1"
   ]
  },
  {
   "cell_type": "code",
   "execution_count": 39,
   "metadata": {},
   "outputs": [
    {
     "data": {
      "text/html": [
       "<div>\n",
       "<style scoped>\n",
       "    .dataframe tbody tr th:only-of-type {\n",
       "        vertical-align: middle;\n",
       "    }\n",
       "\n",
       "    .dataframe tbody tr th {\n",
       "        vertical-align: top;\n",
       "    }\n",
       "\n",
       "    .dataframe thead th {\n",
       "        text-align: right;\n",
       "    }\n",
       "</style>\n",
       "<table border=\"1\" class=\"dataframe\">\n",
       "  <thead>\n",
       "    <tr style=\"text-align: right;\">\n",
       "      <th></th>\n",
       "      <th>Urgent</th>\n",
       "      <th>Preferred Time</th>\n",
       "    </tr>\n",
       "  </thead>\n",
       "  <tbody>\n",
       "    <tr>\n",
       "      <th>Urgent</th>\n",
       "      <td>1.000000</td>\n",
       "      <td>0.110667</td>\n",
       "    </tr>\n",
       "    <tr>\n",
       "      <th>Preferred Time</th>\n",
       "      <td>0.110667</td>\n",
       "      <td>1.000000</td>\n",
       "    </tr>\n",
       "  </tbody>\n",
       "</table>\n",
       "</div>"
      ],
      "text/plain": [
       "                  Urgent  Preferred Time\n",
       "Urgent          1.000000        0.110667\n",
       "Preferred Time  0.110667        1.000000"
      ]
     },
     "execution_count": 39,
     "metadata": {},
     "output_type": "execute_result"
    }
   ],
   "source": [
    "urg_dof[['Urgent','Preferred Time']].corr()"
   ]
  },
  {
   "cell_type": "markdown",
   "metadata": {},
   "source": [
    "It is week relation"
   ]
  },
  {
   "cell_type": "code",
   "execution_count": 40,
   "metadata": {},
   "outputs": [
    {
     "data": {
      "image/png": "[encoded data removed]",
      "text/plain": [
       "<Figure size 576x396 with 1 Axes>"
      ]
     },
     "metadata": {},
     "output_type": "display_data"
    }
   ],
   "source": [
    "df_orders_cleaned.groupby(['Urgent','Preferred Time'])['Order ID'].count().unstack('Urgent').plot()\n",
    "plt.xticks(rotation=90)\n",
    "plt.title('Urgency orders over prefered time',fontsize='15')\n",
    "plt.ylabel('Orders Count',fontsize='15')\n",
    "plt.show()"
   ]
  },
  {
   "cell_type": "markdown",
   "metadata": {},
   "source": [
    "### what is the city of high cancellation rate?"
   ]
  },
  {
   "cell_type": "code",
   "execution_count": 41,
   "metadata": {},
   "outputs": [
    {
     "data": {
      "image/png": "[encoded data removed]",
      "text/plain": [
       "<Figure size 1080x432 with 1 Axes>"
      ]
     },
     "metadata": {},
     "output_type": "display_data"
    }
   ],
   "source": [
    "df_orders_cleaned[df_orders_cleaned.Status=='Canceled'].groupby(['month','City'])['Order ID'].count().to_frame().\\\n",
    "rename(columns={'Order ID':'count'}).unstack('month').fillna(0).\\\n",
    "fillna(0).plot(kind='bar',figsize=(15,6))\n",
    "plt.title('Cancellation by City for each month',fontsize='20')\n",
    "plt.ylabel('Count of Cancelled orders',fontsize='15')\n",
    "plt.xlabel('City',fontsize='15')\n",
    "plt.legend([8,9,10])\n",
    "plt.show()"
   ]
  },
  {
   "cell_type": "markdown",
   "metadata": {},
   "source": [
    "### Is there a relation between the cancellation and the driver?"
   ]
  },
  {
   "cell_type": "code",
   "execution_count": 42,
   "metadata": {},
   "outputs": [
    {
     "data": {
      "text/html": [
       "<div>\n",
       "<style scoped>\n",
       "    .dataframe tbody tr th:only-of-type {\n",
       "        vertical-align: middle;\n",
       "    }\n",
       "\n",
       "    .dataframe tbody tr th {\n",
       "        vertical-align: top;\n",
       "    }\n",
       "\n",
       "    .dataframe thead th {\n",
       "        text-align: right;\n",
       "    }\n",
       "</style>\n",
       "<table border=\"1\" class=\"dataframe\">\n",
       "  <thead>\n",
       "    <tr style=\"text-align: right;\">\n",
       "      <th></th>\n",
       "      <th>Urgent</th>\n",
       "      <th>day_of_week</th>\n",
       "      <th>Status</th>\n",
       "      <th>Preferred Time</th>\n",
       "      <th>Driver ID</th>\n",
       "      <th>Area_code</th>\n",
       "      <th>City_code</th>\n",
       "    </tr>\n",
       "  </thead>\n",
       "  <tbody>\n",
       "    <tr>\n",
       "      <th>Urgent</th>\n",
       "      <td>1.000000</td>\n",
       "      <td>-0.006623</td>\n",
       "      <td>0.024951</td>\n",
       "      <td>0.110667</td>\n",
       "      <td>-0.022533</td>\n",
       "      <td>0.009010</td>\n",
       "      <td>0.010032</td>\n",
       "    </tr>\n",
       "    <tr>\n",
       "      <th>day_of_week</th>\n",
       "      <td>-0.006623</td>\n",
       "      <td>1.000000</td>\n",
       "      <td>-0.006639</td>\n",
       "      <td>-0.052409</td>\n",
       "      <td>0.013995</td>\n",
       "      <td>0.002109</td>\n",
       "      <td>0.003157</td>\n",
       "    </tr>\n",
       "    <tr>\n",
       "      <th>Status</th>\n",
       "      <td>0.024951</td>\n",
       "      <td>-0.006639</td>\n",
       "      <td>1.000000</td>\n",
       "      <td>0.002121</td>\n",
       "      <td>0.048686</td>\n",
       "      <td>0.037393</td>\n",
       "      <td>0.044032</td>\n",
       "    </tr>\n",
       "    <tr>\n",
       "      <th>Preferred Time</th>\n",
       "      <td>0.110667</td>\n",
       "      <td>-0.052409</td>\n",
       "      <td>0.002121</td>\n",
       "      <td>1.000000</td>\n",
       "      <td>0.008833</td>\n",
       "      <td>-0.000816</td>\n",
       "      <td>-0.009560</td>\n",
       "    </tr>\n",
       "    <tr>\n",
       "      <th>Driver ID</th>\n",
       "      <td>-0.022533</td>\n",
       "      <td>0.013995</td>\n",
       "      <td>0.048686</td>\n",
       "      <td>0.008833</td>\n",
       "      <td>1.000000</td>\n",
       "      <td>0.107052</td>\n",
       "      <td>0.003043</td>\n",
       "    </tr>\n",
       "    <tr>\n",
       "      <th>Area_code</th>\n",
       "      <td>0.009010</td>\n",
       "      <td>0.002109</td>\n",
       "      <td>0.037393</td>\n",
       "      <td>-0.000816</td>\n",
       "      <td>0.107052</td>\n",
       "      <td>1.000000</td>\n",
       "      <td>0.209742</td>\n",
       "    </tr>\n",
       "    <tr>\n",
       "      <th>City_code</th>\n",
       "      <td>0.010032</td>\n",
       "      <td>0.003157</td>\n",
       "      <td>0.044032</td>\n",
       "      <td>-0.009560</td>\n",
       "      <td>0.003043</td>\n",
       "      <td>0.209742</td>\n",
       "      <td>1.000000</td>\n",
       "    </tr>\n",
       "  </tbody>\n",
       "</table>\n",
       "</div>"
      ],
      "text/plain": [
       "                  Urgent  day_of_week    Status  Preferred Time  Driver ID  \\\n",
       "Urgent          1.000000    -0.006623  0.024951        0.110667  -0.022533   \n",
       "day_of_week    -0.006623     1.000000 -0.006639       -0.052409   0.013995   \n",
       "Status          0.024951    -0.006639  1.000000        0.002121   0.048686   \n",
       "Preferred Time  0.110667    -0.052409  0.002121        1.000000   0.008833   \n",
       "Driver ID      -0.022533     0.013995  0.048686        0.008833   1.000000   \n",
       "Area_code       0.009010     0.002109  0.037393       -0.000816   0.107052   \n",
       "City_code       0.010032     0.003157  0.044032       -0.009560   0.003043   \n",
       "\n",
       "                Area_code  City_code  \n",
       "Urgent           0.009010   0.010032  \n",
       "day_of_week      0.002109   0.003157  \n",
       "Status           0.037393   0.044032  \n",
       "Preferred Time  -0.000816  -0.009560  \n",
       "Driver ID        0.107052   0.003043  \n",
       "Area_code        1.000000   0.209742  \n",
       "City_code        0.209742   1.000000  "
      ]
     },
     "execution_count": 42,
     "metadata": {},
     "output_type": "execute_result"
    }
   ],
   "source": [
    "urg_dof.corr()"
   ]
  },
  {
   "cell_type": "markdown",
   "metadata": {},
   "source": [
    "It is very week relation"
   ]
  },
  {
   "cell_type": "code",
   "execution_count": 43,
   "metadata": {},
   "outputs": [
    {
     "data": {
      "image/png": "[encoded data removed]",
      "text/plain": [
       "<Figure size 576x396 with 1 Axes>"
      ]
     },
     "metadata": {},
     "output_type": "display_data"
    }
   ],
   "source": [
    "df_orders_cleaned.groupby(['Driver ID','Status'])['Order ID'].count().unstack('Status')\\\n",
    ".fillna(0)[['Canceled']].sort_values(by='Canceled',ascending=False).head(20).plot(kind='bar')\n",
    "plt.title('Top 20 drivers Cancellation rate',fontsize=15)\n",
    "plt.ylabel('No. of cancelled orders')\n",
    "plt.show()"
   ]
  },
  {
   "cell_type": "markdown",
   "metadata": {},
   "source": [
    "### Is there a relation between the cancellation and Time?"
   ]
  },
  {
   "cell_type": "code",
   "execution_count": 44,
   "metadata": {},
   "outputs": [
    {
     "data": {
      "image/png": "[encoded data removed]",
      "text/plain": [
       "<Figure size 576x396 with 1 Axes>"
      ]
     },
     "metadata": {},
     "output_type": "display_data"
    }
   ],
   "source": [
    "df_groued_sts_pref=df_orders_cleaned.groupby(['Status','Preferred Time'])['Order ID'].count().unstack('Status')\n",
    "df_groued_sts_pref.plot()\n",
    "plt.xticks(rotation=90)\n",
    "plt.title('Cancelled orders over prefered time',fontsize='15')\n",
    "plt.show()"
   ]
  },
  {
   "cell_type": "markdown",
   "metadata": {},
   "source": [
    "### What is the most prefered delivery time?"
   ]
  },
  {
   "cell_type": "code",
   "execution_count": 45,
   "metadata": {
    "scrolled": false
   },
   "outputs": [
    {
     "data": {
      "image/png": "[encoded data removed]",
      "text/plain": [
       "<Figure size 576x396 with 1 Axes>"
      ]
     },
     "metadata": {},
     "output_type": "display_data"
    }
   ],
   "source": [
    "df_orders_cleaned.groupby(['Preferred Time'])['Order ID'].count().plot()\n",
    "plt.xticks(rotation=90)\n",
    "plt.title('No. of orders over prefered time',fontsize='15')\n",
    "plt.ylabel('Orders Count',fontsize='15')\n",
    "plt.show()"
   ]
  },
  {
   "cell_type": "markdown",
   "metadata": {},
   "source": [
    "### Is the cancellation related to Urgency?"
   ]
  },
  {
   "cell_type": "code",
   "execution_count": 46,
   "metadata": {},
   "outputs": [],
   "source": [
    "df_orders_cleaned_U_S=df_orders_cleaned.copy()\n",
    "df_orders_cleaned_U_S.Status=df_orders_cleaned_U_S.Status.replace({'Canceled':1,'Confirmed':2,'Delivered':3,'Open':4})\n",
    "df_orders_cleaned_U_S.Urgent=df_orders_cleaned_U_S.Urgent.replace({'Yes':1,'No':2})\n"
   ]
  },
  {
   "cell_type": "code",
   "execution_count": 47,
   "metadata": {},
   "outputs": [
    {
     "data": {
      "text/html": [
       "<div>\n",
       "<style scoped>\n",
       "    .dataframe tbody tr th:only-of-type {\n",
       "        vertical-align: middle;\n",
       "    }\n",
       "\n",
       "    .dataframe tbody tr th {\n",
       "        vertical-align: top;\n",
       "    }\n",
       "\n",
       "    .dataframe thead th {\n",
       "        text-align: right;\n",
       "    }\n",
       "</style>\n",
       "<table border=\"1\" class=\"dataframe\">\n",
       "  <thead>\n",
       "    <tr style=\"text-align: right;\">\n",
       "      <th></th>\n",
       "      <th>Status</th>\n",
       "      <th>Urgent</th>\n",
       "    </tr>\n",
       "  </thead>\n",
       "  <tbody>\n",
       "    <tr>\n",
       "      <th>Status</th>\n",
       "      <td>1.000000</td>\n",
       "      <td>0.032543</td>\n",
       "    </tr>\n",
       "    <tr>\n",
       "      <th>Urgent</th>\n",
       "      <td>0.032543</td>\n",
       "      <td>1.000000</td>\n",
       "    </tr>\n",
       "  </tbody>\n",
       "</table>\n",
       "</div>"
      ],
      "text/plain": [
       "          Status    Urgent\n",
       "Status  1.000000  0.032543\n",
       "Urgent  0.032543  1.000000"
      ]
     },
     "execution_count": 47,
     "metadata": {},
     "output_type": "execute_result"
    }
   ],
   "source": [
    "df_orders_cleaned_U_S[['Status','Urgent']].corr()"
   ]
  },
  {
   "cell_type": "markdown",
   "metadata": {},
   "source": [
    "weak relation"
   ]
  },
  {
   "cell_type": "code",
   "execution_count": 57,
   "metadata": {},
   "outputs": [
    {
     "data": {
      "image/png": "[encoded data removed]",
      "text/plain": [
       "<Figure size 576x396 with 1 Axes>"
      ]
     },
     "metadata": {},
     "output_type": "display_data"
    }
   ],
   "source": [
    "df_orders_cleaned[df_orders_cleaned.Urgent==\"Yes\"].groupby(['Status','Urgent'])['Order ID'].count()\\\n",
    ".unstack('Urgent').plot(kind='bar')\n",
    "plt.ylabel('No. of Urgent Orders')\n",
    "plt.title('Number of Urgent orders over status',fontsize='15')\n",
    "plt.show()"
   ]
  }
 ],
 "metadata": {
  "kernelspec": {
   "display_name": "Python 3",
   "language": "python",
   "name": "python3"
  },
  "language_info": {
   "codemirror_mode": {
    "name": "ipython",
    "version": 3
   },
   "file_extension": ".py",
   "mimetype": "text/x-python",
   "name": "python",
   "nbconvert_exporter": "python",
   "pygments_lexer": "ipython3",
   "version": "3.7.6"
  }
 },
 "nbformat": 4,
 "nbformat_minor": 4
}
