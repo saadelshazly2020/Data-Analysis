{
 "cells": [
  {
   "cell_type": "code",
   "execution_count": 194,
   "metadata": {},
   "outputs": [],
   "source": [
    "from bs4 import BeautifulSoup\n",
    "import requests\n",
    "import pandas as pd\n",
    "import numpy as np\n",
    "from scrapData import GetHouseList\n",
    "import re\n",
    "import ast\n",
    "import matplotlib.pyplot as plt\n",
    "import seaborn as sns\n",
    "from sklearn import preprocessing\n",
    "from sklearn.model_selection import train_test_split\n",
    "from sklearn.feature_selection import f_regression,SelectKBest\n",
    "from sklearn.metrics import r2_score,mean_squared_error\n",
    "from sklearn.preprocessing import PolynomialFeatures\n",
    "from sklearn import linear_model,ensemble\n",
    "from sklearn.neighbors import KNeighborsRegressor\n",
    "from sklearn.pipeline import Pipeline"
   ]
  },
  {
   "cell_type": "markdown",
   "metadata": {},
   "source": [
    "# Data Scrapping"
   ]
  },
  {
   "cell_type": "code",
   "execution_count": 3,
   "metadata": {},
   "outputs": [],
   "source": [
    "df=pd.DataFrame(columns=['title','price','location','property_type','bedrooms','bathrooms','area','amenities','creattion_date'])"
   ]
  },
  {
   "cell_type": "code",
   "execution_count": 6,
   "metadata": {
    "scrolled": true
   },
   "outputs": [
    {
     "name": "stdout",
     "output_type": "stream",
     "text": [
      "151\n",
      "152\n",
      "153\n",
      "154\n",
      "155\n",
      "156\n",
      "157\n",
      "158\n",
      "159\n",
      "160\n",
      "161\n",
      "162\n",
      "163\n",
      "164\n",
      "165\n",
      "166\n",
      "167\n",
      "168\n",
      "169\n",
      "170\n",
      "171\n",
      "172\n",
      "173\n",
      "174\n",
      "175\n",
      "176\n",
      "177\n",
      "178\n",
      "179\n",
      "180\n",
      "181\n",
      "182\n",
      "183\n",
      "184\n",
      "185\n",
      "186\n",
      "187\n",
      "188\n",
      "189\n",
      "190\n",
      "191\n",
      "192\n",
      "193\n",
      "194\n",
      "195\n",
      "196\n",
      "197\n",
      "198\n",
      "199\n",
      "200\n",
      "201\n",
      "202\n",
      "203\n",
      "204\n",
      "205\n",
      "206\n",
      "207\n",
      "208\n",
      "209\n",
      "210\n",
      "211\n",
      "212\n",
      "213\n",
      "214\n",
      "215\n",
      "216\n",
      "217\n",
      "218\n",
      "219\n",
      "220\n",
      "221\n",
      "222\n",
      "223\n",
      "224\n",
      "225\n",
      "226\n",
      "227\n",
      "228\n",
      "229\n",
      "230\n",
      "231\n",
      "232\n",
      "233\n",
      "234\n",
      "235\n",
      "236\n",
      "237\n",
      "238\n",
      "239\n",
      "240\n",
      "241\n",
      "242\n",
      "243\n",
      "244\n",
      "245\n",
      "246\n",
      "247\n",
      "248\n",
      "249\n",
      "250\n",
      "251\n",
      "252\n",
      "253\n",
      "254\n",
      "255\n",
      "256\n",
      "257\n",
      "258\n",
      "259\n",
      "260\n",
      "261\n",
      "262\n",
      "263\n",
      "264\n",
      "265\n",
      "266\n",
      "267\n",
      "268\n",
      "269\n",
      "270\n",
      "271\n",
      "272\n",
      "273\n",
      "274\n",
      "275\n",
      "276\n",
      "277\n",
      "278\n",
      "279\n",
      "280\n",
      "281\n",
      "282\n",
      "283\n",
      "284\n",
      "285\n",
      "286\n",
      "287\n",
      "288\n",
      "289\n",
      "290\n",
      "291\n",
      "292\n",
      "293\n",
      "294\n",
      "295\n",
      "296\n",
      "297\n",
      "298\n",
      "299\n",
      "300\n",
      "301\n",
      "302\n",
      "303\n",
      "304\n",
      "305\n",
      "306\n",
      "307\n",
      "308\n",
      "309\n",
      "310\n",
      "311\n",
      "312\n",
      "313\n",
      "314\n",
      "315\n",
      "316\n",
      "317\n",
      "318\n",
      "319\n",
      "320\n",
      "321\n",
      "322\n",
      "323\n",
      "324\n",
      "325\n",
      "326\n",
      "327\n",
      "328\n",
      "329\n",
      "330\n",
      "331\n",
      "332\n",
      "333\n",
      "334\n",
      "335\n",
      "336\n",
      "337\n",
      "338\n",
      "339\n",
      "340\n",
      "341\n",
      "342\n",
      "343\n",
      "344\n",
      "345\n",
      "346\n",
      "347\n",
      "348\n",
      "349\n",
      "350\n",
      "351\n",
      "352\n",
      "353\n",
      "354\n",
      "355\n",
      "356\n",
      "357\n",
      "358\n",
      "359\n",
      "360\n",
      "361\n",
      "362\n",
      "363\n",
      "364\n",
      "365\n",
      "366\n",
      "367\n",
      "368\n",
      "369\n",
      "370\n",
      "371\n",
      "372\n",
      "373\n",
      "374\n",
      "375\n",
      "376\n",
      "377\n",
      "378\n",
      "379\n",
      "380\n",
      "381\n",
      "382\n",
      "383\n",
      "384\n",
      "385\n",
      "386\n",
      "387\n",
      "388\n",
      "389\n",
      "390\n",
      "391\n",
      "392\n",
      "393\n",
      "394\n",
      "395\n",
      "396\n",
      "397\n",
      "398\n",
      "399\n",
      "400\n"
     ]
    }
   ],
   "source": [
    "# scrapping data from propertyfinder website\n",
    "data=GetHouseList(150,400)\n",
    "new_df=pd.DataFrame(columns=['title','price','location','property_type','bedrooms','bathrooms','area','amenities','creattion_date'],\\\n",
    "                    data=data)\n",
    "df=pd.concat([df,new_df],axis=0)\n"
   ]
  },
  {
   "cell_type": "code",
   "execution_count": 7,
   "metadata": {},
   "outputs": [],
   "source": [
    "df.to_csv('Apartment_data_propertyfinder_Amenities_3.csv',index=False)"
   ]
  },
  {
   "cell_type": "code",
   "execution_count": 8,
   "metadata": {},
   "outputs": [
    {
     "data": {
      "text/plain": [
       "(9571, 9)"
      ]
     },
     "execution_count": 8,
     "metadata": {},
     "output_type": "execute_result"
    }
   ],
   "source": [
    "df=pd.read_csv('Apartment_data_propertyfinder_Amenities_3.csv')\n",
    "df.shape"
   ]
  },
  {
   "cell_type": "markdown",
   "metadata": {},
   "source": [
    "# Data Cleaning"
   ]
  },
  {
   "cell_type": "code",
   "execution_count": 3,
   "metadata": {},
   "outputs": [
    {
     "data": {
      "text/html": [
       "<div>\n",
       "<style scoped>\n",
       "    .dataframe tbody tr th:only-of-type {\n",
       "        vertical-align: middle;\n",
       "    }\n",
       "\n",
       "    .dataframe tbody tr th {\n",
       "        vertical-align: top;\n",
       "    }\n",
       "\n",
       "    .dataframe thead th {\n",
       "        text-align: right;\n",
       "    }\n",
       "</style>\n",
       "<table border=\"1\" class=\"dataframe\">\n",
       "  <thead>\n",
       "    <tr style=\"text-align: right;\">\n",
       "      <th></th>\n",
       "      <th>title</th>\n",
       "      <th>price</th>\n",
       "      <th>location</th>\n",
       "      <th>property_type</th>\n",
       "      <th>bedrooms</th>\n",
       "      <th>bathrooms</th>\n",
       "      <th>area</th>\n",
       "      <th>amenities</th>\n",
       "      <th>creattion_date</th>\n",
       "    </tr>\n",
       "  </thead>\n",
       "  <tbody>\n",
       "    <tr>\n",
       "      <th>0</th>\n",
       "      <td>المنصور اقوى مشروع بمدينة نصر TRUE شقة محسوبة صح</td>\n",
       "      <td>\\n          996,000\\n              EGP</td>\n",
       "      <td>True, Nasr City Compounds, Nasr City, Cairo</td>\n",
       "      <td>Apartment</td>\n",
       "      <td>3</td>\n",
       "      <td>2</td>\n",
       "      <td>120 sqm</td>\n",
       "      <td>['Partly furnished', 'Security', 'Balcony', 'S...</td>\n",
       "      <td>Listed:2 hours ago</td>\n",
       "    </tr>\n",
       "    <tr>\n",
       "      <th>1</th>\n",
       "      <td>Apartment 10Years Installment 260,000 Down Pay...</td>\n",
       "      <td>\\n          2,600,000\\n              EGP</td>\n",
       "      <td>Hyde Park, 5th Settlement Compounds, The 5th S...</td>\n",
       "      <td>Apartment</td>\n",
       "      <td>2</td>\n",
       "      <td>2</td>\n",
       "      <td>135 sqm</td>\n",
       "      <td>['Unfurnished', 'Kitchen Appliances', 'Central...</td>\n",
       "      <td>Listed:1 hour ago</td>\n",
       "    </tr>\n",
       "    <tr>\n",
       "      <th>2</th>\n",
       "      <td>Flat With Zero Over - Prime Location In Galler...</td>\n",
       "      <td>\\n          1,300,000\\n              EGP</td>\n",
       "      <td>Galleria Moon Valley, South Investors Area, Ne...</td>\n",
       "      <td>Apartment</td>\n",
       "      <td>3</td>\n",
       "      <td>3</td>\n",
       "      <td>196 sqm</td>\n",
       "      <td>['Unfurnished', 'Security', 'Balcony', 'Shared...</td>\n",
       "      <td>Listed:23 hours ago</td>\n",
       "    </tr>\n",
       "    <tr>\n",
       "      <th>3</th>\n",
       "      <td>Amazing Flat 278 m at Eastown Sodic prime loca...</td>\n",
       "      <td>\\n          4,000,000\\n              EGP</td>\n",
       "      <td>Eastown, 5th Settlement Compounds, The 5th Set...</td>\n",
       "      <td>Apartment</td>\n",
       "      <td>4</td>\n",
       "      <td>4</td>\n",
       "      <td>278 sqm</td>\n",
       "      <td>['Unfurnished', 'Security', 'Balcony', 'Pets A...</td>\n",
       "      <td>Listed:1 day ago</td>\n",
       "    </tr>\n",
       "    <tr>\n",
       "      <th>4</th>\n",
       "      <td>Modern Villa For Sale in Stone Park</td>\n",
       "      <td>\\n          8,000,000\\n              EGP</td>\n",
       "      <td>Stone Park, 5th Settlement Compounds, The 5th ...</td>\n",
       "      <td>Apartment</td>\n",
       "      <td>3</td>\n",
       "      <td>3</td>\n",
       "      <td>500 sqm</td>\n",
       "      <td>['Partly furnished', 'Balcony', 'Study', 'Netw...</td>\n",
       "      <td>Listed:1 day ago</td>\n",
       "    </tr>\n",
       "  </tbody>\n",
       "</table>\n",
       "</div>"
      ],
      "text/plain": [
       "                                               title  \\\n",
       "0   المنصور اقوى مشروع بمدينة نصر TRUE شقة محسوبة صح   \n",
       "1  Apartment 10Years Installment 260,000 Down Pay...   \n",
       "2  Flat With Zero Over - Prime Location In Galler...   \n",
       "3  Amazing Flat 278 m at Eastown Sodic prime loca...   \n",
       "4                Modern Villa For Sale in Stone Park   \n",
       "\n",
       "                                        price  \\\n",
       "0    \\n          996,000\\n              EGP     \n",
       "1  \\n          2,600,000\\n              EGP     \n",
       "2  \\n          1,300,000\\n              EGP     \n",
       "3  \\n          4,000,000\\n              EGP     \n",
       "4  \\n          8,000,000\\n              EGP     \n",
       "\n",
       "                                            location property_type bedrooms  \\\n",
       "0        True, Nasr City Compounds, Nasr City, Cairo     Apartment       3    \n",
       "1  Hyde Park, 5th Settlement Compounds, The 5th S...     Apartment       2    \n",
       "2  Galleria Moon Valley, South Investors Area, Ne...     Apartment       3    \n",
       "3  Eastown, 5th Settlement Compounds, The 5th Set...     Apartment       4    \n",
       "4  Stone Park, 5th Settlement Compounds, The 5th ...     Apartment       3    \n",
       "\n",
       "  bathrooms     area                                          amenities  \\\n",
       "0        2   120 sqm  ['Partly furnished', 'Security', 'Balcony', 'S...   \n",
       "1        2   135 sqm  ['Unfurnished', 'Kitchen Appliances', 'Central...   \n",
       "2        3   196 sqm  ['Unfurnished', 'Security', 'Balcony', 'Shared...   \n",
       "3        4   278 sqm  ['Unfurnished', 'Security', 'Balcony', 'Pets A...   \n",
       "4        3   500 sqm  ['Partly furnished', 'Balcony', 'Study', 'Netw...   \n",
       "\n",
       "        creattion_date  \n",
       "0   Listed:2 hours ago  \n",
       "1    Listed:1 hour ago  \n",
       "2  Listed:23 hours ago  \n",
       "3     Listed:1 day ago  \n",
       "4     Listed:1 day ago  "
      ]
     },
     "execution_count": 3,
     "metadata": {},
     "output_type": "execute_result"
    }
   ],
   "source": [
    "df=pd.read_csv('Apartment_data_propertyfinder_Amenities_3.csv')\n",
    "df.head()"
   ]
  },
  {
   "cell_type": "code",
   "execution_count": 204,
   "metadata": {},
   "outputs": [
    {
     "data": {
      "text/plain": [
       "(9571, 9)"
      ]
     },
     "execution_count": 204,
     "metadata": {},
     "output_type": "execute_result"
    }
   ],
   "source": [
    "df.shape"
   ]
  },
  {
   "cell_type": "code",
   "execution_count": 4,
   "metadata": {},
   "outputs": [
    {
     "data": {
      "text/html": [
       "<div>\n",
       "<style scoped>\n",
       "    .dataframe tbody tr th:only-of-type {\n",
       "        vertical-align: middle;\n",
       "    }\n",
       "\n",
       "    .dataframe tbody tr th {\n",
       "        vertical-align: top;\n",
       "    }\n",
       "\n",
       "    .dataframe thead th {\n",
       "        text-align: right;\n",
       "    }\n",
       "</style>\n",
       "<table border=\"1\" class=\"dataframe\">\n",
       "  <thead>\n",
       "    <tr style=\"text-align: right;\">\n",
       "      <th></th>\n",
       "      <th>title</th>\n",
       "      <th>price</th>\n",
       "      <th>location</th>\n",
       "      <th>property_type</th>\n",
       "      <th>bedrooms</th>\n",
       "      <th>bathrooms</th>\n",
       "      <th>area</th>\n",
       "      <th>amenities</th>\n",
       "      <th>creattion_date</th>\n",
       "    </tr>\n",
       "  </thead>\n",
       "  <tbody>\n",
       "    <tr>\n",
       "      <th>0</th>\n",
       "      <td>المنصور اقوى مشروع بمدينة نصر TRUE شقة محسوبة صح</td>\n",
       "      <td>996,000</td>\n",
       "      <td>True, Nasr City Compounds, Nasr City, Cairo</td>\n",
       "      <td>Apartment</td>\n",
       "      <td>3</td>\n",
       "      <td>2</td>\n",
       "      <td>120 sqm</td>\n",
       "      <td>['Partly furnished', 'Security', 'Balcony', 'S...</td>\n",
       "      <td>Listed:2 hours ago</td>\n",
       "    </tr>\n",
       "    <tr>\n",
       "      <th>1</th>\n",
       "      <td>Apartment 10Years Installment 260,000 Down Pay...</td>\n",
       "      <td>2,600,000</td>\n",
       "      <td>Hyde Park, 5th Settlement Compounds, The 5th S...</td>\n",
       "      <td>Apartment</td>\n",
       "      <td>2</td>\n",
       "      <td>2</td>\n",
       "      <td>135 sqm</td>\n",
       "      <td>['Unfurnished', 'Kitchen Appliances', 'Central...</td>\n",
       "      <td>Listed:1 hour ago</td>\n",
       "    </tr>\n",
       "    <tr>\n",
       "      <th>2</th>\n",
       "      <td>Flat With Zero Over - Prime Location In Galler...</td>\n",
       "      <td>1,300,000</td>\n",
       "      <td>Galleria Moon Valley, South Investors Area, Ne...</td>\n",
       "      <td>Apartment</td>\n",
       "      <td>3</td>\n",
       "      <td>3</td>\n",
       "      <td>196 sqm</td>\n",
       "      <td>['Unfurnished', 'Security', 'Balcony', 'Shared...</td>\n",
       "      <td>Listed:23 hours ago</td>\n",
       "    </tr>\n",
       "    <tr>\n",
       "      <th>3</th>\n",
       "      <td>Amazing Flat 278 m at Eastown Sodic prime loca...</td>\n",
       "      <td>4,000,000</td>\n",
       "      <td>Eastown, 5th Settlement Compounds, The 5th Set...</td>\n",
       "      <td>Apartment</td>\n",
       "      <td>4</td>\n",
       "      <td>4</td>\n",
       "      <td>278 sqm</td>\n",
       "      <td>['Unfurnished', 'Security', 'Balcony', 'Pets A...</td>\n",
       "      <td>Listed:1 day ago</td>\n",
       "    </tr>\n",
       "    <tr>\n",
       "      <th>4</th>\n",
       "      <td>Modern Villa For Sale in Stone Park</td>\n",
       "      <td>8,000,000</td>\n",
       "      <td>Stone Park, 5th Settlement Compounds, The 5th ...</td>\n",
       "      <td>Apartment</td>\n",
       "      <td>3</td>\n",
       "      <td>3</td>\n",
       "      <td>500 sqm</td>\n",
       "      <td>['Partly furnished', 'Balcony', 'Study', 'Netw...</td>\n",
       "      <td>Listed:1 day ago</td>\n",
       "    </tr>\n",
       "  </tbody>\n",
       "</table>\n",
       "</div>"
      ],
      "text/plain": [
       "                                               title      price  \\\n",
       "0   المنصور اقوى مشروع بمدينة نصر TRUE شقة محسوبة صح    996,000   \n",
       "1  Apartment 10Years Installment 260,000 Down Pay...  2,600,000   \n",
       "2  Flat With Zero Over - Prime Location In Galler...  1,300,000   \n",
       "3  Amazing Flat 278 m at Eastown Sodic prime loca...  4,000,000   \n",
       "4                Modern Villa For Sale in Stone Park  8,000,000   \n",
       "\n",
       "                                            location property_type bedrooms  \\\n",
       "0        True, Nasr City Compounds, Nasr City, Cairo     Apartment       3    \n",
       "1  Hyde Park, 5th Settlement Compounds, The 5th S...     Apartment       2    \n",
       "2  Galleria Moon Valley, South Investors Area, Ne...     Apartment       3    \n",
       "3  Eastown, 5th Settlement Compounds, The 5th Set...     Apartment       4    \n",
       "4  Stone Park, 5th Settlement Compounds, The 5th ...     Apartment       3    \n",
       "\n",
       "  bathrooms     area                                          amenities  \\\n",
       "0        2   120 sqm  ['Partly furnished', 'Security', 'Balcony', 'S...   \n",
       "1        2   135 sqm  ['Unfurnished', 'Kitchen Appliances', 'Central...   \n",
       "2        3   196 sqm  ['Unfurnished', 'Security', 'Balcony', 'Shared...   \n",
       "3        4   278 sqm  ['Unfurnished', 'Security', 'Balcony', 'Pets A...   \n",
       "4        3   500 sqm  ['Partly furnished', 'Balcony', 'Study', 'Netw...   \n",
       "\n",
       "        creattion_date  \n",
       "0   Listed:2 hours ago  \n",
       "1    Listed:1 hour ago  \n",
       "2  Listed:23 hours ago  \n",
       "3     Listed:1 day ago  \n",
       "4     Listed:1 day ago  "
      ]
     },
     "execution_count": 4,
     "metadata": {},
     "output_type": "execute_result"
    }
   ],
   "source": [
    "# remove measure unit of price(EGP)\n",
    "df['price']=df['price'].apply(lambda x: x.replace('EGP','').strip())\n",
    "df.head()"
   ]
  },
  {
   "cell_type": "code",
   "execution_count": 5,
   "metadata": {},
   "outputs": [],
   "source": [
    "# remove property type where all properties are Apartments\n",
    "df.drop('property_type',axis=1,inplace=True)"
   ]
  },
  {
   "cell_type": "code",
   "execution_count": 6,
   "metadata": {},
   "outputs": [
    {
     "data": {
      "text/html": [
       "<div>\n",
       "<style scoped>\n",
       "    .dataframe tbody tr th:only-of-type {\n",
       "        vertical-align: middle;\n",
       "    }\n",
       "\n",
       "    .dataframe tbody tr th {\n",
       "        vertical-align: top;\n",
       "    }\n",
       "\n",
       "    .dataframe thead th {\n",
       "        text-align: right;\n",
       "    }\n",
       "</style>\n",
       "<table border=\"1\" class=\"dataframe\">\n",
       "  <thead>\n",
       "    <tr style=\"text-align: right;\">\n",
       "      <th></th>\n",
       "      <th>title</th>\n",
       "      <th>price</th>\n",
       "      <th>location</th>\n",
       "      <th>bedrooms</th>\n",
       "      <th>bathrooms</th>\n",
       "      <th>area</th>\n",
       "      <th>amenities</th>\n",
       "      <th>creattion_date</th>\n",
       "    </tr>\n",
       "  </thead>\n",
       "  <tbody>\n",
       "    <tr>\n",
       "      <th>0</th>\n",
       "      <td>المنصور اقوى مشروع بمدينة نصر TRUE شقة محسوبة صح</td>\n",
       "      <td>996,000</td>\n",
       "      <td>True, Nasr City Compounds, Nasr City, Cairo</td>\n",
       "      <td>3</td>\n",
       "      <td>2</td>\n",
       "      <td>120</td>\n",
       "      <td>['Partly furnished', 'Security', 'Balcony', 'S...</td>\n",
       "      <td>Listed:2 hours ago</td>\n",
       "    </tr>\n",
       "    <tr>\n",
       "      <th>1</th>\n",
       "      <td>Apartment 10Years Installment 260,000 Down Pay...</td>\n",
       "      <td>2,600,000</td>\n",
       "      <td>Hyde Park, 5th Settlement Compounds, The 5th S...</td>\n",
       "      <td>2</td>\n",
       "      <td>2</td>\n",
       "      <td>135</td>\n",
       "      <td>['Unfurnished', 'Kitchen Appliances', 'Central...</td>\n",
       "      <td>Listed:1 hour ago</td>\n",
       "    </tr>\n",
       "    <tr>\n",
       "      <th>2</th>\n",
       "      <td>Flat With Zero Over - Prime Location In Galler...</td>\n",
       "      <td>1,300,000</td>\n",
       "      <td>Galleria Moon Valley, South Investors Area, Ne...</td>\n",
       "      <td>3</td>\n",
       "      <td>3</td>\n",
       "      <td>196</td>\n",
       "      <td>['Unfurnished', 'Security', 'Balcony', 'Shared...</td>\n",
       "      <td>Listed:23 hours ago</td>\n",
       "    </tr>\n",
       "    <tr>\n",
       "      <th>3</th>\n",
       "      <td>Amazing Flat 278 m at Eastown Sodic prime loca...</td>\n",
       "      <td>4,000,000</td>\n",
       "      <td>Eastown, 5th Settlement Compounds, The 5th Set...</td>\n",
       "      <td>4</td>\n",
       "      <td>4</td>\n",
       "      <td>278</td>\n",
       "      <td>['Unfurnished', 'Security', 'Balcony', 'Pets A...</td>\n",
       "      <td>Listed:1 day ago</td>\n",
       "    </tr>\n",
       "    <tr>\n",
       "      <th>4</th>\n",
       "      <td>Modern Villa For Sale in Stone Park</td>\n",
       "      <td>8,000,000</td>\n",
       "      <td>Stone Park, 5th Settlement Compounds, The 5th ...</td>\n",
       "      <td>3</td>\n",
       "      <td>3</td>\n",
       "      <td>500</td>\n",
       "      <td>['Partly furnished', 'Balcony', 'Study', 'Netw...</td>\n",
       "      <td>Listed:1 day ago</td>\n",
       "    </tr>\n",
       "  </tbody>\n",
       "</table>\n",
       "</div>"
      ],
      "text/plain": [
       "                                               title      price  \\\n",
       "0   المنصور اقوى مشروع بمدينة نصر TRUE شقة محسوبة صح    996,000   \n",
       "1  Apartment 10Years Installment 260,000 Down Pay...  2,600,000   \n",
       "2  Flat With Zero Over - Prime Location In Galler...  1,300,000   \n",
       "3  Amazing Flat 278 m at Eastown Sodic prime loca...  4,000,000   \n",
       "4                Modern Villa For Sale in Stone Park  8,000,000   \n",
       "\n",
       "                                            location bedrooms bathrooms area  \\\n",
       "0        True, Nasr City Compounds, Nasr City, Cairo       3         2   120   \n",
       "1  Hyde Park, 5th Settlement Compounds, The 5th S...       2         2   135   \n",
       "2  Galleria Moon Valley, South Investors Area, Ne...       3         3   196   \n",
       "3  Eastown, 5th Settlement Compounds, The 5th Set...       4         4   278   \n",
       "4  Stone Park, 5th Settlement Compounds, The 5th ...       3         3   500   \n",
       "\n",
       "                                           amenities       creattion_date  \n",
       "0  ['Partly furnished', 'Security', 'Balcony', 'S...   Listed:2 hours ago  \n",
       "1  ['Unfurnished', 'Kitchen Appliances', 'Central...    Listed:1 hour ago  \n",
       "2  ['Unfurnished', 'Security', 'Balcony', 'Shared...  Listed:23 hours ago  \n",
       "3  ['Unfurnished', 'Security', 'Balcony', 'Pets A...     Listed:1 day ago  \n",
       "4  ['Partly furnished', 'Balcony', 'Study', 'Netw...     Listed:1 day ago  "
      ]
     },
     "execution_count": 6,
     "metadata": {},
     "output_type": "execute_result"
    }
   ],
   "source": [
    "# remove measure unit from area (sqm)\n",
    "df['area']=df['area'].apply(lambda x: x.replace('sqm','').strip())\n",
    "df.head()"
   ]
  },
  {
   "cell_type": "code",
   "execution_count": 7,
   "metadata": {},
   "outputs": [
    {
     "data": {
      "text/plain": [
       "title             0\n",
       "price             0\n",
       "location          0\n",
       "bedrooms          0\n",
       "bathrooms         0\n",
       "area              0\n",
       "amenities         0\n",
       "creattion_date    0\n",
       "dtype: int64"
      ]
     },
     "execution_count": 7,
     "metadata": {},
     "output_type": "execute_result"
    }
   ],
   "source": [
    "#check null values\n",
    "df.isna().sum()"
   ]
  },
  {
   "cell_type": "code",
   "execution_count": 8,
   "metadata": {},
   "outputs": [
    {
     "data": {
      "text/plain": [
       "array(['3 ', '2 ', '4 ', '1 ', '5 ', 'studio ', '7+ ', '6 ', '7 ', 'N/A '],\n",
       "      dtype=object)"
      ]
     },
     "execution_count": 8,
     "metadata": {},
     "output_type": "execute_result"
    }
   ],
   "source": [
    "# check all values of Bedrooms columns\n",
    "df.bedrooms.unique()"
   ]
  },
  {
   "cell_type": "code",
   "execution_count": 9,
   "metadata": {},
   "outputs": [
    {
     "data": {
      "text/plain": [
       "3         5915\n",
       "2         2567\n",
       "4          669\n",
       "1          246\n",
       "studio      84\n",
       "5           63\n",
       "6           17\n",
       "7+           5\n",
       "N/A          3\n",
       "7            2\n",
       "Name: bedrooms, dtype: int64"
      ]
     },
     "execution_count": 9,
     "metadata": {},
     "output_type": "execute_result"
    }
   ],
   "source": [
    "# remove usefulless spaces \n",
    "df.bedrooms=df.bedrooms.apply(lambda x:x.strip())\n",
    "df.bedrooms.value_counts()"
   ]
  },
  {
   "cell_type": "code",
   "execution_count": 11,
   "metadata": {},
   "outputs": [],
   "source": [
    "# replace 'N/A' with 0 and studio with 0 \n",
    "df.bedrooms=df.bedrooms.apply(lambda x: x.replace('N/A','0'))\n",
    "df.bedrooms=df.bedrooms.apply(lambda x: x.replace('studio','0'))"
   ]
  },
  {
   "cell_type": "code",
   "execution_count": 12,
   "metadata": {},
   "outputs": [],
   "source": [
    "# extract numbers from bedrooms and bathrooms columns\n",
    "df.bedrooms=df.bedrooms.apply(lambda x:re.findall('\\d+',x)[0])\n",
    "df.bathrooms=df.bathrooms.apply(lambda x:re.findall('\\d+',x)[0])"
   ]
  },
  {
   "cell_type": "code",
   "execution_count": 12,
   "metadata": {},
   "outputs": [
    {
     "data": {
      "text/html": [
       "<div>\n",
       "<style scoped>\n",
       "    .dataframe tbody tr th:only-of-type {\n",
       "        vertical-align: middle;\n",
       "    }\n",
       "\n",
       "    .dataframe tbody tr th {\n",
       "        vertical-align: top;\n",
       "    }\n",
       "\n",
       "    .dataframe thead th {\n",
       "        text-align: right;\n",
       "    }\n",
       "</style>\n",
       "<table border=\"1\" class=\"dataframe\">\n",
       "  <thead>\n",
       "    <tr style=\"text-align: right;\">\n",
       "      <th></th>\n",
       "      <th>title</th>\n",
       "      <th>price</th>\n",
       "      <th>location</th>\n",
       "      <th>bedrooms</th>\n",
       "      <th>bathrooms</th>\n",
       "      <th>area</th>\n",
       "      <th>amenities</th>\n",
       "      <th>creattion_date</th>\n",
       "    </tr>\n",
       "  </thead>\n",
       "  <tbody>\n",
       "    <tr>\n",
       "      <th>0</th>\n",
       "      <td>المنصور اقوى مشروع بمدينة نصر TRUE شقة محسوبة صح</td>\n",
       "      <td>996,000</td>\n",
       "      <td>True, Nasr City Compounds, Nasr City, Cairo</td>\n",
       "      <td>3</td>\n",
       "      <td>2</td>\n",
       "      <td>120</td>\n",
       "      <td>['Partly furnished', 'Security', 'Balcony', 'S...</td>\n",
       "      <td>Listed:2 hours ago</td>\n",
       "    </tr>\n",
       "    <tr>\n",
       "      <th>1</th>\n",
       "      <td>Apartment 10Years Installment 260,000 Down Pay...</td>\n",
       "      <td>2,600,000</td>\n",
       "      <td>Hyde Park, 5th Settlement Compounds, The 5th S...</td>\n",
       "      <td>2</td>\n",
       "      <td>2</td>\n",
       "      <td>135</td>\n",
       "      <td>['Unfurnished', 'Kitchen Appliances', 'Central...</td>\n",
       "      <td>Listed:1 hour ago</td>\n",
       "    </tr>\n",
       "    <tr>\n",
       "      <th>2</th>\n",
       "      <td>Flat With Zero Over - Prime Location In Galler...</td>\n",
       "      <td>1,300,000</td>\n",
       "      <td>Galleria Moon Valley, South Investors Area, Ne...</td>\n",
       "      <td>3</td>\n",
       "      <td>3</td>\n",
       "      <td>196</td>\n",
       "      <td>['Unfurnished', 'Security', 'Balcony', 'Shared...</td>\n",
       "      <td>Listed:23 hours ago</td>\n",
       "    </tr>\n",
       "    <tr>\n",
       "      <th>3</th>\n",
       "      <td>Amazing Flat 278 m at Eastown Sodic prime loca...</td>\n",
       "      <td>4,000,000</td>\n",
       "      <td>Eastown, 5th Settlement Compounds, The 5th Set...</td>\n",
       "      <td>4</td>\n",
       "      <td>4</td>\n",
       "      <td>278</td>\n",
       "      <td>['Unfurnished', 'Security', 'Balcony', 'Pets A...</td>\n",
       "      <td>Listed:1 day ago</td>\n",
       "    </tr>\n",
       "    <tr>\n",
       "      <th>4</th>\n",
       "      <td>Modern Villa For Sale in Stone Park</td>\n",
       "      <td>8,000,000</td>\n",
       "      <td>Stone Park, 5th Settlement Compounds, The 5th ...</td>\n",
       "      <td>3</td>\n",
       "      <td>3</td>\n",
       "      <td>500</td>\n",
       "      <td>['Partly furnished', 'Balcony', 'Study', 'Netw...</td>\n",
       "      <td>Listed:1 day ago</td>\n",
       "    </tr>\n",
       "  </tbody>\n",
       "</table>\n",
       "</div>"
      ],
      "text/plain": [
       "                                               title      price  \\\n",
       "0   المنصور اقوى مشروع بمدينة نصر TRUE شقة محسوبة صح    996,000   \n",
       "1  Apartment 10Years Installment 260,000 Down Pay...  2,600,000   \n",
       "2  Flat With Zero Over - Prime Location In Galler...  1,300,000   \n",
       "3  Amazing Flat 278 m at Eastown Sodic prime loca...  4,000,000   \n",
       "4                Modern Villa For Sale in Stone Park  8,000,000   \n",
       "\n",
       "                                            location bedrooms bathrooms area  \\\n",
       "0        True, Nasr City Compounds, Nasr City, Cairo        3         2  120   \n",
       "1  Hyde Park, 5th Settlement Compounds, The 5th S...        2         2  135   \n",
       "2  Galleria Moon Valley, South Investors Area, Ne...        3         3  196   \n",
       "3  Eastown, 5th Settlement Compounds, The 5th Set...        4         4  278   \n",
       "4  Stone Park, 5th Settlement Compounds, The 5th ...        3         3  500   \n",
       "\n",
       "                                           amenities       creattion_date  \n",
       "0  ['Partly furnished', 'Security', 'Balcony', 'S...   Listed:2 hours ago  \n",
       "1  ['Unfurnished', 'Kitchen Appliances', 'Central...    Listed:1 hour ago  \n",
       "2  ['Unfurnished', 'Security', 'Balcony', 'Shared...  Listed:23 hours ago  \n",
       "3  ['Unfurnished', 'Security', 'Balcony', 'Pets A...     Listed:1 day ago  \n",
       "4  ['Partly furnished', 'Balcony', 'Study', 'Netw...     Listed:1 day ago  "
      ]
     },
     "execution_count": 12,
     "metadata": {},
     "output_type": "execute_result"
    }
   ],
   "source": [
    "df.head()"
   ]
  },
  {
   "cell_type": "code",
   "execution_count": 13,
   "metadata": {},
   "outputs": [
    {
     "data": {
      "text/plain": [
       "3    5915\n",
       "2    2567\n",
       "4     669\n",
       "1     246\n",
       "0      87\n",
       "5      63\n",
       "6      17\n",
       "7       7\n",
       "Name: bedrooms, dtype: int64"
      ]
     },
     "execution_count": 13,
     "metadata": {},
     "output_type": "execute_result"
    }
   ],
   "source": [
    "df.bedrooms.value_counts()"
   ]
  },
  {
   "cell_type": "code",
   "execution_count": 14,
   "metadata": {},
   "outputs": [
    {
     "data": {
      "text/html": [
       "<div>\n",
       "<style scoped>\n",
       "    .dataframe tbody tr th:only-of-type {\n",
       "        vertical-align: middle;\n",
       "    }\n",
       "\n",
       "    .dataframe tbody tr th {\n",
       "        vertical-align: top;\n",
       "    }\n",
       "\n",
       "    .dataframe thead th {\n",
       "        text-align: right;\n",
       "    }\n",
       "</style>\n",
       "<table border=\"1\" class=\"dataframe\">\n",
       "  <thead>\n",
       "    <tr style=\"text-align: right;\">\n",
       "      <th></th>\n",
       "      <th>title</th>\n",
       "      <th>location</th>\n",
       "      <th>bedrooms</th>\n",
       "      <th>bathrooms</th>\n",
       "      <th>area</th>\n",
       "      <th>amenities</th>\n",
       "      <th>creattion_date</th>\n",
       "      <th>price</th>\n",
       "    </tr>\n",
       "  </thead>\n",
       "  <tbody>\n",
       "    <tr>\n",
       "      <th>0</th>\n",
       "      <td>المنصور اقوى مشروع بمدينة نصر TRUE شقة محسوبة صح</td>\n",
       "      <td>True, Nasr City Compounds, Nasr City, Cairo</td>\n",
       "      <td>3</td>\n",
       "      <td>2</td>\n",
       "      <td>120</td>\n",
       "      <td>['Partly furnished', 'Security', 'Balcony', 'S...</td>\n",
       "      <td>Listed:2 hours ago</td>\n",
       "      <td>996,000</td>\n",
       "    </tr>\n",
       "    <tr>\n",
       "      <th>1</th>\n",
       "      <td>Apartment 10Years Installment 260,000 Down Pay...</td>\n",
       "      <td>Hyde Park, 5th Settlement Compounds, The 5th S...</td>\n",
       "      <td>2</td>\n",
       "      <td>2</td>\n",
       "      <td>135</td>\n",
       "      <td>['Unfurnished', 'Kitchen Appliances', 'Central...</td>\n",
       "      <td>Listed:1 hour ago</td>\n",
       "      <td>2,600,000</td>\n",
       "    </tr>\n",
       "    <tr>\n",
       "      <th>2</th>\n",
       "      <td>Flat With Zero Over - Prime Location In Galler...</td>\n",
       "      <td>Galleria Moon Valley, South Investors Area, Ne...</td>\n",
       "      <td>3</td>\n",
       "      <td>3</td>\n",
       "      <td>196</td>\n",
       "      <td>['Unfurnished', 'Security', 'Balcony', 'Shared...</td>\n",
       "      <td>Listed:23 hours ago</td>\n",
       "      <td>1,300,000</td>\n",
       "    </tr>\n",
       "    <tr>\n",
       "      <th>3</th>\n",
       "      <td>Amazing Flat 278 m at Eastown Sodic prime loca...</td>\n",
       "      <td>Eastown, 5th Settlement Compounds, The 5th Set...</td>\n",
       "      <td>4</td>\n",
       "      <td>4</td>\n",
       "      <td>278</td>\n",
       "      <td>['Unfurnished', 'Security', 'Balcony', 'Pets A...</td>\n",
       "      <td>Listed:1 day ago</td>\n",
       "      <td>4,000,000</td>\n",
       "    </tr>\n",
       "    <tr>\n",
       "      <th>4</th>\n",
       "      <td>Modern Villa For Sale in Stone Park</td>\n",
       "      <td>Stone Park, 5th Settlement Compounds, The 5th ...</td>\n",
       "      <td>3</td>\n",
       "      <td>3</td>\n",
       "      <td>500</td>\n",
       "      <td>['Partly furnished', 'Balcony', 'Study', 'Netw...</td>\n",
       "      <td>Listed:1 day ago</td>\n",
       "      <td>8,000,000</td>\n",
       "    </tr>\n",
       "  </tbody>\n",
       "</table>\n",
       "</div>"
      ],
      "text/plain": [
       "                                               title  \\\n",
       "0   المنصور اقوى مشروع بمدينة نصر TRUE شقة محسوبة صح   \n",
       "1  Apartment 10Years Installment 260,000 Down Pay...   \n",
       "2  Flat With Zero Over - Prime Location In Galler...   \n",
       "3  Amazing Flat 278 m at Eastown Sodic prime loca...   \n",
       "4                Modern Villa For Sale in Stone Park   \n",
       "\n",
       "                                            location bedrooms bathrooms area  \\\n",
       "0        True, Nasr City Compounds, Nasr City, Cairo        3         2  120   \n",
       "1  Hyde Park, 5th Settlement Compounds, The 5th S...        2         2  135   \n",
       "2  Galleria Moon Valley, South Investors Area, Ne...        3         3  196   \n",
       "3  Eastown, 5th Settlement Compounds, The 5th Set...        4         4  278   \n",
       "4  Stone Park, 5th Settlement Compounds, The 5th ...        3         3  500   \n",
       "\n",
       "                                           amenities       creattion_date  \\\n",
       "0  ['Partly furnished', 'Security', 'Balcony', 'S...   Listed:2 hours ago   \n",
       "1  ['Unfurnished', 'Kitchen Appliances', 'Central...    Listed:1 hour ago   \n",
       "2  ['Unfurnished', 'Security', 'Balcony', 'Shared...  Listed:23 hours ago   \n",
       "3  ['Unfurnished', 'Security', 'Balcony', 'Pets A...     Listed:1 day ago   \n",
       "4  ['Partly furnished', 'Balcony', 'Study', 'Netw...     Listed:1 day ago   \n",
       "\n",
       "       price  \n",
       "0    996,000  \n",
       "1  2,600,000  \n",
       "2  1,300,000  \n",
       "3  4,000,000  \n",
       "4  8,000,000  "
      ]
     },
     "execution_count": 14,
     "metadata": {},
     "output_type": "execute_result"
    }
   ],
   "source": [
    "# reorder columns\n",
    "df=df.loc[:,['title','location','bedrooms','bathrooms','area','amenities','creattion_date','price']]\n",
    "df.head()"
   ]
  },
  {
   "cell_type": "code",
   "execution_count": 14,
   "metadata": {},
   "outputs": [],
   "source": [
    "# remove the comma in the price \n",
    "df.price=df.price.apply(lambda x: x.replace(',',''))\n",
    "df.area=df.area.apply(lambda x: x.replace(',',''))"
   ]
  },
  {
   "cell_type": "code",
   "execution_count": 17,
   "metadata": {},
   "outputs": [
    {
     "data": {
      "text/plain": [
       "title             object\n",
       "price             object\n",
       "location          object\n",
       "bedrooms          object\n",
       "bathrooms         object\n",
       "area              object\n",
       "amenities         object\n",
       "creattion_date    object\n",
       "dtype: object"
      ]
     },
     "execution_count": 17,
     "metadata": {},
     "output_type": "execute_result"
    }
   ],
   "source": [
    "# check data types\n",
    "df.dtypes"
   ]
  },
  {
   "cell_type": "code",
   "execution_count": 19,
   "metadata": {},
   "outputs": [
    {
     "data": {
      "text/html": [
       "<div>\n",
       "<style scoped>\n",
       "    .dataframe tbody tr th:only-of-type {\n",
       "        vertical-align: middle;\n",
       "    }\n",
       "\n",
       "    .dataframe tbody tr th {\n",
       "        vertical-align: top;\n",
       "    }\n",
       "\n",
       "    .dataframe thead th {\n",
       "        text-align: right;\n",
       "    }\n",
       "</style>\n",
       "<table border=\"1\" class=\"dataframe\">\n",
       "  <thead>\n",
       "    <tr style=\"text-align: right;\">\n",
       "      <th></th>\n",
       "      <th>title</th>\n",
       "      <th>price</th>\n",
       "      <th>location</th>\n",
       "      <th>bedrooms</th>\n",
       "      <th>bathrooms</th>\n",
       "      <th>area</th>\n",
       "      <th>amenities</th>\n",
       "      <th>creattion_date</th>\n",
       "    </tr>\n",
       "  </thead>\n",
       "  <tbody>\n",
       "    <tr>\n",
       "      <th>0</th>\n",
       "      <td>المنصور اقوى مشروع بمدينة نصر TRUE شقة محسوبة صح</td>\n",
       "      <td>996000.0</td>\n",
       "      <td>True, Nasr City Compounds, Nasr City, Cairo</td>\n",
       "      <td>3</td>\n",
       "      <td>2</td>\n",
       "      <td>120</td>\n",
       "      <td>['Partly furnished', 'Security', 'Balcony', 'S...</td>\n",
       "      <td>Listed:2 hours ago</td>\n",
       "    </tr>\n",
       "    <tr>\n",
       "      <th>1</th>\n",
       "      <td>Apartment 10Years Installment 260,000 Down Pay...</td>\n",
       "      <td>2600000.0</td>\n",
       "      <td>Hyde Park, 5th Settlement Compounds, The 5th S...</td>\n",
       "      <td>2</td>\n",
       "      <td>2</td>\n",
       "      <td>135</td>\n",
       "      <td>['Unfurnished', 'Kitchen Appliances', 'Central...</td>\n",
       "      <td>Listed:1 hour ago</td>\n",
       "    </tr>\n",
       "    <tr>\n",
       "      <th>2</th>\n",
       "      <td>Flat With Zero Over - Prime Location In Galler...</td>\n",
       "      <td>1300000.0</td>\n",
       "      <td>Galleria Moon Valley, South Investors Area, Ne...</td>\n",
       "      <td>3</td>\n",
       "      <td>3</td>\n",
       "      <td>196</td>\n",
       "      <td>['Unfurnished', 'Security', 'Balcony', 'Shared...</td>\n",
       "      <td>Listed:23 hours ago</td>\n",
       "    </tr>\n",
       "    <tr>\n",
       "      <th>3</th>\n",
       "      <td>Amazing Flat 278 m at Eastown Sodic prime loca...</td>\n",
       "      <td>4000000.0</td>\n",
       "      <td>Eastown, 5th Settlement Compounds, The 5th Set...</td>\n",
       "      <td>4</td>\n",
       "      <td>4</td>\n",
       "      <td>278</td>\n",
       "      <td>['Unfurnished', 'Security', 'Balcony', 'Pets A...</td>\n",
       "      <td>Listed:1 day ago</td>\n",
       "    </tr>\n",
       "    <tr>\n",
       "      <th>4</th>\n",
       "      <td>Modern Villa For Sale in Stone Park</td>\n",
       "      <td>8000000.0</td>\n",
       "      <td>Stone Park, 5th Settlement Compounds, The 5th ...</td>\n",
       "      <td>3</td>\n",
       "      <td>3</td>\n",
       "      <td>500</td>\n",
       "      <td>['Partly furnished', 'Balcony', 'Study', 'Netw...</td>\n",
       "      <td>Listed:1 day ago</td>\n",
       "    </tr>\n",
       "  </tbody>\n",
       "</table>\n",
       "</div>"
      ],
      "text/plain": [
       "                                               title      price  \\\n",
       "0   المنصور اقوى مشروع بمدينة نصر TRUE شقة محسوبة صح   996000.0   \n",
       "1  Apartment 10Years Installment 260,000 Down Pay...  2600000.0   \n",
       "2  Flat With Zero Over - Prime Location In Galler...  1300000.0   \n",
       "3  Amazing Flat 278 m at Eastown Sodic prime loca...  4000000.0   \n",
       "4                Modern Villa For Sale in Stone Park  8000000.0   \n",
       "\n",
       "                                            location  bedrooms  bathrooms  \\\n",
       "0        True, Nasr City Compounds, Nasr City, Cairo         3          2   \n",
       "1  Hyde Park, 5th Settlement Compounds, The 5th S...         2          2   \n",
       "2  Galleria Moon Valley, South Investors Area, Ne...         3          3   \n",
       "3  Eastown, 5th Settlement Compounds, The 5th Set...         4          4   \n",
       "4  Stone Park, 5th Settlement Compounds, The 5th ...         3          3   \n",
       "\n",
       "   area                                          amenities  \\\n",
       "0   120  ['Partly furnished', 'Security', 'Balcony', 'S...   \n",
       "1   135  ['Unfurnished', 'Kitchen Appliances', 'Central...   \n",
       "2   196  ['Unfurnished', 'Security', 'Balcony', 'Shared...   \n",
       "3   278  ['Unfurnished', 'Security', 'Balcony', 'Pets A...   \n",
       "4   500  ['Partly furnished', 'Balcony', 'Study', 'Netw...   \n",
       "\n",
       "        creattion_date  \n",
       "0   Listed:2 hours ago  \n",
       "1    Listed:1 hour ago  \n",
       "2  Listed:23 hours ago  \n",
       "3     Listed:1 day ago  \n",
       "4     Listed:1 day ago  "
      ]
     },
     "execution_count": 19,
     "metadata": {},
     "output_type": "execute_result"
    }
   ],
   "source": [
    "# change bedrooms, bathrooms and area into integers, and price into float\n",
    "df.bedrooms=df.bedrooms.astype(int)\n",
    "df.bathrooms=df.bathrooms.astype(int)\n",
    "df.area=df.area.astype(int)\n",
    "df.price=df.price.astype(float)\n",
    "df.head()"
   ]
  },
  {
   "cell_type": "code",
   "execution_count": 20,
   "metadata": {},
   "outputs": [
    {
     "data": {
      "text/html": [
       "<div>\n",
       "<style scoped>\n",
       "    .dataframe tbody tr th:only-of-type {\n",
       "        vertical-align: middle;\n",
       "    }\n",
       "\n",
       "    .dataframe tbody tr th {\n",
       "        vertical-align: top;\n",
       "    }\n",
       "\n",
       "    .dataframe thead th {\n",
       "        text-align: right;\n",
       "    }\n",
       "</style>\n",
       "<table border=\"1\" class=\"dataframe\">\n",
       "  <thead>\n",
       "    <tr style=\"text-align: right;\">\n",
       "      <th></th>\n",
       "      <th>bedrooms</th>\n",
       "      <th>bathrooms</th>\n",
       "      <th>area</th>\n",
       "      <th>price</th>\n",
       "    </tr>\n",
       "  </thead>\n",
       "  <tbody>\n",
       "    <tr>\n",
       "      <th>bedrooms</th>\n",
       "      <td>1.000000</td>\n",
       "      <td>0.617682</td>\n",
       "      <td>0.005950</td>\n",
       "      <td>0.191406</td>\n",
       "    </tr>\n",
       "    <tr>\n",
       "      <th>bathrooms</th>\n",
       "      <td>0.617682</td>\n",
       "      <td>1.000000</td>\n",
       "      <td>-0.004822</td>\n",
       "      <td>0.269481</td>\n",
       "    </tr>\n",
       "    <tr>\n",
       "      <th>area</th>\n",
       "      <td>0.005950</td>\n",
       "      <td>-0.004822</td>\n",
       "      <td>1.000000</td>\n",
       "      <td>-0.000567</td>\n",
       "    </tr>\n",
       "    <tr>\n",
       "      <th>price</th>\n",
       "      <td>0.191406</td>\n",
       "      <td>0.269481</td>\n",
       "      <td>-0.000567</td>\n",
       "      <td>1.000000</td>\n",
       "    </tr>\n",
       "  </tbody>\n",
       "</table>\n",
       "</div>"
      ],
      "text/plain": [
       "           bedrooms  bathrooms      area     price\n",
       "bedrooms   1.000000   0.617682  0.005950  0.191406\n",
       "bathrooms  0.617682   1.000000 -0.004822  0.269481\n",
       "area       0.005950  -0.004822  1.000000 -0.000567\n",
       "price      0.191406   0.269481 -0.000567  1.000000"
      ]
     },
     "execution_count": 20,
     "metadata": {},
     "output_type": "execute_result"
    }
   ],
   "source": [
    "df[['bedrooms','bathrooms','area','price']].corr()"
   ]
  },
  {
   "cell_type": "code",
   "execution_count": 18,
   "metadata": {},
   "outputs": [
    {
     "data": {
      "text/plain": [
       "title              object\n",
       "location           object\n",
       "bedrooms            int32\n",
       "bathrooms           int32\n",
       "area                int32\n",
       "amenities          object\n",
       "creattion_date     object\n",
       "price             float64\n",
       "dtype: object"
      ]
     },
     "execution_count": 18,
     "metadata": {},
     "output_type": "execute_result"
    }
   ],
   "source": [
    "#check\n",
    "df.dtypes"
   ]
  },
  {
   "cell_type": "code",
   "execution_count": 19,
   "metadata": {},
   "outputs": [
    {
     "data": {
      "text/plain": [
       "4338"
      ]
     },
     "execution_count": 19,
     "metadata": {},
     "output_type": "execute_result"
    }
   ],
   "source": [
    "# check Compounds\n",
    "df[df.location.str.contains('Compounds')].iloc[:,1].shape[0]"
   ]
  },
  {
   "cell_type": "code",
   "execution_count": 20,
   "metadata": {},
   "outputs": [],
   "source": [
    "# add new column to determine if the appartment in compound or not\n",
    "df=df.reset_index(drop=True)\n",
    "df['compound']=0\n",
    "count=0\n",
    "for index,(location,title) in enumerate(zip(df.location,df.title)):\n",
    "    if ('Compounds' in location) or ('compound' in title.lower()) :\n",
    "        df.loc[index,'compound']=1    "
   ]
  },
  {
   "cell_type": "code",
   "execution_count": 21,
   "metadata": {},
   "outputs": [
    {
     "data": {
      "text/plain": [
       "0    5078\n",
       "1    4493\n",
       "Name: compound, dtype: int64"
      ]
     },
     "execution_count": 21,
     "metadata": {},
     "output_type": "execute_result"
    }
   ],
   "source": [
    "df.compound.value_counts()"
   ]
  },
  {
   "cell_type": "code",
   "execution_count": 22,
   "metadata": {},
   "outputs": [
    {
     "data": {
      "text/plain": [
       "864"
      ]
     },
     "execution_count": 22,
     "metadata": {},
     "output_type": "execute_result"
    }
   ],
   "source": [
    "#check for duplicates\n",
    "df[df.duplicated()].shape[0]"
   ]
  },
  {
   "cell_type": "code",
   "execution_count": 23,
   "metadata": {},
   "outputs": [
    {
     "data": {
      "text/plain": [
       "9571"
      ]
     },
     "execution_count": 23,
     "metadata": {},
     "output_type": "execute_result"
    }
   ],
   "source": [
    "df.shape[0]"
   ]
  },
  {
   "cell_type": "code",
   "execution_count": 24,
   "metadata": {},
   "outputs": [
    {
     "data": {
      "text/plain": [
       "8707"
      ]
     },
     "execution_count": 24,
     "metadata": {},
     "output_type": "execute_result"
    }
   ],
   "source": [
    "#drop duplicates\n",
    "df.drop_duplicates(inplace=True)#default keep first row\n",
    "df.shape[0]"
   ]
  },
  {
   "cell_type": "code",
   "execution_count": 25,
   "metadata": {},
   "outputs": [],
   "source": [
    "# drop creation date\n",
    "df.drop('creattion_date',axis=1,inplace=True)"
   ]
  },
  {
   "cell_type": "code",
   "execution_count": 26,
   "metadata": {},
   "outputs": [
    {
     "data": {
      "text/plain": [
       "Index(['title', 'location', 'bedrooms', 'bathrooms', 'area', 'amenities',\n",
       "       'price', 'compound'],\n",
       "      dtype='object')"
      ]
     },
     "execution_count": 26,
     "metadata": {},
     "output_type": "execute_result"
    }
   ],
   "source": [
    "#check\n",
    "df.columns"
   ]
  },
  {
   "cell_type": "code",
   "execution_count": 27,
   "metadata": {
    "scrolled": true
   },
   "outputs": [
    {
     "data": {
      "text/html": [
       "<div>\n",
       "<style scoped>\n",
       "    .dataframe tbody tr th:only-of-type {\n",
       "        vertical-align: middle;\n",
       "    }\n",
       "\n",
       "    .dataframe tbody tr th {\n",
       "        vertical-align: top;\n",
       "    }\n",
       "\n",
       "    .dataframe thead th {\n",
       "        text-align: right;\n",
       "    }\n",
       "</style>\n",
       "<table border=\"1\" class=\"dataframe\">\n",
       "  <thead>\n",
       "    <tr style=\"text-align: right;\">\n",
       "      <th></th>\n",
       "      <th>title</th>\n",
       "      <th>location</th>\n",
       "      <th>bedrooms</th>\n",
       "      <th>bathrooms</th>\n",
       "      <th>area</th>\n",
       "      <th>amenities</th>\n",
       "      <th>price</th>\n",
       "      <th>compound</th>\n",
       "      <th>location_neighborhood</th>\n",
       "      <th>location_city</th>\n",
       "    </tr>\n",
       "  </thead>\n",
       "  <tbody>\n",
       "    <tr>\n",
       "      <th>9566</th>\n",
       "      <td>مدينتي. مجموعة ١٠١. بي ١٠. دور خامس.</td>\n",
       "      <td>Madinaty, Cairo</td>\n",
       "      <td>3</td>\n",
       "      <td>2</td>\n",
       "      <td>116</td>\n",
       "      <td>['Unfurnished', 'Security', 'Balcony', 'View o...</td>\n",
       "      <td>750000.0</td>\n",
       "      <td>0</td>\n",
       "      <td>Madinaty</td>\n",
       "      <td>Madinaty</td>\n",
       "    </tr>\n",
       "    <tr>\n",
       "      <th>9567</th>\n",
       "      <td>للبيع شقه بالرحاب بمساحه 162متر لقطه</td>\n",
       "      <td>El Rehab Extension, Al Rehab, New Cairo City, ...</td>\n",
       "      <td>3</td>\n",
       "      <td>3</td>\n",
       "      <td>162</td>\n",
       "      <td>['Unfurnished', 'Security', 'Balcony', 'Shared...</td>\n",
       "      <td>2000000.0</td>\n",
       "      <td>0</td>\n",
       "      <td>Al Rehab</td>\n",
       "      <td>New Cairo City</td>\n",
       "    </tr>\n",
       "    <tr>\n",
       "      <th>9568</th>\n",
       "      <td>شقه 189 متربلوم فيلدز في مدينه المستقبل</td>\n",
       "      <td>Bloomfields, Mostakbal City Compounds, Mostakb...</td>\n",
       "      <td>3</td>\n",
       "      <td>3</td>\n",
       "      <td>189</td>\n",
       "      <td>['Unfurnished', 'Security', 'Concierge', 'Walk...</td>\n",
       "      <td>1050000.0</td>\n",
       "      <td>1</td>\n",
       "      <td>Mostakbal City Compounds</td>\n",
       "      <td>Mostakbal City - Future City</td>\n",
       "    </tr>\n",
       "    <tr>\n",
       "      <th>9569</th>\n",
       "      <td>استلام ٣ سنوات ١٠٪؜ مقدم ١٠ سنوات قسط متساوي</td>\n",
       "      <td>5th Settlement Compounds, The 5th Settlement, ...</td>\n",
       "      <td>3</td>\n",
       "      <td>3</td>\n",
       "      <td>170</td>\n",
       "      <td>['Unfurnished', 'Security', 'Private Garden', ...</td>\n",
       "      <td>3200000.0</td>\n",
       "      <td>1</td>\n",
       "      <td>The 5th Settlement</td>\n",
       "      <td>New Cairo City</td>\n",
       "    </tr>\n",
       "    <tr>\n",
       "      <th>9570</th>\n",
       "      <td>ستلم وحدتك في خلال سنه فقط في كمبوند Stone res...</td>\n",
       "      <td>5th Settlement Compounds, The 5th Settlement, ...</td>\n",
       "      <td>4</td>\n",
       "      <td>3</td>\n",
       "      <td>128</td>\n",
       "      <td>['Unfurnished', 'Security', 'Private Garden', ...</td>\n",
       "      <td>2200000.0</td>\n",
       "      <td>1</td>\n",
       "      <td>The 5th Settlement</td>\n",
       "      <td>New Cairo City</td>\n",
       "    </tr>\n",
       "  </tbody>\n",
       "</table>\n",
       "</div>"
      ],
      "text/plain": [
       "                                                  title  \\\n",
       "9566               مدينتي. مجموعة ١٠١. بي ١٠. دور خامس.   \n",
       "9567               للبيع شقه بالرحاب بمساحه 162متر لقطه   \n",
       "9568            شقه 189 متربلوم فيلدز في مدينه المستقبل   \n",
       "9569       استلام ٣ سنوات ١٠٪؜ مقدم ١٠ سنوات قسط متساوي   \n",
       "9570  ستلم وحدتك في خلال سنه فقط في كمبوند Stone res...   \n",
       "\n",
       "                                               location  bedrooms  bathrooms  \\\n",
       "9566                                    Madinaty, Cairo         3          2   \n",
       "9567  El Rehab Extension, Al Rehab, New Cairo City, ...         3          3   \n",
       "9568  Bloomfields, Mostakbal City Compounds, Mostakb...         3          3   \n",
       "9569  5th Settlement Compounds, The 5th Settlement, ...         3          3   \n",
       "9570  5th Settlement Compounds, The 5th Settlement, ...         4          3   \n",
       "\n",
       "      area                                          amenities      price  \\\n",
       "9566   116  ['Unfurnished', 'Security', 'Balcony', 'View o...   750000.0   \n",
       "9567   162  ['Unfurnished', 'Security', 'Balcony', 'Shared...  2000000.0   \n",
       "9568   189  ['Unfurnished', 'Security', 'Concierge', 'Walk...  1050000.0   \n",
       "9569   170  ['Unfurnished', 'Security', 'Private Garden', ...  3200000.0   \n",
       "9570   128  ['Unfurnished', 'Security', 'Private Garden', ...  2200000.0   \n",
       "\n",
       "      compound     location_neighborhood                  location_city  \n",
       "9566         0                  Madinaty                       Madinaty  \n",
       "9567         0                  Al Rehab                 New Cairo City  \n",
       "9568         1  Mostakbal City Compounds   Mostakbal City - Future City  \n",
       "9569         1        The 5th Settlement                 New Cairo City  \n",
       "9570         1        The 5th Settlement                 New Cairo City  "
      ]
     },
     "execution_count": 27,
     "metadata": {},
     "output_type": "execute_result"
    }
   ],
   "source": [
    "def add_neighborhood(loc):\n",
    "    #print(loc)\n",
    "    neigh=np.nan\n",
    "    if len(loc)>=3:\n",
    "        neigh=loc[-3].strip()\n",
    "    else:#less than three\n",
    "        neigh=loc[-2].strip()\n",
    "        #print(neigh)\n",
    "    return neigh\n",
    "df['location_neighborhood']=df.location.apply(lambda x : add_neighborhood(x.split(',')))\n",
    "df['location_city']=df.location.apply(lambda x : x.split(',')[-2])\n",
    "df.tail()"
   ]
  },
  {
   "cell_type": "code",
   "execution_count": 28,
   "metadata": {},
   "outputs": [
    {
     "name": "stdout",
     "output_type": "stream",
     "text": [
      "['Partly furnished', 'Security', 'Balcony', 'Shared Gym', 'Networked', 'Shared Pool', 'View of Water', 'View of Landmark', \"Children's Play Area\", 'Barbecue Area', 'Covered Parking', 'Shared Spa', 'Unfurnished', 'Kitchen Appliances', 'Central A/C', \"Children's Pool\", 'Concierge', 'Built in Wardrobes', 'Lobby in Building', 'Study', 'Walk-in Closet', 'Pets Allowed', 'Maid Service', 'Private Garden', 'Maids Room', 'Private Gym', 'Private Jacuzzi', 'Private Pool', 'Furnished'] 29\n"
     ]
    }
   ],
   "source": [
    "# get unique aminities \n",
    "uniq_list=[]\n",
    "for am in df.amenities:\n",
    "    for item in ast.literal_eval(am):\n",
    "        if item.strip() not in uniq_list:\n",
    "            uniq_list.append(item.strip())\n",
    "print(uniq_list,len(uniq_list))"
   ]
  },
  {
   "cell_type": "code",
   "execution_count": 29,
   "metadata": {},
   "outputs": [],
   "source": [
    "#create new columns from the unique aminities\n",
    "df=df.reset_index(drop=True)\n",
    "for aminity in uniq_list:\n",
    "    # add new column\n",
    "    #df.drop(aminity,axis=1,inplace=True)\n",
    "    df[aminity]=0\n",
    "    for index,am in enumerate(df.amenities): \n",
    "        if aminity in am:\n",
    "            #print(index,aminity,am)\n",
    "            #print(am)\n",
    "            df.loc[index,aminity]=1\n",
    "            #break"
   ]
  },
  {
   "cell_type": "code",
   "execution_count": 30,
   "metadata": {},
   "outputs": [
    {
     "data": {
      "text/plain": [
       "8707"
      ]
     },
     "execution_count": 30,
     "metadata": {},
     "output_type": "execute_result"
    }
   ],
   "source": [
    "len(df)"
   ]
  },
  {
   "cell_type": "code",
   "execution_count": 31,
   "metadata": {},
   "outputs": [
    {
     "name": "stdout",
     "output_type": "stream",
     "text": [
      "Partly furnished        0\n",
      "Security                0\n",
      "Balcony                 1\n",
      "Shared Gym              0\n",
      "Networked               1\n",
      "Shared Pool             0\n",
      "View of Water           0\n",
      "View of Landmark        1\n",
      "Children's Play Area    0\n",
      "Barbecue Area           0\n",
      "Covered Parking         0\n",
      "Shared Spa              0\n",
      "Unfurnished             0\n",
      "Kitchen Appliances      0\n",
      "Central A/C             0\n",
      "Children's Pool         0\n",
      "Concierge               1\n",
      "Built in Wardrobes      0\n",
      "Lobby in Building       0\n",
      "Study                   0\n",
      "Walk-in Closet          1\n",
      "Pets Allowed            1\n",
      "Maid Service            0\n",
      "Private Garden          0\n",
      "Maids Room              0\n",
      "Private Gym             0\n",
      "Private Jacuzzi         0\n",
      "Private Pool            0\n",
      "Furnished               1\n",
      "Name: 74, dtype: object\n",
      "[\"['Furnished', 'Concierge', 'Balcony', 'Walk-in Closet', 'Networked', 'Pets Allowed', 'View of Landmark']\"]\n"
     ]
    }
   ],
   "source": [
    "#check if aminity columns added correctly\n",
    "print(df.iloc[74,10:])\n",
    "print(df.loc[74,['amenities']].values)"
   ]
  },
  {
   "cell_type": "code",
   "execution_count": 32,
   "metadata": {},
   "outputs": [
    {
     "data": {
      "text/plain": [
       "Index(['title', 'location', 'bedrooms', 'bathrooms', 'area', 'price',\n",
       "       'compound', 'location_neighborhood', 'location_city',\n",
       "       'Partly furnished', 'Security', 'Balcony', 'Shared Gym', 'Networked',\n",
       "       'Shared Pool', 'View of Water', 'View of Landmark',\n",
       "       'Children's Play Area', 'Barbecue Area', 'Covered Parking',\n",
       "       'Shared Spa', 'Unfurnished', 'Kitchen Appliances', 'Central A/C',\n",
       "       'Children's Pool', 'Concierge', 'Built in Wardrobes',\n",
       "       'Lobby in Building', 'Study', 'Walk-in Closet', 'Pets Allowed',\n",
       "       'Maid Service', 'Private Garden', 'Maids Room', 'Private Gym',\n",
       "       'Private Jacuzzi', 'Private Pool', 'Furnished'],\n",
       "      dtype='object')"
      ]
     },
     "execution_count": 32,
     "metadata": {},
     "output_type": "execute_result"
    }
   ],
   "source": [
    "# drop amenities column\n",
    "df.drop('amenities',axis=1,inplace=True)\n",
    "df.columns"
   ]
  },
  {
   "cell_type": "code",
   "execution_count": 33,
   "metadata": {},
   "outputs": [
    {
     "data": {
      "text/plain": [
       "Index(['title', 'location', 'bedrooms', 'bathrooms', 'area', 'price',\n",
       "       'compound', 'location_neighborhood', 'location_city',\n",
       "       'Partly_furnished', 'Security', 'Balcony', 'Shared_Gym', 'Networked',\n",
       "       'Shared_Pool', 'View_of_Water', 'View_of_Landmark',\n",
       "       'Children's_Play_Area', 'Barbecue_Area', 'Covered_Parking',\n",
       "       'Shared_Spa', 'Unfurnished', 'Kitchen_Appliances', 'Central_A/C',\n",
       "       'Children's_Pool', 'Concierge', 'Built_in_Wardrobes',\n",
       "       'Lobby_in_Building', 'Study', 'Walk-in_Closet', 'Pets_Allowed',\n",
       "       'Maid_Service', 'Private_Garden', 'Maids_Room', 'Private_Gym',\n",
       "       'Private_Jacuzzi', 'Private_Pool', 'Furnished'],\n",
       "      dtype='object')"
      ]
     },
     "execution_count": 33,
     "metadata": {},
     "output_type": "execute_result"
    }
   ],
   "source": [
    "# rename columns to replace spaces with (_)\n",
    "for i in df.columns:\n",
    "    if \" \" in i:\n",
    "        df.rename(columns={i:\"_\".join(word for word in i.split(\" \"))},inplace=True)\n",
    "df.columns"
   ]
  },
  {
   "cell_type": "code",
   "execution_count": 34,
   "metadata": {},
   "outputs": [
    {
     "data": {
      "text/html": [
       "<div>\n",
       "<style scoped>\n",
       "    .dataframe tbody tr th:only-of-type {\n",
       "        vertical-align: middle;\n",
       "    }\n",
       "\n",
       "    .dataframe tbody tr th {\n",
       "        vertical-align: top;\n",
       "    }\n",
       "\n",
       "    .dataframe thead th {\n",
       "        text-align: right;\n",
       "    }\n",
       "</style>\n",
       "<table border=\"1\" class=\"dataframe\">\n",
       "  <thead>\n",
       "    <tr style=\"text-align: right;\">\n",
       "      <th></th>\n",
       "      <th>title</th>\n",
       "      <th>location</th>\n",
       "      <th>bedrooms</th>\n",
       "      <th>bathrooms</th>\n",
       "      <th>area</th>\n",
       "      <th>price</th>\n",
       "      <th>compound</th>\n",
       "      <th>location_neighborhood</th>\n",
       "      <th>location_city</th>\n",
       "      <th>Partly_furnished</th>\n",
       "      <th>...</th>\n",
       "      <th>Study</th>\n",
       "      <th>Walk-in_Closet</th>\n",
       "      <th>Pets_Allowed</th>\n",
       "      <th>Maid_Service</th>\n",
       "      <th>Private_Garden</th>\n",
       "      <th>Maids_Room</th>\n",
       "      <th>Private_Gym</th>\n",
       "      <th>Private_Jacuzzi</th>\n",
       "      <th>Private_Pool</th>\n",
       "      <th>Furnished</th>\n",
       "    </tr>\n",
       "  </thead>\n",
       "  <tbody>\n",
       "    <tr>\n",
       "      <th>0</th>\n",
       "      <td>المنصور اقوى مشروع بمدينة نصر TRUE شقة محسوبة صح</td>\n",
       "      <td>True, Nasr City Compounds, Nasr City, Cairo</td>\n",
       "      <td>3</td>\n",
       "      <td>2</td>\n",
       "      <td>120</td>\n",
       "      <td>996000.0</td>\n",
       "      <td>1</td>\n",
       "      <td>Nasr City Compounds</td>\n",
       "      <td>Nasr City</td>\n",
       "      <td>1</td>\n",
       "      <td>...</td>\n",
       "      <td>0</td>\n",
       "      <td>0</td>\n",
       "      <td>0</td>\n",
       "      <td>0</td>\n",
       "      <td>0</td>\n",
       "      <td>0</td>\n",
       "      <td>0</td>\n",
       "      <td>0</td>\n",
       "      <td>0</td>\n",
       "      <td>0</td>\n",
       "    </tr>\n",
       "    <tr>\n",
       "      <th>1</th>\n",
       "      <td>Apartment 10Years Installment 260,000 Down Pay...</td>\n",
       "      <td>Hyde Park, 5th Settlement Compounds, The 5th S...</td>\n",
       "      <td>2</td>\n",
       "      <td>2</td>\n",
       "      <td>135</td>\n",
       "      <td>2600000.0</td>\n",
       "      <td>1</td>\n",
       "      <td>The 5th Settlement</td>\n",
       "      <td>New Cairo City</td>\n",
       "      <td>0</td>\n",
       "      <td>...</td>\n",
       "      <td>1</td>\n",
       "      <td>1</td>\n",
       "      <td>1</td>\n",
       "      <td>0</td>\n",
       "      <td>0</td>\n",
       "      <td>0</td>\n",
       "      <td>0</td>\n",
       "      <td>0</td>\n",
       "      <td>0</td>\n",
       "      <td>0</td>\n",
       "    </tr>\n",
       "    <tr>\n",
       "      <th>2</th>\n",
       "      <td>Flat With Zero Over - Prime Location In Galler...</td>\n",
       "      <td>Galleria Moon Valley, South Investors Area, Ne...</td>\n",
       "      <td>3</td>\n",
       "      <td>3</td>\n",
       "      <td>196</td>\n",
       "      <td>1300000.0</td>\n",
       "      <td>0</td>\n",
       "      <td>South Investors Area</td>\n",
       "      <td>New Cairo City</td>\n",
       "      <td>0</td>\n",
       "      <td>...</td>\n",
       "      <td>0</td>\n",
       "      <td>0</td>\n",
       "      <td>1</td>\n",
       "      <td>0</td>\n",
       "      <td>0</td>\n",
       "      <td>0</td>\n",
       "      <td>0</td>\n",
       "      <td>0</td>\n",
       "      <td>0</td>\n",
       "      <td>0</td>\n",
       "    </tr>\n",
       "    <tr>\n",
       "      <th>3</th>\n",
       "      <td>Amazing Flat 278 m at Eastown Sodic prime loca...</td>\n",
       "      <td>Eastown, 5th Settlement Compounds, The 5th Set...</td>\n",
       "      <td>4</td>\n",
       "      <td>4</td>\n",
       "      <td>278</td>\n",
       "      <td>4000000.0</td>\n",
       "      <td>1</td>\n",
       "      <td>The 5th Settlement</td>\n",
       "      <td>New Cairo City</td>\n",
       "      <td>0</td>\n",
       "      <td>...</td>\n",
       "      <td>0</td>\n",
       "      <td>0</td>\n",
       "      <td>1</td>\n",
       "      <td>0</td>\n",
       "      <td>0</td>\n",
       "      <td>0</td>\n",
       "      <td>0</td>\n",
       "      <td>0</td>\n",
       "      <td>0</td>\n",
       "      <td>0</td>\n",
       "    </tr>\n",
       "    <tr>\n",
       "      <th>4</th>\n",
       "      <td>Modern Villa For Sale in Stone Park</td>\n",
       "      <td>Stone Park, 5th Settlement Compounds, The 5th ...</td>\n",
       "      <td>3</td>\n",
       "      <td>3</td>\n",
       "      <td>500</td>\n",
       "      <td>8000000.0</td>\n",
       "      <td>1</td>\n",
       "      <td>The 5th Settlement</td>\n",
       "      <td>New Cairo City</td>\n",
       "      <td>1</td>\n",
       "      <td>...</td>\n",
       "      <td>1</td>\n",
       "      <td>0</td>\n",
       "      <td>0</td>\n",
       "      <td>0</td>\n",
       "      <td>0</td>\n",
       "      <td>0</td>\n",
       "      <td>0</td>\n",
       "      <td>0</td>\n",
       "      <td>0</td>\n",
       "      <td>0</td>\n",
       "    </tr>\n",
       "  </tbody>\n",
       "</table>\n",
       "<p>5 rows × 38 columns</p>\n",
       "</div>"
      ],
      "text/plain": [
       "                                               title  \\\n",
       "0   المنصور اقوى مشروع بمدينة نصر TRUE شقة محسوبة صح   \n",
       "1  Apartment 10Years Installment 260,000 Down Pay...   \n",
       "2  Flat With Zero Over - Prime Location In Galler...   \n",
       "3  Amazing Flat 278 m at Eastown Sodic prime loca...   \n",
       "4                Modern Villa For Sale in Stone Park   \n",
       "\n",
       "                                            location  bedrooms  bathrooms  \\\n",
       "0        True, Nasr City Compounds, Nasr City, Cairo         3          2   \n",
       "1  Hyde Park, 5th Settlement Compounds, The 5th S...         2          2   \n",
       "2  Galleria Moon Valley, South Investors Area, Ne...         3          3   \n",
       "3  Eastown, 5th Settlement Compounds, The 5th Set...         4          4   \n",
       "4  Stone Park, 5th Settlement Compounds, The 5th ...         3          3   \n",
       "\n",
       "   area      price  compound location_neighborhood    location_city  \\\n",
       "0   120   996000.0         1   Nasr City Compounds        Nasr City   \n",
       "1   135  2600000.0         1    The 5th Settlement   New Cairo City   \n",
       "2   196  1300000.0         0  South Investors Area   New Cairo City   \n",
       "3   278  4000000.0         1    The 5th Settlement   New Cairo City   \n",
       "4   500  8000000.0         1    The 5th Settlement   New Cairo City   \n",
       "\n",
       "   Partly_furnished  ...  Study  Walk-in_Closet  Pets_Allowed  Maid_Service  \\\n",
       "0                 1  ...      0               0             0             0   \n",
       "1                 0  ...      1               1             1             0   \n",
       "2                 0  ...      0               0             1             0   \n",
       "3                 0  ...      0               0             1             0   \n",
       "4                 1  ...      1               0             0             0   \n",
       "\n",
       "   Private_Garden  Maids_Room  Private_Gym  Private_Jacuzzi  Private_Pool  \\\n",
       "0               0           0            0                0             0   \n",
       "1               0           0            0                0             0   \n",
       "2               0           0            0                0             0   \n",
       "3               0           0            0                0             0   \n",
       "4               0           0            0                0             0   \n",
       "\n",
       "   Furnished  \n",
       "0          0  \n",
       "1          0  \n",
       "2          0  \n",
       "3          0  \n",
       "4          0  \n",
       "\n",
       "[5 rows x 38 columns]"
      ]
     },
     "execution_count": 34,
     "metadata": {},
     "output_type": "execute_result"
    }
   ],
   "source": [
    "df.head()"
   ]
  },
  {
   "cell_type": "code",
   "execution_count": 35,
   "metadata": {},
   "outputs": [],
   "source": [
    "df.to_csv('data_cleaned.csv',index=False)"
   ]
  },
  {
   "cell_type": "markdown",
   "metadata": {},
   "source": [
    "# Exploratory Data Analysis"
   ]
  },
  {
   "cell_type": "code",
   "execution_count": 119,
   "metadata": {},
   "outputs": [
    {
     "data": {
      "text/plain": [
       "(8354, 38)"
      ]
     },
     "execution_count": 119,
     "metadata": {},
     "output_type": "execute_result"
    }
   ],
   "source": [
    "df=pd.read_csv('data_cleaned.csv')\n",
    "df=df[df.price<=7000000  ]\n",
    "df=df[ df.area<=300 ]\n",
    "\n",
    "df.shape"
   ]
  },
  {
   "cell_type": "code",
   "execution_count": 120,
   "metadata": {
    "scrolled": false
   },
   "outputs": [
    {
     "data": {
      "image/png": "[encoded data removed]",
      "text/plain": [
       "<Figure size 1152x432 with 1 Axes>"
      ]
     },
     "metadata": {
      "needs_background": "light"
     },
     "output_type": "display_data"
    }
   ],
   "source": [
    "plt.figure(figsize=(16,6))\n",
    "sns.barplot(x= 'location_city',y='price',data=df)\n",
    "plt.yticks(np.arange(0, 10000000, 500000))\n",
    "plt.xticks(rotation=90);\n"
   ]
  },
  {
   "cell_type": "markdown",
   "metadata": {},
   "source": [
    "### What is the relation between area and salary?"
   ]
  },
  {
   "cell_type": "code",
   "execution_count": 121,
   "metadata": {},
   "outputs": [
    {
     "data": {
      "text/plain": [
       "(array([      0., 1000000., 2000000., 3000000., 4000000., 5000000.,\n",
       "        6000000., 7000000.]),\n",
       " <a list of 8 Text xticklabel objects>)"
      ]
     },
     "execution_count": 121,
     "metadata": {},
     "output_type": "execute_result"
    },
    {
     "data": {
      "image/png": "[encoded data removed]",
      "text/plain": [
       "<Figure size 432x288 with 1 Axes>"
      ]
     },
     "metadata": {
      "needs_background": "light"
     },
     "output_type": "display_data"
    }
   ],
   "source": [
    "plt.scatter(x='price',y='area',data=df,color='blue')\n",
    "plt.ylim(50,600)\n",
    "plt.xlim(0,7000000)\n",
    "plt.xticks(rotation=90)"
   ]
  },
  {
   "cell_type": "code",
   "execution_count": 122,
   "metadata": {},
   "outputs": [
    {
     "data": {
      "text/plain": [
       "(0, 400)"
      ]
     },
     "execution_count": 122,
     "metadata": {},
     "output_type": "execute_result"
    },
    {
     "data": {
      "image/png": "[encoded data removed]",
      "text/plain": [
       "<Figure size 432x288 with 1 Axes>"
      ]
     },
     "metadata": {
      "needs_background": "light"
     },
     "output_type": "display_data"
    }
   ],
   "source": [
    "plt.boxplot(df.area)\n",
    "plt.ylim(0,400)"
   ]
  },
  {
   "cell_type": "code",
   "execution_count": 132,
   "metadata": {},
   "outputs": [
    {
     "name": "stdout",
     "output_type": "stream",
     "text": [
      "median: 164.0 , Q3: 200.0, Q1: 135.0,upper_whisker: 296 ,lower_whisker: 42\n"
     ]
    }
   ],
   "source": [
    "median = np.median(df.area)\n",
    "upper_quartile = np.percentile(df.area, 75)\n",
    "lower_quartile = np.percentile(df.area, 25)\n",
    "\n",
    "iqr = upper_quartile - lower_quartile\n",
    "upper_whisker = df.area[df.area<=upper_quartile+1.5*iqr].max()\n",
    "lower_whisker = df.area[df.area>=lower_quartile-1.5*iqr].min()\n",
    "print(\"median: {} , Q3: {}, Q1: {},upper_whisker: {} ,lower_whisker: {}\".format(median,upper_quartile,lower_quartile,upper_whisker,lower_whisker))"
   ]
  },
  {
   "cell_type": "code",
   "execution_count": 127,
   "metadata": {},
   "outputs": [
    {
     "data": {
      "text/plain": [
       "<seaborn.axisgrid.FacetGrid at 0x624d64ae48>"
      ]
     },
     "execution_count": 127,
     "metadata": {},
     "output_type": "execute_result"
    },
    {
     "data": {
      "image/png": "[encoded data removed]",
      "text/plain": [
       "<Figure size 360x360 with 1 Axes>"
      ]
     },
     "metadata": {
      "needs_background": "light"
     },
     "output_type": "display_data"
    }
   ],
   "source": [
    "sns.catplot(x=\"bedrooms\", y=\"price\", kind=\"box\", data=df)"
   ]
  },
  {
   "cell_type": "markdown",
   "metadata": {},
   "source": [
    "bedrooms seem not significant because most of categories are overlapped in price"
   ]
  },
  {
   "cell_type": "code",
   "execution_count": 103,
   "metadata": {},
   "outputs": [
    {
     "data": {
      "text/plain": [
       "(100000, 6000000)"
      ]
     },
     "execution_count": 103,
     "metadata": {},
     "output_type": "execute_result"
    },
    {
     "data": {
      "image/png": "[encoded data removed]",
      "text/plain": [
       "<Figure size 432x288 with 1 Axes>"
      ]
     },
     "metadata": {
      "needs_background": "light"
     },
     "output_type": "display_data"
    }
   ],
   "source": [
    "sns.regplot(y='price',x='bathrooms',data=df)\n",
    "plt.xlim(0,10)\n",
    "plt.ylim(100000,6000000)\n",
    "#plt.xticks(rotation=90)"
   ]
  },
  {
   "cell_type": "markdown",
   "metadata": {},
   "source": [
    "### Correlation matrix"
   ]
  },
  {
   "cell_type": "code",
   "execution_count": 133,
   "metadata": {},
   "outputs": [
    {
     "data": {
      "text/plain": [
       "<matplotlib.axes._subplots.AxesSubplot at 0x62503e4248>"
      ]
     },
     "execution_count": 133,
     "metadata": {},
     "output_type": "execute_result"
    },
    {
     "data": {
      "image/png": "[encoded data removed]",
      "text/plain": [
       "<Figure size 1440x720 with 2 Axes>"
      ]
     },
     "metadata": {
      "needs_background": "light"
     },
     "output_type": "display_data"
    }
   ],
   "source": [
    "plt.figure(figsize=(20,10))\n",
    "sns.heatmap(df[['bedrooms','bathrooms','area','price','compound','location_neighborhood','location_city','Furnished']].corr(),annot = True)\n"
   ]
  },
  {
   "cell_type": "markdown",
   "metadata": {},
   "source": [
    "# Data Transformation and Feature selection"
   ]
  },
  {
   "cell_type": "markdown",
   "metadata": {},
   "source": [
    "#### Apply one hot encoding on location_neighborhood and location_city"
   ]
  },
  {
   "cell_type": "code",
   "execution_count": 134,
   "metadata": {},
   "outputs": [
    {
     "data": {
      "text/html": [
       "<div>\n",
       "<style scoped>\n",
       "    .dataframe tbody tr th:only-of-type {\n",
       "        vertical-align: middle;\n",
       "    }\n",
       "\n",
       "    .dataframe tbody tr th {\n",
       "        vertical-align: top;\n",
       "    }\n",
       "\n",
       "    .dataframe thead th {\n",
       "        text-align: right;\n",
       "    }\n",
       "</style>\n",
       "<table border=\"1\" class=\"dataframe\">\n",
       "  <thead>\n",
       "    <tr style=\"text-align: right;\">\n",
       "      <th></th>\n",
       "      <th>Balcony</th>\n",
       "      <th>Barbecue_Area</th>\n",
       "      <th>Built_in_Wardrobes</th>\n",
       "      <th>Central_A/C</th>\n",
       "      <th>Children's_Play_Area</th>\n",
       "      <th>Children's_Pool</th>\n",
       "      <th>Concierge</th>\n",
       "      <th>Covered_Parking</th>\n",
       "      <th>Furnished</th>\n",
       "      <th>Kitchen_Appliances</th>\n",
       "      <th>...</th>\n",
       "      <th>Study</th>\n",
       "      <th>Unfurnished</th>\n",
       "      <th>View_of_Landmark</th>\n",
       "      <th>View_of_Water</th>\n",
       "      <th>Walk-in_Closet</th>\n",
       "      <th>area</th>\n",
       "      <th>bathrooms</th>\n",
       "      <th>bedrooms</th>\n",
       "      <th>compound</th>\n",
       "      <th>price</th>\n",
       "    </tr>\n",
       "  </thead>\n",
       "  <tbody>\n",
       "    <tr>\n",
       "      <th>0</th>\n",
       "      <td>1</td>\n",
       "      <td>1</td>\n",
       "      <td>0</td>\n",
       "      <td>0</td>\n",
       "      <td>1</td>\n",
       "      <td>0</td>\n",
       "      <td>0</td>\n",
       "      <td>1</td>\n",
       "      <td>0</td>\n",
       "      <td>0</td>\n",
       "      <td>...</td>\n",
       "      <td>0</td>\n",
       "      <td>0</td>\n",
       "      <td>1</td>\n",
       "      <td>1</td>\n",
       "      <td>0</td>\n",
       "      <td>120</td>\n",
       "      <td>2</td>\n",
       "      <td>3</td>\n",
       "      <td>1</td>\n",
       "      <td>996000.0</td>\n",
       "    </tr>\n",
       "    <tr>\n",
       "      <th>1</th>\n",
       "      <td>1</td>\n",
       "      <td>1</td>\n",
       "      <td>1</td>\n",
       "      <td>1</td>\n",
       "      <td>1</td>\n",
       "      <td>1</td>\n",
       "      <td>1</td>\n",
       "      <td>1</td>\n",
       "      <td>0</td>\n",
       "      <td>1</td>\n",
       "      <td>...</td>\n",
       "      <td>1</td>\n",
       "      <td>1</td>\n",
       "      <td>1</td>\n",
       "      <td>1</td>\n",
       "      <td>1</td>\n",
       "      <td>135</td>\n",
       "      <td>2</td>\n",
       "      <td>2</td>\n",
       "      <td>1</td>\n",
       "      <td>2600000.0</td>\n",
       "    </tr>\n",
       "    <tr>\n",
       "      <th>2</th>\n",
       "      <td>1</td>\n",
       "      <td>1</td>\n",
       "      <td>0</td>\n",
       "      <td>0</td>\n",
       "      <td>1</td>\n",
       "      <td>0</td>\n",
       "      <td>0</td>\n",
       "      <td>0</td>\n",
       "      <td>0</td>\n",
       "      <td>0</td>\n",
       "      <td>...</td>\n",
       "      <td>0</td>\n",
       "      <td>1</td>\n",
       "      <td>1</td>\n",
       "      <td>1</td>\n",
       "      <td>0</td>\n",
       "      <td>196</td>\n",
       "      <td>3</td>\n",
       "      <td>3</td>\n",
       "      <td>0</td>\n",
       "      <td>1300000.0</td>\n",
       "    </tr>\n",
       "    <tr>\n",
       "      <th>3</th>\n",
       "      <td>1</td>\n",
       "      <td>0</td>\n",
       "      <td>0</td>\n",
       "      <td>0</td>\n",
       "      <td>0</td>\n",
       "      <td>0</td>\n",
       "      <td>0</td>\n",
       "      <td>0</td>\n",
       "      <td>0</td>\n",
       "      <td>0</td>\n",
       "      <td>...</td>\n",
       "      <td>0</td>\n",
       "      <td>1</td>\n",
       "      <td>0</td>\n",
       "      <td>0</td>\n",
       "      <td>0</td>\n",
       "      <td>278</td>\n",
       "      <td>4</td>\n",
       "      <td>4</td>\n",
       "      <td>1</td>\n",
       "      <td>4000000.0</td>\n",
       "    </tr>\n",
       "    <tr>\n",
       "      <th>5</th>\n",
       "      <td>1</td>\n",
       "      <td>1</td>\n",
       "      <td>1</td>\n",
       "      <td>0</td>\n",
       "      <td>0</td>\n",
       "      <td>1</td>\n",
       "      <td>1</td>\n",
       "      <td>1</td>\n",
       "      <td>0</td>\n",
       "      <td>0</td>\n",
       "      <td>...</td>\n",
       "      <td>1</td>\n",
       "      <td>1</td>\n",
       "      <td>1</td>\n",
       "      <td>0</td>\n",
       "      <td>1</td>\n",
       "      <td>134</td>\n",
       "      <td>2</td>\n",
       "      <td>2</td>\n",
       "      <td>1</td>\n",
       "      <td>2042560.0</td>\n",
       "    </tr>\n",
       "  </tbody>\n",
       "</table>\n",
       "<p>5 rows × 34 columns</p>\n",
       "</div>"
      ],
      "text/plain": [
       "   Balcony  Barbecue_Area  Built_in_Wardrobes  Central_A/C  \\\n",
       "0        1              1                   0            0   \n",
       "1        1              1                   1            1   \n",
       "2        1              1                   0            0   \n",
       "3        1              0                   0            0   \n",
       "5        1              1                   1            0   \n",
       "\n",
       "   Children's_Play_Area  Children's_Pool  Concierge  Covered_Parking  \\\n",
       "0                     1                0          0                1   \n",
       "1                     1                1          1                1   \n",
       "2                     1                0          0                0   \n",
       "3                     0                0          0                0   \n",
       "5                     0                1          1                1   \n",
       "\n",
       "   Furnished  Kitchen_Appliances  ...  Study  Unfurnished  View_of_Landmark  \\\n",
       "0          0                   0  ...      0            0                 1   \n",
       "1          0                   1  ...      1            1                 1   \n",
       "2          0                   0  ...      0            1                 1   \n",
       "3          0                   0  ...      0            1                 0   \n",
       "5          0                   0  ...      1            1                 1   \n",
       "\n",
       "   View_of_Water  Walk-in_Closet  area  bathrooms  bedrooms  compound  \\\n",
       "0              1               0   120          2         3         1   \n",
       "1              1               1   135          2         2         1   \n",
       "2              1               0   196          3         3         0   \n",
       "3              0               0   278          4         4         1   \n",
       "5              0               1   134          2         2         1   \n",
       "\n",
       "       price  \n",
       "0   996000.0  \n",
       "1  2600000.0  \n",
       "2  1300000.0  \n",
       "3  4000000.0  \n",
       "5  2042560.0  \n",
       "\n",
       "[5 rows x 34 columns]"
      ]
     },
     "execution_count": 134,
     "metadata": {},
     "output_type": "execute_result"
    }
   ],
   "source": [
    "df_rest=df.loc[:,df.columns.difference(['location_neighborhood', 'location_city','location','title'])]\n",
    "df_rest.head()"
   ]
  },
  {
   "cell_type": "code",
   "execution_count": 135,
   "metadata": {},
   "outputs": [
    {
     "data": {
      "text/html": [
       "<div>\n",
       "<style scoped>\n",
       "    .dataframe tbody tr th:only-of-type {\n",
       "        vertical-align: middle;\n",
       "    }\n",
       "\n",
       "    .dataframe tbody tr th {\n",
       "        vertical-align: top;\n",
       "    }\n",
       "\n",
       "    .dataframe thead th {\n",
       "        text-align: right;\n",
       "    }\n",
       "</style>\n",
       "<table border=\"1\" class=\"dataframe\">\n",
       "  <thead>\n",
       "    <tr style=\"text-align: right;\">\n",
       "      <th></th>\n",
       "      <th>Abdeen</th>\n",
       "      <th>Al Salam City</th>\n",
       "      <th>Badr City</th>\n",
       "      <th>El Khalifa</th>\n",
       "      <th>El Nozha</th>\n",
       "      <th>El Zaher</th>\n",
       "      <th>Garden City</th>\n",
       "      <th>Hadayek El Kobba</th>\n",
       "      <th>Hay El Maadi</th>\n",
       "      <th>Hay El Manial</th>\n",
       "      <th>...</th>\n",
       "      <th>Study</th>\n",
       "      <th>Unfurnished</th>\n",
       "      <th>View_of_Landmark</th>\n",
       "      <th>View_of_Water</th>\n",
       "      <th>Walk-in_Closet</th>\n",
       "      <th>area</th>\n",
       "      <th>bathrooms</th>\n",
       "      <th>bedrooms</th>\n",
       "      <th>compound</th>\n",
       "      <th>price</th>\n",
       "    </tr>\n",
       "  </thead>\n",
       "  <tbody>\n",
       "    <tr>\n",
       "      <th>0</th>\n",
       "      <td>0</td>\n",
       "      <td>0</td>\n",
       "      <td>0</td>\n",
       "      <td>0</td>\n",
       "      <td>0</td>\n",
       "      <td>0</td>\n",
       "      <td>0</td>\n",
       "      <td>0</td>\n",
       "      <td>0</td>\n",
       "      <td>0</td>\n",
       "      <td>...</td>\n",
       "      <td>0</td>\n",
       "      <td>0</td>\n",
       "      <td>1</td>\n",
       "      <td>1</td>\n",
       "      <td>0</td>\n",
       "      <td>120</td>\n",
       "      <td>2</td>\n",
       "      <td>3</td>\n",
       "      <td>1</td>\n",
       "      <td>996000.0</td>\n",
       "    </tr>\n",
       "    <tr>\n",
       "      <th>1</th>\n",
       "      <td>0</td>\n",
       "      <td>0</td>\n",
       "      <td>0</td>\n",
       "      <td>0</td>\n",
       "      <td>0</td>\n",
       "      <td>0</td>\n",
       "      <td>0</td>\n",
       "      <td>0</td>\n",
       "      <td>0</td>\n",
       "      <td>0</td>\n",
       "      <td>...</td>\n",
       "      <td>1</td>\n",
       "      <td>1</td>\n",
       "      <td>1</td>\n",
       "      <td>1</td>\n",
       "      <td>1</td>\n",
       "      <td>135</td>\n",
       "      <td>2</td>\n",
       "      <td>2</td>\n",
       "      <td>1</td>\n",
       "      <td>2600000.0</td>\n",
       "    </tr>\n",
       "  </tbody>\n",
       "</table>\n",
       "<p>2 rows × 64 columns</p>\n",
       "</div>"
      ],
      "text/plain": [
       "    Abdeen   Al Salam City   Badr City   El Khalifa   El Nozha   El Zaher  \\\n",
       "0        0               0           0            0          0          0   \n",
       "1        0               0           0            0          0          0   \n",
       "\n",
       "    Garden City   Hadayek El Kobba   Hay El Maadi   Hay El Manial  ...  Study  \\\n",
       "0             0                  0              0               0  ...      0   \n",
       "1             0                  0              0               0  ...      1   \n",
       "\n",
       "   Unfurnished  View_of_Landmark  View_of_Water  Walk-in_Closet  area  \\\n",
       "0            0                 1              1               0   120   \n",
       "1            1                 1              1               1   135   \n",
       "\n",
       "   bathrooms  bedrooms  compound      price  \n",
       "0          2         3         1   996000.0  \n",
       "1          2         2         1  2600000.0  \n",
       "\n",
       "[2 rows x 64 columns]"
      ]
     },
     "execution_count": 135,
     "metadata": {},
     "output_type": "execute_result"
    }
   ],
   "source": [
    "# one hot encoding (create dummy vars)\n",
    "one_hot_df=pd.get_dummies(df[[ 'location_city']],prefix=\"\",prefix_sep=\"\")\n",
    "#Add one hot encoded columns to the rest of dataframe\n",
    "one_hot_df[df_rest.columns]=df_rest\n",
    "one_hot_df.head(2)"
   ]
  },
  {
   "cell_type": "code",
   "execution_count": 107,
   "metadata": {},
   "outputs": [
    {
     "data": {
      "text/plain": [
       "Index([' Abdeen', ' Al Salam City', ' Badr City', ' El Khalifa', ' El Nozha',\n",
       "       ' El Zaher', ' Garden City', ' Hadayek El Kobba', ' Hay El Maadi',\n",
       "       ' Hay El Manial', ' Hay El Zaytoun', ' Hay Helwan', ' Hay Shobra',\n",
       "       ' Heliopolis - Masr El Gedida', ' Mokattam',\n",
       "       ' Mostakbal City - Future City', ' Nasr City', ' New Cairo City',\n",
       "       ' New Capital City', ' New Heliopolis', ' Ring Road', ' Shorouk City',\n",
       "       ' Zamalek', 'Al Salam City', 'Cairo - Ismailia Desert Road',\n",
       "       'Hay El Zaytoun', 'Heliopolis - Masr El Gedida', 'Madinaty',\n",
       "       'Mansheyat Al Bakri', 'Nasr City', 'Balcony', 'Barbecue_Area',\n",
       "       'Built_in_Wardrobes', 'Central_A/C', 'Children's_Play_Area',\n",
       "       'Children's_Pool', 'Concierge', 'Covered_Parking', 'Furnished',\n",
       "       'Kitchen_Appliances', 'Lobby_in_Building', 'Maid_Service', 'Maids_Room',\n",
       "       'Networked', 'Partly_furnished', 'Pets_Allowed', 'Private_Garden',\n",
       "       'Private_Gym', 'Private_Jacuzzi', 'Private_Pool', 'Security',\n",
       "       'Shared_Gym', 'Shared_Pool', 'Shared_Spa', 'Study', 'Unfurnished',\n",
       "       'View_of_Landmark', 'View_of_Water', 'Walk-in_Closet', 'area',\n",
       "       'bathrooms', 'bedrooms', 'compound', 'price'],\n",
       "      dtype='object')"
      ]
     },
     "execution_count": 107,
     "metadata": {},
     "output_type": "execute_result"
    }
   ],
   "source": [
    "one_hot_df.columns"
   ]
  },
  {
   "cell_type": "code",
   "execution_count": 271,
   "metadata": {},
   "outputs": [],
   "source": [
    "# assign predictors and pridicted variable\n",
    "X=one_hot_df.iloc[:,:63].values#independent vars\n",
    "#X=df_rest[[ 'area','bathrooms', 'bedrooms']].values\n",
    "Y=one_hot_df.iloc[:,63:64].values#dependent var"
   ]
  },
  {
   "cell_type": "code",
   "execution_count": 230,
   "metadata": {},
   "outputs": [],
   "source": [
    "#normalize predictors to be in the same scale\n",
    "#X= preprocessing.StandardScaler().fit(X).transform(X)#standarization (mean=0,std=1)"
   ]
  },
  {
   "cell_type": "markdown",
   "metadata": {},
   "source": [
    "We can`t standarize by mean and std because they are sensitive with outliers(there are many outliers)"
   ]
  },
  {
   "cell_type": "markdown",
   "metadata": {},
   "source": [
    "but we can normalize it by using min max scaler"
   ]
  },
  {
   "cell_type": "code",
   "execution_count": 272,
   "metadata": {},
   "outputs": [],
   "source": [
    "scl=preprocessing.MinMaxScaler()"
   ]
  },
  {
   "cell_type": "markdown",
   "metadata": {},
   "source": [
    "#### Get best features"
   ]
  },
  {
   "cell_type": "code",
   "execution_count": 300,
   "metadata": {},
   "outputs": [],
   "source": [
    "fs = SelectKBest(score_func=f_regression, k=35)"
   ]
  },
  {
   "cell_type": "markdown",
   "metadata": {},
   "source": [
    "#### split data"
   ]
  },
  {
   "cell_type": "code",
   "execution_count": 274,
   "metadata": {},
   "outputs": [
    {
     "name": "stdout",
     "output_type": "stream",
     "text": [
      "training set:  (6683, 63) (6683, 1)\n",
      "test set:  (1671, 63) (1671, 1)\n"
     ]
    }
   ],
   "source": [
    "#split data to train/test\n",
    "X_train,X_test,y_train,y_test=train_test_split(X,Y,test_size=0.2,random_state=40)\n",
    "print('training set: ',X_train.shape,y_train.shape)\n",
    "print('test set: ',X_test.shape,y_test.shape)"
   ]
  },
  {
   "cell_type": "markdown",
   "metadata": {},
   "source": [
    "# Prediction"
   ]
  },
  {
   "cell_type": "markdown",
   "metadata": {},
   "source": [
    "### 1. Linear Regression"
   ]
  },
  {
   "cell_type": "code",
   "execution_count": 275,
   "metadata": {},
   "outputs": [],
   "source": [
    "# train the linear regression model\n",
    "reg = linear_model.LinearRegression()\n",
    "#reg.fit(X_train_fs,y_train)"
   ]
  },
  {
   "cell_type": "code",
   "execution_count": 277,
   "metadata": {},
   "outputs": [
    {
     "name": "stdout",
     "output_type": "stream",
     "text": [
      "R square:0.42 \n"
     ]
    }
   ],
   "source": [
    "pipeline = Pipeline(steps=[('normalization',scl),('feature_selection',fs), ('model', reg)])\n",
    "pipeline.fit(X_train,y_train.ravel())\n",
    "# test the accuracy \n",
    "y_hat=pipeline.predict(X_test)\n",
    "print('R square:{:0.2f} '.format(r2_score(y_test,y_hat))) "
   ]
  },
  {
   "cell_type": "markdown",
   "metadata": {},
   "source": [
    "### 2.  polynomial Regression"
   ]
  },
  {
   "cell_type": "code",
   "execution_count": 241,
   "metadata": {},
   "outputs": [],
   "source": [
    "#### try polynomial\n",
    "poly = PolynomialFeatures(degree=2)\n",
    "train_x_poly = poly.fit_transform(X_train_fs)#transforming data to 2nd degree\n",
    "test_x_poly = poly.fit_transform(X_test_fs)\n",
    "reg = linear_model.LinearRegression()"
   ]
  },
  {
   "cell_type": "code",
   "execution_count": 191,
   "metadata": {},
   "outputs": [
    {
     "data": {
      "text/plain": [
       "((6683, 136), (6683, 1))"
      ]
     },
     "execution_count": 191,
     "metadata": {},
     "output_type": "execute_result"
    }
   ],
   "source": [
    "train_x_poly.shape,y_train.shape"
   ]
  },
  {
   "cell_type": "code",
   "execution_count": 234,
   "metadata": {},
   "outputs": [
    {
     "data": {
      "text/plain": [
       "0.4378973164227704"
      ]
     },
     "execution_count": 234,
     "metadata": {},
     "output_type": "execute_result"
    }
   ],
   "source": [
    "reg.fit(train_x_poly,y_train)\n",
    "y_hat=reg.predict(test_x_poly)\n",
    "reg.score(test_x_poly,y_test)"
   ]
  },
  {
   "cell_type": "markdown",
   "metadata": {},
   "source": [
    "### 3. KNN Regressor"
   ]
  },
  {
   "cell_type": "code",
   "execution_count": 145,
   "metadata": {},
   "outputs": [
    {
     "data": {
      "text/plain": [
       "array([ 1,  2,  3,  4,  5,  6,  7,  8,  9, 10, 11, 12, 13, 14, 15, 16, 17,\n",
       "       18, 19, 20])"
      ]
     },
     "execution_count": 145,
     "metadata": {},
     "output_type": "execute_result"
    }
   ],
   "source": [
    "np.arange(1,21)"
   ]
  },
  {
   "cell_type": "code",
   "execution_count": 247,
   "metadata": {},
   "outputs": [
    {
     "name": "stdout",
     "output_type": "stream",
     "text": [
      "R square:0.38 \n"
     ]
    }
   ],
   "source": [
    "neigh = KNeighborsRegressor(n_neighbors=10)\n",
    "pipeline = Pipeline(steps=[('normalization',scl),('feature_selection',fs), ('model', neigh)])\n",
    "pipeline.fit(X_train,y_train.ravel())\n",
    "y_hat=pipeline.predict(X_test)\n",
    "print('R square:{:0.2f} '.format(r2_score(y_test,y_hat))) "
   ]
  },
  {
   "cell_type": "markdown",
   "metadata": {},
   "source": [
    "### 4. Enssemble Learning (XGBoost)"
   ]
  },
  {
   "cell_type": "code",
   "execution_count": 270,
   "metadata": {},
   "outputs": [
    {
     "data": {
      "text/plain": [
       "((6683, 63),\n",
       " array([[2448000.],\n",
       "        [5350000.],\n",
       "        [1850000.],\n",
       "        ...,\n",
       "        [3000000.],\n",
       "        [1600000.],\n",
       "        [ 700000.]]))"
      ]
     },
     "execution_count": 270,
     "metadata": {},
     "output_type": "execute_result"
    }
   ],
   "source": [
    "X_train.shape,y_train"
   ]
  },
  {
   "cell_type": "code",
   "execution_count": 303,
   "metadata": {},
   "outputs": [
    {
     "name": "stdout",
     "output_type": "stream",
     "text": [
      "{10: 0.4220305039907164, 11: 0.42611717266565097, 12: 0.42853128297736287, 13: 0.43202320709721176, 14: 0.4366532742731344, 15: 0.4325627744609527, 16: 0.4310853572320261, 17: 0.4317575724277315, 18: 0.4349813157436607, 19: 0.43700839946610315, 20: 0.4385306945886116, 21: 0.445926791215727, 22: 0.4463854260744303, 23: 0.44607248016043277, 24: 0.4455651933287428, 25: 0.4524816452508986, 26: 0.4528509888585718, 27: 0.4519765503995238, 28: 0.4523185957130338, 29: 0.45292921745600756, 30: 0.4533930940261316, 31: 0.4527638997060003, 32: 0.4540100018286042, 33: 0.4559410225186733, 34: 0.45530036619581715, 35: 0.4616277596728864, 36: 0.46296685133050575, 37: 0.46404156006662645, 38: 0.46386759078172446, 39: 0.4647881408522555, 40: 0.46495175316550275, 41: 0.46495327124420915, 42: 0.46868895384012466, 43: 0.4688089031308428, 44: 0.46882577952170723, 45: 0.46883668498922815, 46: 0.4679587652534988, 47: 0.46796019149503343, 48: 0.4679943616530793, 49: 0.4680307287064621, 50: 0.4682929495108319, 51: 0.4671828028262244, 52: 0.4710792112761636, 53: 0.4711152046223348, 54: 0.4710944896873709, 55: 0.4710986799279675, 56: 0.47110118828363534, 57: 0.4714028788650424, 58: 0.47134068382878214, 59: 0.47133798678076644, 60: 0.4713800994016082, 61: 0.4715029437154985, 62: 0.4715487064377686}\n"
     ]
    }
   ],
   "source": [
    "acc={}\n",
    "params = {'n_estimators': 500,#the number of boosting stages\n",
    "          'max_depth': 4,#limits the number of nodes in the tree\n",
    "          'min_samples_split': 5,# the minimum number of samples required to split an internal node.\n",
    "          'learning_rate': 0.01,#how much the contribution of each tree will shrink.\n",
    "          'loss': 'ls'}#oss function to optimize. The least squares function is used in this case\n",
    "\n",
    "xGBoost_model=ensemble.GradientBoostingRegressor(**params)\n",
    "pipeline = Pipeline(steps=[('featureSelection',fs),('normalization',scl), ('model', xGBoost_model)])\n",
    "for k in np.arange(10,X.shape[1]):\n",
    "    pipeline.set_params(featureSelection__k=k)\n",
    "    pipeline.fit(X_train,y_train.ravel())\n",
    "    y_hat=pipeline.predict(X_test)\n",
    "    acc[k]=r2_score(y_test,y_hat)\n",
    "print(acc)\n",
    "#print('R square:{:0.2f} '.format(r2_score(y_test,y_hat))) \n",
    "#print(\"The mean squared error (MSE) on test set: {:.4f}\".format(mse))"
   ]
  },
  {
   "cell_type": "code",
   "execution_count": 306,
   "metadata": {},
   "outputs": [
    {
     "name": "stdout",
     "output_type": "stream",
     "text": [
      "0.4715487064377686\n"
     ]
    },
    {
     "data": {
      "text/plain": [
       "<matplotlib.axes._subplots.AxesSubplot at 0x624ffd7608>"
      ]
     },
     "execution_count": 306,
     "metadata": {},
     "output_type": "execute_result"
    },
    {
     "data": {
      "image/png": "[encoded data removed]",
      "text/plain": [
       "<Figure size 432x288 with 1 Axes>"
      ]
     },
     "metadata": {
      "needs_background": "light"
     },
     "output_type": "display_data"
    }
   ],
   "source": [
    "y_hat=pipeline.predict(X_test)\n",
    "print(r2_score(y_test,y_hat))\n",
    "ax1 = sns.distplot(y_test, hist=False, color=\"r\", label=\"Actual Value\")\n",
    "sns.distplot(y_hat, hist=False, color=\"b\", label=\"Fitted Values\" , ax=ax1)"
   ]
  },
  {
   "cell_type": "markdown",
   "metadata": {},
   "source": [
    "#### Apply PCA"
   ]
  },
  {
   "cell_type": "code",
   "execution_count": null,
   "metadata": {},
   "outputs": [],
   "source": []
  },
  {
   "cell_type": "code",
   "execution_count": null,
   "metadata": {},
   "outputs": [],
   "source": []
  }
 ],
 "metadata": {
  "kernelspec": {
   "display_name": "Python 3",
   "language": "python",
   "name": "python3"
  },
  "language_info": {
   "codemirror_mode": {
    "name": "ipython",
    "version": 3
   },
   "file_extension": ".py",
   "mimetype": "text/x-python",
   "name": "python",
   "nbconvert_exporter": "python",
   "pygments_lexer": "ipython3",
   "version": "3.7.6"
  }
 },
 "nbformat": 4,
 "nbformat_minor": 4
}
