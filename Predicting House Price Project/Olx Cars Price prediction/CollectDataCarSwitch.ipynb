{
 "cells": [
  {
   "cell_type": "code",
   "execution_count": 1,
   "id": "6a091747",
   "metadata": {},
   "outputs": [],
   "source": [
    "from bs4 import BeautifulSoup, NavigableString, Tag\n",
    "import requests\n",
    "import pandas as pd\n",
    "import time\n",
    "from PIL import Image\n",
    "from pytesseract import pytesseract\n",
    "from io import BytesIO\n",
    "import base64\n",
    "import pytesseract"
   ]
  },
  {
   "cell_type": "code",
   "execution_count": 2,
   "id": "3c99f38d",
   "metadata": {},
   "outputs": [],
   "source": [
    "pytesseract.pytesseract.tesseract_cmd = 'C:/Program Files/Tesseract-OCR/tesseract.exe'  # your path may be different"
   ]
  },
  {
   "cell_type": "code",
   "execution_count": 3,
   "id": "51d090a7",
   "metadata": {},
   "outputs": [],
   "source": [
    "global data"
   ]
  },
  {
   "cell_type": "code",
   "execution_count": 4,
   "id": "c4b8455e",
   "metadata": {},
   "outputs": [],
   "source": [
    "#get text from image\n",
    "def getFeatureTextFromImg(imgUrl):\n",
    "    url = imgUrl\n",
    "    headers = {'User-Agent': 'Mozilla/5.0 (Macintosh; Intel Mac OS X 10_10_1) AppleWebKit/537.36 (KHTML, like Gecko) Chrome/39.0.2171.95 Safari/537.36'}\n",
    "    r = requests.get(url, headers=headers)\n",
    "    img = Image.open(BytesIO(r.content))\n",
    "    text = pytesseract.image_to_string(img)\n",
    "    return text"
   ]
  },
  {
   "cell_type": "code",
   "execution_count": 94,
   "id": "7d4cb9b5",
   "metadata": {},
   "outputs": [
    {
     "name": "stdout",
     "output_type": "stream",
     "text": [
      "\n"
     ]
    }
   ],
   "source": [
    "txt=getFeatureTextFromImg('https://ksa.carswitch.com/assets/png/43.png')\n",
    "print(txt)"
   ]
  },
  {
   "cell_type": "code",
   "execution_count": 91,
   "id": "d78213c2",
   "metadata": {},
   "outputs": [],
   "source": [
    "def getDetailsData(detailsUrl):\n",
    "    #print(detailsUrl)\n",
    "    headers = {'User-Agent': 'Mozilla/5.0 (X11; Ubuntu; Linux x86_64; rv:79.0) Gecko/20100101 Firefox/79.0'}\n",
    "    detialRequest = requests.get(detailsUrl,headers=headers)\n",
    "    detailContent = detialRequest.content\n",
    "    detailSoup = BeautifulSoup(detailContent,features=\"html.parser\")\n",
    "    details_container=detailSoup.find('aside',{'class':'left-side'})\n",
    "    #location=details_container.find('div',{'class','location'})\n",
    "    return details_container\n"
   ]
  },
  {
   "cell_type": "code",
   "execution_count": 132,
   "id": "9dc0acdf",
   "metadata": {},
   "outputs": [],
   "source": [
    "def getCarsData(page_from,page_to):\n",
    "    global df\n",
    "    data=[]\n",
    "    headers = {'User-Agent': 'Mozilla/5.0 (X11; Ubuntu; Linux x86_64; rv:79.0) Gecko/20100101 Firefox/79.0'}\n",
    "    for pageNo in range(page_from,page_to):\n",
    "        print(pageNo)\n",
    "        url='https://ksa.carswitch.com/en/saudi/used-cars/search?page={}'.format(pageNo)\n",
    "        r = requests.get(url,headers=headers)\n",
    "        content = r.content\n",
    "        soup = BeautifulSoup(content,features=\"html.parser\")\n",
    "        \n",
    "        #soup = BeautifulSoup(data,'html.parser')\n",
    "        #print(soup)\n",
    "        #get div with id main-listing-div\n",
    "        soup = soup.find('section',{'id':'main-listing-div'})\n",
    "        #print(soup)\n",
    "        features={}\n",
    "        items=soup.findAll('div',{'class':'show-price-badge'})\n",
    "        #print(items)\n",
    "        for index,item in enumerate(items):\n",
    "            features={}\n",
    "            title=item.find('div',{'class':'title'}).find('a').text\n",
    "            price=item.find('div',{'class':'title'}).find('span').text\n",
    "            model_year=item.find('div',{'class':'info'}).find('div',{'class','car-mileage'}).text.split(' · ')[0]\n",
    "            odo=item.find('div',{'class':'info'}).find('div',{'class','car-mileage'}).text.split(' · ')[1]\n",
    "            #get more data from details page\n",
    "            detailsUrl='https://ksa.carswitch.com'+item.find('figure',{'class','image-holder'}).find('a',href=True)['href']\n",
    "            print(detailsUrl)\n",
    "            details_html=getDetailsData(detailsUrl)\n",
    "            location=details_html.find('div',{'class','location'}).find('span').text\n",
    "            features_html=details_html.findAll('div',{'class','car-overview__features'})\n",
    "            #print(features_html)\n",
    "            #print(features_html.length)\n",
    "            features=[]\n",
    "            #print(features_html[:-1])\n",
    "            for category in features_html[:-1]:\n",
    "                for index,feature in enumerate(category.findAll('div',class_='item')):\n",
    "                    if len(feature[\"class\"]) != 1:#if the div has more than one class\n",
    "                        continue\n",
    "                    else:\n",
    "                        img=feature.find('img')\n",
    "                        if img.has_attr('data-src'):\n",
    "                            imgUrl=\"https://ksa.carswitch.com\"+img['data-src']\n",
    "                        else:\n",
    "                            imgUrl=\"https://ksa.carswitch.com\"+img['src']\n",
    "                        imgText=getFeatureTextFromImg(imgUrl)\n",
    "                        if imgText == '' and feature.has_attr('data-searchable'):\n",
    "                            features.append(feature['data-searchable'] )\n",
    "                        else:\n",
    "                            features.append(imgText.replace(\"\\n\",\" \").strip().replace(\"\\x0c\", \"\") )\n",
    "                        #print(imgText)\n",
    "            try:\n",
    "                print(index,title,'   |',price,'  |',model_year,'  |',odo,' |',location,\" |\",features)\n",
    "                \n",
    "            except Exception as ex :\n",
    "                print(ex)\n",
    "                continue"
   ]
  },
  {
   "cell_type": "code",
   "execution_count": 134,
   "id": "b29047fa",
   "metadata": {},
   "outputs": [
    {
     "data": {
      "text/plain": [
       "1658011824.1585748"
      ]
     },
     "execution_count": 134,
     "metadata": {},
     "output_type": "execute_result"
    }
   ],
   "source": [
    "time.time()"
   ]
  },
  {
   "cell_type": "code",
   "execution_count": 135,
   "id": "b79afcfa",
   "metadata": {},
   "outputs": [
    {
     "name": "stdout",
     "output_type": "stream",
     "text": [
      "1\n",
      "https://ksa.carswitch.com/en/dammam/used-car/chevrolet/camaro/2014/308388-312219\n",
      "5 Chevrolet Camaro V8 6.2L SS     | \n",
      "SAR 55,000    | 2014    | 79,000 KM  | \n",
      "Industrial Area Al Sinayia, Dammam   | ['fal Parking sensors', 'Cruise Control', '@  Navigation', 'W  Reversing Camera', 'Steering wheel control', 'oP  Auto dimming mirror', '>  Bluetooth', '{0} premium sound system', 'ic  Leather Seats', 'Remote start', '(sie)  LED headlights']\n",
      "https://ksa.carswitch.com/en/riyadh/used-car/toyota/camry/2020/281146-284959\n",
      "5 Toyota Camry I4 2.5L    | \n",
      "SAR 65,000    | 2020    | 46,000 KM  | \n",
      "As Suwaidi, Riyadh   | ['>  Bluetooth', '{0} premium sound system', 'A  So.  Collision warning system', '(sie)  LED headlights']\n",
      "https://ksa.carswitch.com/en/riyadh/used-car/mercedes/c200/2015/320111-323943\n",
      "5 Mercedes C200 I4 2.0L AMG    | \n",
      "SAR 81,500    | 2015    | 109,000 KM  | \n",
      "Al Rawdhah, Riyadh   | ['fal Parking sensors', 'Cruise Control', '@  Navigation', 'W  Reversing Camera', '{Or Automated Parking', 'A-©  Digital display', 'Steering wheel control', 'Paddle shifters', '>  Bluetooth', '{0} premium sound system', 'ic  Leather Seats', 'vi.  Ambient lighting', '\\\\s  Power seats', '%  Lumbar support', 'A  So.  Collision warning system', '(sie)  LED headlights', 'OF  Fog lights', 'Sy  Brake assist']\n",
      "https://ksa.carswitch.com/en/jeddah/used-car/jeep/compass/2015/316873-320705\n",
      "5 Jeep Compass I4 2.4L    | \n",
      "SAR 36,000    | 2015    | 105,000 KM  | \n",
      "Taiba, Jeddah   | ['Cruise Control', 'A-©  Digital display', 'Steering wheel control']\n",
      "https://ksa.carswitch.com/en/dammam/used-car/lexus/es250/2019/307268-311099\n",
      "5 Lexus ES250 I4 2.5L    | \n",
      "SAR 92,000    | 2019     | 96,000 KM  | \n",
      "An Nur, Dammam   | ['fal Parking sensors', 'Cruise Control', 'W  Reversing Camera', 'Steering wheel control', '>  Bluetooth', 'ic  Leather Seats', 'Push Start', 'Keyless entry', '\\\\s  Power seats', '(sie)  LED headlights', 'OF  Fog lights']\n",
      "https://ksa.carswitch.com/en/riyadh/used-car/mitsubishi/pajero/2017/288177-292008\n",
      "5 Mitsubishi Pajero V6 3.8L GLS    | \n",
      "SAR 60,000    | 2017    | 141,000 KM  | \n",
      "Al Nadheem, Riyadh   | ['A  Headsup display', 'fal Parking sensors', 'Cruise Control', '@  Navigation', '8  Birds eye view camera', 'Steering wheel control', '>  Bluetooth', 'o  Apple carplay/ Android', 'Rear entertainment screens', '{0} premium sound system', 'ic  Leather Seats', 'Push Start', '\\\\s  Power seats', 'IS  Memory seats', 'SN ge Blind spot monitor', 'g  Lane keep assist', 'A  So.  Collision warning system', '(sie)  LED headlights', 'OF  Fog lights', 'Sy  Brake assist']\n",
      "https://ksa.carswitch.com/en/riyadh/used-car/renault/koleos/2014/321671-325503\n",
      "5 Renault Koleos I4 2.5L    | \n",
      "SAR 31,000    | 2014    | 148,000 KM  | \n",
      "Al Shemaysi, Riyadh   | ['Cruise Control', 'Steering wheel control', 'Paddle shifters', 'oP  Auto dimming mirror', '>  Bluetooth', '{0} premium sound system', 'Push Start', 'i  ey  Power folding mirrors', 'A  So.  Collision warning system', '(sie)  LED headlights', 'OF  Fog lights']\n",
      "https://ksa.carswitch.com/en/riyadh/used-car/range-rover/sport/2013/291457-295288\n",
      "5 Range Rover Sport V8 5.0L HSE    | \n",
      "SAR 68,000    | 2013    | 141,000 KM  | \n",
      "Sulaymaniyyah, Riyadh   | ['A  Headsup display', 'fal Parking sensors', 'Cruise Control', '@  Navigation', 'W  Reversing Camera', 'Steering wheel control', 'Paddle shifters', '>  Bluetooth', 'o  Apple carplay/ Android', '{0} premium sound system', 'ic  Leather Seats', 'Push Start', 'Remote start', 'vi.  Ambient lighting', 'Keyless entry', '\\\\s  Power seats', 'i  ey  Power folding mirrors', '%  Lumbar support', 'SN ge Blind spot monitor', 'A  So.  Collision warning system', '(sie)  LED headlights', 'OF  Fog lights']\n",
      "https://ksa.carswitch.com/en/jeddah/used-car/gmc/terrain/2013/321870-325702\n",
      "5 GMC Terrain V6 3.6L SLE    | \n",
      "SAR 26,000    | 2013    | 213,000 KM  | \n",
      "Al Jawharah, Jeddah   | ['Cruise Control', 'W  Reversing Camera', 'Steering wheel control', 'oP  Auto dimming mirror', 'Remote start', '\\\\s  Power seats']\n",
      "https://ksa.carswitch.com/en/dammam/used-car/hyundai/grand-santa-fe/2014/298059-301890\n",
      "5 Hyundai Grand Santa Fe V6 3.3L    | \n",
      "SAR 36,000    | 2014    | 260,000 KM  | \n",
      "Al Faisaliyah, Dammam   | ['fal Parking sensors', 'Cruise Control', 'Gy C__)  1  Rear mirror camera', '(S)  Adaptive cruise control', 'A-©  Digital display', 'Steering wheel control', 'oP  Auto dimming mirror', '>  Bluetooth', '{0} premium sound system', 'ic  Leather Seats', 'Push Start', 'vi.  Ambient lighting', 'Keyless entry', '\\\\s  Power seats', 'i  ey  Power folding mirrors', '&  Hands free liftgate', '18  Heated-cooled seats', '%  Lumbar support', 'A  So.  Collision warning system', '(sie)  LED headlights', 'OF  Fog lights', 'Sy  Brake assist']\n",
      "https://ksa.carswitch.com/en/riyadh/used-car/chevrolet/suburban/2014/322445-326277\n",
      "5 Chevrolet Suburban V8 5.3L LT    | \n",
      "SAR 55,000    | 2014    | 171,000 KM  | \n",
      "Tuwaiq, Riyadh   | ['fal Parking sensors', 'Cruise Control', 'Gy C__)  1  Rear mirror camera', 'A-©  Digital display', 'Steering wheel control', 'oP  Auto dimming mirror', '{0} premium sound system', 'Remote start', '\\\\s  Power seats', 'IS  Memory seats', '%  Lumbar support', 'OF  Fog lights']\n",
      "https://ksa.carswitch.com/en/jeddah/used-car/toyota/fortuner/2018/272800-276613\n",
      "5 Toyota Fortuner V6 4.0L VX    | \n",
      "SAR 79,000    | 2018    | 50,000 KM  | \n",
      "Al Fayhaa, Jeddah   | ['fal Parking sensors', 'Cruise Control', '@  Navigation', 'W  Reversing Camera', 'Steering wheel control', '>  Bluetooth', 'ic  Leather Seats', 'i  ey  Power folding mirrors', 'g  Lane keep assist']\n",
      "https://ksa.carswitch.com/en/jeddah/used-car/mercedes/glk350/2013/278304-282117\n",
      "5 Mercedes GLK350 V6 3.5L 4matic    | \n",
      "SAR 55,000    | 2013    | 214,000 KM  | \n",
      "Al Faisaliyyah, Jeddah   | ['fal Parking sensors', 'Cruise Control', '@  Navigation', 'Paddle shifters', 'oP  Auto dimming mirror', 'ic  Leather Seats', '\\\\s  Power seats', 'i  ey  Power folding mirrors', '(sie)  LED headlights', 'OF  Fog lights', 'Sy  Brake assist']\n",
      "https://ksa.carswitch.com/en/al-khobar/used-car/hyundai/tucson/2013/320714-324546\n",
      "5 Hyundai Tucson I4 2.4L    | \n",
      "SAR 29,000    | 2013    | 323,000 KM  | \n",
      "Al Kurnaish, Al Khobar   | ['Steering wheel control', '>  Bluetooth', '{0} premium sound system']\n",
      "https://ksa.carswitch.com/en/jeddah/used-car/mitsubishi/pajero/2016/318649-322481\n",
      "5 Mitsubishi Pajero V6 3.8L GLS    | \n",
      "SAR 60,000    | 2016    | 167,000 KM  | \n",
      "Al Jamiah, Jeddah   | ['fal Parking sensors', 'Cruise Control', '@  Navigation', 'Gy C__)  1  Rear mirror camera', 'A-©  Digital display', 'Steering wheel control', 'oP  Auto dimming mirror', '>  Bluetooth', 'ic  Leather Seats', 'Push Start', 'vi.  Ambient lighting', 'Keyless entry', '\\\\s  Power seats', 'i  ey  Power folding mirrors', 'A  So.  Collision warning system', '(sie)  LED headlights', 'OF  Fog lights', 'Sy  Brake assist']\n",
      "https://ksa.carswitch.com/en/mecca/used-car/land-rover/discovery-sport/2016/318917-322749\n",
      "5 Land Rover Discovery Sport I4 2.4L     | \n",
      "SAR 80,000    | 2016    | 98,000 KM  | \n",
      "Alawali, Mecca   | ['fal Parking sensors', 'Cruise Control', '@  Navigation', 'W  Reversing Camera', 'A-©  Digital display', 'Steering wheel control', 'Paddle shifters', 'oP  Auto dimming mirror', '>  Bluetooth', '{0} premium sound system', 'ic  Leather Seats', 'Push Start', 'vi.  Ambient lighting', 'Keyless entry', '\\\\s  Power seats', 'IS  Memory seats', 'i  ey  Power folding mirrors', 'Soft close door', '&  Hands free liftgate', '%  Lumbar support', '(sie)  LED headlights', 'OF  Fog lights']\n",
      "https://ksa.carswitch.com/en/al-khobar/used-car/porsche/macan/2015/300687-304518\n",
      "5 Porsche Macan V6 3.0L S    | \n",
      "SAR 130,000    | 2015    | 157,000 KM  | \n",
      "Al Hamra, Al Khobar   | ['fal Parking sensors', 'Cruise Control', '@  Navigation', 'Gy C__)  1  Rear mirror camera', '(S)  Adaptive cruise control', 'A-©  Digital display', 'Steering wheel control', 'oP  Auto dimming mirror', '>  Bluetooth', '{0} premium sound system', 'ic  Leather Seats', 'Push Start', 'vi.  Ambient lighting', 'Keyless entry', '\\\\s  Power seats', 'IS  Memory seats', 'i  ey  Power folding mirrors', '%  Lumbar support', 'SN ge Blind spot monitor', 'A  So.  Collision warning system', '(sie)  LED headlights', 'OF  Fog lights', 'Sy  Brake assist']\n",
      "https://ksa.carswitch.com/en/jeddah/used-car/mercedes/s550/2015/322038-325870\n"
     ]
    },
    {
     "name": "stdout",
     "output_type": "stream",
     "text": [
      "5 Mercedes S550 V8 4.7L     | \n",
      "SAR 183,000    | 2015    | 65,000 Miles  | \n",
      "Al Marwah, Jeddah   | ['fal Parking sensors', 'Cruise Control', '@  Navigation', 'W  Reversing Camera', '8  Birds eye view camera', 'Gy C__)  1  Rear mirror camera', '{Or Automated Parking', '(S)  Adaptive cruise control', 'A-©  Digital display', 'Steering wheel control', 'Paddle shifters', 'oP  Auto dimming mirror', '>  Bluetooth', '{0} premium sound system', 'ic  Leather Seats', 'Push Start', 'Remote start', 'vi.  Ambient lighting', 'Keyless entry', '\\\\s  Power seats', 'IS  Memory seats', 'i  ey  Power folding mirrors', 'Soft close door', '&  Hands free liftgate', '18  Heated-cooled seats', 'SN ge Blind spot monitor', 'g  Lane keep assist', 'A  So.  Collision warning system', '(sie)  LED headlights', 'OF  Fog lights', 'Sy  Brake assist']\n",
      "https://ksa.carswitch.com/en/riyadh/used-car/porsche/cayenne/2016/321096-324928\n",
      "5 Porsche Cayenne V6 3.6L GTS    | \n",
      "SAR 162,500    | 2016    | 196,000 KM  | \n",
      "Al Wadi, Riyadh   | ['fal Parking sensors', 'Cruise Control', '@  Navigation', 'W  Reversing Camera', 'A-©  Digital display', 'Steering wheel control', 'oP  Auto dimming mirror', '>  Bluetooth', '{0} premium sound system', 'ic  Leather Seats', 'Push Start', 'Remote start', 'vi.  Ambient lighting', 'Keyless entry', '\\\\s  Power seats', '&  Hands free liftgate', '18  Heated-cooled seats', '%  Lumbar support', 'A  So.  Collision warning system', '(sie)  LED headlights', 'OF  Fog lights']\n",
      "https://ksa.carswitch.com/en/riyadh/used-car/audi/a6/2011/292407-296238\n",
      "5 Audi A6 I4 2.0L    | \n",
      "SAR 42,000    | 2011    | 84,000 KM  | \n",
      "Hittin, Riyadh   | ['fal Parking sensors', 'Cruise Control', '@  Navigation', '(S)  Adaptive cruise control', '>  Bluetooth', '{0} premium sound system', 'ic  Leather Seats', 'vi.  Ambient lighting', '\\\\s  Power seats', 'IS  Memory seats', '%  Lumbar support', 'A  So.  Collision warning system', '(sie)  LED headlights', 'OF  Fog lights', 'Sy  Brake assist']\n",
      "https://ksa.carswitch.com/en/riyadh/used-car/toyota/rav-4/2015/316528-320360\n",
      "5 Toyota RAV 4 I4 2.5L    | \n",
      "SAR 56,000    | 2015    | 244,000 KM  | \n",
      "Al Aqiq, Riyadh   | ['fal Parking sensors', 'Cruise Control', 'W  Reversing Camera', 'Steering wheel control', '>  Bluetooth', '{0} premium sound system', 'Push Start', '(sie)  LED headlights', 'OF  Fog lights', 'Sy  Brake assist']\n",
      "https://ksa.carswitch.com/en/jeddah/used-car/hyundai/tucson/2016/315089-318921\n",
      "5 Hyundai Tucson I4 1.6L    | \n",
      "SAR 55,000    | 2016    | 177,000 KM  | \n",
      "Al Faisaliyyah, Jeddah   | ['fal Parking sensors', 'Cruise Control', 'W  Reversing Camera', '(S)  Adaptive cruise control', 'Steering wheel control', '>  Bluetooth', '%  Lumbar support', 'OF  Fog lights']\n",
      "https://ksa.carswitch.com/en/jeddah/used-car/ford/expedition/2014/305747-309578\n",
      "5 Ford Expedition V8 5.4L XLT    | \n",
      "SAR 60,000    | 2014    | 104,000 KM  | \n",
      "Al Naseem, Jeddah   | ['Cruise Control', 'Steering wheel control', 'Keyless entry']\n",
      "https://ksa.carswitch.com/en/jeddah/used-car/nissan/altima/2017/310208-314039\n",
      "5 Nissan Altima V6 3.5L SV    | \n",
      "SAR 55,000    | 2017    | 93,000 KM  | \n",
      "Al Mohammadiyyah, Jeddah   | ['fal Parking sensors', 'Cruise Control', 'W  Reversing Camera', '>  Bluetooth', 'Push Start', 'Remote start', '(sie)  LED headlights', 'Sy  Brake assist']\n",
      "\n",
      "\n",
      "Time comsumed:  417.25185775756836\n"
     ]
    }
   ],
   "source": [
    "t0 = time.time()\n",
    "getCarsData(1,2)\n",
    "t1 = time.time()\n",
    "print('\\n\\nTime comsumed: ', t1-t0)"
   ]
  },
  {
   "cell_type": "code",
   "execution_count": null,
   "id": "7c70a197",
   "metadata": {},
   "outputs": [],
   "source": [
    "timeit.timeit('foobar(x,y)', number=1000, globals = globals())"
   ]
  },
  {
   "cell_type": "code",
   "execution_count": null,
   "id": "8217801a",
   "metadata": {},
   "outputs": [],
   "source": [
    "https://ksa.carswitch.com/en/saudi/used-cars/search"
   ]
  },
  {
   "cell_type": "code",
   "execution_count": null,
   "id": "8c0b3833",
   "metadata": {},
   "outputs": [],
   "source": [
    "pro-item show-price-badge cash  ksa badges-visible"
   ]
  },
  {
   "cell_type": "code",
   "execution_count": 76,
   "id": "4c053efd",
   "metadata": {},
   "outputs": [
    {
     "data": {
      "text/plain": [
       "'2017'"
      ]
     },
     "execution_count": 76,
     "metadata": {},
     "output_type": "execute_result"
    }
   ],
   "source": [
    "'2017 · 210,000 km'.split(' · ')[0]"
   ]
  }
 ],
 "metadata": {
  "kernelspec": {
   "display_name": "Python 3 (ipykernel)",
   "language": "python",
   "name": "python3"
  },
  "language_info": {
   "codemirror_mode": {
    "name": "ipython",
    "version": 3
   },
   "file_extension": ".py",
   "mimetype": "text/x-python",
   "name": "python",
   "nbconvert_exporter": "python",
   "pygments_lexer": "ipython3",
   "version": "3.10.5"
  }
 },
 "nbformat": 4,
 "nbformat_minor": 5
}
