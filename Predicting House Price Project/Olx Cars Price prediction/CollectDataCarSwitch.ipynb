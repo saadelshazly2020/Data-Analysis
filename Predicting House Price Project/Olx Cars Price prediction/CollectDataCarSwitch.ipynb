{
 "cells": [
  {
   "cell_type": "code",
   "execution_count": 8,
   "id": "6a091747",
   "metadata": {},
   "outputs": [],
   "source": [
    "from bs4 import BeautifulSoup, NavigableString, Tag\n",
    "import requests\n",
    "import pandas as pd\n",
    "import time\n",
    "from PIL import Image\n",
    "from pytesseract import pytesseract\n",
    "from io import BytesIO\n",
    "import base64\n",
    "import pytesseract\n",
    "import warnings"
   ]
  },
  {
   "cell_type": "code",
   "execution_count": 2,
   "id": "1331e833",
   "metadata": {},
   "outputs": [],
   "source": [
    "warnings.filterwarnings('ignore')"
   ]
  },
  {
   "cell_type": "code",
   "execution_count": 3,
   "id": "3c99f38d",
   "metadata": {},
   "outputs": [],
   "source": [
    "pytesseract.pytesseract.tesseract_cmd = 'C:/Program Files/Tesseract-OCR/tesseract.exe'  # your path may be different"
   ]
  },
  {
   "cell_type": "code",
   "execution_count": 4,
   "id": "51d090a7",
   "metadata": {},
   "outputs": [],
   "source": [
    "global data"
   ]
  },
  {
   "cell_type": "code",
   "execution_count": 5,
   "id": "c4b8455e",
   "metadata": {},
   "outputs": [],
   "source": [
    "#get text from image\n",
    "def getFeatureTextFromImg(imgUrl):\n",
    "    url = imgUrl\n",
    "    headers = {'User-Agent': 'Mozilla/5.0 (Macintosh; Intel Mac OS X 10_10_1) AppleWebKit/537.36 (KHTML, like Gecko) Chrome/39.0.2171.95 Safari/537.36'}\n",
    "    r = requests.get(url, headers=headers)\n",
    "    img = Image.open(BytesIO(r.content))\n",
    "    text = pytesseract.image_to_string(img)\n",
    "    return text"
   ]
  },
  {
   "cell_type": "code",
   "execution_count": 6,
   "id": "d78213c2",
   "metadata": {},
   "outputs": [],
   "source": [
    "def getDetailsData(detailsUrl):\n",
    "    #print(detailsUrl)\n",
    "    headers = {'User-Agent': 'Mozilla/5.0 (X11; Ubuntu; Linux x86_64; rv:79.0) Gecko/20100101 Firefox/79.0'}\n",
    "    detialRequest = requests.get(detailsUrl,headers=headers)\n",
    "    detailContent = detialRequest.content\n",
    "    detailSoup = BeautifulSoup(detailContent,features=\"html.parser\")\n",
    "    details_container=detailSoup.find('aside',{'class':'left-side'})\n",
    "    #location=details_container.find('div',{'class','location'})\n",
    "    return details_container\n"
   ]
  },
  {
   "cell_type": "code",
   "execution_count": 7,
   "id": "b0e19e2f",
   "metadata": {},
   "outputs": [],
   "source": [
    "global df\n",
    "df=pd.DataFrame()"
   ]
  },
  {
   "cell_type": "code",
   "execution_count": 27,
   "id": "9dc0acdf",
   "metadata": {},
   "outputs": [],
   "source": [
    "def getCarsData(page_from,page_to):\n",
    "    global df\n",
    "    data=[]\n",
    "    headers = {'User-Agent': 'Mozilla/5.0 (X11; Ubuntu; Linux x86_64; rv:79.0) Gecko/20100101 Firefox/79.0'}\n",
    "    for pageNo in range(page_from,page_to):\n",
    "        try:\n",
    "            print(pageNo,df.shape[0])\n",
    "            url='https://ksa.carswitch.com/en/saudi/used-cars/search?page={}'.format(pageNo)\n",
    "            r = requests.get(url,headers=headers)\n",
    "            content = r.content\n",
    "            soup = BeautifulSoup(content,features=\"html.parser\")\n",
    "\n",
    "            #soup = BeautifulSoup(data,'html.parser')\n",
    "            #print(soup)\n",
    "            #get div with id main-listing-div\n",
    "            soup = soup.find('section',{'id':'main-listing-div'})\n",
    "            #print(soup)\n",
    "            features={}\n",
    "            items=soup.findAll('div',{'class':'show-price-badge'})\n",
    "            #print(items)\n",
    "            for index,item in enumerate(items):\n",
    "                try:\n",
    "                    features={}\n",
    "                    title=item.find('div',{'class':'title'}).find('a').text\n",
    "                    price=item.find('div',{'class':'title'}).find('span').text\n",
    "                    model_year=item.find('div',{'class':'info'}).find('div',{'class','car-mileage'}).text.split(' · ')[0]\n",
    "                    odo=item.find('div',{'class':'info'}).find('div',{'class','car-mileage'}).text.split(' · ')[1]\n",
    "                    #get more data from details page\n",
    "                    detailsUrl='https://ksa.carswitch.com'+item.find('figure',{'class','image-holder'}).find('a',href=True)['href']\n",
    "                    print(detailsUrl)\n",
    "                    details_html=getDetailsData(detailsUrl)\n",
    "                    location=details_html.find('div',{'class','location'}).find('span').text\n",
    "                    aminities_html=details_html.findAll('div',{'class','car-overview__features'})\n",
    "                    car_features_html=details_html.find('div',{'class','car-overview__features-detail'}).findAll('div',{'class','feature-list__item'})\n",
    "                    #print(features_html)\n",
    "                    #print(features_html.length)\n",
    "                    features={}\n",
    "                    aminities=[]\n",
    "                    #print(features_html[:-1])\n",
    "                    for category in aminities_html[:-1]:\n",
    "                        for index,feature in enumerate(category.findAll('div',class_='item')):\n",
    "                            if len(feature[\"class\"]) != 1:#if the div has more than one class\n",
    "                                continue\n",
    "                            else:\n",
    "                                img=feature.find('img')\n",
    "                                if img.has_attr('data-src'):\n",
    "                                    imgUrl=\"https://ksa.carswitch.com\"+img['data-src']\n",
    "                                else:\n",
    "                                    imgUrl=\"https://ksa.carswitch.com\"+img['src']\n",
    "                                imgText=''#getFeatureTextFromImg(imgUrl)\n",
    "                                if imgText == '' and feature.has_attr('data-searchable'):\n",
    "                                    aminities.append(feature['data-searchable'] )\n",
    "                                else:\n",
    "                                    aminities.append(imgText.replace(\"\\n\",\" \").strip().replace(\"\\x0c\", \"\") )\n",
    "                                #print(imgText)\n",
    "\n",
    "\n",
    "                    features['title']=title\n",
    "                    features['price']=price\n",
    "                    features['model_year']=model_year\n",
    "                    features['odo']=odo\n",
    "                    features['aminities']=aminities\n",
    "                     # car features details\n",
    "                    for feature in car_features_html:\n",
    "                        #print(car_features_html)\n",
    "                        #print(feature)\n",
    "                        name=feature.find('div',{'class':'feature-name'}).find(text=True).strip().replace(' ','_').lower()\n",
    "                        value=feature.find('div',{'class':'feature-value'}).find(text=True).strip()\n",
    "                        #print(name,value)\n",
    "                        features[name]=value\n",
    "                    #print(features)\n",
    "                    df=df.append(features,ignore_index=True)\n",
    "                    #print(index,title,'   |',price,'  |',model_year,'  |',odo,' |',location,\" |\",aminities)\n",
    "                    #break\n",
    "                except Exception as ex :\n",
    "                    print(ex)\n",
    "                    continue\n",
    "        except Exception as ex :\n",
    "            print(ex)\n",
    "            continue\n",
    "            \n",
    "                    "
   ]
  },
  {
   "cell_type": "code",
   "execution_count": 28,
   "id": "b79afcfa",
   "metadata": {
    "scrolled": true
   },
   "outputs": [
    {
     "name": "stdout",
     "output_type": "stream",
     "text": [
      "140 3332\n",
      "https://ksa.carswitch.com/en/saudi/used-car/hyundai/tucson/2019/162820-166536\n",
      "https://ksa.carswitch.com/en/saudi/used-car/hyundai/tucson/2018/162335-166051\n",
      "https://ksa.carswitch.com/en/saudi/used-car/hyundai/tucson/2019/158843-162552\n",
      "https://ksa.carswitch.com/en/saudi/used-car/hyundai/tucson/2017/135448-139111\n",
      "https://ksa.carswitch.com/en/saudi/used-car/hyundai/tucson/2018/132453-136115\n",
      "https://ksa.carswitch.com/en/saudi/used-car/hyundai/tucson/2019/128605-132267\n",
      "https://ksa.carswitch.com/en/saudi/used-car/hyundai/tucson/2017/12397-12996\n",
      "https://ksa.carswitch.com/en/saudi/used-car/hyundai/tucson/2018/112331-112335\n",
      "141 3340\n",
      "'NoneType' object has no attribute 'findAll'\n",
      "\n",
      "\n",
      "Time comsumed:  33.7973313331604\n"
     ]
    }
   ],
   "source": [
    "t0 = time.time()\n",
    "getCarsData(140,142)\n",
    "t1 = time.time()\n",
    "print('\\n\\nTime comsumed: ', t1-t0)\n",
    "#df.to_csv('../Data/car_switch_data_2.csv',index=False)"
   ]
  },
  {
   "cell_type": "code",
   "execution_count": 32,
   "id": "499669d2",
   "metadata": {},
   "outputs": [],
   "source": [
    "#df.to_csv('../Data/car_switch_data.csv',index=False)"
   ]
  },
  {
   "cell_type": "code",
   "execution_count": 9,
   "id": "8b5409e7",
   "metadata": {},
   "outputs": [],
   "source": [
    "df_all=pd.read_csv('../Data/car_switch_data.csv')"
   ]
  },
  {
   "cell_type": "code",
   "execution_count": 18,
   "id": "5ecd8280",
   "metadata": {},
   "outputs": [
    {
     "data": {
      "text/html": [
       "<div>\n",
       "<style scoped>\n",
       "    .dataframe tbody tr th:only-of-type {\n",
       "        vertical-align: middle;\n",
       "    }\n",
       "\n",
       "    .dataframe tbody tr th {\n",
       "        vertical-align: top;\n",
       "    }\n",
       "\n",
       "    .dataframe thead th {\n",
       "        text-align: right;\n",
       "    }\n",
       "</style>\n",
       "<table border=\"1\" class=\"dataframe\">\n",
       "  <thead>\n",
       "    <tr style=\"text-align: right;\">\n",
       "      <th></th>\n",
       "      <th>title</th>\n",
       "      <th>price</th>\n",
       "      <th>model_year</th>\n",
       "      <th>odo</th>\n",
       "      <th>aminities</th>\n",
       "      <th>specs</th>\n",
       "      <th>number_of_seats</th>\n",
       "      <th>drive_type</th>\n",
       "      <th>number_of_cylinders</th>\n",
       "      <th>body_type</th>\n",
       "      <th>...</th>\n",
       "      <th>first_owner</th>\n",
       "      <th>accidents_(not_verified)</th>\n",
       "      <th>currently_financed?</th>\n",
       "      <th>seller_nationality</th>\n",
       "      <th>no._of_keys</th>\n",
       "      <th>roof_type</th>\n",
       "      <th>color</th>\n",
       "      <th>service_history</th>\n",
       "      <th>warranty</th>\n",
       "      <th>service_contract</th>\n",
       "    </tr>\n",
       "  </thead>\n",
       "  <tbody>\n",
       "    <tr>\n",
       "      <th>0</th>\n",
       "      <td>Nissan X-Trail I4 2.5L</td>\n",
       "      <td>\\nSAR 54,000</td>\n",
       "      <td>2016</td>\n",
       "      <td>72,000 KM</td>\n",
       "      <td>['Cruise Control', 'dynamic radar cruise contr...</td>\n",
       "      <td>GCC /Saudi Specs</td>\n",
       "      <td>5.0</td>\n",
       "      <td>2WD</td>\n",
       "      <td>4</td>\n",
       "      <td>SUV</td>\n",
       "      <td>...</td>\n",
       "      <td>Yes</td>\n",
       "      <td>No</td>\n",
       "      <td>No</td>\n",
       "      <td>India</td>\n",
       "      <td>2.0</td>\n",
       "      <td>NaN</td>\n",
       "      <td>NaN</td>\n",
       "      <td>NaN</td>\n",
       "      <td>NaN</td>\n",
       "      <td>NaN</td>\n",
       "    </tr>\n",
       "    <tr>\n",
       "      <th>1</th>\n",
       "      <td>Chrysler 300 V6 3.6L Limited</td>\n",
       "      <td>\\nSAR 30,000</td>\n",
       "      <td>2013</td>\n",
       "      <td>207,000 KM</td>\n",
       "      <td>['front &amp; rear park sensors front parking sens...</td>\n",
       "      <td>GCC /Saudi Specs</td>\n",
       "      <td>5.0</td>\n",
       "      <td>2WD</td>\n",
       "      <td>6</td>\n",
       "      <td>Sedan</td>\n",
       "      <td>...</td>\n",
       "      <td>NaN</td>\n",
       "      <td>3 or more accidents</td>\n",
       "      <td>No</td>\n",
       "      <td>Saudi Arabia</td>\n",
       "      <td>1.0</td>\n",
       "      <td>NaN</td>\n",
       "      <td>NaN</td>\n",
       "      <td>NaN</td>\n",
       "      <td>NaN</td>\n",
       "      <td>NaN</td>\n",
       "    </tr>\n",
       "    <tr>\n",
       "      <th>2</th>\n",
       "      <td>Nissan Altima I4 2.5L S</td>\n",
       "      <td>\\nSAR 20,500</td>\n",
       "      <td>2010</td>\n",
       "      <td>273,000 KM</td>\n",
       "      <td>['front &amp; rear park sensors front parking sens...</td>\n",
       "      <td>GCC /Saudi Specs</td>\n",
       "      <td>5.0</td>\n",
       "      <td>2WD</td>\n",
       "      <td>4</td>\n",
       "      <td>Sedan</td>\n",
       "      <td>...</td>\n",
       "      <td>NaN</td>\n",
       "      <td>No</td>\n",
       "      <td>No</td>\n",
       "      <td>Yemen</td>\n",
       "      <td>1.0</td>\n",
       "      <td>Sun Roof</td>\n",
       "      <td>NaN</td>\n",
       "      <td>NaN</td>\n",
       "      <td>NaN</td>\n",
       "      <td>NaN</td>\n",
       "    </tr>\n",
       "    <tr>\n",
       "      <th>3</th>\n",
       "      <td>GMC Acadia V6 3.6L</td>\n",
       "      <td>\\nSAR 22,000</td>\n",
       "      <td>2012</td>\n",
       "      <td>135,000 KM</td>\n",
       "      <td>['front &amp; rear park sensors front parking sens...</td>\n",
       "      <td>GCC /Saudi Specs</td>\n",
       "      <td>7.0</td>\n",
       "      <td>2WD</td>\n",
       "      <td>6</td>\n",
       "      <td>SUV</td>\n",
       "      <td>...</td>\n",
       "      <td>NaN</td>\n",
       "      <td>No</td>\n",
       "      <td>No</td>\n",
       "      <td>Egypt</td>\n",
       "      <td>2.0</td>\n",
       "      <td>NaN</td>\n",
       "      <td>NaN</td>\n",
       "      <td>NaN</td>\n",
       "      <td>NaN</td>\n",
       "      <td>NaN</td>\n",
       "    </tr>\n",
       "    <tr>\n",
       "      <th>4</th>\n",
       "      <td>Mazda 6 I4 2.5L</td>\n",
       "      <td>\\nSAR 55,000</td>\n",
       "      <td>2017</td>\n",
       "      <td>87,000 KM</td>\n",
       "      <td>['front &amp; rear park sensors front parking sens...</td>\n",
       "      <td>GCC /Saudi Specs</td>\n",
       "      <td>5.0</td>\n",
       "      <td>2WD</td>\n",
       "      <td>4</td>\n",
       "      <td>Sedan</td>\n",
       "      <td>...</td>\n",
       "      <td>Yes</td>\n",
       "      <td>No</td>\n",
       "      <td>No</td>\n",
       "      <td>Pakistan</td>\n",
       "      <td>1.0</td>\n",
       "      <td>NaN</td>\n",
       "      <td>Red</td>\n",
       "      <td>Yes in Garage</td>\n",
       "      <td>NaN</td>\n",
       "      <td>NaN</td>\n",
       "    </tr>\n",
       "  </tbody>\n",
       "</table>\n",
       "<p>5 rows × 23 columns</p>\n",
       "</div>"
      ],
      "text/plain": [
       "                          title          price  model_year         odo  \\\n",
       "0        Nissan X-Trail I4 2.5L  \\nSAR 54,000         2016   72,000 KM   \n",
       "1  Chrysler 300 V6 3.6L Limited  \\nSAR 30,000         2013  207,000 KM   \n",
       "2       Nissan Altima I4 2.5L S  \\nSAR 20,500         2010  273,000 KM   \n",
       "3            GMC Acadia V6 3.6L  \\nSAR 22,000         2012  135,000 KM   \n",
       "4               Mazda 6 I4 2.5L  \\nSAR 55,000         2017   87,000 KM   \n",
       "\n",
       "                                           aminities             specs  \\\n",
       "0  ['Cruise Control', 'dynamic radar cruise contr...  GCC /Saudi Specs   \n",
       "1  ['front & rear park sensors front parking sens...  GCC /Saudi Specs   \n",
       "2  ['front & rear park sensors front parking sens...  GCC /Saudi Specs   \n",
       "3  ['front & rear park sensors front parking sens...  GCC /Saudi Specs   \n",
       "4  ['front & rear park sensors front parking sens...  GCC /Saudi Specs   \n",
       "\n",
       "   number_of_seats drive_type number_of_cylinders body_type  ... first_owner  \\\n",
       "0              5.0        2WD                   4       SUV  ...         Yes   \n",
       "1              5.0        2WD                   6     Sedan  ...         NaN   \n",
       "2              5.0        2WD                   4     Sedan  ...         NaN   \n",
       "3              7.0        2WD                   6       SUV  ...         NaN   \n",
       "4              5.0        2WD                   4     Sedan  ...         Yes   \n",
       "\n",
       "  accidents_(not_verified) currently_financed? seller_nationality no._of_keys  \\\n",
       "0                       No                  No              India         2.0   \n",
       "1      3 or more accidents                  No       Saudi Arabia         1.0   \n",
       "2                       No                  No              Yemen         1.0   \n",
       "3                       No                  No              Egypt         2.0   \n",
       "4                       No                  No           Pakistan         1.0   \n",
       "\n",
       "  roof_type color  service_history warranty service_contract  \n",
       "0       NaN   NaN              NaN      NaN              NaN  \n",
       "1       NaN   NaN              NaN      NaN              NaN  \n",
       "2  Sun Roof   NaN              NaN      NaN              NaN  \n",
       "3       NaN   NaN              NaN      NaN              NaN  \n",
       "4       NaN   Red    Yes in Garage      NaN              NaN  \n",
       "\n",
       "[5 rows x 23 columns]"
      ]
     },
     "execution_count": 18,
     "metadata": {},
     "output_type": "execute_result"
    }
   ],
   "source": [
    "df_all.head()"
   ]
  },
  {
   "cell_type": "code",
   "execution_count": 11,
   "id": "4c053efd",
   "metadata": {},
   "outputs": [
    {
     "data": {
      "text/plain": [
       "Index(['title', 'price', 'model_year', 'odo', 'aminities', 'specs',\n",
       "       'number_of_seats', 'drive_type', 'number_of_cylinders', 'body_type',\n",
       "       'transmission_type', 'fuel_type', 'rim_size', 'first_owner',\n",
       "       'accidents_(not_verified)', 'currently_financed?', 'seller_nationality',\n",
       "       'no._of_keys', 'roof_type', 'color', 'service_history', 'warranty',\n",
       "       'service_contract'],\n",
       "      dtype='object')"
      ]
     },
     "execution_count": 11,
     "metadata": {},
     "output_type": "execute_result"
    }
   ],
   "source": [
    "df_all.columns"
   ]
  },
  {
   "cell_type": "code",
   "execution_count": 13,
   "id": "1ab918a9",
   "metadata": {},
   "outputs": [
    {
     "data": {
      "text/plain": [
       "(3340, 23)"
      ]
     },
     "execution_count": 13,
     "metadata": {},
     "output_type": "execute_result"
    }
   ],
   "source": [
    "df_all.shape"
   ]
  },
  {
   "cell_type": "code",
   "execution_count": 17,
   "id": "8d0f78e9",
   "metadata": {},
   "outputs": [
    {
     "data": {
      "text/plain": [
       "(47, 23)"
      ]
     },
     "execution_count": 17,
     "metadata": {},
     "output_type": "execute_result"
    }
   ],
   "source": [
    "# check for duplication\n",
    "df_all[df_all.duplicated()].shape"
   ]
  },
  {
   "cell_type": "code",
   "execution_count": 25,
   "id": "72b513bf",
   "metadata": {},
   "outputs": [
    {
     "data": {
      "text/plain": [
       "\"['Cruise Control', 'dynamic radar cruise control', 'Bluetooth', 'premium sound premium audio premium audio system', 'Power Lumbar', 'fog lamps fogdriving lights projector fog lamps', 'Emergency braking assist']\""
      ]
     },
     "execution_count": 25,
     "metadata": {},
     "output_type": "execute_result"
    }
   ],
   "source": [
    "df_all['aminities'][0]"
   ]
  }
 ],
 "metadata": {
  "kernelspec": {
   "display_name": "Python 3 (ipykernel)",
   "language": "python",
   "name": "python3"
  },
  "language_info": {
   "codemirror_mode": {
    "name": "ipython",
    "version": 3
   },
   "file_extension": ".py",
   "mimetype": "text/x-python",
   "name": "python",
   "nbconvert_exporter": "python",
   "pygments_lexer": "ipython3",
   "version": "3.10.5"
  }
 },
 "nbformat": 4,
 "nbformat_minor": 5
}
