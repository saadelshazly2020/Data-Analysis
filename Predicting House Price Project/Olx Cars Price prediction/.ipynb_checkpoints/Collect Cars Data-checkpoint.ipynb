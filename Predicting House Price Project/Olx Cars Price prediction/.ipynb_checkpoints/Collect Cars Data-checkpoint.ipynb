{
 "cells": [
  {
   "cell_type": "markdown",
   "metadata": {},
   "source": [
    "# Collect data from open souq"
   ]
  },
  {
   "cell_type": "code",
   "execution_count": 3,
   "metadata": {},
   "outputs": [],
   "source": [
    "from bs4 import BeautifulSoup, NavigableString, Tag\n",
    "import requests\n",
    "import pandas as pd"
   ]
  },
  {
   "cell_type": "code",
   "execution_count": null,
   "metadata": {},
   "outputs": [],
   "source": [
    "global df\n",
    "df=pd.DataFrame(columns=['Amenities','Bedrooms','Bathrooms','Area (m²)',\n",
    " 'Furnished',\n",
    " 'Level',\n",
    " 'Ad Type',\n",
    " 'Type',\n",
    " 'Payment Option',\n",
    " 'price',\n",
    " 'title',\n",
    " 'location',\n",
    " 'Compound'])"
   ]
  },
  {
   "cell_type": "code",
   "execution_count": 4,
   "metadata": {},
   "outputs": [
    {
     "ename": "SyntaxError",
     "evalue": "invalid syntax (<ipython-input-4-e1b58cbd1d2b>, line 1)",
     "output_type": "error",
     "traceback": [
      "\u001b[1;36m  File \u001b[1;32m\"<ipython-input-4-e1b58cbd1d2b>\"\u001b[1;36m, line \u001b[1;32m1\u001b[0m\n\u001b[1;33m    https://sa.opensooq.com/en/find?have_images=&allposts=&onlyPremiumAds=&onlyDonation=&onlyPrice=&onlyUrgent=&onlyShops=&onlyMemberships=&onlyBuynow=&memberId=&sort=record_posted_date.desc&hoodId=&cityId=&term=&cat_id=1731&scid=&city=&PostDynamicFieldModel%5BCar_Year%5D%5Bfrom%5D=&PostDynamicFieldModel%5BCar_Year%5D%5Bto%5D=&PostDynamicFieldModel%5BPayment_Method%5D%5B0%5D=Cash&price_from=&price_to=&price_currency=1&page=84&per-page=30\u001b[0m\n\u001b[1;37m           ^\u001b[0m\n\u001b[1;31mSyntaxError\u001b[0m\u001b[1;31m:\u001b[0m invalid syntax\n"
     ]
    }
   ],
   "source": [
    "https://sa.opensooq.com/en/find?have_images=&allposts=&onlyPremiumAds=&onlyDonation=&onlyPrice=&onlyUrgent=&onlyShops=&onlyMemberships=&onlyBuynow=&memberId=&sort=record_posted_date.desc&hoodId=&cityId=&term=&cat_id=1731&scid=&city=&PostDynamicFieldModel%5BCar_Year%5D%5Bfrom%5D=&PostDynamicFieldModel%5BCar_Year%5D%5Bto%5D=&PostDynamicFieldModel%5BPayment_Method%5D%5B0%5D=Cash&price_from=&price_to=&price_currency=1&page=84&per-page=30"
   ]
  },
  {
   "cell_type": "code",
   "execution_count": null,
   "metadata": {},
   "outputs": [],
   "source": [
    "\n",
    "#import pandas\n",
    "#import numpy\n",
    "\n",
    "def GetCarsData(pages_from,pages_to):\n",
    "    global df\n",
    "    data=[]\n",
    "    headers = {'User-Agent': 'Mozilla/5.0 (X11; Ubuntu; Linux x86_64; rv:79.0) Gecko/20100101 Firefox/79.0'}\n",
    "    #df=pandas.DataFrame(columns=['title','price','location','property_type','bedrooms','bathrooms','area'])\n",
    "    for pageNo in range(pages_from,pages_to):\n",
    "        url=\"https://sa.opensooq.com/en/find?have_images=&allposts=&onlyPremiumAds=&onlyDonation=&onlyPrice=&onlyUrgent=&onlyShops=&onlyMemberships=&onlyBuynow=&memberId=&sort=record_posted_date.desc&hoodId=&cityId=&term=&cat_id=1731&scid=&city=&PostDynamicFieldModel%5BCar_Year%5D%5Bfrom%5D=&PostDynamicFieldModel%5BCar_Year%5D%5Bto%5D=&PostDynamicFieldModel%5BPayment_Method%5D%5B0%5D=Cash&price_from=&price_to=&price_currency=1&page={}&per-page=30\".format(pageNo)\n",
    "        print(pageNo+1,df.shape[0])\n",
    "        r = requests.get(url,headers=headers)\n",
    "        content = r.content\n",
    "        soup = BeautifulSoup(content,features=\"lxml\")\n",
    "        #print(soup)\n",
    "        features={}\n",
    "        for d in soup.findAll('ul', attrs={'id':'gridPostListing'}):\n",
    "            features={}\n",
    "            try:\n",
    "                 #get details\n",
    "                detailsUrl= d.find('a', attrs={'class':'ads__item__ad--title'},href=True)\n",
    "                print(detailsUrl['href'])\n",
    "                detailsUrl=\"https://sa.opensooq.com\"+detailsUrl['href']\n",
    "                detialRequest = requests.get(detailsUrl,headers=headers)\n",
    "                detailContent = detialRequest.content\n",
    "                detailSoup = BeautifulSoup(detailContent,features=\"lxml\")\n",
    "                table_tr = detailSoup.find(\"table\", attrs={ \"class\" : \"details fixed marginbott20 margintop5 full\" }).find_all(\"tr\")\n",
    "                for tr in table_tr:\n",
    "                    for td in tr:\n",
    "                        if isinstance(td, NavigableString):\n",
    "                            continue\n",
    "                        if isinstance(td, Tag) and td.find('tr')!=None :\n",
    "                            #print(body_child.name)\n",
    "                            name=td.find('tr').find('th').text.strip()\n",
    "                            value=td.find('tr').find('td').text.strip()\n",
    "                            features[name]=value.replace('\\t','').replace('\\n\\n',',')\n",
    "                ads_info=d.find('div', attrs={'class':'ads__item__info'})           \n",
    "                if ads_info.find('p',{'class':'ads__item__price price'}) ==None:\n",
    "                    features['price'] = ads_info.find('p',{'class':'ads__item__price price price-arranged'}).text.replace('\\t','').replace('\\n','')\n",
    "                else:\n",
    "                    features['price'] = ads_info.find('p',{'class':'ads__item__price price'}).text.replace('\\t','').replace('\\n','')\n",
    "                features['title'] = ads_info.find('a', attrs={'class':'ads__item__ad--title'}).text.replace('\\t','').replace('\\n','')\n",
    "                features['location']  = ads_info.find('p', attrs={'class':'ads__item__location'}).text.replace('\\t','').replace('\\n','')\n",
    "                df=df.append(features,ignore_index=True)\n",
    "                #pd.concat(df,df_new)\n",
    "                #print(features)\n",
    "                #break\n",
    "            except Exception as ex :\n",
    "                print(ex)\n",
    "                continue\n",
    "    return features\n"
   ]
  },
  {
   "cell_type": "code",
   "execution_count": null,
   "metadata": {},
   "outputs": [],
   "source": [
    "GetHouseList(0,8)\n",
    "df.to_csv('./Data/olx_data_Gardenia.csv',index=False)"
   ]
  }
 ],
 "metadata": {
  "kernelspec": {
   "display_name": "Python 3",
   "language": "python",
   "name": "python3"
  },
  "language_info": {
   "codemirror_mode": {
    "name": "ipython",
    "version": 3
   },
   "file_extension": ".py",
   "mimetype": "text/x-python",
   "name": "python",
   "nbconvert_exporter": "python",
   "pygments_lexer": "ipython3",
   "version": "3.7.6"
  }
 },
 "nbformat": 4,
 "nbformat_minor": 4
}
