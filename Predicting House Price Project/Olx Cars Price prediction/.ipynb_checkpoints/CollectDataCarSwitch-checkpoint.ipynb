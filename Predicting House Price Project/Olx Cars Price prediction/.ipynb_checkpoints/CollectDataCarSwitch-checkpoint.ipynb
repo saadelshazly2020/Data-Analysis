{
 "cells": [
  {
   "cell_type": "code",
   "execution_count": 3,
   "id": "6a091747",
   "metadata": {},
   "outputs": [],
   "source": [
    "from bs4 import BeautifulSoup, NavigableString, Tag\n",
    "import requests\n",
    "import pandas as pd\n",
    "import time\n",
    "from PIL import Image\n",
    "from pytesseract import pytesseract\n",
    "from io import BytesIO\n",
    "import base64\n",
    "import pytesseract"
   ]
  },
  {
   "cell_type": "code",
   "execution_count": 4,
   "id": "3c99f38d",
   "metadata": {},
   "outputs": [],
   "source": [
    "pytesseract.pytesseract.tesseract_cmd = 'C:/Program Files/Tesseract-OCR/tesseract.exe'  # your path may be different"
   ]
  },
  {
   "cell_type": "code",
   "execution_count": 5,
   "id": "51d090a7",
   "metadata": {},
   "outputs": [],
   "source": [
    "global data"
   ]
  },
  {
   "cell_type": "code",
   "execution_count": 6,
   "id": "c4b8455e",
   "metadata": {},
   "outputs": [],
   "source": [
    "#get text from image\n",
    "def getFeatureTextFromImg(imgUrl):\n",
    "    url = imgUrl\n",
    "    headers = {'User-Agent': 'Mozilla/5.0 (Macintosh; Intel Mac OS X 10_10_1) AppleWebKit/537.36 (KHTML, like Gecko) Chrome/39.0.2171.95 Safari/537.36'}\n",
    "    r = requests.get(url, headers=headers)\n",
    "    img = Image.open(BytesIO(r.content))\n",
    "    text = pytesseract.image_to_string(img)\n",
    "    return text"
   ]
  },
  {
   "cell_type": "code",
   "execution_count": 8,
   "id": "d78213c2",
   "metadata": {},
   "outputs": [],
   "source": [
    "def getDetailsData(detailsUrl):\n",
    "    #print(detailsUrl)\n",
    "    headers = {'User-Agent': 'Mozilla/5.0 (X11; Ubuntu; Linux x86_64; rv:79.0) Gecko/20100101 Firefox/79.0'}\n",
    "    detialRequest = requests.get(detailsUrl,headers=headers)\n",
    "    detailContent = detialRequest.content\n",
    "    detailSoup = BeautifulSoup(detailContent,features=\"html.parser\")\n",
    "    details_container=detailSoup.find('aside',{'class':'left-side'})\n",
    "    #location=details_container.find('div',{'class','location'})\n",
    "    return details_container\n"
   ]
  },
  {
   "cell_type": "code",
   "execution_count": 14,
   "id": "3745fad1",
   "metadata": {},
   "outputs": [],
   "source": [
    "global df\n",
    "df=pd.DataFrame()"
   ]
  },
  {
   "cell_type": "code",
   "execution_count": 110,
   "id": "9dc0acdf",
   "metadata": {},
   "outputs": [],
   "source": [
    "def getCarsData(page_from,page_to):\n",
    "    global df\n",
    "    data=[]\n",
    "    headers = {'User-Agent': 'Mozilla/5.0 (X11; Ubuntu; Linux x86_64; rv:79.0) Gecko/20100101 Firefox/79.0'}\n",
    "    for pageNo in range(page_from,page_to):\n",
    "        print(pageNo,df.shape[0])\n",
    "        url='https://ksa.carswitch.com/en/saudi/used-cars/search?page={}'.format(pageNo)\n",
    "        r = requests.get(url,headers=headers)\n",
    "        content = r.content\n",
    "        soup = BeautifulSoup(content,features=\"html.parser\")\n",
    "        \n",
    "        #soup = BeautifulSoup(data,'html.parser')\n",
    "        #print(soup)\n",
    "        #get div with id main-listing-div\n",
    "        soup = soup.find('section',{'id':'main-listing-div'})\n",
    "        #print(soup)\n",
    "        features={}\n",
    "        items=soup.findAll('div',{'class':'show-price-badge'})\n",
    "        #print(items)\n",
    "        for index,item in enumerate(items):\n",
    "            features={}\n",
    "            title=item.find('div',{'class':'title'}).find('a').text\n",
    "            price=item.find('div',{'class':'title'}).find('span').text\n",
    "            model_year=item.find('div',{'class':'info'}).find('div',{'class','car-mileage'}).text.split(' · ')[0]\n",
    "            odo=item.find('div',{'class':'info'}).find('div',{'class','car-mileage'}).text.split(' · ')[1]\n",
    "            #get more data from details page\n",
    "            detailsUrl='https://ksa.carswitch.com'+item.find('figure',{'class','image-holder'}).find('a',href=True)['href']\n",
    "            print(detailsUrl)\n",
    "            details_html=getDetailsData(detailsUrl)\n",
    "            location=details_html.find('div',{'class','location'}).find('span').text\n",
    "            aminities_html=details_html.findAll('div',{'class','car-overview__features'})\n",
    "            car_features_html=details_html.find('div',{'class','car-overview__features-detail'}).findAll('div',{'class','feature-list__item'})\n",
    "            #print(features_html)\n",
    "            #print(features_html.length)\n",
    "            features={}\n",
    "            aminities=[]\n",
    "            #print(features_html[:-1])\n",
    "            for category in aminities_html[:-1]:\n",
    "                for index,feature in enumerate(category.findAll('div',class_='item')):\n",
    "                    if len(feature[\"class\"]) != 1:#if the div has more than one class\n",
    "                        continue\n",
    "                    else:\n",
    "                        img=feature.find('img')\n",
    "                        if img.has_attr('data-src'):\n",
    "                            imgUrl=\"https://ksa.carswitch.com\"+img['data-src']\n",
    "                        else:\n",
    "                            imgUrl=\"https://ksa.carswitch.com\"+img['src']\n",
    "                        imgText=getFeatureTextFromImg(imgUrl)\n",
    "                        if imgText == '' and feature.has_attr('data-searchable'):\n",
    "                            aminities.append(feature['data-searchable'] )\n",
    "                        else:\n",
    "                            aminities.append(imgText.replace(\"\\n\",\" \").strip().replace(\"\\x0c\", \"\") )\n",
    "                        print(imgText)\n",
    "           \n",
    "            try:\n",
    "                features['title']=title\n",
    "                features['price']=price\n",
    "                features['model_year']=model_year\n",
    "                features['odo']=odo\n",
    "                features['aminities']=aminities\n",
    "                 # car features details\n",
    "                for feature in car_features_html:\n",
    "                    #print(car_features_html)\n",
    "                    #print(feature)\n",
    "                    name=feature.find('div',{'class':'feature-name'}).find(text=True).strip().replace(' ','_').lower()\n",
    "                    value=feature.find('div',{'class':'feature-value'}).find(text=True).strip()\n",
    "                    print(name,value)\n",
    "                    features[name]=value\n",
    "                print(features)\n",
    "                df=df.append(features,ignore_index=True)\n",
    "                #print(index,title,'   |',price,'  |',model_year,'  |',odo,' |',location,\" |\",aminities)\n",
    "                break\n",
    "            except Exception as ex :\n",
    "                print(ex)\n",
    "                continue"
   ]
  },
  {
   "cell_type": "code",
   "execution_count": 111,
   "id": "b79afcfa",
   "metadata": {},
   "outputs": [
    {
     "name": "stdout",
     "output_type": "stream",
     "text": [
      "1 40\n",
      "https://ksa.carswitch.com/en/riyadh/used-car/mercedes/c200/2015/320111-323943\n",
      "specs GCC /Saudi Specs\n",
      "number_of_seats 5\n",
      "roof_type Panoramic Roof\n",
      "drive_type 2WD\n",
      "number_of_cylinders 4\n",
      "body_type Sedan\n",
      "transmission_type Automatic\n",
      "fuel_type Petrol\n",
      "rim_size R18\n",
      "first_owner Yes\n",
      "accidents_(not_verified) 2 accidents\n",
      "currently_financed? No\n",
      "seller_nationality Saudi Arabia\n",
      "no._of_keys 1\n",
      "{'title': 'Mercedes C200 I4 2.0L AMG', 'price': '\\nSAR 81,500 ', 'model_year': '2015 ', 'odo': '109,000 KM', 'aminities': [], 'specs': 'GCC /Saudi Specs', 'number_of_seats': '5', 'roof_type': 'Panoramic Roof', 'drive_type': '2WD', 'number_of_cylinders': '4', 'body_type': 'Sedan', 'transmission_type': 'Automatic', 'fuel_type': 'Petrol', 'rim_size': 'R18', 'first_owner': 'Yes', 'accidents_(not_verified)': '2 accidents', 'currently_financed?': 'No', 'seller_nationality': 'Saudi Arabia', 'no._of_keys': '1'}\n",
      "\n",
      "\n",
      "Time comsumed:  15.325930833816528\n"
     ]
    }
   ],
   "source": [
    "t0 = time.time()\n",
    "getCarsData(1,2)\n",
    "t1 = time.time()\n",
    "print('\\n\\nTime comsumed: ', t1-t0)"
   ]
  },
  {
   "cell_type": "code",
   "execution_count": 18,
   "id": "e8b9cf83",
   "metadata": {},
   "outputs": [
    {
     "data": {
      "text/html": [
       "<div>\n",
       "<style scoped>\n",
       "    .dataframe tbody tr th:only-of-type {\n",
       "        vertical-align: middle;\n",
       "    }\n",
       "\n",
       "    .dataframe tbody tr th {\n",
       "        vertical-align: top;\n",
       "    }\n",
       "\n",
       "    .dataframe thead th {\n",
       "        text-align: right;\n",
       "    }\n",
       "</style>\n",
       "<table border=\"1\" class=\"dataframe\">\n",
       "  <thead>\n",
       "    <tr style=\"text-align: right;\">\n",
       "      <th></th>\n",
       "      <th>title</th>\n",
       "      <th>price</th>\n",
       "      <th>model_year</th>\n",
       "      <th>odo</th>\n",
       "      <th>aminities</th>\n",
       "      <th></th>\n",
       "    </tr>\n",
       "  </thead>\n",
       "  <tbody>\n",
       "    <tr>\n",
       "      <th>0</th>\n",
       "      <td>Mercedes C200 I4 2.0L AMG</td>\n",
       "      <td>\\nSAR 81,500</td>\n",
       "      <td>2015</td>\n",
       "      <td>109,000 KM</td>\n",
       "      <td>[fal Parking sensors, Cruise Control, @  Navig...</td>\n",
       "      <td></td>\n",
       "    </tr>\n",
       "    <tr>\n",
       "      <th>1</th>\n",
       "      <td>Mazda CX-5 I4 2.5L</td>\n",
       "      <td>\\nSAR 65,000</td>\n",
       "      <td>2017</td>\n",
       "      <td>62,000 KM</td>\n",
       "      <td>[fal Parking sensors, Cruise Control, @  Navig...</td>\n",
       "      <td></td>\n",
       "    </tr>\n",
       "    <tr>\n",
       "      <th>2</th>\n",
       "      <td>Toyota Prado I4 2.7L TXL</td>\n",
       "      <td>\\nSAR 100,000</td>\n",
       "      <td>2016</td>\n",
       "      <td>86,000 KM</td>\n",
       "      <td>[fal Parking sensors, Cruise Control, W  Rever...</td>\n",
       "      <td></td>\n",
       "    </tr>\n",
       "    <tr>\n",
       "      <th>3</th>\n",
       "      <td>Jetour X70 I4 1.5L</td>\n",
       "      <td>\\nSAR 61,500</td>\n",
       "      <td>2022</td>\n",
       "      <td>800 KM</td>\n",
       "      <td>[A  Headsup display, fal Parking sensors, Crui...</td>\n",
       "      <td></td>\n",
       "    </tr>\n",
       "    <tr>\n",
       "      <th>4</th>\n",
       "      <td>Jeep Compass I4 2.4L</td>\n",
       "      <td>\\nSAR 36,000</td>\n",
       "      <td>2015</td>\n",
       "      <td>105,000 KM</td>\n",
       "      <td>[Cruise Control, A-©  Digital display, Steerin...</td>\n",
       "      <td></td>\n",
       "    </tr>\n",
       "  </tbody>\n",
       "</table>\n",
       "</div>"
      ],
      "text/plain": [
       "                       title           price model_year         odo  \\\n",
       "0  Mercedes C200 I4 2.0L AMG   \\nSAR 81,500       2015   109,000 KM   \n",
       "1         Mazda CX-5 I4 2.5L   \\nSAR 65,000       2017    62,000 KM   \n",
       "2   Toyota Prado I4 2.7L TXL  \\nSAR 100,000       2016    86,000 KM   \n",
       "3         Jetour X70 I4 1.5L   \\nSAR 61,500       2022       800 KM   \n",
       "4       Jeep Compass I4 2.4L   \\nSAR 36,000       2015   105,000 KM   \n",
       "\n",
       "                                           aminities    \n",
       "0  [fal Parking sensors, Cruise Control, @  Navig...    \n",
       "1  [fal Parking sensors, Cruise Control, @  Navig...    \n",
       "2  [fal Parking sensors, Cruise Control, W  Rever...    \n",
       "3  [A  Headsup display, fal Parking sensors, Crui...    \n",
       "4  [Cruise Control, A-©  Digital display, Steerin...    "
      ]
     },
     "execution_count": 18,
     "metadata": {},
     "output_type": "execute_result"
    }
   ],
   "source": [
    "df.head()"
   ]
  },
  {
   "cell_type": "code",
   "execution_count": 76,
   "id": "4c053efd",
   "metadata": {},
   "outputs": [
    {
     "data": {
      "text/plain": [
       "'2017'"
      ]
     },
     "execution_count": 76,
     "metadata": {},
     "output_type": "execute_result"
    }
   ],
   "source": [
    "'2017 · 210,000 km'.split(' · ')[0]"
   ]
  }
 ],
 "metadata": {
  "kernelspec": {
   "display_name": "Python 3 (ipykernel)",
   "language": "python",
   "name": "python3"
  },
  "language_info": {
   "codemirror_mode": {
    "name": "ipython",
    "version": 3
   },
   "file_extension": ".py",
   "mimetype": "text/x-python",
   "name": "python",
   "nbconvert_exporter": "python",
   "pygments_lexer": "ipython3",
   "version": "3.10.5"
  }
 },
 "nbformat": 4,
 "nbformat_minor": 5
}
