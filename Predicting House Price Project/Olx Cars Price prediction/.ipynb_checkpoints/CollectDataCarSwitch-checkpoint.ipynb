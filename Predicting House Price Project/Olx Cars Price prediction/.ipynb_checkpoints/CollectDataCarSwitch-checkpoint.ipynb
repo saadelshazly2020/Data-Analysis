{
 "cells": [
  {
   "cell_type": "code",
   "execution_count": 1,
   "id": "6a091747",
   "metadata": {},
   "outputs": [],
   "source": [
    "from bs4 import BeautifulSoup, NavigableString, Tag\n",
    "import requests\n",
    "import pandas as pd\n",
    "import time\n",
    "from PIL import Image\n",
    "from pytesseract import pytesseract\n",
    "from io import BytesIO\n",
    "import base64\n",
    "import pytesseract"
   ]
  },
  {
   "cell_type": "code",
   "execution_count": 2,
   "id": "3c99f38d",
   "metadata": {},
   "outputs": [],
   "source": [
    "pytesseract.pytesseract.tesseract_cmd = 'C:/Program Files/Tesseract-OCR/tesseract.exe'  # your path may be different"
   ]
  },
  {
   "cell_type": "code",
   "execution_count": 3,
   "id": "51d090a7",
   "metadata": {},
   "outputs": [],
   "source": [
    "global data"
   ]
  },
  {
   "cell_type": "code",
   "execution_count": 4,
   "id": "c4b8455e",
   "metadata": {},
   "outputs": [],
   "source": [
    "#get text from image\n",
    "def getFeatureTextFromImg(imgUrl):\n",
    "    url = imgUrl\n",
    "    headers = {'User-Agent': 'Mozilla/5.0 (Macintosh; Intel Mac OS X 10_10_1) AppleWebKit/537.36 (KHTML, like Gecko) Chrome/39.0.2171.95 Safari/537.36'}\n",
    "    r = requests.get(url, headers=headers)\n",
    "    img = Image.open(BytesIO(r.content))\n",
    "    text = pytesseract.image_to_string(img)\n",
    "    return text"
   ]
  },
  {
   "cell_type": "code",
   "execution_count": 94,
   "id": "eae5dc19",
   "metadata": {},
   "outputs": [
    {
     "name": "stdout",
     "output_type": "stream",
     "text": [
      "\n"
     ]
    }
   ],
   "source": [
    "txt=getFeatureTextFromImg('https://ksa.carswitch.com/assets/png/43.png')\n",
    "print(txt)"
   ]
  },
  {
   "cell_type": "code",
   "execution_count": 91,
   "id": "d78213c2",
   "metadata": {},
   "outputs": [],
   "source": [
    "def getDetailsData(detailsUrl):\n",
    "    #print(detailsUrl)\n",
    "    headers = {'User-Agent': 'Mozilla/5.0 (X11; Ubuntu; Linux x86_64; rv:79.0) Gecko/20100101 Firefox/79.0'}\n",
    "    detialRequest = requests.get(detailsUrl,headers=headers)\n",
    "    detailContent = detialRequest.content\n",
    "    detailSoup = BeautifulSoup(detailContent,features=\"html.parser\")\n",
    "    details_container=detailSoup.find('aside',{'class':'left-side'})\n",
    "    #location=details_container.find('div',{'class','location'})\n",
    "    return details_container\n"
   ]
  },
  {
   "cell_type": "code",
   "execution_count": 115,
   "id": "9dc0acdf",
   "metadata": {},
   "outputs": [],
   "source": [
    "def getCarsData(page_from,page_to):\n",
    "    global df\n",
    "    data=[]\n",
    "    headers = {'User-Agent': 'Mozilla/5.0 (X11; Ubuntu; Linux x86_64; rv:79.0) Gecko/20100101 Firefox/79.0'}\n",
    "    for pageNo in range(page_from,page_to):\n",
    "        print(pageNo)\n",
    "        url='https://ksa.carswitch.com/en/saudi/used-cars/search?page={}'.format(pageNo)\n",
    "        r = requests.get(url,headers=headers)\n",
    "        content = r.content\n",
    "        soup = BeautifulSoup(content,features=\"html.parser\")\n",
    "        \n",
    "        #soup = BeautifulSoup(data,'html.parser')\n",
    "        #print(soup)\n",
    "        #get div with id main-listing-div\n",
    "        soup = soup.find('section',{'id':'main-listing-div'})\n",
    "        #print(soup)\n",
    "        features={}\n",
    "        items=soup.findAll('div',{'class':'show-price-badge'})\n",
    "        #print(items)\n",
    "        for index,item in enumerate(items):\n",
    "            features={}\n",
    "            title=item.find('div',{'class':'title'}).find('a').text\n",
    "            price=item.find('div',{'class':'title'}).find('span').text\n",
    "            model_year=item.find('div',{'class':'info'}).find('div',{'class','car-mileage'}).text.split(' · ')[0]\n",
    "            odo=item.find('div',{'class':'info'}).find('div',{'class','car-mileage'}).text.split(' · ')[1]\n",
    "            #get more data from details page\n",
    "            detailsUrl='https://ksa.carswitch.com'+item.find('figure',{'class','image-holder'}).find('a',href=True)['href']\n",
    "            print(detailsUrl)\n",
    "            details_html=getDetailsData(detailsUrl)\n",
    "            location=details_html.find('div',{'class','location'}).find('span').text\n",
    "            features_html=details_html.findAll('div',{'class','car-overview__features'})\n",
    "            #print(features_html)\n",
    "            #print(features_html.length)\n",
    "            features=[]\n",
    "            print(features_html[:-1])\n",
    "#            for category in features_html[-1]:\n",
    "            for index,feature in enumerate(features_html[-1].findAll('div',class_='item')):\n",
    "                if len(feature[\"class\"]) != 1:#if the div has more than one class\n",
    "                    continue\n",
    "                else:\n",
    "                    img=feature.find('img')\n",
    "                    if img.has_attr('data-src'):\n",
    "                        imgUrl=\"https://ksa.carswitch.com\"+img['data-src']\n",
    "                    else:\n",
    "                        imgUrl=\"https://ksa.carswitch.com\"+img['src']\n",
    "                    imgText=getFeatureTextFromImg(imgUrl)\n",
    "                    if imgText == '' and feature.has_attr('data-searchable'):\n",
    "                        features.append(feature['data-searchable'] )\n",
    "                    else:\n",
    "                        features.append(imgText.replace(\"\\n\",\" \").strip().replace(\"\\x0c\", \"\") )\n",
    "                    #print(imgText)\n",
    "            try:\n",
    "                print(index,title,'   |',price,'  |',model_year,'  |',odo,' |',location,\" |\",features)\n",
    "                break\n",
    "            except Exception as ex :\n",
    "                print(ex)\n",
    "                continue"
   ]
  },
  {
   "cell_type": "code",
   "execution_count": 116,
   "id": "b79afcfa",
   "metadata": {},
   "outputs": [
    {
     "name": "stdout",
     "output_type": "stream",
     "text": [
      "1\n",
      "https://ksa.carswitch.com/en/dammam/used-car/chevrolet/camaro/2014/308388-312219\n",
      "10 Chevrolet Camaro V8 6.2L SS     | \n",
      "SAR 55,000    | 2014    | 79,000 KM  | \n",
      "Industrial Area Al Sinayia, Dammam   | ['SAUDI  GCC/Saudi Specs', 'Automatic Transmission', '2WD', '—_  o>  Sunroof', 'ic  Leather Seats', 'Remote start', '@  Navigation', 'W  Reversing Camera', '', '>  Bluetooth', 'fal Parking sensors']\n"
     ]
    }
   ],
   "source": [
    "getCarsData(1,2)"
   ]
  },
  {
   "cell_type": "code",
   "execution_count": null,
   "id": "8217801a",
   "metadata": {},
   "outputs": [],
   "source": [
    "https://ksa.carswitch.com/en/saudi/used-cars/search"
   ]
  },
  {
   "cell_type": "code",
   "execution_count": null,
   "id": "8c0b3833",
   "metadata": {},
   "outputs": [],
   "source": [
    "pro-item show-price-badge cash  ksa badges-visible"
   ]
  },
  {
   "cell_type": "code",
   "execution_count": 76,
   "id": "4c053efd",
   "metadata": {},
   "outputs": [
    {
     "data": {
      "text/plain": [
       "'2017'"
      ]
     },
     "execution_count": 76,
     "metadata": {},
     "output_type": "execute_result"
    }
   ],
   "source": [
    "'2017 · 210,000 km'.split(' · ')[0]"
   ]
  }
 ],
 "metadata": {
  "kernelspec": {
   "display_name": "Python 3 (ipykernel)",
   "language": "python",
   "name": "python3"
  },
  "language_info": {
   "codemirror_mode": {
    "name": "ipython",
    "version": 3
   },
   "file_extension": ".py",
   "mimetype": "text/x-python",
   "name": "python",
   "nbconvert_exporter": "python",
   "pygments_lexer": "ipython3",
   "version": "3.10.5"
  }
 },
 "nbformat": 4,
 "nbformat_minor": 5
}
