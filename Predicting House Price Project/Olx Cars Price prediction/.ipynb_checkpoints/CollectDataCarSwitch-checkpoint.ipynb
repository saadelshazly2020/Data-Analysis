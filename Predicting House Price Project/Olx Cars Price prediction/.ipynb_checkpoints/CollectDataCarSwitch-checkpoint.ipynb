{
 "cells": [
  {
   "cell_type": "code",
   "execution_count": 1,
   "id": "6a091747",
   "metadata": {},
   "outputs": [],
   "source": [
    "from bs4 import BeautifulSoup, NavigableString, Tag\n",
    "import requests\n",
    "import pandas as pd\n",
    "import time\n",
    "from PIL import Image\n",
    "from pytesseract import pytesseract\n",
    "from io import BytesIO\n",
    "import base64\n",
    "import pytesseract\n",
    "import warnings"
   ]
  },
  {
   "cell_type": "code",
   "execution_count": 2,
   "id": "1331e833",
   "metadata": {},
   "outputs": [],
   "source": [
    "warnings.filterwarnings('ignore')"
   ]
  },
  {
   "cell_type": "code",
   "execution_count": 3,
   "id": "3c99f38d",
   "metadata": {},
   "outputs": [],
   "source": [
    "pytesseract.pytesseract.tesseract_cmd = 'C:/Program Files/Tesseract-OCR/tesseract.exe'  # your path may be different"
   ]
  },
  {
   "cell_type": "code",
   "execution_count": 4,
   "id": "51d090a7",
   "metadata": {},
   "outputs": [],
   "source": [
    "global data"
   ]
  },
  {
   "cell_type": "code",
   "execution_count": 5,
   "id": "c4b8455e",
   "metadata": {},
   "outputs": [],
   "source": [
    "#get text from image\n",
    "def getFeatureTextFromImg(imgUrl):\n",
    "    url = imgUrl\n",
    "    headers = {'User-Agent': 'Mozilla/5.0 (Macintosh; Intel Mac OS X 10_10_1) AppleWebKit/537.36 (KHTML, like Gecko) Chrome/39.0.2171.95 Safari/537.36'}\n",
    "    r = requests.get(url, headers=headers)\n",
    "    img = Image.open(BytesIO(r.content))\n",
    "    text = pytesseract.image_to_string(img)\n",
    "    return text"
   ]
  },
  {
   "cell_type": "code",
   "execution_count": 6,
   "id": "d78213c2",
   "metadata": {},
   "outputs": [],
   "source": [
    "def getDetailsData(detailsUrl):\n",
    "    #print(detailsUrl)\n",
    "    headers = {'User-Agent': 'Mozilla/5.0 (X11; Ubuntu; Linux x86_64; rv:79.0) Gecko/20100101 Firefox/79.0'}\n",
    "    detialRequest = requests.get(detailsUrl,headers=headers)\n",
    "    detailContent = detialRequest.content\n",
    "    detailSoup = BeautifulSoup(detailContent,features=\"html.parser\")\n",
    "    details_container=detailSoup.find('aside',{'class':'left-side'})\n",
    "    #location=details_container.find('div',{'class','location'})\n",
    "    return details_container\n"
   ]
  },
  {
   "cell_type": "code",
   "execution_count": 7,
   "id": "b0e19e2f",
   "metadata": {},
   "outputs": [],
   "source": [
    "global df\n",
    "df=pd.DataFrame()"
   ]
  },
  {
   "cell_type": "code",
   "execution_count": 25,
   "id": "9dc0acdf",
   "metadata": {},
   "outputs": [],
   "source": [
    "def getCarsData(page_from,page_to):\n",
    "    global df\n",
    "    data=[]\n",
    "    headers = {'User-Agent': 'Mozilla/5.0 (X11; Ubuntu; Linux x86_64; rv:79.0) Gecko/20100101 Firefox/79.0'}\n",
    "    for pageNo in range(page_from,page_to):\n",
    "        try:\n",
    "            print(pageNo,df.shape[0])\n",
    "            url='https://ksa.carswitch.com/en/saudi/used-cars/search?page={}'.format(pageNo)\n",
    "            r = requests.get(url,headers=headers)\n",
    "            content = r.content\n",
    "            soup = BeautifulSoup(content,features=\"html.parser\")\n",
    "\n",
    "            #soup = BeautifulSoup(data,'html.parser')\n",
    "            #print(soup)\n",
    "            #get div with id main-listing-div\n",
    "            soup = soup.find('section',{'id':'main-listing-div'})\n",
    "            #print(soup)\n",
    "            features={}\n",
    "            items=soup.findAll('div',{'class':'show-price-badge'})\n",
    "            #print(items)\n",
    "            for index,item in enumerate(items):\n",
    "                try:\n",
    "                    features={}\n",
    "                    title=item.find('div',{'class':'title'}).find('a').text\n",
    "                    price=item.find('div',{'class':'title'}).find('span').text\n",
    "                    model_year=item.find('div',{'class':'info'}).find('div',{'class','car-mileage'}).text.split(' · ')[0]\n",
    "                    odo=item.find('div',{'class':'info'}).find('div',{'class','car-mileage'}).text.split(' · ')[1]\n",
    "                    #get more data from details page\n",
    "                    detailsUrl='https://ksa.carswitch.com'+item.find('figure',{'class','image-holder'}).find('a',href=True)['href']\n",
    "                    print(detailsUrl)\n",
    "                    details_html=getDetailsData(detailsUrl)\n",
    "                    location=details_html.find('div',{'class','location'}).find('span').text\n",
    "                    aminities_html=details_html.findAll('div',{'class','car-overview__features'})\n",
    "                    car_features_html=details_html.find('div',{'class','car-overview__features-detail'}).findAll('div',{'class','feature-list__item'})\n",
    "                    #print(features_html)\n",
    "                    #print(features_html.length)\n",
    "                    features={}\n",
    "                    aminities=[]\n",
    "                    #print(features_html[:-1])\n",
    "                    for category in aminities_html[:-1]:\n",
    "                        for index,feature in enumerate(category.findAll('div',class_='item')):\n",
    "                            if len(feature[\"class\"]) != 1:#if the div has more than one class\n",
    "                                continue\n",
    "                            else:\n",
    "                                img=feature.find('img')\n",
    "                                if img.has_attr('data-src'):\n",
    "                                    imgUrl=\"https://ksa.carswitch.com\"+img['data-src']\n",
    "                                else:\n",
    "                                    imgUrl=\"https://ksa.carswitch.com\"+img['src']\n",
    "                                imgText=''#getFeatureTextFromImg(imgUrl)\n",
    "                                if imgText == '' and feature.has_attr('data-searchable'):\n",
    "                                    aminities.append(feature['data-searchable'] )\n",
    "                                else:\n",
    "                                    aminities.append(imgText.replace(\"\\n\",\" \").strip().replace(\"\\x0c\", \"\") )\n",
    "                                #print(imgText)\n",
    "\n",
    "\n",
    "                    features['title']=title\n",
    "                    features['price']=price\n",
    "                    features['model_year']=model_year\n",
    "                    features['odo']=odo\n",
    "                    features['aminities']=aminities\n",
    "                     # car features details\n",
    "                    for feature in car_features_html:\n",
    "                        #print(car_features_html)\n",
    "                        #print(feature)\n",
    "                        name=feature.find('div',{'class':'feature-name'}).find(text=True).strip().replace(' ','_').lower()\n",
    "                        value=feature.find('div',{'class':'feature-value'}).find(text=True).strip()\n",
    "                        #print(name,value)\n",
    "                        features[name]=value\n",
    "                    #print(features)\n",
    "                    df=df.append(features,ignore_index=True)\n",
    "                    #print(index,title,'   |',price,'  |',model_year,'  |',odo,' |',location,\" |\",aminities)\n",
    "                    #break\n",
    "                except Exception as ex :\n",
    "                    print(ex)\n",
    "                    continue\n",
    "        except Exception as ex :\n",
    "            print(ex)\n",
    "            continue\n",
    "            \n",
    "                    "
   ]
  },
  {
   "cell_type": "code",
   "execution_count": 26,
   "id": "b79afcfa",
   "metadata": {
    "scrolled": true
   },
   "outputs": [
    {
     "name": "stdout",
     "output_type": "stream",
     "text": [
      "140 3324\n",
      "https://ksa.carswitch.com/en/saudi/used-car/hyundai/tucson/2019/162820-166536\n",
      "https://ksa.carswitch.com/en/saudi/used-car/hyundai/tucson/2018/162335-166051\n",
      "https://ksa.carswitch.com/en/saudi/used-car/hyundai/tucson/2019/158843-162552\n",
      "https://ksa.carswitch.com/en/saudi/used-car/hyundai/tucson/2017/135448-139111\n",
      "https://ksa.carswitch.com/en/saudi/used-car/hyundai/tucson/2018/132453-136115\n",
      "https://ksa.carswitch.com/en/saudi/used-car/hyundai/tucson/2019/128605-132267\n",
      "https://ksa.carswitch.com/en/saudi/used-car/hyundai/tucson/2017/12397-12996\n",
      "https://ksa.carswitch.com/en/saudi/used-car/hyundai/tucson/2018/112331-112335\n",
      "141 3332\n"
     ]
    },
    {
     "ename": "AttributeError",
     "evalue": "'NoneType' object has no attribute 'findAll'",
     "output_type": "error",
     "traceback": [
      "\u001b[1;31m---------------------------------------------------------------------------\u001b[0m",
      "\u001b[1;31mAttributeError\u001b[0m                            Traceback (most recent call last)",
      "Input \u001b[1;32mIn [26]\u001b[0m, in \u001b[0;36m<cell line: 2>\u001b[1;34m()\u001b[0m\n\u001b[0;32m      1\u001b[0m t0 \u001b[38;5;241m=\u001b[39m time\u001b[38;5;241m.\u001b[39mtime()\n\u001b[1;32m----> 2\u001b[0m \u001b[43mgetCarsData\u001b[49m\u001b[43m(\u001b[49m\u001b[38;5;241;43m140\u001b[39;49m\u001b[43m,\u001b[49m\u001b[38;5;241;43m142\u001b[39;49m\u001b[43m)\u001b[49m\n\u001b[0;32m      3\u001b[0m t1 \u001b[38;5;241m=\u001b[39m time\u001b[38;5;241m.\u001b[39mtime()\n\u001b[0;32m      4\u001b[0m \u001b[38;5;28mprint\u001b[39m(\u001b[38;5;124m'\u001b[39m\u001b[38;5;130;01m\\n\u001b[39;00m\u001b[38;5;130;01m\\n\u001b[39;00m\u001b[38;5;124mTime comsumed: \u001b[39m\u001b[38;5;124m'\u001b[39m, t1\u001b[38;5;241m-\u001b[39mt0)\n",
      "Input \u001b[1;32mIn [25]\u001b[0m, in \u001b[0;36mgetCarsData\u001b[1;34m(page_from, page_to)\u001b[0m\n\u001b[0;32m     16\u001b[0m \u001b[38;5;66;03m#print(soup)\u001b[39;00m\n\u001b[0;32m     17\u001b[0m features\u001b[38;5;241m=\u001b[39m{}\n\u001b[1;32m---> 18\u001b[0m items\u001b[38;5;241m=\u001b[39m\u001b[43msoup\u001b[49m\u001b[38;5;241;43m.\u001b[39;49m\u001b[43mfindAll\u001b[49m(\u001b[38;5;124m'\u001b[39m\u001b[38;5;124mdiv\u001b[39m\u001b[38;5;124m'\u001b[39m,{\u001b[38;5;124m'\u001b[39m\u001b[38;5;124mclass\u001b[39m\u001b[38;5;124m'\u001b[39m:\u001b[38;5;124m'\u001b[39m\u001b[38;5;124mshow-price-badge\u001b[39m\u001b[38;5;124m'\u001b[39m})\n\u001b[0;32m     19\u001b[0m \u001b[38;5;66;03m#print(items)\u001b[39;00m\n\u001b[0;32m     20\u001b[0m \u001b[38;5;28;01mfor\u001b[39;00m index,item \u001b[38;5;129;01min\u001b[39;00m \u001b[38;5;28menumerate\u001b[39m(items):\n",
      "\u001b[1;31mAttributeError\u001b[0m: 'NoneType' object has no attribute 'findAll'"
     ]
    }
   ],
   "source": [
    "t0 = time.time()\n",
    "getCarsData(140,142)\n",
    "t1 = time.time()\n",
    "print('\\n\\nTime comsumed: ', t1-t0)\n",
    "df.to_csv('../Data/car_switch_data_1.csv',index=False)"
   ]
  },
  {
   "cell_type": "code",
   "execution_count": 15,
   "id": "468a3ef4",
   "metadata": {},
   "outputs": [],
   "source": [
    "df.to_csv('../Data/car_switch_data.csv',index=False)"
   ]
  },
  {
   "cell_type": "code",
   "execution_count": 16,
   "id": "8b5409e7",
   "metadata": {},
   "outputs": [],
   "source": [
    "df_all=pd.read_csv('../Data/car_switch_data.csv')"
   ]
  },
  {
   "cell_type": "code",
   "execution_count": 20,
   "id": "5ecd8280",
   "metadata": {},
   "outputs": [
    {
     "data": {
      "text/plain": [
       "(2205, 23)"
      ]
     },
     "execution_count": 20,
     "metadata": {},
     "output_type": "execute_result"
    }
   ],
   "source": [
    "df_all.shape"
   ]
  },
  {
   "cell_type": "code",
   "execution_count": 21,
   "id": "4c053efd",
   "metadata": {},
   "outputs": [
    {
     "data": {
      "text/plain": [
       "(3316, 23)"
      ]
     },
     "execution_count": 21,
     "metadata": {},
     "output_type": "execute_result"
    }
   ],
   "source": [
    "df.shape"
   ]
  },
  {
   "cell_type": "code",
   "execution_count": null,
   "id": "71051e9d",
   "metadata": {},
   "outputs": [],
   "source": []
  },
  {
   "cell_type": "code",
   "execution_count": null,
   "id": "f6a535be",
   "metadata": {},
   "outputs": [],
   "source": []
  }
 ],
 "metadata": {
  "kernelspec": {
   "display_name": "Python 3 (ipykernel)",
   "language": "python",
   "name": "python3"
  },
  "language_info": {
   "codemirror_mode": {
    "name": "ipython",
    "version": 3
   },
   "file_extension": ".py",
   "mimetype": "text/x-python",
   "name": "python",
   "nbconvert_exporter": "python",
   "pygments_lexer": "ipython3",
   "version": "3.10.5"
  }
 },
 "nbformat": 4,
 "nbformat_minor": 5
}
