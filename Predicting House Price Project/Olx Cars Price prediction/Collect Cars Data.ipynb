{
 "cells": [
  {
   "cell_type": "markdown",
   "metadata": {},
   "source": [
    "# Collect data from open souq"
   ]
  },
  {
   "cell_type": "code",
   "execution_count": 3,
   "metadata": {},
   "outputs": [],
   "source": [
    "from bs4 import BeautifulSoup, NavigableString, Tag\n",
    "import requests\n",
    "import pandas as pd"
   ]
  },
  {
   "cell_type": "code",
   "execution_count": 2,
   "metadata": {},
   "outputs": [],
   "source": [
    "global df\n",
    "df=pd.DataFrame(columns=['Amenities','Bedrooms','Bathrooms','Area (m²)',\n",
    " 'Furnished',\n",
    " 'Level',\n",
    " 'Ad Type',\n",
    " 'Type',\n",
    " 'Payment Option',\n",
    " 'price',\n",
    " 'title',\n",
    " 'location',\n",
    " 'Compound'])"
   ]
  },
  {
   "cell_type": "markdown",
   "metadata": {},
   "source": [
    "#### https://sa.opensooq.com/en/find?have_images=&allposts=&onlyPremiumAds=&onlyDonation=&onlyPrice=&onlyUrgent=&onlyShops=&onlyMemberships=&onlyBuynow=&memberId=&sort=record_posted_date.desc&hoodId=&cityId=&term=&cat_id=1731&scid=&city=&PostDynamicFieldModel%5BCar_Year%5D%5Bfrom%5D=&PostDynamicFieldModel%5BCar_Year%5D%5Bto%5D=&PostDynamicFieldModel%5BPayment_Method%5D%5B0%5D=Cash&price_from=&price_to=&price_currency=1&page=84&per-page=30"
   ]
  },
  {
   "cell_type": "code",
   "execution_count": 4,
   "metadata": {},
   "outputs": [],
   "source": [
    "#import pandas\n",
    "#import numpy\n",
    "\n",
    "def GetCarsData(pages_from,pages_to):\n",
    "    global df\n",
    "    data=[]\n",
    "    headers = {'User-Agent': 'Mozilla/5.0 (X11; Ubuntu; Linux x86_64; rv:79.0) Gecko/20100101 Firefox/79.0'}\n",
    "    #df=pandas.DataFrame(columns=['title','price','location','property_type','bedrooms','bathrooms','area'])\n",
    "    for pageNo in range(pages_from,pages_to):\n",
    "        url=\"https://sa.opensooq.com/en/find?have_images=&allposts=&onlyPremiumAds=&onlyDonation=&onlyPrice=&onlyUrgent=&onlyShops=&onlyMemberships=&onlyBuynow=&memberId=&sort=record_posted_date.desc&hoodId=&cityId=&term=&cat_id=1731&scid=&city=&PostDynamicFieldModel%5BCar_Year%5D%5Bfrom%5D=&PostDynamicFieldModel%5BCar_Year%5D%5Bto%5D=&PostDynamicFieldModel%5BPayment_Method%5D%5B0%5D=Cash&price_from=&price_to=&price_currency=1&page={}&per-page=30\".format(pageNo)\n",
    "        print(pageNo+1,df.shape[0])\n",
    "        r = requests.get(url,headers=headers)\n",
    "        content = r.content\n",
    "        soup = BeautifulSoup(content,features=\"lxml\")\n",
    "        #print(soup)\n",
    "        features={}\n",
    "        for d in soup.findAll('ul', attrs={'id':'gridPostListing'}):\n",
    "            features={}\n",
    "            try:\n",
    "                 #get details\n",
    "                detailsUrl= d.find('a', attrs={'class':'block postLink notEg postSpanTitle noEmojiText'},href=True)\n",
    "                print(detailsUrl['href'])\n",
    "                detailsUrl=\"https://sa.opensooq.com\"+detailsUrl['href']\n",
    "                print(detailsUrl)\n",
    "               \n",
    "            except Exception as ex :\n",
    "                print(ex)\n",
    "                continue\n",
    "    return features\n"
   ]
  },
  {
   "cell_type": "code",
   "execution_count": 2,
   "metadata": {},
   "outputs": [
    {
     "ename": "NameError",
     "evalue": "name 'df' is not defined",
     "output_type": "error",
     "traceback": [
      "\u001b[1;31m---------------------------------------------------------------------------\u001b[0m",
      "\u001b[1;31mNameError\u001b[0m                                 Traceback (most recent call last)",
      "\u001b[1;32m<ipython-input-2-9619c233d9bf>\u001b[0m in \u001b[0;36m<module>\u001b[1;34m\u001b[0m\n\u001b[1;32m----> 1\u001b[1;33m \u001b[0mGetCarsData\u001b[0m\u001b[1;33m(\u001b[0m\u001b[1;36m0\u001b[0m\u001b[1;33m,\u001b[0m\u001b[1;36m1\u001b[0m\u001b[1;33m)\u001b[0m\u001b[1;33m\u001b[0m\u001b[1;33m\u001b[0m\u001b[0m\n\u001b[0m\u001b[0;32m      2\u001b[0m \u001b[1;31m#df.to_csv('./Data/olx_data_Gardenia.csv',index=False)\u001b[0m\u001b[1;33m\u001b[0m\u001b[1;33m\u001b[0m\u001b[1;33m\u001b[0m\u001b[0m\n",
      "\u001b[1;32m<ipython-input-1-93703ecb9733>\u001b[0m in \u001b[0;36mGetCarsData\u001b[1;34m(pages_from, pages_to)\u001b[0m\n\u001b[0;32m      9\u001b[0m     \u001b[1;32mfor\u001b[0m \u001b[0mpageNo\u001b[0m \u001b[1;32min\u001b[0m \u001b[0mrange\u001b[0m\u001b[1;33m(\u001b[0m\u001b[0mpages_from\u001b[0m\u001b[1;33m,\u001b[0m\u001b[0mpages_to\u001b[0m\u001b[1;33m)\u001b[0m\u001b[1;33m:\u001b[0m\u001b[1;33m\u001b[0m\u001b[1;33m\u001b[0m\u001b[0m\n\u001b[0;32m     10\u001b[0m         \u001b[0murl\u001b[0m\u001b[1;33m=\u001b[0m\u001b[1;34m\"https://sa.opensooq.com/en/find?have_images=&allposts=&onlyPremiumAds=&onlyDonation=&onlyPrice=&onlyUrgent=&onlyShops=&onlyMemberships=&onlyBuynow=&memberId=&sort=record_posted_date.desc&hoodId=&cityId=&term=&cat_id=1731&scid=&city=&PostDynamicFieldModel%5BCar_Year%5D%5Bfrom%5D=&PostDynamicFieldModel%5BCar_Year%5D%5Bto%5D=&PostDynamicFieldModel%5BPayment_Method%5D%5B0%5D=Cash&price_from=&price_to=&price_currency=1&page={}&per-page=30\"\u001b[0m\u001b[1;33m.\u001b[0m\u001b[0mformat\u001b[0m\u001b[1;33m(\u001b[0m\u001b[0mpageNo\u001b[0m\u001b[1;33m)\u001b[0m\u001b[1;33m\u001b[0m\u001b[1;33m\u001b[0m\u001b[0m\n\u001b[1;32m---> 11\u001b[1;33m         \u001b[0mprint\u001b[0m\u001b[1;33m(\u001b[0m\u001b[0mpageNo\u001b[0m\u001b[1;33m+\u001b[0m\u001b[1;36m1\u001b[0m\u001b[1;33m,\u001b[0m\u001b[0mdf\u001b[0m\u001b[1;33m.\u001b[0m\u001b[0mshape\u001b[0m\u001b[1;33m[\u001b[0m\u001b[1;36m0\u001b[0m\u001b[1;33m]\u001b[0m\u001b[1;33m)\u001b[0m\u001b[1;33m\u001b[0m\u001b[1;33m\u001b[0m\u001b[0m\n\u001b[0m\u001b[0;32m     12\u001b[0m         \u001b[0mr\u001b[0m \u001b[1;33m=\u001b[0m \u001b[0mrequests\u001b[0m\u001b[1;33m.\u001b[0m\u001b[0mget\u001b[0m\u001b[1;33m(\u001b[0m\u001b[0murl\u001b[0m\u001b[1;33m,\u001b[0m\u001b[0mheaders\u001b[0m\u001b[1;33m=\u001b[0m\u001b[0mheaders\u001b[0m\u001b[1;33m)\u001b[0m\u001b[1;33m\u001b[0m\u001b[1;33m\u001b[0m\u001b[0m\n\u001b[0;32m     13\u001b[0m         \u001b[0mcontent\u001b[0m \u001b[1;33m=\u001b[0m \u001b[0mr\u001b[0m\u001b[1;33m.\u001b[0m\u001b[0mcontent\u001b[0m\u001b[1;33m\u001b[0m\u001b[1;33m\u001b[0m\u001b[0m\n",
      "\u001b[1;31mNameError\u001b[0m: name 'df' is not defined"
     ]
    }
   ],
   "source": [
    "GetCarsData(0,1)\n",
    "#df.to_csv('./Data/olx_data_Gardenia.csv',index=False)"
   ]
  }
 ],
 "metadata": {
  "kernelspec": {
   "display_name": "Python 3 (ipykernel)",
   "language": "python",
   "name": "python3"
  },
  "language_info": {
   "codemirror_mode": {
    "name": "ipython",
    "version": 3
   },
   "file_extension": ".py",
   "mimetype": "text/x-python",
   "name": "python",
   "nbconvert_exporter": "python",
   "pygments_lexer": "ipython3",
   "version": "3.10.5"
  }
 },
 "nbformat": 4,
 "nbformat_minor": 4
}
