{
 "cells": [
  {
   "cell_type": "code",
   "execution_count": 1,
   "metadata": {},
   "outputs": [],
   "source": [
    "from bs4 import BeautifulSoup\n",
    "import requests\n",
    "import pandas as pd\n",
    "import numpy as np\n",
    "from scrapData import GetHouseList\n",
    "import re\n",
    "import ast\n",
    "import matplotlib.pyplot as plt\n",
    "import seaborn as sns\n",
    "from sklearn import preprocessing,linear_model\n",
    "from sklearn.model_selection import train_test_split,GridSearchCV,cross_val_score\n",
    "from sklearn.feature_selection import f_regression,SelectKBest\n",
    "from sklearn.metrics import r2_score,mean_squared_error\n",
    "from sklearn.preprocessing import PolynomialFeatures,OneHotEncoder\n",
    "from sklearn import linear_model,ensemble\n",
    "from sklearn.neighbors import KNeighborsRegressor\n",
    "from sklearn.pipeline import Pipeline\n",
    "from sklearn.compose import ColumnTransformer\n",
    "import xgboost as xgb\n",
    "from xgboost.sklearn import XGBRegressor\n",
    "from sklearn.decomposition import PCA,TruncatedSVD\n",
    "from scipy.stats import pearsonr\n",
    "import pickle\n",
    "np.random.seed(123)\n"
   ]
  },
  {
   "cell_type": "markdown",
   "metadata": {},
   "source": [
    "# Loading Data"
   ]
  },
  {
   "cell_type": "code",
   "execution_count": 2,
   "metadata": {},
   "outputs": [
    {
     "data": {
      "text/html": [
       "<div>\n",
       "<style scoped>\n",
       "    .dataframe tbody tr th:only-of-type {\n",
       "        vertical-align: middle;\n",
       "    }\n",
       "\n",
       "    .dataframe tbody tr th {\n",
       "        vertical-align: top;\n",
       "    }\n",
       "\n",
       "    .dataframe thead th {\n",
       "        text-align: right;\n",
       "    }\n",
       "</style>\n",
       "<table border=\"1\" class=\"dataframe\">\n",
       "  <thead>\n",
       "    <tr style=\"text-align: right;\">\n",
       "      <th></th>\n",
       "      <th>Amenities</th>\n",
       "      <th>Bedrooms</th>\n",
       "      <th>Bathrooms</th>\n",
       "      <th>Area (m²)</th>\n",
       "      <th>Furnished</th>\n",
       "      <th>Level</th>\n",
       "      <th>Ad Type</th>\n",
       "      <th>Type</th>\n",
       "      <th>Payment Option</th>\n",
       "      <th>price</th>\n",
       "      <th>title</th>\n",
       "      <th>location</th>\n",
       "      <th>Compound</th>\n",
       "    </tr>\n",
       "  </thead>\n",
       "  <tbody>\n",
       "    <tr>\n",
       "      <th>0</th>\n",
       "      <td>Balcony,Security,Covered Parking,Electricity M...</td>\n",
       "      <td>3</td>\n",
       "      <td>2</td>\n",
       "      <td>135</td>\n",
       "      <td>No</td>\n",
       "      <td>5</td>\n",
       "      <td>For Sale</td>\n",
       "      <td>Apartment</td>\n",
       "      <td>Cash</td>\n",
       "      <td>1,600,000 EGP</td>\n",
       "      <td>مدينتي ١٣٥م بال B1 بحري قريبه جدا من الخدم...</td>\n",
       "      <td>Madinaty</td>\n",
       "      <td>Madinaty</td>\n",
       "    </tr>\n",
       "    <tr>\n",
       "      <th>1</th>\n",
       "      <td>Balcony,Pets Allowed,Private Garden,Security,E...</td>\n",
       "      <td>3</td>\n",
       "      <td>2</td>\n",
       "      <td>140</td>\n",
       "      <td>No</td>\n",
       "      <td>2</td>\n",
       "      <td>For Sale</td>\n",
       "      <td>Apartment</td>\n",
       "      <td>Cash</td>\n",
       "      <td>355,000 EGPnegotiable</td>\n",
       "      <td>شقة بسعر التكلفة في الحي المتميز مدينة بدر...</td>\n",
       "      <td>Badr City</td>\n",
       "      <td>El Ashgar District</td>\n",
       "    </tr>\n",
       "    <tr>\n",
       "      <th>2</th>\n",
       "      <td>NaN</td>\n",
       "      <td>3</td>\n",
       "      <td>3</td>\n",
       "      <td>180</td>\n",
       "      <td>No</td>\n",
       "      <td>Ground</td>\n",
       "      <td>For Sale</td>\n",
       "      <td>Apartment</td>\n",
       "      <td>Cash</td>\n",
       "      <td>3,100,000 EGP</td>\n",
       "      <td>فرررصة برحاب ٢ للبيع شقة ١٨٠م ارضي بحديقة ...</td>\n",
       "      <td>Rehab City</td>\n",
       "      <td>NaN</td>\n",
       "    </tr>\n",
       "    <tr>\n",
       "      <th>3</th>\n",
       "      <td>Balcony,Pets Allowed,Security,Electricity Mete...</td>\n",
       "      <td>2</td>\n",
       "      <td>1</td>\n",
       "      <td>107</td>\n",
       "      <td>No</td>\n",
       "      <td>6</td>\n",
       "      <td>For Sale</td>\n",
       "      <td>Apartment</td>\n",
       "      <td>Cash</td>\n",
       "      <td>1,150,000 EGP</td>\n",
       "      <td>شقة بمدينتي بال B1 نموذج 100 اقل من سعر ال...</td>\n",
       "      <td>Madinaty</td>\n",
       "      <td>Madinaty</td>\n",
       "    </tr>\n",
       "    <tr>\n",
       "      <th>4</th>\n",
       "      <td>Balcony,Electricity Meter</td>\n",
       "      <td>2</td>\n",
       "      <td>1</td>\n",
       "      <td>80</td>\n",
       "      <td>No</td>\n",
       "      <td>6</td>\n",
       "      <td>For Sale</td>\n",
       "      <td>Apartment</td>\n",
       "      <td>Cash</td>\n",
       "      <td>185,000 EGP</td>\n",
       "      <td>شقة تشطيب فاخر للبيع</td>\n",
       "      <td>Marg</td>\n",
       "      <td>NaN</td>\n",
       "    </tr>\n",
       "  </tbody>\n",
       "</table>\n",
       "</div>"
      ],
      "text/plain": [
       "                                           Amenities Bedrooms Bathrooms  \\\n",
       "0  Balcony,Security,Covered Parking,Electricity M...        3         2   \n",
       "1  Balcony,Pets Allowed,Private Garden,Security,E...        3         2   \n",
       "2                                                NaN        3         3   \n",
       "3  Balcony,Pets Allowed,Security,Electricity Mete...        2         1   \n",
       "4                          Balcony,Electricity Meter        2         1   \n",
       "\n",
       "  Area (m²) Furnished   Level   Ad Type       Type Payment Option  \\\n",
       "0       135        No       5  For Sale  Apartment           Cash   \n",
       "1       140        No       2  For Sale  Apartment           Cash   \n",
       "2       180        No  Ground  For Sale  Apartment           Cash   \n",
       "3       107        No       6  For Sale  Apartment           Cash   \n",
       "4        80        No       6  For Sale  Apartment           Cash   \n",
       "\n",
       "                   price                                          title  \\\n",
       "0          1,600,000 EGP  مدينتي ١٣٥م بال B1 بحري قريبه جدا من الخدم...   \n",
       "1  355,000 EGPnegotiable  شقة بسعر التكلفة في الحي المتميز مدينة بدر...   \n",
       "2          3,100,000 EGP  فرررصة برحاب ٢ للبيع شقة ١٨٠م ارضي بحديقة ...   \n",
       "3          1,150,000 EGP  شقة بمدينتي بال B1 نموذج 100 اقل من سعر ال...   \n",
       "4            185,000 EGP                           شقة تشطيب فاخر للبيع   \n",
       "\n",
       "     location            Compound  \n",
       "0    Madinaty            Madinaty  \n",
       "1   Badr City  El Ashgar District  \n",
       "2  Rehab City                 NaN  \n",
       "3    Madinaty            Madinaty  \n",
       "4        Marg                 NaN  "
      ]
     },
     "execution_count": 2,
     "metadata": {},
     "output_type": "execute_result"
    }
   ],
   "source": [
    "df=pd.read_csv('Data/olx_data_all.csv')\n",
    "df.head()"
   ]
  },
  {
   "cell_type": "markdown",
   "metadata": {},
   "source": [
    "# Data Cleaning"
   ]
  },
  {
   "cell_type": "code",
   "execution_count": 3,
   "metadata": {},
   "outputs": [
    {
     "data": {
      "text/plain": [
       "(26500, 13)"
      ]
     },
     "execution_count": 3,
     "metadata": {},
     "output_type": "execute_result"
    }
   ],
   "source": [
    "df.shape"
   ]
  },
  {
   "cell_type": "code",
   "execution_count": 4,
   "metadata": {},
   "outputs": [
    {
     "data": {
      "text/html": [
       "<div>\n",
       "<style scoped>\n",
       "    .dataframe tbody tr th:only-of-type {\n",
       "        vertical-align: middle;\n",
       "    }\n",
       "\n",
       "    .dataframe tbody tr th {\n",
       "        vertical-align: top;\n",
       "    }\n",
       "\n",
       "    .dataframe thead th {\n",
       "        text-align: right;\n",
       "    }\n",
       "</style>\n",
       "<table border=\"1\" class=\"dataframe\">\n",
       "  <thead>\n",
       "    <tr style=\"text-align: right;\">\n",
       "      <th></th>\n",
       "      <th>Amenities</th>\n",
       "      <th>Bedrooms</th>\n",
       "      <th>Bathrooms</th>\n",
       "      <th>Area (m²)</th>\n",
       "      <th>Furnished</th>\n",
       "      <th>Level</th>\n",
       "      <th>Ad Type</th>\n",
       "      <th>Type</th>\n",
       "      <th>Payment Option</th>\n",
       "      <th>price</th>\n",
       "      <th>title</th>\n",
       "      <th>location</th>\n",
       "      <th>Compound</th>\n",
       "    </tr>\n",
       "  </thead>\n",
       "  <tbody>\n",
       "    <tr>\n",
       "      <th>0</th>\n",
       "      <td>Balcony,Security,Covered Parking,Electricity M...</td>\n",
       "      <td>3</td>\n",
       "      <td>2</td>\n",
       "      <td>135</td>\n",
       "      <td>No</td>\n",
       "      <td>5</td>\n",
       "      <td>For Sale</td>\n",
       "      <td>Apartment</td>\n",
       "      <td>Cash</td>\n",
       "      <td>1600000</td>\n",
       "      <td>مدينتي ١٣٥م بال B1 بحري قريبه جدا من الخدم...</td>\n",
       "      <td>Madinaty</td>\n",
       "      <td>Madinaty</td>\n",
       "    </tr>\n",
       "    <tr>\n",
       "      <th>1</th>\n",
       "      <td>Balcony,Pets Allowed,Private Garden,Security,E...</td>\n",
       "      <td>3</td>\n",
       "      <td>2</td>\n",
       "      <td>140</td>\n",
       "      <td>No</td>\n",
       "      <td>2</td>\n",
       "      <td>For Sale</td>\n",
       "      <td>Apartment</td>\n",
       "      <td>Cash</td>\n",
       "      <td>355000</td>\n",
       "      <td>شقة بسعر التكلفة في الحي المتميز مدينة بدر...</td>\n",
       "      <td>Badr City</td>\n",
       "      <td>El Ashgar District</td>\n",
       "    </tr>\n",
       "    <tr>\n",
       "      <th>2</th>\n",
       "      <td>NaN</td>\n",
       "      <td>3</td>\n",
       "      <td>3</td>\n",
       "      <td>180</td>\n",
       "      <td>No</td>\n",
       "      <td>Ground</td>\n",
       "      <td>For Sale</td>\n",
       "      <td>Apartment</td>\n",
       "      <td>Cash</td>\n",
       "      <td>3100000</td>\n",
       "      <td>فرررصة برحاب ٢ للبيع شقة ١٨٠م ارضي بحديقة ...</td>\n",
       "      <td>Rehab City</td>\n",
       "      <td>NaN</td>\n",
       "    </tr>\n",
       "    <tr>\n",
       "      <th>3</th>\n",
       "      <td>Balcony,Pets Allowed,Security,Electricity Mete...</td>\n",
       "      <td>2</td>\n",
       "      <td>1</td>\n",
       "      <td>107</td>\n",
       "      <td>No</td>\n",
       "      <td>6</td>\n",
       "      <td>For Sale</td>\n",
       "      <td>Apartment</td>\n",
       "      <td>Cash</td>\n",
       "      <td>1150000</td>\n",
       "      <td>شقة بمدينتي بال B1 نموذج 100 اقل من سعر ال...</td>\n",
       "      <td>Madinaty</td>\n",
       "      <td>Madinaty</td>\n",
       "    </tr>\n",
       "    <tr>\n",
       "      <th>4</th>\n",
       "      <td>Balcony,Electricity Meter</td>\n",
       "      <td>2</td>\n",
       "      <td>1</td>\n",
       "      <td>80</td>\n",
       "      <td>No</td>\n",
       "      <td>6</td>\n",
       "      <td>For Sale</td>\n",
       "      <td>Apartment</td>\n",
       "      <td>Cash</td>\n",
       "      <td>185000</td>\n",
       "      <td>شقة تشطيب فاخر للبيع</td>\n",
       "      <td>Marg</td>\n",
       "      <td>NaN</td>\n",
       "    </tr>\n",
       "  </tbody>\n",
       "</table>\n",
       "</div>"
      ],
      "text/plain": [
       "                                           Amenities Bedrooms Bathrooms  \\\n",
       "0  Balcony,Security,Covered Parking,Electricity M...        3         2   \n",
       "1  Balcony,Pets Allowed,Private Garden,Security,E...        3         2   \n",
       "2                                                NaN        3         3   \n",
       "3  Balcony,Pets Allowed,Security,Electricity Mete...        2         1   \n",
       "4                          Balcony,Electricity Meter        2         1   \n",
       "\n",
       "  Area (m²) Furnished   Level   Ad Type       Type Payment Option    price  \\\n",
       "0       135        No       5  For Sale  Apartment           Cash  1600000   \n",
       "1       140        No       2  For Sale  Apartment           Cash   355000   \n",
       "2       180        No  Ground  For Sale  Apartment           Cash  3100000   \n",
       "3       107        No       6  For Sale  Apartment           Cash  1150000   \n",
       "4        80        No       6  For Sale  Apartment           Cash   185000   \n",
       "\n",
       "                                           title    location  \\\n",
       "0  مدينتي ١٣٥م بال B1 بحري قريبه جدا من الخدم...    Madinaty   \n",
       "1  شقة بسعر التكلفة في الحي المتميز مدينة بدر...   Badr City   \n",
       "2  فرررصة برحاب ٢ للبيع شقة ١٨٠م ارضي بحديقة ...  Rehab City   \n",
       "3  شقة بمدينتي بال B1 نموذج 100 اقل من سعر ال...    Madinaty   \n",
       "4                           شقة تشطيب فاخر للبيع        Marg   \n",
       "\n",
       "             Compound  \n",
       "0            Madinaty  \n",
       "1  El Ashgar District  \n",
       "2                 NaN  \n",
       "3            Madinaty  \n",
       "4                 NaN  "
      ]
     },
     "execution_count": 4,
     "metadata": {},
     "output_type": "execute_result"
    }
   ],
   "source": [
    "# remove measure unit of price(EGP)\n",
    "df['price']=df['price'].apply(lambda x: x.replace('EGP','').replace(',','').replace('negotiable','').strip())\n",
    "df.head()"
   ]
  },
  {
   "cell_type": "code",
   "execution_count": 5,
   "metadata": {},
   "outputs": [
    {
     "data": {
      "text/plain": [
       "array(['Cash'], dtype=object)"
      ]
     },
     "execution_count": 5,
     "metadata": {},
     "output_type": "execute_result"
    }
   ],
   "source": [
    "df['Payment Option'].unique()"
   ]
  },
  {
   "cell_type": "code",
   "execution_count": 6,
   "metadata": {},
   "outputs": [
    {
     "data": {
      "text/plain": [
       "Index(['Amenities', 'Bedrooms', 'Bathrooms', 'Area (m²)', 'Furnished', 'Level',\n",
       "       'price', 'location', 'Compound'],\n",
       "      dtype='object')"
      ]
     },
     "execution_count": 6,
     "metadata": {},
     "output_type": "execute_result"
    }
   ],
   "source": [
    "# remove property type where all properties are Apartments\n",
    "df.drop(['Type','Ad Type','Payment Option','title'],axis=1,inplace=True)\n",
    "df.columns"
   ]
  },
  {
   "cell_type": "code",
   "execution_count": 7,
   "metadata": {},
   "outputs": [],
   "source": [
    "#rename Area (m²) to Area \n",
    "df.rename(columns={'Area (m²)':'Area'},inplace=True)"
   ]
  },
  {
   "cell_type": "code",
   "execution_count": 8,
   "metadata": {},
   "outputs": [
    {
     "data": {
      "text/plain": [
       "Amenities     7636\n",
       "Bedrooms         0\n",
       "Bathrooms        0\n",
       "Area             0\n",
       "Furnished     5023\n",
       "Level            5\n",
       "price            0\n",
       "location         0\n",
       "Compound     18912\n",
       "dtype: int64"
      ]
     },
     "execution_count": 8,
     "metadata": {},
     "output_type": "execute_result"
    }
   ],
   "source": [
    "#check null values\n",
    "df.isna().sum()"
   ]
  },
  {
   "cell_type": "code",
   "execution_count": 9,
   "metadata": {},
   "outputs": [
    {
     "data": {
      "text/plain": [
       "Madinaty           2747\n",
       "Rehab City          764\n",
       "Not in Compound     338\n",
       "Eastown             316\n",
       "The Square          276\n",
       "                   ... \n",
       "EL Patio ORO          1\n",
       "Arabia Gate           1\n",
       "Serrano               1\n",
       "Green Yard            1\n",
       "Life Garden           1\n",
       "Name: Compound, Length: 214, dtype: int64"
      ]
     },
     "execution_count": 9,
     "metadata": {},
     "output_type": "execute_result"
    }
   ],
   "source": [
    "df.Compound.value_counts()"
   ]
  },
  {
   "cell_type": "code",
   "execution_count": 10,
   "metadata": {},
   "outputs": [
    {
     "data": {
      "text/html": [
       "<div>\n",
       "<style scoped>\n",
       "    .dataframe tbody tr th:only-of-type {\n",
       "        vertical-align: middle;\n",
       "    }\n",
       "\n",
       "    .dataframe tbody tr th {\n",
       "        vertical-align: top;\n",
       "    }\n",
       "\n",
       "    .dataframe thead th {\n",
       "        text-align: right;\n",
       "    }\n",
       "</style>\n",
       "<table border=\"1\" class=\"dataframe\">\n",
       "  <thead>\n",
       "    <tr style=\"text-align: right;\">\n",
       "      <th></th>\n",
       "      <th>Amenities</th>\n",
       "      <th>Bedrooms</th>\n",
       "      <th>Bathrooms</th>\n",
       "      <th>Area</th>\n",
       "      <th>Furnished</th>\n",
       "      <th>Level</th>\n",
       "      <th>price</th>\n",
       "      <th>location</th>\n",
       "      <th>Compound</th>\n",
       "    </tr>\n",
       "  </thead>\n",
       "  <tbody>\n",
       "    <tr>\n",
       "      <th>0</th>\n",
       "      <td>Balcony,Security,Covered Parking,Electricity M...</td>\n",
       "      <td>3</td>\n",
       "      <td>2</td>\n",
       "      <td>135</td>\n",
       "      <td>No</td>\n",
       "      <td>5</td>\n",
       "      <td>1600000</td>\n",
       "      <td>Madinaty</td>\n",
       "      <td>Madinaty</td>\n",
       "    </tr>\n",
       "    <tr>\n",
       "      <th>1</th>\n",
       "      <td>Balcony,Pets Allowed,Private Garden,Security,E...</td>\n",
       "      <td>3</td>\n",
       "      <td>2</td>\n",
       "      <td>140</td>\n",
       "      <td>No</td>\n",
       "      <td>2</td>\n",
       "      <td>355000</td>\n",
       "      <td>Badr City</td>\n",
       "      <td>El Ashgar District</td>\n",
       "    </tr>\n",
       "    <tr>\n",
       "      <th>2</th>\n",
       "      <td>No</td>\n",
       "      <td>3</td>\n",
       "      <td>3</td>\n",
       "      <td>180</td>\n",
       "      <td>No</td>\n",
       "      <td>Ground</td>\n",
       "      <td>3100000</td>\n",
       "      <td>Rehab City</td>\n",
       "      <td>Not in Compound</td>\n",
       "    </tr>\n",
       "    <tr>\n",
       "      <th>3</th>\n",
       "      <td>Balcony,Pets Allowed,Security,Electricity Mete...</td>\n",
       "      <td>2</td>\n",
       "      <td>1</td>\n",
       "      <td>107</td>\n",
       "      <td>No</td>\n",
       "      <td>6</td>\n",
       "      <td>1150000</td>\n",
       "      <td>Madinaty</td>\n",
       "      <td>Madinaty</td>\n",
       "    </tr>\n",
       "    <tr>\n",
       "      <th>4</th>\n",
       "      <td>Balcony,Electricity Meter</td>\n",
       "      <td>2</td>\n",
       "      <td>1</td>\n",
       "      <td>80</td>\n",
       "      <td>No</td>\n",
       "      <td>6</td>\n",
       "      <td>185000</td>\n",
       "      <td>Marg</td>\n",
       "      <td>Not in Compound</td>\n",
       "    </tr>\n",
       "  </tbody>\n",
       "</table>\n",
       "</div>"
      ],
      "text/plain": [
       "                                           Amenities Bedrooms Bathrooms Area  \\\n",
       "0  Balcony,Security,Covered Parking,Electricity M...        3         2  135   \n",
       "1  Balcony,Pets Allowed,Private Garden,Security,E...        3         2  140   \n",
       "2                                                 No        3         3  180   \n",
       "3  Balcony,Pets Allowed,Security,Electricity Mete...        2         1  107   \n",
       "4                          Balcony,Electricity Meter        2         1   80   \n",
       "\n",
       "  Furnished   Level    price    location            Compound  \n",
       "0        No       5  1600000    Madinaty            Madinaty  \n",
       "1        No       2   355000   Badr City  El Ashgar District  \n",
       "2        No  Ground  3100000  Rehab City     Not in Compound  \n",
       "3        No       6  1150000    Madinaty            Madinaty  \n",
       "4        No       6   185000        Marg     Not in Compound  "
      ]
     },
     "execution_count": 10,
     "metadata": {},
     "output_type": "execute_result"
    }
   ],
   "source": [
    "# fill aminities NaN with No\n",
    "df.Amenities.fillna('No',inplace=True)\n",
    "df.Furnished.fillna('No',inplace=True)\n",
    "df.Compound.fillna('Not in Compound',inplace=True)\n",
    "df.head()"
   ]
  },
  {
   "cell_type": "code",
   "execution_count": 11,
   "metadata": {},
   "outputs": [
    {
     "data": {
      "text/plain": [
       "No     24693\n",
       "Yes     1807\n",
       "Name: Furnished, dtype: int64"
      ]
     },
     "execution_count": 11,
     "metadata": {},
     "output_type": "execute_result"
    }
   ],
   "source": [
    "df.Furnished.value_counts()"
   ]
  },
  {
   "cell_type": "code",
   "execution_count": 12,
   "metadata": {},
   "outputs": [
    {
     "name": "stdout",
     "output_type": "stream",
     "text": [
      "['5' '2' 'Ground' '6' '4' '3' '1' '8' '10+' '9' '7' 'Highest' '10' nan] 5 2\n"
     ]
    }
   ],
   "source": [
    "#check level values\n",
    "print(df.Level.unique(),pd.isnull( df.Level).sum(),df.Level.mode()[0])"
   ]
  },
  {
   "cell_type": "code",
   "execution_count": 13,
   "metadata": {},
   "outputs": [
    {
     "data": {
      "text/plain": [
       "array(['5', '2', '0', '6', '4', '3', '1', '8', '10', '9', '7', '11'],\n",
       "      dtype=object)"
      ]
     },
     "execution_count": 13,
     "metadata": {},
     "output_type": "execute_result"
    }
   ],
   "source": [
    "df.Level.replace('Ground','0',inplace=True)\n",
    "df.Level.replace('10+','10',inplace=True)\n",
    "df.Level.replace('Highest','11',inplace=True)\n",
    "df.Level.fillna(str(df.Level.mode()[0]),inplace=True)\n",
    "df.Level.unique()"
   ]
  },
  {
   "cell_type": "code",
   "execution_count": 14,
   "metadata": {},
   "outputs": [
    {
     "data": {
      "text/plain": [
       "Amenities    0\n",
       "Bedrooms     0\n",
       "Bathrooms    0\n",
       "Area         0\n",
       "Furnished    0\n",
       "Level        0\n",
       "price        0\n",
       "location     0\n",
       "Compound     0\n",
       "dtype: int64"
      ]
     },
     "execution_count": 14,
     "metadata": {},
     "output_type": "execute_result"
    }
   ],
   "source": [
    "df.isna().sum()"
   ]
  },
  {
   "cell_type": "code",
   "execution_count": 15,
   "metadata": {},
   "outputs": [
    {
     "data": {
      "text/plain": [
       "array(['3', '2', '4', '8', '1', '5', '6', '7', '9', '10', '10+'],\n",
       "      dtype=object)"
      ]
     },
     "execution_count": 15,
     "metadata": {},
     "output_type": "execute_result"
    }
   ],
   "source": [
    "# check all values of Bedrooms columns\n",
    "df.Bedrooms.unique()"
   ]
  },
  {
   "cell_type": "code",
   "execution_count": 16,
   "metadata": {},
   "outputs": [
    {
     "data": {
      "text/plain": [
       "array(['3', '2', '4', '8', '1', '5', '6', '7', '9', '10'], dtype=object)"
      ]
     },
     "execution_count": 16,
     "metadata": {},
     "output_type": "execute_result"
    }
   ],
   "source": [
    "df.Bedrooms.replace('10+','10',inplace=True)\n",
    "df.Bedrooms.unique()"
   ]
  },
  {
   "cell_type": "code",
   "execution_count": 17,
   "metadata": {},
   "outputs": [
    {
     "data": {
      "text/plain": [
       "array(['2', '3', '1', '4', '5', '7', '8', '6', '10+', '10', '9'],\n",
       "      dtype=object)"
      ]
     },
     "execution_count": 17,
     "metadata": {},
     "output_type": "execute_result"
    }
   ],
   "source": [
    "# check all values of Bedrooms columns\n",
    "df.Bathrooms.unique()"
   ]
  },
  {
   "cell_type": "code",
   "execution_count": 18,
   "metadata": {},
   "outputs": [
    {
     "data": {
      "text/plain": [
       "array(['2', '3', '1', '4', '5', '7', '8', '6', '10', '9'], dtype=object)"
      ]
     },
     "execution_count": 18,
     "metadata": {},
     "output_type": "execute_result"
    }
   ],
   "source": [
    "df.Bathrooms.replace('10+','10',inplace=True)\n",
    "df.Bathrooms.unique()"
   ]
  },
  {
   "cell_type": "code",
   "execution_count": 19,
   "metadata": {},
   "outputs": [
    {
     "data": {
      "text/plain": [
       "array(['135', '140', '180', '107', '80', '70', '85', '130', '100', '120',\n",
       "       '90', '82', '177', '207', '86', '175', '211', '215', '220', '65',\n",
       "       '114', '115', '204', '96', '150', '165', '103', '210', '110',\n",
       "       '266', '240', '300', '200', '170', '230', '182', '146', '153',\n",
       "       '125', '75', '138', '166', '225', '750', '145', '163', '122',\n",
       "       '131', '155', '60', '154', '156', '223', '224', '205', '83', '185',\n",
       "       '133', '250', '190', '178', '105', '108', '164', '196', '124',\n",
       "       '162', '217', '160', '260', '137', '92', '209', '152', '157',\n",
       "       '191', '139', '116', '62', '335', '171', '76', '202', '278', '320',\n",
       "       '186', '127', '123', '350', '38', '265', '199', '117', '255', '77',\n",
       "       '226', '64', '241', '73', '132', '400', '134', '113', '158', '118',\n",
       "       '72', '67', '201', '136', '88', '245', '270', '10', '63', '195',\n",
       "       '192', '168', '360', '161', '91', '272', '167', '126', '99', '290',\n",
       "       '176', '594', '187', '148', '128', '143', '251', '208', '97',\n",
       "       '500', '227', '101', '84', '237', '147', '141', '68', '95', '235',\n",
       "       '219', '188', '274', '273', '119', '203', '174', '121', '183',\n",
       "       '71', '151', '89', '169', '78', '142', '57', '149', '50', '275',\n",
       "       '55', '261', '365', '294', '420', '179', '322', '234', '244', '98',\n",
       "       '74', '94', '184', '285', '280', '12', '212', '233', '112', '339',\n",
       "       '231', '144', '345', '104', '87', '52', '189', '262', '109', '40',\n",
       "       '102', '242', '324', '56', '45', '380', '198', '228', '79', '248',\n",
       "       '600', '249', '295', '370', '194', '172', '450', '1300', '327',\n",
       "       '218', '81', '106', '201009', '325', '159', '310', '1361', '480',\n",
       "       '129', '268', '66', '389', '59', '93', '330', '69', '317', '236',\n",
       "       '130000', '23', '314', '222', '173', '760', '440', '58', '136.50',\n",
       "       '460', '197', '340', '515', '396', '570', '298', '350000', '315',\n",
       "       '42', '470', '216', '17', '193', '282', '700', '430', '305', '46',\n",
       "       '27', '475', '326', '650', '3000', '54', '258', '247', '214',\n",
       "       '256', '254', '750000', '221', '111', '338', '53', '0', '252',\n",
       "       '375', '286', '238', '232', '628', '36', '102773', '800', '20',\n",
       "       '1000', '243', '267', '276', '1000000', '213', '239', '356',\n",
       "       '2500', '16', '328', '367', '560', '259', '357', '35', '390', '24',\n",
       "       '33', '368', '306', '385', '31.50', '181', '11', '9033', '1600',\n",
       "       '25', '311', '144100', '1505', '550', '1406', '1275', '505',\n",
       "       '1503', '670', '281', '382', '740', '301', '105000', '1252',\n",
       "       '96000', '30', '316', '283', '257', '269', '246', '1400', '6300',\n",
       "       '410', '287', '289', '134.40', '318', '302', '627', '206', '351',\n",
       "       '1111', '648', '201155', '229', '1050', '520', '313', '800000',\n",
       "       '660', '1953', '162.50', '358'], dtype=object)"
      ]
     },
     "execution_count": 19,
     "metadata": {},
     "output_type": "execute_result"
    }
   ],
   "source": [
    "df.Area=df.Area.apply(lambda x: x.replace(',',''))\n",
    "df.Area.unique()"
   ]
  },
  {
   "cell_type": "code",
   "execution_count": 20,
   "metadata": {},
   "outputs": [
    {
     "data": {
      "text/html": [
       "<div>\n",
       "<style scoped>\n",
       "    .dataframe tbody tr th:only-of-type {\n",
       "        vertical-align: middle;\n",
       "    }\n",
       "\n",
       "    .dataframe tbody tr th {\n",
       "        vertical-align: top;\n",
       "    }\n",
       "\n",
       "    .dataframe thead th {\n",
       "        text-align: right;\n",
       "    }\n",
       "</style>\n",
       "<table border=\"1\" class=\"dataframe\">\n",
       "  <thead>\n",
       "    <tr style=\"text-align: right;\">\n",
       "      <th></th>\n",
       "      <th>Amenities</th>\n",
       "      <th>Bedrooms</th>\n",
       "      <th>Bathrooms</th>\n",
       "      <th>Area</th>\n",
       "      <th>Furnished</th>\n",
       "      <th>Level</th>\n",
       "      <th>price</th>\n",
       "      <th>location</th>\n",
       "      <th>Compound</th>\n",
       "    </tr>\n",
       "  </thead>\n",
       "  <tbody>\n",
       "    <tr>\n",
       "      <th>0</th>\n",
       "      <td>Balcony,Security,Covered Parking,Electricity M...</td>\n",
       "      <td>3</td>\n",
       "      <td>2</td>\n",
       "      <td>135</td>\n",
       "      <td>No</td>\n",
       "      <td>5</td>\n",
       "      <td>1600000</td>\n",
       "      <td>Madinaty</td>\n",
       "      <td>Madinaty</td>\n",
       "    </tr>\n",
       "    <tr>\n",
       "      <th>1</th>\n",
       "      <td>Balcony,Pets Allowed,Private Garden,Security,E...</td>\n",
       "      <td>3</td>\n",
       "      <td>2</td>\n",
       "      <td>140</td>\n",
       "      <td>No</td>\n",
       "      <td>2</td>\n",
       "      <td>355000</td>\n",
       "      <td>Badr City</td>\n",
       "      <td>El Ashgar District</td>\n",
       "    </tr>\n",
       "    <tr>\n",
       "      <th>2</th>\n",
       "      <td>No</td>\n",
       "      <td>3</td>\n",
       "      <td>3</td>\n",
       "      <td>180</td>\n",
       "      <td>No</td>\n",
       "      <td>0</td>\n",
       "      <td>3100000</td>\n",
       "      <td>Rehab City</td>\n",
       "      <td>Not in Compound</td>\n",
       "    </tr>\n",
       "    <tr>\n",
       "      <th>3</th>\n",
       "      <td>Balcony,Pets Allowed,Security,Electricity Mete...</td>\n",
       "      <td>2</td>\n",
       "      <td>1</td>\n",
       "      <td>107</td>\n",
       "      <td>No</td>\n",
       "      <td>6</td>\n",
       "      <td>1150000</td>\n",
       "      <td>Madinaty</td>\n",
       "      <td>Madinaty</td>\n",
       "    </tr>\n",
       "    <tr>\n",
       "      <th>4</th>\n",
       "      <td>Balcony,Electricity Meter</td>\n",
       "      <td>2</td>\n",
       "      <td>1</td>\n",
       "      <td>80</td>\n",
       "      <td>No</td>\n",
       "      <td>6</td>\n",
       "      <td>185000</td>\n",
       "      <td>Marg</td>\n",
       "      <td>Not in Compound</td>\n",
       "    </tr>\n",
       "  </tbody>\n",
       "</table>\n",
       "</div>"
      ],
      "text/plain": [
       "                                           Amenities Bedrooms Bathrooms Area  \\\n",
       "0  Balcony,Security,Covered Parking,Electricity M...        3         2  135   \n",
       "1  Balcony,Pets Allowed,Private Garden,Security,E...        3         2  140   \n",
       "2                                                 No        3         3  180   \n",
       "3  Balcony,Pets Allowed,Security,Electricity Mete...        2         1  107   \n",
       "4                          Balcony,Electricity Meter        2         1   80   \n",
       "\n",
       "  Furnished Level    price    location            Compound  \n",
       "0        No     5  1600000    Madinaty            Madinaty  \n",
       "1        No     2   355000   Badr City  El Ashgar District  \n",
       "2        No     0  3100000  Rehab City     Not in Compound  \n",
       "3        No     6  1150000    Madinaty            Madinaty  \n",
       "4        No     6   185000        Marg     Not in Compound  "
      ]
     },
     "execution_count": 20,
     "metadata": {},
     "output_type": "execute_result"
    }
   ],
   "source": [
    "df.head()"
   ]
  },
  {
   "cell_type": "code",
   "execution_count": 21,
   "metadata": {
    "scrolled": true
   },
   "outputs": [
    {
     "data": {
      "text/html": [
       "<div>\n",
       "<style scoped>\n",
       "    .dataframe tbody tr th:only-of-type {\n",
       "        vertical-align: middle;\n",
       "    }\n",
       "\n",
       "    .dataframe tbody tr th {\n",
       "        vertical-align: top;\n",
       "    }\n",
       "\n",
       "    .dataframe thead th {\n",
       "        text-align: right;\n",
       "    }\n",
       "</style>\n",
       "<table border=\"1\" class=\"dataframe\">\n",
       "  <thead>\n",
       "    <tr style=\"text-align: right;\">\n",
       "      <th></th>\n",
       "      <th>Amenities</th>\n",
       "      <th>Bedrooms</th>\n",
       "      <th>Bathrooms</th>\n",
       "      <th>Area</th>\n",
       "      <th>Furnished</th>\n",
       "      <th>Level</th>\n",
       "      <th>location</th>\n",
       "      <th>Compound</th>\n",
       "      <th>price</th>\n",
       "    </tr>\n",
       "  </thead>\n",
       "  <tbody>\n",
       "    <tr>\n",
       "      <th>0</th>\n",
       "      <td>Balcony,Security,Covered Parking,Electricity M...</td>\n",
       "      <td>3</td>\n",
       "      <td>2</td>\n",
       "      <td>135</td>\n",
       "      <td>No</td>\n",
       "      <td>5</td>\n",
       "      <td>Madinaty</td>\n",
       "      <td>Madinaty</td>\n",
       "      <td>1600000</td>\n",
       "    </tr>\n",
       "    <tr>\n",
       "      <th>1</th>\n",
       "      <td>Balcony,Pets Allowed,Private Garden,Security,E...</td>\n",
       "      <td>3</td>\n",
       "      <td>2</td>\n",
       "      <td>140</td>\n",
       "      <td>No</td>\n",
       "      <td>2</td>\n",
       "      <td>Badr City</td>\n",
       "      <td>El Ashgar District</td>\n",
       "      <td>355000</td>\n",
       "    </tr>\n",
       "    <tr>\n",
       "      <th>2</th>\n",
       "      <td>No</td>\n",
       "      <td>3</td>\n",
       "      <td>3</td>\n",
       "      <td>180</td>\n",
       "      <td>No</td>\n",
       "      <td>0</td>\n",
       "      <td>Rehab City</td>\n",
       "      <td>Not in Compound</td>\n",
       "      <td>3100000</td>\n",
       "    </tr>\n",
       "    <tr>\n",
       "      <th>3</th>\n",
       "      <td>Balcony,Pets Allowed,Security,Electricity Mete...</td>\n",
       "      <td>2</td>\n",
       "      <td>1</td>\n",
       "      <td>107</td>\n",
       "      <td>No</td>\n",
       "      <td>6</td>\n",
       "      <td>Madinaty</td>\n",
       "      <td>Madinaty</td>\n",
       "      <td>1150000</td>\n",
       "    </tr>\n",
       "    <tr>\n",
       "      <th>4</th>\n",
       "      <td>Balcony,Electricity Meter</td>\n",
       "      <td>2</td>\n",
       "      <td>1</td>\n",
       "      <td>80</td>\n",
       "      <td>No</td>\n",
       "      <td>6</td>\n",
       "      <td>Marg</td>\n",
       "      <td>Not in Compound</td>\n",
       "      <td>185000</td>\n",
       "    </tr>\n",
       "  </tbody>\n",
       "</table>\n",
       "</div>"
      ],
      "text/plain": [
       "                                           Amenities Bedrooms Bathrooms Area  \\\n",
       "0  Balcony,Security,Covered Parking,Electricity M...        3         2  135   \n",
       "1  Balcony,Pets Allowed,Private Garden,Security,E...        3         2  140   \n",
       "2                                                 No        3         3  180   \n",
       "3  Balcony,Pets Allowed,Security,Electricity Mete...        2         1  107   \n",
       "4                          Balcony,Electricity Meter        2         1   80   \n",
       "\n",
       "  Furnished Level    location            Compound    price  \n",
       "0        No     5    Madinaty            Madinaty  1600000  \n",
       "1        No     2   Badr City  El Ashgar District   355000  \n",
       "2        No     0  Rehab City     Not in Compound  3100000  \n",
       "3        No     6    Madinaty            Madinaty  1150000  \n",
       "4        No     6        Marg     Not in Compound   185000  "
      ]
     },
     "execution_count": 21,
     "metadata": {},
     "output_type": "execute_result"
    }
   ],
   "source": [
    "# reorder columns\n",
    "df=df.loc[:,['Amenities','Bedrooms','Bathrooms','Area','Furnished','Level','location','Compound','price']]\n",
    "df.head()"
   ]
  },
  {
   "cell_type": "code",
   "execution_count": 22,
   "metadata": {},
   "outputs": [],
   "source": [
    "# convert funished category\n",
    "df.Furnished=df.Furnished.replace({'No':0,'Yes':1})"
   ]
  },
  {
   "cell_type": "code",
   "execution_count": 23,
   "metadata": {},
   "outputs": [
    {
     "data": {
      "text/plain": [
       "Amenities    object\n",
       "Bedrooms     object\n",
       "Bathrooms    object\n",
       "Area         object\n",
       "Furnished     int64\n",
       "Level        object\n",
       "location     object\n",
       "Compound     object\n",
       "price        object\n",
       "dtype: object"
      ]
     },
     "execution_count": 23,
     "metadata": {},
     "output_type": "execute_result"
    }
   ],
   "source": [
    "# check data types\n",
    "df.dtypes"
   ]
  },
  {
   "cell_type": "code",
   "execution_count": 24,
   "metadata": {},
   "outputs": [
    {
     "data": {
      "text/plain": [
       "Amenities     object\n",
       "Bedrooms       int32\n",
       "Bathrooms      int32\n",
       "Area         float64\n",
       "Furnished      int64\n",
       "Level          int32\n",
       "location      object\n",
       "Compound      object\n",
       "price        float64\n",
       "dtype: object"
      ]
     },
     "execution_count": 24,
     "metadata": {},
     "output_type": "execute_result"
    }
   ],
   "source": [
    "# change bedrooms, bathrooms and area into integers, and price into float\n",
    "df.Bedrooms=df.Bedrooms.astype(int)\n",
    "df.Bathrooms=df.Bathrooms.astype(int)\n",
    "df.Area=df.Area.astype(float)\n",
    "df.Level=df.Level.astype(int)\n",
    "df.price=df.price.astype(float)\n",
    "df.dtypes"
   ]
  },
  {
   "cell_type": "code",
   "execution_count": 25,
   "metadata": {},
   "outputs": [
    {
     "data": {
      "text/html": [
       "<div>\n",
       "<style scoped>\n",
       "    .dataframe tbody tr th:only-of-type {\n",
       "        vertical-align: middle;\n",
       "    }\n",
       "\n",
       "    .dataframe tbody tr th {\n",
       "        vertical-align: top;\n",
       "    }\n",
       "\n",
       "    .dataframe thead th {\n",
       "        text-align: right;\n",
       "    }\n",
       "</style>\n",
       "<table border=\"1\" class=\"dataframe\">\n",
       "  <thead>\n",
       "    <tr style=\"text-align: right;\">\n",
       "      <th></th>\n",
       "      <th>Amenities</th>\n",
       "      <th>Bedrooms</th>\n",
       "      <th>Bathrooms</th>\n",
       "      <th>Area</th>\n",
       "      <th>Furnished</th>\n",
       "      <th>Level</th>\n",
       "      <th>location</th>\n",
       "      <th>Compound</th>\n",
       "      <th>price</th>\n",
       "    </tr>\n",
       "  </thead>\n",
       "  <tbody>\n",
       "    <tr>\n",
       "      <th>0</th>\n",
       "      <td>Balcony,Security,Covered Parking,Electricity M...</td>\n",
       "      <td>3</td>\n",
       "      <td>2</td>\n",
       "      <td>135.0</td>\n",
       "      <td>0</td>\n",
       "      <td>5</td>\n",
       "      <td>Madinaty</td>\n",
       "      <td>Madinaty</td>\n",
       "      <td>1600000.0</td>\n",
       "    </tr>\n",
       "    <tr>\n",
       "      <th>1</th>\n",
       "      <td>Balcony,Pets Allowed,Private Garden,Security,E...</td>\n",
       "      <td>3</td>\n",
       "      <td>2</td>\n",
       "      <td>140.0</td>\n",
       "      <td>0</td>\n",
       "      <td>2</td>\n",
       "      <td>Badr City</td>\n",
       "      <td>El Ashgar District</td>\n",
       "      <td>355000.0</td>\n",
       "    </tr>\n",
       "    <tr>\n",
       "      <th>2</th>\n",
       "      <td>No</td>\n",
       "      <td>3</td>\n",
       "      <td>3</td>\n",
       "      <td>180.0</td>\n",
       "      <td>0</td>\n",
       "      <td>0</td>\n",
       "      <td>Rehab City</td>\n",
       "      <td>Not in Compound</td>\n",
       "      <td>3100000.0</td>\n",
       "    </tr>\n",
       "    <tr>\n",
       "      <th>3</th>\n",
       "      <td>Balcony,Pets Allowed,Security,Electricity Mete...</td>\n",
       "      <td>2</td>\n",
       "      <td>1</td>\n",
       "      <td>107.0</td>\n",
       "      <td>0</td>\n",
       "      <td>6</td>\n",
       "      <td>Madinaty</td>\n",
       "      <td>Madinaty</td>\n",
       "      <td>1150000.0</td>\n",
       "    </tr>\n",
       "    <tr>\n",
       "      <th>4</th>\n",
       "      <td>Balcony,Electricity Meter</td>\n",
       "      <td>2</td>\n",
       "      <td>1</td>\n",
       "      <td>80.0</td>\n",
       "      <td>0</td>\n",
       "      <td>6</td>\n",
       "      <td>Marg</td>\n",
       "      <td>Not in Compound</td>\n",
       "      <td>185000.0</td>\n",
       "    </tr>\n",
       "  </tbody>\n",
       "</table>\n",
       "</div>"
      ],
      "text/plain": [
       "                                           Amenities  Bedrooms  Bathrooms  \\\n",
       "0  Balcony,Security,Covered Parking,Electricity M...         3          2   \n",
       "1  Balcony,Pets Allowed,Private Garden,Security,E...         3          2   \n",
       "2                                                 No         3          3   \n",
       "3  Balcony,Pets Allowed,Security,Electricity Mete...         2          1   \n",
       "4                          Balcony,Electricity Meter         2          1   \n",
       "\n",
       "    Area  Furnished  Level    location            Compound      price  \n",
       "0  135.0          0      5    Madinaty            Madinaty  1600000.0  \n",
       "1  140.0          0      2   Badr City  El Ashgar District   355000.0  \n",
       "2  180.0          0      0  Rehab City     Not in Compound  3100000.0  \n",
       "3  107.0          0      6    Madinaty            Madinaty  1150000.0  \n",
       "4   80.0          0      6        Marg     Not in Compound   185000.0  "
      ]
     },
     "execution_count": 25,
     "metadata": {},
     "output_type": "execute_result"
    }
   ],
   "source": [
    "df.head()"
   ]
  },
  {
   "cell_type": "markdown",
   "metadata": {},
   "source": [
    "# Explaratory data analysis"
   ]
  },
  {
   "cell_type": "code",
   "execution_count": 26,
   "metadata": {},
   "outputs": [
    {
     "data": {
      "text/html": [
       "<div>\n",
       "<style scoped>\n",
       "    .dataframe tbody tr th:only-of-type {\n",
       "        vertical-align: middle;\n",
       "    }\n",
       "\n",
       "    .dataframe tbody tr th {\n",
       "        vertical-align: top;\n",
       "    }\n",
       "\n",
       "    .dataframe thead th {\n",
       "        text-align: right;\n",
       "    }\n",
       "</style>\n",
       "<table border=\"1\" class=\"dataframe\">\n",
       "  <thead>\n",
       "    <tr style=\"text-align: right;\">\n",
       "      <th></th>\n",
       "      <th>Bedrooms</th>\n",
       "      <th>Bathrooms</th>\n",
       "      <th>Area</th>\n",
       "      <th>Level</th>\n",
       "      <th>Furnished</th>\n",
       "      <th>price</th>\n",
       "    </tr>\n",
       "  </thead>\n",
       "  <tbody>\n",
       "    <tr>\n",
       "      <th>Bedrooms</th>\n",
       "      <td>1.000000</td>\n",
       "      <td>0.505807</td>\n",
       "      <td>-0.004710</td>\n",
       "      <td>0.042594</td>\n",
       "      <td>-0.003458</td>\n",
       "      <td>0.276485</td>\n",
       "    </tr>\n",
       "    <tr>\n",
       "      <th>Bathrooms</th>\n",
       "      <td>0.505807</td>\n",
       "      <td>1.000000</td>\n",
       "      <td>-0.002722</td>\n",
       "      <td>-0.080361</td>\n",
       "      <td>-0.006971</td>\n",
       "      <td>0.365814</td>\n",
       "    </tr>\n",
       "    <tr>\n",
       "      <th>Area</th>\n",
       "      <td>-0.004710</td>\n",
       "      <td>-0.002722</td>\n",
       "      <td>1.000000</td>\n",
       "      <td>-0.001136</td>\n",
       "      <td>-0.000612</td>\n",
       "      <td>-0.003480</td>\n",
       "    </tr>\n",
       "    <tr>\n",
       "      <th>Level</th>\n",
       "      <td>0.042594</td>\n",
       "      <td>-0.080361</td>\n",
       "      <td>-0.001136</td>\n",
       "      <td>1.000000</td>\n",
       "      <td>0.038617</td>\n",
       "      <td>-0.065321</td>\n",
       "    </tr>\n",
       "    <tr>\n",
       "      <th>Furnished</th>\n",
       "      <td>-0.003458</td>\n",
       "      <td>-0.006971</td>\n",
       "      <td>-0.000612</td>\n",
       "      <td>0.038617</td>\n",
       "      <td>1.000000</td>\n",
       "      <td>0.100371</td>\n",
       "    </tr>\n",
       "    <tr>\n",
       "      <th>price</th>\n",
       "      <td>0.276485</td>\n",
       "      <td>0.365814</td>\n",
       "      <td>-0.003480</td>\n",
       "      <td>-0.065321</td>\n",
       "      <td>0.100371</td>\n",
       "      <td>1.000000</td>\n",
       "    </tr>\n",
       "  </tbody>\n",
       "</table>\n",
       "</div>"
      ],
      "text/plain": [
       "           Bedrooms  Bathrooms      Area     Level  Furnished     price\n",
       "Bedrooms   1.000000   0.505807 -0.004710  0.042594  -0.003458  0.276485\n",
       "Bathrooms  0.505807   1.000000 -0.002722 -0.080361  -0.006971  0.365814\n",
       "Area      -0.004710  -0.002722  1.000000 -0.001136  -0.000612 -0.003480\n",
       "Level      0.042594  -0.080361 -0.001136  1.000000   0.038617 -0.065321\n",
       "Furnished -0.003458  -0.006971 -0.000612  0.038617   1.000000  0.100371\n",
       "price      0.276485   0.365814 -0.003480 -0.065321   0.100371  1.000000"
      ]
     },
     "execution_count": 26,
     "metadata": {},
     "output_type": "execute_result"
    }
   ],
   "source": [
    "#check correllation of feature with the predicted variable (price)\n",
    "df[['Bedrooms','Bathrooms','Area','Level','Furnished','price']].corr()"
   ]
  },
  {
   "cell_type": "markdown",
   "metadata": {},
   "source": [
    "it seems that all correlation is weak"
   ]
  },
  {
   "cell_type": "markdown",
   "metadata": {},
   "source": [
    "#### >> Price"
   ]
  },
  {
   "cell_type": "code",
   "execution_count": 27,
   "metadata": {},
   "outputs": [
    {
     "data": {
      "image/png": "[encoded data removed]",
      "text/plain": [
       "<Figure size 432x288 with 1 Axes>"
      ]
     },
     "metadata": {
      "needs_background": "light"
     },
     "output_type": "display_data"
    }
   ],
   "source": [
    "plt.boxplot(df.price)\n",
    "plt.ylim(-200000,5000000)\n",
    "plt.show()"
   ]
  },
  {
   "cell_type": "code",
   "execution_count": 28,
   "metadata": {},
   "outputs": [
    {
     "name": "stdout",
     "output_type": "stream",
     "text": [
      "median: 1100000.0 , Q3: 1800000.0, Q1: 500000.0,upper_whisker: 3750000.0 ,lower_whisker: 800.0\n"
     ]
    }
   ],
   "source": [
    "#check price stats\n",
    "median = np.median(df.price)\n",
    "upper_quartile = np.percentile(df.price, 75)\n",
    "lower_quartile = np.percentile(df.price, 25)\n",
    "iqr = upper_quartile - lower_quartile\n",
    "upper_whisker = df.price[df.price<=upper_quartile+1.5*iqr].max()\n",
    "lower_whisker = df.price[df.price>=lower_quartile-1.5*iqr].min()\n",
    "print(\"median: {} , Q3: {}, Q1: {},upper_whisker: {} ,lower_whisker: {}\".format(median,upper_quartile,lower_quartile,upper_whisker,lower_whisker))"
   ]
  },
  {
   "cell_type": "code",
   "execution_count": 29,
   "metadata": {},
   "outputs": [
    {
     "data": {
      "text/plain": [
       "(1147, 9)"
      ]
     },
     "execution_count": 29,
     "metadata": {},
     "output_type": "execute_result"
    }
   ],
   "source": [
    "# check number of outliers in price\n",
    "df[df.price>3600068].shape"
   ]
  },
  {
   "cell_type": "code",
   "execution_count": 30,
   "metadata": {},
   "outputs": [],
   "source": [
    "# remove price outliers\n",
    "df=df[df.price<3600068]"
   ]
  },
  {
   "cell_type": "markdown",
   "metadata": {},
   "source": [
    "#### Enhancing correlation"
   ]
  },
  {
   "cell_type": "markdown",
   "metadata": {},
   "source": [
    "#### >>Area"
   ]
  },
  {
   "cell_type": "code",
   "execution_count": 31,
   "metadata": {},
   "outputs": [
    {
     "data": {
      "text/plain": [
       "(-20, 500)"
      ]
     },
     "execution_count": 31,
     "metadata": {},
     "output_type": "execute_result"
    },
    {
     "data": {
      "image/png": "[encoded data removed]",
      "text/plain": [
       "<Figure size 432x288 with 1 Axes>"
      ]
     },
     "metadata": {
      "needs_background": "light"
     },
     "output_type": "display_data"
    }
   ],
   "source": [
    "plt.boxplot(df.Area)\n",
    "plt.ylim(-20,500)"
   ]
  },
  {
   "cell_type": "code",
   "execution_count": 32,
   "metadata": {},
   "outputs": [
    {
     "name": "stdout",
     "output_type": "stream",
     "text": [
      "median: 135.0 , Q3: 175.0, Q1: 100.0,upper_whisker: 287.0 ,lower_whisker: 0.0\n"
     ]
    }
   ],
   "source": [
    "median = np.median(df.Area)\n",
    "upper_quartile = np.percentile(df.Area, 75)\n",
    "lower_quartile = np.percentile(df.Area, 25)\n",
    "\n",
    "iqr = upper_quartile - lower_quartile\n",
    "upper_whisker = df.Area[df.Area<=upper_quartile+1.5*iqr].max()\n",
    "lower_whisker = df.Area[df.Area>=lower_quartile-1.5*iqr].min()\n",
    "print(\"median: {} , Q3: {}, Q1: {},upper_whisker: {} ,lower_whisker: {}\".format(median,upper_quartile,lower_quartile,upper_whisker,lower_whisker))"
   ]
  },
  {
   "cell_type": "code",
   "execution_count": 33,
   "metadata": {},
   "outputs": [
    {
     "data": {
      "text/plain": [
       "(418, 9)"
      ]
     },
     "execution_count": 33,
     "metadata": {},
     "output_type": "execute_result"
    }
   ],
   "source": [
    "df[df.Area>295].shape"
   ]
  },
  {
   "cell_type": "code",
   "execution_count": 34,
   "metadata": {},
   "outputs": [],
   "source": [
    "# remove Area outliers\n",
    "df=df[df.Area<295]"
   ]
  },
  {
   "cell_type": "code",
   "execution_count": 35,
   "metadata": {},
   "outputs": [
    {
     "data": {
      "text/html": [
       "<div>\n",
       "<style scoped>\n",
       "    .dataframe tbody tr th:only-of-type {\n",
       "        vertical-align: middle;\n",
       "    }\n",
       "\n",
       "    .dataframe tbody tr th {\n",
       "        vertical-align: top;\n",
       "    }\n",
       "\n",
       "    .dataframe thead th {\n",
       "        text-align: right;\n",
       "    }\n",
       "</style>\n",
       "<table border=\"1\" class=\"dataframe\">\n",
       "  <thead>\n",
       "    <tr style=\"text-align: right;\">\n",
       "      <th></th>\n",
       "      <th>Area</th>\n",
       "      <th>price</th>\n",
       "    </tr>\n",
       "  </thead>\n",
       "  <tbody>\n",
       "    <tr>\n",
       "      <th>Area</th>\n",
       "      <td>1.000000</td>\n",
       "      <td>0.623759</td>\n",
       "    </tr>\n",
       "    <tr>\n",
       "      <th>price</th>\n",
       "      <td>0.623759</td>\n",
       "      <td>1.000000</td>\n",
       "    </tr>\n",
       "  </tbody>\n",
       "</table>\n",
       "</div>"
      ],
      "text/plain": [
       "           Area     price\n",
       "Area   1.000000  0.623759\n",
       "price  0.623759  1.000000"
      ]
     },
     "execution_count": 35,
     "metadata": {},
     "output_type": "execute_result"
    }
   ],
   "source": [
    "# check corr\n",
    "df[['Area','price']].corr()"
   ]
  },
  {
   "cell_type": "markdown",
   "metadata": {},
   "source": [
    "after removing outliers from price and area we increased the area correlation from -0.003480 to 0.623759"
   ]
  },
  {
   "cell_type": "code",
   "execution_count": 36,
   "metadata": {},
   "outputs": [
    {
     "data": {
      "text/plain": [
       "<matplotlib.axes._subplots.AxesSubplot at 0x3f918a3f48>"
      ]
     },
     "execution_count": 36,
     "metadata": {},
     "output_type": "execute_result"
    },
    {
     "data": {
      "image/png": "[encoded data removed]",
      "text/plain": [
       "<Figure size 432x288 with 1 Axes>"
      ]
     },
     "metadata": {
      "needs_background": "light"
     },
     "output_type": "display_data"
    }
   ],
   "source": [
    "sns.regplot(df.price,df.Area,line_kws = {'color': 'red'})\n"
   ]
  },
  {
   "cell_type": "markdown",
   "metadata": {},
   "source": [
    "#### >> Bathroom"
   ]
  },
  {
   "cell_type": "code",
   "execution_count": 37,
   "metadata": {},
   "outputs": [
    {
     "data": {
      "text/plain": [
       "{'whiskers': [<matplotlib.lines.Line2D at 0x3f9196a788>,\n",
       "  <matplotlib.lines.Line2D at 0x3f9196af08>],\n",
       " 'caps': [<matplotlib.lines.Line2D at 0x3f9196aec8>,\n",
       "  <matplotlib.lines.Line2D at 0x3f9196ce88>],\n",
       " 'boxes': [<matplotlib.lines.Line2D at 0x3f91965d48>],\n",
       " 'medians': [<matplotlib.lines.Line2D at 0x3f9196cf88>],\n",
       " 'fliers': [<matplotlib.lines.Line2D at 0x3f917c7108>],\n",
       " 'means': []}"
      ]
     },
     "execution_count": 37,
     "metadata": {},
     "output_type": "execute_result"
    },
    {
     "data": {
      "image/png": "[encoded data removed]",
      "text/plain": [
       "<Figure size 432x288 with 1 Axes>"
      ]
     },
     "metadata": {
      "needs_background": "light"
     },
     "output_type": "display_data"
    }
   ],
   "source": [
    "plt.boxplot( df.Bathrooms)"
   ]
  },
  {
   "cell_type": "code",
   "execution_count": 38,
   "metadata": {},
   "outputs": [
    {
     "data": {
      "text/plain": [
       "(251, 9)"
      ]
     },
     "execution_count": 38,
     "metadata": {},
     "output_type": "execute_result"
    }
   ],
   "source": [
    "#chek numbers of outliers\n",
    "df[df.Bathrooms>3].shape"
   ]
  },
  {
   "cell_type": "code",
   "execution_count": 39,
   "metadata": {},
   "outputs": [],
   "source": [
    "# remove Bathrooms outliers\n",
    "df=df[df.Bathrooms<=3]"
   ]
  },
  {
   "cell_type": "code",
   "execution_count": 40,
   "metadata": {},
   "outputs": [
    {
     "data": {
      "text/html": [
       "<div>\n",
       "<style scoped>\n",
       "    .dataframe tbody tr th:only-of-type {\n",
       "        vertical-align: middle;\n",
       "    }\n",
       "\n",
       "    .dataframe tbody tr th {\n",
       "        vertical-align: top;\n",
       "    }\n",
       "\n",
       "    .dataframe thead th {\n",
       "        text-align: right;\n",
       "    }\n",
       "</style>\n",
       "<table border=\"1\" class=\"dataframe\">\n",
       "  <thead>\n",
       "    <tr style=\"text-align: right;\">\n",
       "      <th></th>\n",
       "      <th>Bathrooms</th>\n",
       "      <th>price</th>\n",
       "    </tr>\n",
       "  </thead>\n",
       "  <tbody>\n",
       "    <tr>\n",
       "      <th>Bathrooms</th>\n",
       "      <td>1.000000</td>\n",
       "      <td>0.639126</td>\n",
       "    </tr>\n",
       "    <tr>\n",
       "      <th>price</th>\n",
       "      <td>0.639126</td>\n",
       "      <td>1.000000</td>\n",
       "    </tr>\n",
       "  </tbody>\n",
       "</table>\n",
       "</div>"
      ],
      "text/plain": [
       "           Bathrooms     price\n",
       "Bathrooms   1.000000  0.639126\n",
       "price       0.639126  1.000000"
      ]
     },
     "execution_count": 40,
     "metadata": {},
     "output_type": "execute_result"
    }
   ],
   "source": [
    "#check correlation\n",
    "df[['Bathrooms','price']].corr()"
   ]
  },
  {
   "cell_type": "markdown",
   "metadata": {},
   "source": [
    "after removing outliers from bathroom we icreased the correlation from 0.365814 to 0.504977"
   ]
  },
  {
   "cell_type": "markdown",
   "metadata": {},
   "source": [
    "#### >> Bedrooms"
   ]
  },
  {
   "cell_type": "code",
   "execution_count": 41,
   "metadata": {},
   "outputs": [
    {
     "data": {
      "text/plain": [
       "{'whiskers': [<matplotlib.lines.Line2D at 0x3f91a5dec8>,\n",
       "  <matplotlib.lines.Line2D at 0x3f91a63e48>],\n",
       " 'caps': [<matplotlib.lines.Line2D at 0x3f91a63f48>,\n",
       "  <matplotlib.lines.Line2D at 0x3f91a68dc8>],\n",
       " 'boxes': [<matplotlib.lines.Line2D at 0x3f91a5dd48>],\n",
       " 'medians': [<matplotlib.lines.Line2D at 0x3f91a68ec8>],\n",
       " 'fliers': [<matplotlib.lines.Line2D at 0x3f91a6ed48>],\n",
       " 'means': []}"
      ]
     },
     "execution_count": 41,
     "metadata": {},
     "output_type": "execute_result"
    },
    {
     "data": {
      "image/png": "[encoded data removed]",
      "text/plain": [
       "<Figure size 432x288 with 1 Axes>"
      ]
     },
     "metadata": {
      "needs_background": "light"
     },
     "output_type": "display_data"
    }
   ],
   "source": [
    "#check data distribution\n",
    "plt.boxplot(df.Bedrooms)"
   ]
  },
  {
   "cell_type": "code",
   "execution_count": 42,
   "metadata": {},
   "outputs": [
    {
     "name": "stdout",
     "output_type": "stream",
     "text": [
      "median: 3.0 , Q3: 3.0, Q1: 2.0,upper_whisker: 4 ,lower_whisker: 1\n"
     ]
    }
   ],
   "source": [
    "#check price stats\n",
    "median = np.median(df.Bedrooms)\n",
    "upper_quartile = np.percentile(df.Bedrooms, 75)\n",
    "lower_quartile = np.percentile(df.Bedrooms, 25)\n",
    "iqr = upper_quartile - lower_quartile\n",
    "upper_whisker = df.Bedrooms[df.Bedrooms<=upper_quartile+1.5*iqr].max()\n",
    "lower_whisker = df.Bedrooms[df.Bedrooms>=lower_quartile-1.5*iqr].min()\n",
    "print(\"median: {} , Q3: {}, Q1: {},upper_whisker: {} ,lower_whisker: {}\".format(median,upper_quartile,lower_quartile,upper_whisker,lower_whisker))"
   ]
  },
  {
   "cell_type": "code",
   "execution_count": 43,
   "metadata": {},
   "outputs": [
    {
     "data": {
      "text/plain": [
       "(135, 9)"
      ]
     },
     "execution_count": 43,
     "metadata": {},
     "output_type": "execute_result"
    }
   ],
   "source": [
    "# check shape of outliers\n",
    "df[df.Bedrooms>4].shape"
   ]
  },
  {
   "cell_type": "code",
   "execution_count": 44,
   "metadata": {},
   "outputs": [],
   "source": [
    "# remove outliers of Bedrooms\n",
    "df=df[df.Bedrooms<=4]"
   ]
  },
  {
   "cell_type": "code",
   "execution_count": 45,
   "metadata": {},
   "outputs": [
    {
     "data": {
      "text/html": [
       "<div>\n",
       "<style scoped>\n",
       "    .dataframe tbody tr th:only-of-type {\n",
       "        vertical-align: middle;\n",
       "    }\n",
       "\n",
       "    .dataframe tbody tr th {\n",
       "        vertical-align: top;\n",
       "    }\n",
       "\n",
       "    .dataframe thead th {\n",
       "        text-align: right;\n",
       "    }\n",
       "</style>\n",
       "<table border=\"1\" class=\"dataframe\">\n",
       "  <thead>\n",
       "    <tr style=\"text-align: right;\">\n",
       "      <th></th>\n",
       "      <th>Bedrooms</th>\n",
       "      <th>price</th>\n",
       "    </tr>\n",
       "  </thead>\n",
       "  <tbody>\n",
       "    <tr>\n",
       "      <th>Bedrooms</th>\n",
       "      <td>1.000000</td>\n",
       "      <td>0.339631</td>\n",
       "    </tr>\n",
       "    <tr>\n",
       "      <th>price</th>\n",
       "      <td>0.339631</td>\n",
       "      <td>1.000000</td>\n",
       "    </tr>\n",
       "  </tbody>\n",
       "</table>\n",
       "</div>"
      ],
      "text/plain": [
       "          Bedrooms     price\n",
       "Bedrooms  1.000000  0.339631\n",
       "price     0.339631  1.000000"
      ]
     },
     "execution_count": 45,
     "metadata": {},
     "output_type": "execute_result"
    }
   ],
   "source": [
    "# check correlation\n",
    "df[['Bedrooms','price']].corr()"
   ]
  },
  {
   "cell_type": "markdown",
   "metadata": {},
   "source": [
    "after removing outliers from Bedroom we icreased the correlation from 0.276485 to 0.339631"
   ]
  },
  {
   "cell_type": "markdown",
   "metadata": {},
   "source": [
    "#### >> Level"
   ]
  },
  {
   "cell_type": "code",
   "execution_count": 46,
   "metadata": {},
   "outputs": [
    {
     "data": {
      "image/png": "[encoded data removed]",
      "text/plain": [
       "<Figure size 432x288 with 1 Axes>"
      ]
     },
     "metadata": {
      "needs_background": "light"
     },
     "output_type": "display_data"
    }
   ],
   "source": [
    "plt.boxplot(df.Level)\n",
    "plt.show()"
   ]
  },
  {
   "cell_type": "code",
   "execution_count": 47,
   "metadata": {
    "scrolled": true
   },
   "outputs": [
    {
     "data": {
      "text/html": [
       "<div>\n",
       "<style scoped>\n",
       "    .dataframe tbody tr th:only-of-type {\n",
       "        vertical-align: middle;\n",
       "    }\n",
       "\n",
       "    .dataframe tbody tr th {\n",
       "        vertical-align: top;\n",
       "    }\n",
       "\n",
       "    .dataframe thead th {\n",
       "        text-align: right;\n",
       "    }\n",
       "</style>\n",
       "<table border=\"1\" class=\"dataframe\">\n",
       "  <thead>\n",
       "    <tr style=\"text-align: right;\">\n",
       "      <th></th>\n",
       "      <th>Level</th>\n",
       "      <th>price</th>\n",
       "    </tr>\n",
       "  </thead>\n",
       "  <tbody>\n",
       "    <tr>\n",
       "      <th>Level</th>\n",
       "      <td>1.000000</td>\n",
       "      <td>-0.156425</td>\n",
       "    </tr>\n",
       "    <tr>\n",
       "      <th>price</th>\n",
       "      <td>-0.156425</td>\n",
       "      <td>1.000000</td>\n",
       "    </tr>\n",
       "  </tbody>\n",
       "</table>\n",
       "</div>"
      ],
      "text/plain": [
       "          Level     price\n",
       "Level  1.000000 -0.156425\n",
       "price -0.156425  1.000000"
      ]
     },
     "execution_count": 47,
     "metadata": {},
     "output_type": "execute_result"
    }
   ],
   "source": [
    "df[['Level','price']].corr()"
   ]
  },
  {
   "cell_type": "markdown",
   "metadata": {},
   "source": [
    "#### >> Furnished"
   ]
  },
  {
   "cell_type": "code",
   "execution_count": 48,
   "metadata": {},
   "outputs": [
    {
     "data": {
      "text/plain": [
       "<seaborn.axisgrid.FacetGrid at 0x3f91aec088>"
      ]
     },
     "execution_count": 48,
     "metadata": {},
     "output_type": "execute_result"
    },
    {
     "data": {
      "image/png": "[encoded data removed]",
      "text/plain": [
       "<Figure size 360x360 with 1 Axes>"
      ]
     },
     "metadata": {
      "needs_background": "light"
     },
     "output_type": "display_data"
    }
   ],
   "source": [
    "sns.catplot(x=\"Furnished\", y=\"price\", kind=\"box\", data=df)"
   ]
  },
  {
   "cell_type": "markdown",
   "metadata": {},
   "source": [
    "most of data are overlapped(small variance between data)"
   ]
  },
  {
   "cell_type": "code",
   "execution_count": 49,
   "metadata": {
    "scrolled": false
   },
   "outputs": [
    {
     "data": {
      "text/plain": [
       "<matplotlib.axes._subplots.AxesSubplot at 0x3f91991508>"
      ]
     },
     "execution_count": 49,
     "metadata": {},
     "output_type": "execute_result"
    },
    {
     "data": {
      "image/png": "[encoded data removed]",
      "text/plain": [
       "<Figure size 720x504 with 2 Axes>"
      ]
     },
     "metadata": {
      "needs_background": "light"
     },
     "output_type": "display_data"
    }
   ],
   "source": [
    "#### check final correlation\n",
    "plt.figure(figsize=(10,7))\n",
    "sns.heatmap(df.corr(),annot = True)"
   ]
  },
  {
   "cell_type": "markdown",
   "metadata": {},
   "source": [
    "### Add More Features"
   ]
  },
  {
   "cell_type": "code",
   "execution_count": 50,
   "metadata": {},
   "outputs": [
    {
     "data": {
      "text/html": [
       "<div>\n",
       "<style scoped>\n",
       "    .dataframe tbody tr th:only-of-type {\n",
       "        vertical-align: middle;\n",
       "    }\n",
       "\n",
       "    .dataframe tbody tr th {\n",
       "        vertical-align: top;\n",
       "    }\n",
       "\n",
       "    .dataframe thead th {\n",
       "        text-align: right;\n",
       "    }\n",
       "</style>\n",
       "<table border=\"1\" class=\"dataframe\">\n",
       "  <thead>\n",
       "    <tr style=\"text-align: right;\">\n",
       "      <th></th>\n",
       "      <th>Amenities</th>\n",
       "      <th>Bedrooms</th>\n",
       "      <th>Bathrooms</th>\n",
       "      <th>Area</th>\n",
       "      <th>Furnished</th>\n",
       "      <th>Level</th>\n",
       "      <th>location</th>\n",
       "      <th>Compound</th>\n",
       "      <th>price</th>\n",
       "    </tr>\n",
       "  </thead>\n",
       "  <tbody>\n",
       "    <tr>\n",
       "      <th>0</th>\n",
       "      <td>Balcony,Security,Covered Parking,Electricity M...</td>\n",
       "      <td>3</td>\n",
       "      <td>2</td>\n",
       "      <td>135.0</td>\n",
       "      <td>0</td>\n",
       "      <td>5</td>\n",
       "      <td>Madinaty</td>\n",
       "      <td>Madinaty</td>\n",
       "      <td>1600000.0</td>\n",
       "    </tr>\n",
       "    <tr>\n",
       "      <th>1</th>\n",
       "      <td>Balcony,Pets Allowed,Private Garden,Security,E...</td>\n",
       "      <td>3</td>\n",
       "      <td>2</td>\n",
       "      <td>140.0</td>\n",
       "      <td>0</td>\n",
       "      <td>2</td>\n",
       "      <td>Badr City</td>\n",
       "      <td>El Ashgar District</td>\n",
       "      <td>355000.0</td>\n",
       "    </tr>\n",
       "    <tr>\n",
       "      <th>2</th>\n",
       "      <td>No</td>\n",
       "      <td>3</td>\n",
       "      <td>3</td>\n",
       "      <td>180.0</td>\n",
       "      <td>0</td>\n",
       "      <td>0</td>\n",
       "      <td>Rehab City</td>\n",
       "      <td>Not in Compound</td>\n",
       "      <td>3100000.0</td>\n",
       "    </tr>\n",
       "    <tr>\n",
       "      <th>3</th>\n",
       "      <td>Balcony,Pets Allowed,Security,Electricity Mete...</td>\n",
       "      <td>2</td>\n",
       "      <td>1</td>\n",
       "      <td>107.0</td>\n",
       "      <td>0</td>\n",
       "      <td>6</td>\n",
       "      <td>Madinaty</td>\n",
       "      <td>Madinaty</td>\n",
       "      <td>1150000.0</td>\n",
       "    </tr>\n",
       "    <tr>\n",
       "      <th>4</th>\n",
       "      <td>Balcony,Electricity Meter</td>\n",
       "      <td>2</td>\n",
       "      <td>1</td>\n",
       "      <td>80.0</td>\n",
       "      <td>0</td>\n",
       "      <td>6</td>\n",
       "      <td>Marg</td>\n",
       "      <td>Not in Compound</td>\n",
       "      <td>185000.0</td>\n",
       "    </tr>\n",
       "  </tbody>\n",
       "</table>\n",
       "</div>"
      ],
      "text/plain": [
       "                                           Amenities  Bedrooms  Bathrooms  \\\n",
       "0  Balcony,Security,Covered Parking,Electricity M...         3          2   \n",
       "1  Balcony,Pets Allowed,Private Garden,Security,E...         3          2   \n",
       "2                                                 No         3          3   \n",
       "3  Balcony,Pets Allowed,Security,Electricity Mete...         2          1   \n",
       "4                          Balcony,Electricity Meter         2          1   \n",
       "\n",
       "    Area  Furnished  Level    location            Compound      price  \n",
       "0  135.0          0      5    Madinaty            Madinaty  1600000.0  \n",
       "1  140.0          0      2   Badr City  El Ashgar District   355000.0  \n",
       "2  180.0          0      0  Rehab City     Not in Compound  3100000.0  \n",
       "3  107.0          0      6    Madinaty            Madinaty  1150000.0  \n",
       "4   80.0          0      6        Marg     Not in Compound   185000.0  "
      ]
     },
     "execution_count": 50,
     "metadata": {},
     "output_type": "execute_result"
    }
   ],
   "source": [
    "df.head()"
   ]
  },
  {
   "cell_type": "code",
   "execution_count": 51,
   "metadata": {},
   "outputs": [
    {
     "data": {
      "text/plain": [
       "(24545, 9)"
      ]
     },
     "execution_count": 51,
     "metadata": {},
     "output_type": "execute_result"
    }
   ],
   "source": [
    "df.shape"
   ]
  },
  {
   "cell_type": "markdown",
   "metadata": {},
   "source": [
    "#### >> Compound"
   ]
  },
  {
   "cell_type": "code",
   "execution_count": 107,
   "metadata": {},
   "outputs": [
    {
     "data": {
      "text/plain": [
       "Not in Compound            18025\n",
       "Madinaty                    2590\n",
       "Rehab City                   726\n",
       "The Square                   274\n",
       "Mountain View Hyde Park      253\n",
       "Dar Misr                     251\n",
       "VGK                          214\n",
       "Eastown                      191\n",
       "Galleria Moon Valley         140\n",
       "Tag Sultan                   131\n",
       "2020 Compound                 97\n",
       "Baron City                    95\n",
       "Stone Residence               78\n",
       "Hyde Park New Cairo           55\n",
       "Degla Palms                   51\n",
       "Name: Compound, dtype: int64"
      ]
     },
     "execution_count": 107,
     "metadata": {},
     "output_type": "execute_result"
    }
   ],
   "source": [
    "\n",
    "df_comp=df[df.Compound.isin(df.Compound.value_counts().reset_index(name='count').query('count>50')['index'])]\n",
    "df_comp.Compound.value_counts()"
   ]
  },
  {
   "cell_type": "code",
   "execution_count": 53,
   "metadata": {},
   "outputs": [
    {
     "data": {
      "text/plain": [
       "<Figure size 1440x720 with 0 Axes>"
      ]
     },
     "metadata": {},
     "output_type": "display_data"
    },
    {
     "data": {
      "image/png": "[encoded data removed]",
      "text/plain": [
       "<Figure size 360x360 with 1 Axes>"
      ]
     },
     "metadata": {
      "needs_background": "light"
     },
     "output_type": "display_data"
    }
   ],
   "source": [
    "plt.figure(figsize=(20,10))\n",
    "sns.catplot(x='Compound',y='price',kind=\"box\", data=df_comp)\n",
    "plt.xticks(rotation=90)\n",
    "plt.show()"
   ]
  },
  {
   "cell_type": "markdown",
   "metadata": {},
   "source": [
    "#### >> City"
   ]
  },
  {
   "cell_type": "code",
   "execution_count": 54,
   "metadata": {},
   "outputs": [
    {
     "data": {
      "text/plain": [
       "Darrasa               6\n",
       "Garden City           6\n",
       "Tebeen                7\n",
       "Ma'sara               8\n",
       "Ataba                 9\n",
       "Gamaleya             10\n",
       "Moski                11\n",
       "Darb al-Ahmar        13\n",
       "Boulaq               16\n",
       "Bab al-Shereia       18\n",
       "Tura                 19\n",
       "El Fostat            26\n",
       "New Capital City     29\n",
       "Rod al-Farag         30\n",
       "Helmeya al-Gadeda    32\n",
       "Qasr al-Nil          35\n",
       "Mostakbal City       42\n",
       "Masr al-Kadema       43\n",
       "Al Amiriyyah         44\n",
       "Basateen             44\n",
       "Name: location, dtype: int64"
      ]
     },
     "execution_count": 54,
     "metadata": {},
     "output_type": "execute_result"
    }
   ],
   "source": [
    "df_comp.location.value_counts().sort_values()[:20]"
   ]
  },
  {
   "cell_type": "code",
   "execution_count": 108,
   "metadata": {},
   "outputs": [
    {
     "data": {
      "text/plain": [
       "Sayeda Zeinab                  52\n",
       "New Heliopolis                 59\n",
       "Abasiya                        64\n",
       "Katameya                       64\n",
       "Zamalek                        68\n",
       "Waili                          72\n",
       "Ramses + Ramses Extension      84\n",
       "Zawya al-Hamra                105\n",
       "Al Manial                     107\n",
       "Dar al-Salaam                 113\n",
       "Ezbet El Nakhl                133\n",
       "15 May City                   162\n",
       "New Nozha                     173\n",
       "Hadayek Helwan                180\n",
       "Marg                          214\n",
       "Matareya                      218\n",
       "Hadayek al-Kobba              249\n",
       "Salam City                    254\n",
       "Badr City                     272\n",
       "Sheraton                      279\n",
       "Shubra                        317\n",
       "Zahraa Al Maadi               384\n",
       "Gesr Al Suez                  456\n",
       "Helwan                        469\n",
       "Downtown Cairo                513\n",
       "Helmeyat El Zaytoun           536\n",
       "Mokattam                      549\n",
       "Shorouk City                  758\n",
       "Ain Shams                     777\n",
       "Heliopolis                    947\n",
       "Obour City                   1003\n",
       "Maadi                        1222\n",
       "Rehab City                   1469\n",
       "Nasr City                    2695\n",
       "Madinaty                     3262\n",
       "New Cairo - El Tagamoa       4347\n",
       "Name: location, dtype: int64"
      ]
     },
     "execution_count": 108,
     "metadata": {},
     "output_type": "execute_result"
    }
   ],
   "source": [
    "df_comp_loc=df_comp[df_comp.location.isin(df_comp.location.value_counts().reset_index(name='count').query('count>50')['index'])]\n",
    "df_comp_loc.location.value_counts().sort_values()"
   ]
  },
  {
   "cell_type": "code",
   "execution_count": 56,
   "metadata": {},
   "outputs": [
    {
     "data": {
      "text/plain": [
       "<Figure size 1440x360 with 0 Axes>"
      ]
     },
     "metadata": {},
     "output_type": "display_data"
    },
    {
     "data": {
      "image/png": "[encoded data removed]",
      "text/plain": [
       "<Figure size 1080x360 with 1 Axes>"
      ]
     },
     "metadata": {
      "needs_background": "light"
     },
     "output_type": "display_data"
    }
   ],
   "source": [
    "plt.figure(figsize=(20,5))\n",
    "sns.catplot(x='location',y='price',kind=\"box\", data=df_comp_loc,height=5, # make the plot 5 units high\n",
    "    aspect=3)\n",
    "plt.xticks(rotation=90)\n",
    "plt.show()"
   ]
  },
  {
   "cell_type": "code",
   "execution_count": 57,
   "metadata": {},
   "outputs": [
    {
     "data": {
      "text/plain": [
       "(22626, 9)"
      ]
     },
     "execution_count": 57,
     "metadata": {},
     "output_type": "execute_result"
    }
   ],
   "source": [
    "df_comp_loc.shape"
   ]
  },
  {
   "cell_type": "code",
   "execution_count": 58,
   "metadata": {},
   "outputs": [
    {
     "data": {
      "text/html": [
       "<div>\n",
       "<style scoped>\n",
       "    .dataframe tbody tr th:only-of-type {\n",
       "        vertical-align: middle;\n",
       "    }\n",
       "\n",
       "    .dataframe tbody tr th {\n",
       "        vertical-align: top;\n",
       "    }\n",
       "\n",
       "    .dataframe thead th {\n",
       "        text-align: right;\n",
       "    }\n",
       "</style>\n",
       "<table border=\"1\" class=\"dataframe\">\n",
       "  <thead>\n",
       "    <tr style=\"text-align: right;\">\n",
       "      <th></th>\n",
       "      <th>Amenities</th>\n",
       "      <th>Bedrooms</th>\n",
       "      <th>Bathrooms</th>\n",
       "      <th>Area</th>\n",
       "      <th>Furnished</th>\n",
       "      <th>Level</th>\n",
       "      <th>location</th>\n",
       "      <th>Compound</th>\n",
       "      <th>price</th>\n",
       "    </tr>\n",
       "  </thead>\n",
       "  <tbody>\n",
       "    <tr>\n",
       "      <th>0</th>\n",
       "      <td>Balcony,Security,Covered Parking,Electricity M...</td>\n",
       "      <td>3</td>\n",
       "      <td>2</td>\n",
       "      <td>135.0</td>\n",
       "      <td>0</td>\n",
       "      <td>5</td>\n",
       "      <td>Madinaty</td>\n",
       "      <td>Madinaty</td>\n",
       "      <td>1600000.0</td>\n",
       "    </tr>\n",
       "    <tr>\n",
       "      <th>2</th>\n",
       "      <td>No</td>\n",
       "      <td>3</td>\n",
       "      <td>3</td>\n",
       "      <td>180.0</td>\n",
       "      <td>0</td>\n",
       "      <td>0</td>\n",
       "      <td>Rehab City</td>\n",
       "      <td>Not in Compound</td>\n",
       "      <td>3100000.0</td>\n",
       "    </tr>\n",
       "    <tr>\n",
       "      <th>3</th>\n",
       "      <td>Balcony,Pets Allowed,Security,Electricity Mete...</td>\n",
       "      <td>2</td>\n",
       "      <td>1</td>\n",
       "      <td>107.0</td>\n",
       "      <td>0</td>\n",
       "      <td>6</td>\n",
       "      <td>Madinaty</td>\n",
       "      <td>Madinaty</td>\n",
       "      <td>1150000.0</td>\n",
       "    </tr>\n",
       "  </tbody>\n",
       "</table>\n",
       "</div>"
      ],
      "text/plain": [
       "                                           Amenities  Bedrooms  Bathrooms  \\\n",
       "0  Balcony,Security,Covered Parking,Electricity M...         3          2   \n",
       "2                                                 No         3          3   \n",
       "3  Balcony,Pets Allowed,Security,Electricity Mete...         2          1   \n",
       "\n",
       "    Area  Furnished  Level    location         Compound      price  \n",
       "0  135.0          0      5    Madinaty         Madinaty  1600000.0  \n",
       "2  180.0          0      0  Rehab City  Not in Compound  3100000.0  \n",
       "3  107.0          0      6    Madinaty         Madinaty  1150000.0  "
      ]
     },
     "execution_count": 58,
     "metadata": {},
     "output_type": "execute_result"
    }
   ],
   "source": [
    "df_comp_loc.head(3)"
   ]
  },
  {
   "cell_type": "code",
   "execution_count": 59,
   "metadata": {},
   "outputs": [
    {
     "data": {
      "text/plain": [
       "(Index(['Area', 'Bathrooms', 'Bedrooms', 'Furnished', 'Level'], dtype='object'),\n",
       " Index(['Area', 'Bathrooms', 'Bedrooms', 'Compound', 'Furnished', 'Level',\n",
       "        'location'],\n",
       "       dtype='object'))"
      ]
     },
     "execution_count": 59,
     "metadata": {},
     "output_type": "execute_result"
    }
   ],
   "source": [
    "df_numerical=df_comp_loc.loc[:,df_comp_loc.columns.difference(['Amenities', 'Compound','location','title','price'])]\n",
    "df_features=df_comp_loc.loc[:,df_comp_loc.columns.difference(['Amenities','price'])]\n",
    "df_target=df_comp_loc.loc[:,'price']\n",
    "df_numerical.columns,df_features.columns"
   ]
  },
  {
   "cell_type": "code",
   "execution_count": 60,
   "metadata": {},
   "outputs": [],
   "source": [
    "numeric_features = list(df_numerical.columns)\n",
    "numeric_transformer = Pipeline(steps=[\n",
    "    ('scaler', preprocessing.StandardScaler())])\n",
    "categorical_features = ['location', 'Compound']\n",
    "categorical_transformer = Pipeline(steps=[\n",
    "    ('onehot', OneHotEncoder(handle_unknown='ignore'))])\n",
    "preprocessor = ColumnTransformer(\n",
    "    transformers=[\n",
    "        ('num', numeric_transformer, numeric_features),\n",
    "        ('cat', categorical_transformer, categorical_features)])"
   ]
  },
  {
   "cell_type": "code",
   "execution_count": 61,
   "metadata": {},
   "outputs": [
    {
     "data": {
      "text/plain": [
       "<22626x56 sparse matrix of type '<class 'numpy.float64'>'\n",
       "\twith 158382 stored elements in Compressed Sparse Row format>"
      ]
     },
     "execution_count": 61,
     "metadata": {},
     "output_type": "execute_result"
    }
   ],
   "source": [
    "preprocessor.fit_transform(df_comp_loc)"
   ]
  },
  {
   "cell_type": "markdown",
   "metadata": {},
   "source": [
    "# Prediction"
   ]
  },
  {
   "cell_type": "code",
   "execution_count": 62,
   "metadata": {},
   "outputs": [
    {
     "name": "stdout",
     "output_type": "stream",
     "text": [
      "training set:  (18100, 7) (18100,)\n",
      "test set:  (4526, 7) (4526,)\n"
     ]
    },
    {
     "data": {
      "text/html": [
       "<div>\n",
       "<style scoped>\n",
       "    .dataframe tbody tr th:only-of-type {\n",
       "        vertical-align: middle;\n",
       "    }\n",
       "\n",
       "    .dataframe tbody tr th {\n",
       "        vertical-align: top;\n",
       "    }\n",
       "\n",
       "    .dataframe thead th {\n",
       "        text-align: right;\n",
       "    }\n",
       "</style>\n",
       "<table border=\"1\" class=\"dataframe\">\n",
       "  <thead>\n",
       "    <tr style=\"text-align: right;\">\n",
       "      <th></th>\n",
       "      <th>Area</th>\n",
       "      <th>Bathrooms</th>\n",
       "      <th>Bedrooms</th>\n",
       "      <th>Compound</th>\n",
       "      <th>Furnished</th>\n",
       "      <th>Level</th>\n",
       "      <th>location</th>\n",
       "    </tr>\n",
       "  </thead>\n",
       "  <tbody>\n",
       "    <tr>\n",
       "      <th>0</th>\n",
       "      <td>135.0</td>\n",
       "      <td>2</td>\n",
       "      <td>3</td>\n",
       "      <td>Madinaty</td>\n",
       "      <td>0</td>\n",
       "      <td>5</td>\n",
       "      <td>Madinaty</td>\n",
       "    </tr>\n",
       "    <tr>\n",
       "      <th>2</th>\n",
       "      <td>180.0</td>\n",
       "      <td>3</td>\n",
       "      <td>3</td>\n",
       "      <td>Not in Compound</td>\n",
       "      <td>0</td>\n",
       "      <td>0</td>\n",
       "      <td>Rehab City</td>\n",
       "    </tr>\n",
       "  </tbody>\n",
       "</table>\n",
       "</div>"
      ],
      "text/plain": [
       "    Area  Bathrooms  Bedrooms         Compound  Furnished  Level    location\n",
       "0  135.0          2         3         Madinaty          0      5    Madinaty\n",
       "2  180.0          3         3  Not in Compound          0      0  Rehab City"
      ]
     },
     "execution_count": 62,
     "metadata": {},
     "output_type": "execute_result"
    }
   ],
   "source": [
    "#split data to train/test\n",
    "X=df_features\n",
    "Y=df_target\n",
    "X_train,X_test,y_train,y_test=train_test_split(X,Y,test_size=0.2,random_state=40)\n",
    "print('training set: ',X_train.shape,y_train.shape)\n",
    "print('test set: ',X_test.shape,y_test.shape)\n",
    "X.head(2)"
   ]
  },
  {
   "cell_type": "code",
   "execution_count": 63,
   "metadata": {},
   "outputs": [],
   "source": [
    "def train_model(model):\n",
    "    global y_hat\n",
    "    pipeline = Pipeline(steps=[('preprocessor',preprocessor),('model', model)])\n",
    "    pipeline.fit(X_train,y_train)\n",
    "    y_hat=pipeline.predict(X_test)\n",
    "    y_hat_train=pipeline.predict(X_train)\n",
    "    print('R square:{:0.2f} '.format(r2_score(y_test,y_hat))) \n",
    "    print('Train R square:{:0.2f} '.format(r2_score(y_train,y_hat_train))) \n",
    "    return pipeline"
   ]
  },
  {
   "cell_type": "markdown",
   "metadata": {},
   "source": [
    "### 1. Linear Regression"
   ]
  },
  {
   "cell_type": "code",
   "execution_count": 93,
   "metadata": {},
   "outputs": [
    {
     "name": "stdout",
     "output_type": "stream",
     "text": [
      "R square:0.66 \n",
      "Train R square:0.70 \n"
     ]
    }
   ],
   "source": [
    "# train the linear regression model\n",
    "reg = linear_model.LinearRegression()\n",
    "reg=train_model(reg)\n",
    "pickle.dump(reg, open('Reg_model.pkl','wb'))"
   ]
  },
  {
   "cell_type": "code",
   "execution_count": 65,
   "metadata": {},
   "outputs": [
    {
     "name": "stdout",
     "output_type": "stream",
     "text": [
      "Accuracy: 0.69 (+/- 0.06)\n"
     ]
    }
   ],
   "source": [
    "# cross validation\n",
    "scores = cross_val_score(reg, X, Y, cv=50)\n",
    "print(\"Accuracy: %0.2f (+/- %0.2f)\" % (scores.mean(), scores.std() * 2))"
   ]
  },
  {
   "cell_type": "code",
   "execution_count": 79,
   "metadata": {},
   "outputs": [
    {
     "data": {
      "text/plain": [
       "array([0.72250593, 0.74274545, 0.73351014, 0.74020684, 0.74039542,\n",
       "       0.74420383, 0.71454185, 0.73230105, 0.7508819 , 0.73009519])"
      ]
     },
     "execution_count": 79,
     "metadata": {},
     "output_type": "execute_result"
    }
   ],
   "source": [
    "scores"
   ]
  },
  {
   "cell_type": "markdown",
   "metadata": {},
   "source": [
    "##### Linear Model regularization (Lasso and Ridge Regression) to prevent overfitting"
   ]
  },
  {
   "cell_type": "code",
   "execution_count": 66,
   "metadata": {},
   "outputs": [
    {
     "name": "stdout",
     "output_type": "stream",
     "text": [
      "R square:0.66 \n",
      "Train R square:0.70 \n",
      "R square:0.66 \n",
      "Train R square:0.70 \n"
     ]
    }
   ],
   "source": [
    "clf_ridge = linear_model.Ridge(alpha=.09)\n",
    "clf_Lasso = linear_model.Ridge(alpha=1)\n",
    "train_model(clf_ridge)\n",
    "train_model(clf_Lasso);"
   ]
  },
  {
   "cell_type": "markdown",
   "metadata": {},
   "source": [
    "### 2. KNN"
   ]
  },
  {
   "cell_type": "code",
   "execution_count": 92,
   "metadata": {},
   "outputs": [
    {
     "name": "stdout",
     "output_type": "stream",
     "text": [
      "R square:0.71 \n",
      "Train R square:0.79 \n"
     ]
    }
   ],
   "source": [
    "neigh = KNeighborsRegressor(n_neighbors=10)\n",
    "neigh=train_model(neigh);\n",
    "# serialize the model \n",
    "pickle.dump(neigh, open('KNN_model.pkl','wb'))"
   ]
  },
  {
   "cell_type": "code",
   "execution_count": 77,
   "metadata": {},
   "outputs": [
    {
     "name": "stdout",
     "output_type": "stream",
     "text": [
      "Accuracy: 0.74 (+/- 0.02)\n"
     ]
    }
   ],
   "source": [
    "# cross validation\n",
    "scores = cross_val_score(neigh, X, Y, cv=10)\n",
    "print(\"Accuracy: %0.2f (+/- %0.2f)\" % (scores.mean(), scores.std() * 2))"
   ]
  },
  {
   "cell_type": "code",
   "execution_count": 78,
   "metadata": {},
   "outputs": [
    {
     "data": {
      "text/plain": [
       "array([0.72250593, 0.74274545, 0.73351014, 0.74020684, 0.74039542,\n",
       "       0.74420383, 0.71454185, 0.73230105, 0.7508819 , 0.73009519])"
      ]
     },
     "execution_count": 78,
     "metadata": {},
     "output_type": "execute_result"
    }
   ],
   "source": [
    "scores"
   ]
  },
  {
   "cell_type": "markdown",
   "metadata": {},
   "source": [
    "### 3. GBoost"
   ]
  },
  {
   "cell_type": "code",
   "execution_count": 82,
   "metadata": {},
   "outputs": [
    {
     "name": "stdout",
     "output_type": "stream",
     "text": [
      "R square:0.72 \n",
      "Train R square:0.77 \n"
     ]
    }
   ],
   "source": [
    "acc={}\n",
    "params = {'n_estimators': 500,#the number of boosting stages\n",
    "          'max_depth': 6,#limits the number of nodes in the tree\n",
    "          'min_samples_split': 4,# the minimum number of samples required to split an internal node.\n",
    "          'learning_rate': 0.01,#how much the contribution of each tree will shrink.\n",
    "          'loss': 'ls',\n",
    "          #'booster':'gblinear'\n",
    "         }#loss function to optimize. The least squares function is used in this case\n",
    "\n",
    "gBoost_model=ensemble.GradientBoostingRegressor(**params)\n",
    "gBoost_model=train_model(gBoost_model)"
   ]
  },
  {
   "cell_type": "code",
   "execution_count": 86,
   "metadata": {},
   "outputs": [
    {
     "data": {
      "text/html": [
       "<div>\n",
       "<style scoped>\n",
       "    .dataframe tbody tr th:only-of-type {\n",
       "        vertical-align: middle;\n",
       "    }\n",
       "\n",
       "    .dataframe tbody tr th {\n",
       "        vertical-align: top;\n",
       "    }\n",
       "\n",
       "    .dataframe thead th {\n",
       "        text-align: right;\n",
       "    }\n",
       "</style>\n",
       "<table border=\"1\" class=\"dataframe\">\n",
       "  <thead>\n",
       "    <tr style=\"text-align: right;\">\n",
       "      <th></th>\n",
       "      <th>Area</th>\n",
       "      <th>Bathrooms</th>\n",
       "      <th>Bedrooms</th>\n",
       "      <th>Compound</th>\n",
       "      <th>Furnished</th>\n",
       "      <th>Level</th>\n",
       "      <th>location</th>\n",
       "    </tr>\n",
       "  </thead>\n",
       "  <tbody>\n",
       "    <tr>\n",
       "      <th>21657</th>\n",
       "      <td>174.0</td>\n",
       "      <td>2</td>\n",
       "      <td>3</td>\n",
       "      <td>Not in Compound</td>\n",
       "      <td>0</td>\n",
       "      <td>1</td>\n",
       "      <td>Rehab City</td>\n",
       "    </tr>\n",
       "  </tbody>\n",
       "</table>\n",
       "</div>"
      ],
      "text/plain": [
       "        Area  Bathrooms  Bedrooms         Compound  Furnished  Level  \\\n",
       "21657  174.0          2         3  Not in Compound          0      1   \n",
       "\n",
       "         location  \n",
       "21657  Rehab City  "
      ]
     },
     "execution_count": 86,
     "metadata": {},
     "output_type": "execute_result"
    }
   ],
   "source": [
    "X_train.head(1)"
   ]
  },
  {
   "cell_type": "code",
   "execution_count": 74,
   "metadata": {},
   "outputs": [
    {
     "name": "stdout",
     "output_type": "stream",
     "text": [
      "Accuracy: 0.73 (+/- 0.02)\n"
     ]
    }
   ],
   "source": [
    "# cross validation\n",
    "scores = cross_val_score(gBoost_model, X, Y, cv=10)\n",
    "print(\"Accuracy: %0.2f (+/- %0.2f)\" % (scores.mean(), scores.std() * 2))"
   ]
  },
  {
   "cell_type": "markdown",
   "metadata": {},
   "source": [
    "## Prediction"
   ]
  },
  {
   "cell_type": "code",
   "execution_count": 96,
   "metadata": {},
   "outputs": [],
   "source": [
    "# serialize the model \n",
    "pickle.dump(gBoost_model, open('GBoost_model.pkl','wb'))"
   ]
  },
  {
   "cell_type": "code",
   "execution_count": 95,
   "metadata": {},
   "outputs": [
    {
     "data": {
      "text/html": [
       "<div>\n",
       "<style scoped>\n",
       "    .dataframe tbody tr th:only-of-type {\n",
       "        vertical-align: middle;\n",
       "    }\n",
       "\n",
       "    .dataframe tbody tr th {\n",
       "        vertical-align: top;\n",
       "    }\n",
       "\n",
       "    .dataframe thead th {\n",
       "        text-align: right;\n",
       "    }\n",
       "</style>\n",
       "<table border=\"1\" class=\"dataframe\">\n",
       "  <thead>\n",
       "    <tr style=\"text-align: right;\">\n",
       "      <th></th>\n",
       "      <th>Area</th>\n",
       "      <th>Bathrooms</th>\n",
       "      <th>Bedrooms</th>\n",
       "      <th>Compound</th>\n",
       "      <th>Furnished</th>\n",
       "      <th>Level</th>\n",
       "      <th>location</th>\n",
       "    </tr>\n",
       "  </thead>\n",
       "  <tbody>\n",
       "    <tr>\n",
       "      <th>0</th>\n",
       "      <td>180</td>\n",
       "      <td>3</td>\n",
       "      <td>3</td>\n",
       "      <td>Rehab City</td>\n",
       "      <td>0</td>\n",
       "      <td>3</td>\n",
       "      <td>Rehab City</td>\n",
       "    </tr>\n",
       "  </tbody>\n",
       "</table>\n",
       "</div>"
      ],
      "text/plain": [
       "  Area Bathrooms Bedrooms    Compound Furnished Level    location\n",
       "0  180         3        3  Rehab City         0     3  Rehab City"
      ]
     },
     "execution_count": 95,
     "metadata": {},
     "output_type": "execute_result"
    }
   ],
   "source": [
    "#Test Data\n",
    "dict_test={'Area':180,'Bathrooms':3,'Bedrooms':3,\"Compound\":\"Rehab City\",'Furnished':0,'Level':3,'location':\"Rehab City\"}\n",
    "columns = list(dict_test.keys())\n",
    "values = list(dict_test.values())\n",
    "arr_len = len(values)\n",
    "test_row=pd.DataFrame(np.array(values, dtype=object).reshape(1, arr_len), columns=columns)\n",
    "test_row"
   ]
  },
  {
   "cell_type": "code",
   "execution_count": null,
   "metadata": {},
   "outputs": [],
   "source": []
  },
  {
   "cell_type": "code",
   "execution_count": 97,
   "metadata": {},
   "outputs": [
    {
     "name": "stdout",
     "output_type": "stream",
     "text": [
      "GBoost : 2,244,911.98\n"
     ]
    }
   ],
   "source": [
    "model = pickle.load(open('GBoost_model.pkl','rb'))\n",
    "print('GBoost : {:,.2f}'.format(model.predict(test_row)[0]))"
   ]
  },
  {
   "cell_type": "code",
   "execution_count": 99,
   "metadata": {},
   "outputs": [
    {
     "data": {
      "text/plain": [
       "<matplotlib.axes._subplots.AxesSubplot at 0x3f920623c8>"
      ]
     },
     "execution_count": 99,
     "metadata": {},
     "output_type": "execute_result"
    },
    {
     "data": {
      "image/png": "[encoded data removed]",
      "text/plain": [
       "<Figure size 432x288 with 1 Axes>"
      ]
     },
     "metadata": {
      "needs_background": "light"
     },
     "output_type": "display_data"
    }
   ],
   "source": [
    "ax1 = sns.distplot(y_test, hist=False, color=\"r\", label=\"Actual Value\")\n",
    "sns.distplot(y_hat, hist=False, color=\"b\", label=\"Fitted Values\" , ax=ax1)"
   ]
  },
  {
   "cell_type": "code",
   "execution_count": null,
   "metadata": {},
   "outputs": [],
   "source": []
  },
  {
   "cell_type": "code",
   "execution_count": null,
   "metadata": {},
   "outputs": [],
   "source": []
  }
 ],
 "metadata": {
  "kernelspec": {
   "display_name": "Python 3",
   "language": "python",
   "name": "python3"
  },
  "language_info": {
   "codemirror_mode": {
    "name": "ipython",
    "version": 3
   },
   "file_extension": ".py",
   "mimetype": "text/x-python",
   "name": "python",
   "nbconvert_exporter": "python",
   "pygments_lexer": "ipython3",
   "version": "3.7.6"
  }
 },
 "nbformat": 4,
 "nbformat_minor": 4
}
