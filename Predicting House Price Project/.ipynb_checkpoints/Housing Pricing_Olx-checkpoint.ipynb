{
 "cells": [
  {
   "cell_type": "code",
   "execution_count": 7,
   "metadata": {},
   "outputs": [],
   "source": [
    "from bs4 import BeautifulSoup\n",
    "import requests\n",
    "import pandas as pd\n",
    "import numpy as np\n",
    "from scrapData import GetHouseList\n",
    "import re\n",
    "import ast\n",
    "import matplotlib.pyplot as plt\n",
    "import seaborn as sns\n",
    "from sklearn import preprocessing,linear_model\n",
    "from sklearn.model_selection import train_test_split,GridSearchCV,cross_val_score,RandomizedSearchCV\n",
    "from sklearn.feature_selection import f_regression,SelectKBest\n",
    "from sklearn.metrics import r2_score,mean_squared_error\n",
    "from sklearn.preprocessing import PolynomialFeatures,OneHotEncoder,LabelEncoder,MultiLabelBinarizer\n",
    "from sklearn.feature_extraction.text import CountVectorizer\n",
    "from sklearn import linear_model,ensemble\n",
    "from sklearn.neighbors import KNeighborsRegressor\n",
    "from sklearn.pipeline import Pipeline\n",
    "from sklearn.compose import ColumnTransformer\n",
    "import xgboost as xgb\n",
    "from xgboost.sklearn import XGBRegressor\n",
    "from sklearn.decomposition import PCA,TruncatedSVD\n",
    "from scipy.stats import pearsonr\n",
    "import pickle\n",
    "np.random.seed(123)\n"
   ]
  },
  {
   "cell_type": "markdown",
   "metadata": {},
   "source": [
    "# Loading Data"
   ]
  },
  {
   "cell_type": "code",
   "execution_count": 121,
   "metadata": {},
   "outputs": [
    {
     "data": {
      "text/html": [
       "<div>\n",
       "<style scoped>\n",
       "    .dataframe tbody tr th:only-of-type {\n",
       "        vertical-align: middle;\n",
       "    }\n",
       "\n",
       "    .dataframe tbody tr th {\n",
       "        vertical-align: top;\n",
       "    }\n",
       "\n",
       "    .dataframe thead th {\n",
       "        text-align: right;\n",
       "    }\n",
       "</style>\n",
       "<table border=\"1\" class=\"dataframe\">\n",
       "  <thead>\n",
       "    <tr style=\"text-align: right;\">\n",
       "      <th></th>\n",
       "      <th>Amenities</th>\n",
       "      <th>Bedrooms</th>\n",
       "      <th>Bathrooms</th>\n",
       "      <th>Area (m²)</th>\n",
       "      <th>Furnished</th>\n",
       "      <th>Level</th>\n",
       "      <th>Ad Type</th>\n",
       "      <th>Type</th>\n",
       "      <th>Payment Option</th>\n",
       "      <th>price</th>\n",
       "      <th>title</th>\n",
       "      <th>location</th>\n",
       "      <th>Compound</th>\n",
       "    </tr>\n",
       "  </thead>\n",
       "  <tbody>\n",
       "    <tr>\n",
       "      <th>0</th>\n",
       "      <td>Balcony,Security,Covered Parking,Electricity M...</td>\n",
       "      <td>3</td>\n",
       "      <td>2</td>\n",
       "      <td>135</td>\n",
       "      <td>No</td>\n",
       "      <td>5</td>\n",
       "      <td>For Sale</td>\n",
       "      <td>Apartment</td>\n",
       "      <td>Cash</td>\n",
       "      <td>1,600,000 EGP</td>\n",
       "      <td>مدينتي ١٣٥م بال B1 بحري قريبه جدا من الخدم...</td>\n",
       "      <td>Madinaty</td>\n",
       "      <td>Madinaty</td>\n",
       "    </tr>\n",
       "    <tr>\n",
       "      <th>1</th>\n",
       "      <td>Balcony,Pets Allowed,Private Garden,Security,E...</td>\n",
       "      <td>3</td>\n",
       "      <td>2</td>\n",
       "      <td>140</td>\n",
       "      <td>No</td>\n",
       "      <td>2</td>\n",
       "      <td>For Sale</td>\n",
       "      <td>Apartment</td>\n",
       "      <td>Cash</td>\n",
       "      <td>355,000 EGPnegotiable</td>\n",
       "      <td>شقة بسعر التكلفة في الحي المتميز مدينة بدر...</td>\n",
       "      <td>Badr City</td>\n",
       "      <td>El Ashgar District</td>\n",
       "    </tr>\n",
       "    <tr>\n",
       "      <th>2</th>\n",
       "      <td>NaN</td>\n",
       "      <td>3</td>\n",
       "      <td>3</td>\n",
       "      <td>180</td>\n",
       "      <td>No</td>\n",
       "      <td>Ground</td>\n",
       "      <td>For Sale</td>\n",
       "      <td>Apartment</td>\n",
       "      <td>Cash</td>\n",
       "      <td>3,100,000 EGP</td>\n",
       "      <td>فرررصة برحاب ٢ للبيع شقة ١٨٠م ارضي بحديقة ...</td>\n",
       "      <td>Rehab City</td>\n",
       "      <td>NaN</td>\n",
       "    </tr>\n",
       "    <tr>\n",
       "      <th>3</th>\n",
       "      <td>Balcony,Pets Allowed,Security,Electricity Mete...</td>\n",
       "      <td>2</td>\n",
       "      <td>1</td>\n",
       "      <td>107</td>\n",
       "      <td>No</td>\n",
       "      <td>6</td>\n",
       "      <td>For Sale</td>\n",
       "      <td>Apartment</td>\n",
       "      <td>Cash</td>\n",
       "      <td>1,150,000 EGP</td>\n",
       "      <td>شقة بمدينتي بال B1 نموذج 100 اقل من سعر ال...</td>\n",
       "      <td>Madinaty</td>\n",
       "      <td>Madinaty</td>\n",
       "    </tr>\n",
       "    <tr>\n",
       "      <th>4</th>\n",
       "      <td>Balcony,Electricity Meter</td>\n",
       "      <td>2</td>\n",
       "      <td>1</td>\n",
       "      <td>80</td>\n",
       "      <td>No</td>\n",
       "      <td>6</td>\n",
       "      <td>For Sale</td>\n",
       "      <td>Apartment</td>\n",
       "      <td>Cash</td>\n",
       "      <td>185,000 EGP</td>\n",
       "      <td>شقة تشطيب فاخر للبيع</td>\n",
       "      <td>Marg</td>\n",
       "      <td>NaN</td>\n",
       "    </tr>\n",
       "  </tbody>\n",
       "</table>\n",
       "</div>"
      ],
      "text/plain": [
       "                                           Amenities Bedrooms Bathrooms  \\\n",
       "0  Balcony,Security,Covered Parking,Electricity M...        3         2   \n",
       "1  Balcony,Pets Allowed,Private Garden,Security,E...        3         2   \n",
       "2                                                NaN        3         3   \n",
       "3  Balcony,Pets Allowed,Security,Electricity Mete...        2         1   \n",
       "4                          Balcony,Electricity Meter        2         1   \n",
       "\n",
       "  Area (m²) Furnished   Level   Ad Type       Type Payment Option  \\\n",
       "0       135        No       5  For Sale  Apartment           Cash   \n",
       "1       140        No       2  For Sale  Apartment           Cash   \n",
       "2       180        No  Ground  For Sale  Apartment           Cash   \n",
       "3       107        No       6  For Sale  Apartment           Cash   \n",
       "4        80        No       6  For Sale  Apartment           Cash   \n",
       "\n",
       "                   price                                          title  \\\n",
       "0          1,600,000 EGP  مدينتي ١٣٥م بال B1 بحري قريبه جدا من الخدم...   \n",
       "1  355,000 EGPnegotiable  شقة بسعر التكلفة في الحي المتميز مدينة بدر...   \n",
       "2          3,100,000 EGP  فرررصة برحاب ٢ للبيع شقة ١٨٠م ارضي بحديقة ...   \n",
       "3          1,150,000 EGP  شقة بمدينتي بال B1 نموذج 100 اقل من سعر ال...   \n",
       "4            185,000 EGP                           شقة تشطيب فاخر للبيع   \n",
       "\n",
       "     location            Compound  \n",
       "0    Madinaty            Madinaty  \n",
       "1   Badr City  El Ashgar District  \n",
       "2  Rehab City                 NaN  \n",
       "3    Madinaty            Madinaty  \n",
       "4        Marg                 NaN  "
      ]
     },
     "execution_count": 121,
     "metadata": {},
     "output_type": "execute_result"
    }
   ],
   "source": [
    "df=pd.read_csv('Data/olx_data_all_withGardinia.csv')\n",
    "df.head()"
   ]
  },
  {
   "cell_type": "code",
   "execution_count": null,
   "metadata": {},
   "outputs": [],
   "source": []
  },
  {
   "cell_type": "markdown",
   "metadata": {},
   "source": [
    "# Data Cleaning"
   ]
  },
  {
   "cell_type": "code",
   "execution_count": 122,
   "metadata": {},
   "outputs": [
    {
     "data": {
      "text/plain": [
       "(22602, 13)"
      ]
     },
     "execution_count": 122,
     "metadata": {},
     "output_type": "execute_result"
    }
   ],
   "source": [
    "df.shape"
   ]
  },
  {
   "cell_type": "code",
   "execution_count": 123,
   "metadata": {},
   "outputs": [
    {
     "data": {
      "text/html": [
       "<div>\n",
       "<style scoped>\n",
       "    .dataframe tbody tr th:only-of-type {\n",
       "        vertical-align: middle;\n",
       "    }\n",
       "\n",
       "    .dataframe tbody tr th {\n",
       "        vertical-align: top;\n",
       "    }\n",
       "\n",
       "    .dataframe thead th {\n",
       "        text-align: right;\n",
       "    }\n",
       "</style>\n",
       "<table border=\"1\" class=\"dataframe\">\n",
       "  <thead>\n",
       "    <tr style=\"text-align: right;\">\n",
       "      <th></th>\n",
       "      <th>Amenities</th>\n",
       "      <th>Bedrooms</th>\n",
       "      <th>Bathrooms</th>\n",
       "      <th>Area (m²)</th>\n",
       "      <th>Furnished</th>\n",
       "      <th>Level</th>\n",
       "      <th>Ad Type</th>\n",
       "      <th>Type</th>\n",
       "      <th>Payment Option</th>\n",
       "      <th>price</th>\n",
       "      <th>title</th>\n",
       "      <th>location</th>\n",
       "      <th>Compound</th>\n",
       "    </tr>\n",
       "  </thead>\n",
       "  <tbody>\n",
       "    <tr>\n",
       "      <th>0</th>\n",
       "      <td>Balcony,Security,Covered Parking,Electricity M...</td>\n",
       "      <td>3</td>\n",
       "      <td>2</td>\n",
       "      <td>135</td>\n",
       "      <td>No</td>\n",
       "      <td>5</td>\n",
       "      <td>For Sale</td>\n",
       "      <td>Apartment</td>\n",
       "      <td>Cash</td>\n",
       "      <td>1600000</td>\n",
       "      <td>مدينتي ١٣٥م بال B1 بحري قريبه جدا من الخدم...</td>\n",
       "      <td>Madinaty</td>\n",
       "      <td>Madinaty</td>\n",
       "    </tr>\n",
       "    <tr>\n",
       "      <th>1</th>\n",
       "      <td>Balcony,Pets Allowed,Private Garden,Security,E...</td>\n",
       "      <td>3</td>\n",
       "      <td>2</td>\n",
       "      <td>140</td>\n",
       "      <td>No</td>\n",
       "      <td>2</td>\n",
       "      <td>For Sale</td>\n",
       "      <td>Apartment</td>\n",
       "      <td>Cash</td>\n",
       "      <td>355000</td>\n",
       "      <td>شقة بسعر التكلفة في الحي المتميز مدينة بدر...</td>\n",
       "      <td>Badr City</td>\n",
       "      <td>El Ashgar District</td>\n",
       "    </tr>\n",
       "    <tr>\n",
       "      <th>2</th>\n",
       "      <td>NaN</td>\n",
       "      <td>3</td>\n",
       "      <td>3</td>\n",
       "      <td>180</td>\n",
       "      <td>No</td>\n",
       "      <td>Ground</td>\n",
       "      <td>For Sale</td>\n",
       "      <td>Apartment</td>\n",
       "      <td>Cash</td>\n",
       "      <td>3100000</td>\n",
       "      <td>فرررصة برحاب ٢ للبيع شقة ١٨٠م ارضي بحديقة ...</td>\n",
       "      <td>Rehab City</td>\n",
       "      <td>NaN</td>\n",
       "    </tr>\n",
       "    <tr>\n",
       "      <th>3</th>\n",
       "      <td>Balcony,Pets Allowed,Security,Electricity Mete...</td>\n",
       "      <td>2</td>\n",
       "      <td>1</td>\n",
       "      <td>107</td>\n",
       "      <td>No</td>\n",
       "      <td>6</td>\n",
       "      <td>For Sale</td>\n",
       "      <td>Apartment</td>\n",
       "      <td>Cash</td>\n",
       "      <td>1150000</td>\n",
       "      <td>شقة بمدينتي بال B1 نموذج 100 اقل من سعر ال...</td>\n",
       "      <td>Madinaty</td>\n",
       "      <td>Madinaty</td>\n",
       "    </tr>\n",
       "    <tr>\n",
       "      <th>4</th>\n",
       "      <td>Balcony,Electricity Meter</td>\n",
       "      <td>2</td>\n",
       "      <td>1</td>\n",
       "      <td>80</td>\n",
       "      <td>No</td>\n",
       "      <td>6</td>\n",
       "      <td>For Sale</td>\n",
       "      <td>Apartment</td>\n",
       "      <td>Cash</td>\n",
       "      <td>185000</td>\n",
       "      <td>شقة تشطيب فاخر للبيع</td>\n",
       "      <td>Marg</td>\n",
       "      <td>NaN</td>\n",
       "    </tr>\n",
       "  </tbody>\n",
       "</table>\n",
       "</div>"
      ],
      "text/plain": [
       "                                           Amenities Bedrooms Bathrooms  \\\n",
       "0  Balcony,Security,Covered Parking,Electricity M...        3         2   \n",
       "1  Balcony,Pets Allowed,Private Garden,Security,E...        3         2   \n",
       "2                                                NaN        3         3   \n",
       "3  Balcony,Pets Allowed,Security,Electricity Mete...        2         1   \n",
       "4                          Balcony,Electricity Meter        2         1   \n",
       "\n",
       "  Area (m²) Furnished   Level   Ad Type       Type Payment Option    price  \\\n",
       "0       135        No       5  For Sale  Apartment           Cash  1600000   \n",
       "1       140        No       2  For Sale  Apartment           Cash   355000   \n",
       "2       180        No  Ground  For Sale  Apartment           Cash  3100000   \n",
       "3       107        No       6  For Sale  Apartment           Cash  1150000   \n",
       "4        80        No       6  For Sale  Apartment           Cash   185000   \n",
       "\n",
       "                                           title    location  \\\n",
       "0  مدينتي ١٣٥م بال B1 بحري قريبه جدا من الخدم...    Madinaty   \n",
       "1  شقة بسعر التكلفة في الحي المتميز مدينة بدر...   Badr City   \n",
       "2  فرررصة برحاب ٢ للبيع شقة ١٨٠م ارضي بحديقة ...  Rehab City   \n",
       "3  شقة بمدينتي بال B1 نموذج 100 اقل من سعر ال...    Madinaty   \n",
       "4                           شقة تشطيب فاخر للبيع        Marg   \n",
       "\n",
       "             Compound  \n",
       "0            Madinaty  \n",
       "1  El Ashgar District  \n",
       "2                 NaN  \n",
       "3            Madinaty  \n",
       "4                 NaN  "
      ]
     },
     "execution_count": 123,
     "metadata": {},
     "output_type": "execute_result"
    }
   ],
   "source": [
    "# remove measure unit of price(EGP)\n",
    "df['price']=df['price'].apply(lambda x: x.replace('EGP','').replace(',','').replace('negotiable','').strip())\n",
    "df.head()"
   ]
  },
  {
   "cell_type": "code",
   "execution_count": 124,
   "metadata": {},
   "outputs": [
    {
     "data": {
      "text/plain": [
       "array(['Cash', 'Cash or Installment', 'Installment', nan], dtype=object)"
      ]
     },
     "execution_count": 124,
     "metadata": {},
     "output_type": "execute_result"
    }
   ],
   "source": [
    "df['Payment Option'].unique()"
   ]
  },
  {
   "cell_type": "code",
   "execution_count": 125,
   "metadata": {},
   "outputs": [
    {
     "data": {
      "text/plain": [
       "Index(['Amenities', 'Bedrooms', 'Bathrooms', 'Area (m²)', 'Furnished', 'Level',\n",
       "       'price', 'title', 'location', 'Compound'],\n",
       "      dtype='object')"
      ]
     },
     "execution_count": 125,
     "metadata": {},
     "output_type": "execute_result"
    }
   ],
   "source": [
    "# remove property type where all properties are Apartments\n",
    "df.drop(['Type','Ad Type','Payment Option'],axis=1,inplace=True)\n",
    "df.columns"
   ]
  },
  {
   "cell_type": "code",
   "execution_count": 126,
   "metadata": {},
   "outputs": [],
   "source": [
    "#rename Area (m²) to Area \n",
    "df.rename(columns={'Area (m²)':'Area'},inplace=True)"
   ]
  },
  {
   "cell_type": "code",
   "execution_count": 127,
   "metadata": {},
   "outputs": [
    {
     "data": {
      "text/plain": [
       "Amenities     6936\n",
       "Bedrooms         0\n",
       "Bathrooms        0\n",
       "Area             0\n",
       "Furnished     4194\n",
       "Level            5\n",
       "price            0\n",
       "title            0\n",
       "location         0\n",
       "Compound     16254\n",
       "dtype: int64"
      ]
     },
     "execution_count": 127,
     "metadata": {},
     "output_type": "execute_result"
    }
   ],
   "source": [
    "#check null values\n",
    "df.isna().sum()"
   ]
  },
  {
   "cell_type": "code",
   "execution_count": 128,
   "metadata": {},
   "outputs": [
    {
     "data": {
      "text/plain": [
       "Madinaty                2166\n",
       "Rehab City               596\n",
       "Abu Al-Hool              389\n",
       "Not in Compound          297\n",
       "Dar Misr                 231\n",
       "                        ... \n",
       "Alex West                  1\n",
       "Zizinia El Mostakbal       1\n",
       "Gladios Garden             1\n",
       "Haptown                    1\n",
       "Lakefront                  1\n",
       "Name: Compound, Length: 212, dtype: int64"
      ]
     },
     "execution_count": 128,
     "metadata": {},
     "output_type": "execute_result"
    }
   ],
   "source": [
    "df.Compound.value_counts()"
   ]
  },
  {
   "cell_type": "code",
   "execution_count": 129,
   "metadata": {},
   "outputs": [
    {
     "data": {
      "text/html": [
       "<div>\n",
       "<style scoped>\n",
       "    .dataframe tbody tr th:only-of-type {\n",
       "        vertical-align: middle;\n",
       "    }\n",
       "\n",
       "    .dataframe tbody tr th {\n",
       "        vertical-align: top;\n",
       "    }\n",
       "\n",
       "    .dataframe thead th {\n",
       "        text-align: right;\n",
       "    }\n",
       "</style>\n",
       "<table border=\"1\" class=\"dataframe\">\n",
       "  <thead>\n",
       "    <tr style=\"text-align: right;\">\n",
       "      <th></th>\n",
       "      <th>Amenities</th>\n",
       "      <th>Bedrooms</th>\n",
       "      <th>Bathrooms</th>\n",
       "      <th>Area</th>\n",
       "      <th>Furnished</th>\n",
       "      <th>Level</th>\n",
       "      <th>price</th>\n",
       "      <th>title</th>\n",
       "      <th>location</th>\n",
       "      <th>Compound</th>\n",
       "    </tr>\n",
       "  </thead>\n",
       "  <tbody>\n",
       "    <tr>\n",
       "      <th>0</th>\n",
       "      <td>Balcony,Security,Covered Parking,Electricity M...</td>\n",
       "      <td>3</td>\n",
       "      <td>2</td>\n",
       "      <td>135</td>\n",
       "      <td>No</td>\n",
       "      <td>5</td>\n",
       "      <td>1600000</td>\n",
       "      <td>مدينتي ١٣٥م بال B1 بحري قريبه جدا من الخدم...</td>\n",
       "      <td>Madinaty</td>\n",
       "      <td>Madinaty</td>\n",
       "    </tr>\n",
       "    <tr>\n",
       "      <th>1</th>\n",
       "      <td>Balcony,Pets Allowed,Private Garden,Security,E...</td>\n",
       "      <td>3</td>\n",
       "      <td>2</td>\n",
       "      <td>140</td>\n",
       "      <td>No</td>\n",
       "      <td>2</td>\n",
       "      <td>355000</td>\n",
       "      <td>شقة بسعر التكلفة في الحي المتميز مدينة بدر...</td>\n",
       "      <td>Badr City</td>\n",
       "      <td>El Ashgar District</td>\n",
       "    </tr>\n",
       "    <tr>\n",
       "      <th>2</th>\n",
       "      <td>No</td>\n",
       "      <td>3</td>\n",
       "      <td>3</td>\n",
       "      <td>180</td>\n",
       "      <td>No</td>\n",
       "      <td>Ground</td>\n",
       "      <td>3100000</td>\n",
       "      <td>فرررصة برحاب ٢ للبيع شقة ١٨٠م ارضي بحديقة ...</td>\n",
       "      <td>Rehab City</td>\n",
       "      <td>Not in Compound</td>\n",
       "    </tr>\n",
       "    <tr>\n",
       "      <th>3</th>\n",
       "      <td>Balcony,Pets Allowed,Security,Electricity Mete...</td>\n",
       "      <td>2</td>\n",
       "      <td>1</td>\n",
       "      <td>107</td>\n",
       "      <td>No</td>\n",
       "      <td>6</td>\n",
       "      <td>1150000</td>\n",
       "      <td>شقة بمدينتي بال B1 نموذج 100 اقل من سعر ال...</td>\n",
       "      <td>Madinaty</td>\n",
       "      <td>Madinaty</td>\n",
       "    </tr>\n",
       "    <tr>\n",
       "      <th>4</th>\n",
       "      <td>Balcony,Electricity Meter</td>\n",
       "      <td>2</td>\n",
       "      <td>1</td>\n",
       "      <td>80</td>\n",
       "      <td>No</td>\n",
       "      <td>6</td>\n",
       "      <td>185000</td>\n",
       "      <td>شقة تشطيب فاخر للبيع</td>\n",
       "      <td>Marg</td>\n",
       "      <td>Not in Compound</td>\n",
       "    </tr>\n",
       "  </tbody>\n",
       "</table>\n",
       "</div>"
      ],
      "text/plain": [
       "                                           Amenities Bedrooms Bathrooms Area  \\\n",
       "0  Balcony,Security,Covered Parking,Electricity M...        3         2  135   \n",
       "1  Balcony,Pets Allowed,Private Garden,Security,E...        3         2  140   \n",
       "2                                                 No        3         3  180   \n",
       "3  Balcony,Pets Allowed,Security,Electricity Mete...        2         1  107   \n",
       "4                          Balcony,Electricity Meter        2         1   80   \n",
       "\n",
       "  Furnished   Level    price                                          title  \\\n",
       "0        No       5  1600000  مدينتي ١٣٥م بال B1 بحري قريبه جدا من الخدم...   \n",
       "1        No       2   355000  شقة بسعر التكلفة في الحي المتميز مدينة بدر...   \n",
       "2        No  Ground  3100000  فرررصة برحاب ٢ للبيع شقة ١٨٠م ارضي بحديقة ...   \n",
       "3        No       6  1150000  شقة بمدينتي بال B1 نموذج 100 اقل من سعر ال...   \n",
       "4        No       6   185000                           شقة تشطيب فاخر للبيع   \n",
       "\n",
       "     location            Compound  \n",
       "0    Madinaty            Madinaty  \n",
       "1   Badr City  El Ashgar District  \n",
       "2  Rehab City     Not in Compound  \n",
       "3    Madinaty            Madinaty  \n",
       "4        Marg     Not in Compound  "
      ]
     },
     "execution_count": 129,
     "metadata": {},
     "output_type": "execute_result"
    }
   ],
   "source": [
    "# fill aminities NaN with No\n",
    "df.Amenities.fillna('No',inplace=True)\n",
    "df.Furnished.fillna('No',inplace=True)\n",
    "df.Compound.fillna('Not in Compound',inplace=True)\n",
    "df.head()"
   ]
  },
  {
   "cell_type": "code",
   "execution_count": 130,
   "metadata": {},
   "outputs": [
    {
     "data": {
      "text/plain": [
       "No     21123\n",
       "Yes     1479\n",
       "Name: Furnished, dtype: int64"
      ]
     },
     "execution_count": 130,
     "metadata": {},
     "output_type": "execute_result"
    }
   ],
   "source": [
    "df.Furnished.value_counts()"
   ]
  },
  {
   "cell_type": "code",
   "execution_count": 131,
   "metadata": {},
   "outputs": [
    {
     "name": "stdout",
     "output_type": "stream",
     "text": [
      "['5' '2' 'Ground' '6' '4' '3' '1' '8' '10+' '9' '7' 'Highest' '10' nan] 5 2\n"
     ]
    }
   ],
   "source": [
    "#check level values\n",
    "print(df.Level.unique(),pd.isnull( df.Level).sum(),df.Level.mode()[0])"
   ]
  },
  {
   "cell_type": "code",
   "execution_count": 132,
   "metadata": {},
   "outputs": [
    {
     "data": {
      "text/plain": [
       "array(['5', '2', '0', '6', '4', '3', '1', '8', '10', '9', '7', '11'],\n",
       "      dtype=object)"
      ]
     },
     "execution_count": 132,
     "metadata": {},
     "output_type": "execute_result"
    }
   ],
   "source": [
    "df.Level.replace('Ground','0',inplace=True)\n",
    "df.Level.replace('10+','10',inplace=True)\n",
    "df.Level.replace('Highest','11',inplace=True)\n",
    "df.Level.fillna(str(df.Level.mode()[0]),inplace=True)\n",
    "df.Level.unique()"
   ]
  },
  {
   "cell_type": "code",
   "execution_count": 133,
   "metadata": {},
   "outputs": [
    {
     "data": {
      "text/plain": [
       "Amenities    0\n",
       "Bedrooms     0\n",
       "Bathrooms    0\n",
       "Area         0\n",
       "Furnished    0\n",
       "Level        0\n",
       "price        0\n",
       "title        0\n",
       "location     0\n",
       "Compound     0\n",
       "dtype: int64"
      ]
     },
     "execution_count": 133,
     "metadata": {},
     "output_type": "execute_result"
    }
   ],
   "source": [
    "df.isna().sum()"
   ]
  },
  {
   "cell_type": "code",
   "execution_count": 134,
   "metadata": {},
   "outputs": [
    {
     "data": {
      "text/plain": [
       "array(['3', '2', '4', '8', '1', '5', '6', '7', '9', '10', '10+'],\n",
       "      dtype=object)"
      ]
     },
     "execution_count": 134,
     "metadata": {},
     "output_type": "execute_result"
    }
   ],
   "source": [
    "# check all values of Bedrooms columns\n",
    "df.Bedrooms.unique()"
   ]
  },
  {
   "cell_type": "code",
   "execution_count": 135,
   "metadata": {},
   "outputs": [
    {
     "data": {
      "text/plain": [
       "array(['3', '2', '4', '8', '1', '5', '6', '7', '9', '10'], dtype=object)"
      ]
     },
     "execution_count": 135,
     "metadata": {},
     "output_type": "execute_result"
    }
   ],
   "source": [
    "df.Bedrooms.replace('10+','10',inplace=True)\n",
    "df.Bedrooms.unique()"
   ]
  },
  {
   "cell_type": "code",
   "execution_count": 136,
   "metadata": {},
   "outputs": [
    {
     "data": {
      "text/plain": [
       "array(['2', '3', '1', '4', '5', '7', '8', '6', '10+', '10', '9'],\n",
       "      dtype=object)"
      ]
     },
     "execution_count": 136,
     "metadata": {},
     "output_type": "execute_result"
    }
   ],
   "source": [
    "# check all values of Bedrooms columns\n",
    "df.Bathrooms.unique()"
   ]
  },
  {
   "cell_type": "code",
   "execution_count": 137,
   "metadata": {},
   "outputs": [
    {
     "data": {
      "text/plain": [
       "array(['2', '3', '1', '4', '5', '7', '8', '6', '10', '9'], dtype=object)"
      ]
     },
     "execution_count": 137,
     "metadata": {},
     "output_type": "execute_result"
    }
   ],
   "source": [
    "df.Bathrooms.replace('10+','10',inplace=True)\n",
    "df.Bathrooms.unique()"
   ]
  },
  {
   "cell_type": "code",
   "execution_count": 138,
   "metadata": {},
   "outputs": [
    {
     "data": {
      "text/plain": [
       "array(['135', '140', '180', '107', '80', '70', '85', '130', '100', '120',\n",
       "       '90', '82', '177', '207', '86', '175', '211', '215', '220', '65',\n",
       "       '114', '115', '204', '96', '150', '165', '103', '210', '110',\n",
       "       '266', '240', '300', '200', '170', '230', '182', '146', '153',\n",
       "       '125', '75', '138', '166', '225', '750', '145', '163', '122',\n",
       "       '131', '155', '60', '154', '156', '223', '224', '205', '83', '185',\n",
       "       '133', '250', '190', '178', '105', '108', '164', '196', '124',\n",
       "       '162', '217', '160', '260', '137', '92', '209', '152', '157',\n",
       "       '191', '139', '116', '62', '335', '171', '76', '202', '278', '320',\n",
       "       '186', '127', '123', '350', '38', '265', '199', '117', '255', '77',\n",
       "       '226', '64', '241', '73', '132', '400', '134', '113', '158', '118',\n",
       "       '72', '67', '201', '136', '88', '245', '270', '10', '63', '195',\n",
       "       '192', '168', '360', '161', '91', '272', '167', '126', '99', '290',\n",
       "       '176', '594', '187', '148', '128', '143', '251', '208', '97',\n",
       "       '500', '227', '101', '84', '237', '147', '141', '68', '95', '235',\n",
       "       '219', '188', '274', '273', '119', '203', '174', '121', '183',\n",
       "       '71', '151', '89', '169', '78', '142', '57', '149', '50', '275',\n",
       "       '55', '261', '365', '294', '420', '179', '322', '234', '244', '98',\n",
       "       '74', '94', '184', '285', '280', '12', '212', '233', '112', '339',\n",
       "       '231', '144', '345', '104', '87', '52', '189', '262', '109', '40',\n",
       "       '102', '242', '324', '56', '45', '380', '198', '228', '79', '248',\n",
       "       '600', '249', '295', '370', '194', '172', '450', '1300', '327',\n",
       "       '218', '81', '106', '201009', '325', '159', '310', '1361', '480',\n",
       "       '129', '268', '66', '389', '59', '93', '330', '69', '317', '236',\n",
       "       '130000', '23', '314', '222', '173', '760', '440', '58', '136.50',\n",
       "       '460', '197', '340', '515', '396', '570', '298', '350000', '315',\n",
       "       '42', '470', '216', '17', '193', '282', '700', '430', '305', '46',\n",
       "       '27', '475', '326', '650', '3000', '54', '258', '247', '214',\n",
       "       '256', '254', '750000', '221', '111', '338', '53', '0', '252',\n",
       "       '375', '286', '238', '232', '628', '36', '102773', '800', '20',\n",
       "       '1000', '243', '267', '276', '1000000', '213', '239', '356',\n",
       "       '2500', '16', '328', '367', '560', '259', '357', '35', '390', '24',\n",
       "       '33', '368', '306', '385', '31.50', '181', '11', '9033', '1600',\n",
       "       '25', '311', '144100', '1505', '550', '1406', '1275', '505',\n",
       "       '1503', '670', '281', '382', '740', '301', '105000', '1252',\n",
       "       '96000', '30', '316', '283', '257', '269', '246', '1400', '6300',\n",
       "       '410', '287', '289', '134.40', '318', '302', '627', '206', '351',\n",
       "       '1111', '648', '201155', '229', '1050', '520', '313', '800000',\n",
       "       '660', '1953', '162.50', '358', '909', '1555'], dtype=object)"
      ]
     },
     "execution_count": 138,
     "metadata": {},
     "output_type": "execute_result"
    }
   ],
   "source": [
    "df.Area=df.Area.apply(lambda x: x.replace(',',''))\n",
    "df.Area.unique()"
   ]
  },
  {
   "cell_type": "code",
   "execution_count": 139,
   "metadata": {},
   "outputs": [
    {
     "data": {
      "text/html": [
       "<div>\n",
       "<style scoped>\n",
       "    .dataframe tbody tr th:only-of-type {\n",
       "        vertical-align: middle;\n",
       "    }\n",
       "\n",
       "    .dataframe tbody tr th {\n",
       "        vertical-align: top;\n",
       "    }\n",
       "\n",
       "    .dataframe thead th {\n",
       "        text-align: right;\n",
       "    }\n",
       "</style>\n",
       "<table border=\"1\" class=\"dataframe\">\n",
       "  <thead>\n",
       "    <tr style=\"text-align: right;\">\n",
       "      <th></th>\n",
       "      <th>Amenities</th>\n",
       "      <th>Bedrooms</th>\n",
       "      <th>Bathrooms</th>\n",
       "      <th>Area</th>\n",
       "      <th>Furnished</th>\n",
       "      <th>Level</th>\n",
       "      <th>price</th>\n",
       "      <th>title</th>\n",
       "      <th>location</th>\n",
       "      <th>Compound</th>\n",
       "    </tr>\n",
       "  </thead>\n",
       "  <tbody>\n",
       "    <tr>\n",
       "      <th>0</th>\n",
       "      <td>Balcony,Security,Covered Parking,Electricity M...</td>\n",
       "      <td>3</td>\n",
       "      <td>2</td>\n",
       "      <td>135</td>\n",
       "      <td>No</td>\n",
       "      <td>5</td>\n",
       "      <td>1600000</td>\n",
       "      <td>مدينتي ١٣٥م بال B1 بحري قريبه جدا من الخدم...</td>\n",
       "      <td>Madinaty</td>\n",
       "      <td>Madinaty</td>\n",
       "    </tr>\n",
       "    <tr>\n",
       "      <th>1</th>\n",
       "      <td>Balcony,Pets Allowed,Private Garden,Security,E...</td>\n",
       "      <td>3</td>\n",
       "      <td>2</td>\n",
       "      <td>140</td>\n",
       "      <td>No</td>\n",
       "      <td>2</td>\n",
       "      <td>355000</td>\n",
       "      <td>شقة بسعر التكلفة في الحي المتميز مدينة بدر...</td>\n",
       "      <td>Badr City</td>\n",
       "      <td>El Ashgar District</td>\n",
       "    </tr>\n",
       "    <tr>\n",
       "      <th>2</th>\n",
       "      <td>No</td>\n",
       "      <td>3</td>\n",
       "      <td>3</td>\n",
       "      <td>180</td>\n",
       "      <td>No</td>\n",
       "      <td>0</td>\n",
       "      <td>3100000</td>\n",
       "      <td>فرررصة برحاب ٢ للبيع شقة ١٨٠م ارضي بحديقة ...</td>\n",
       "      <td>Rehab City</td>\n",
       "      <td>Not in Compound</td>\n",
       "    </tr>\n",
       "    <tr>\n",
       "      <th>3</th>\n",
       "      <td>Balcony,Pets Allowed,Security,Electricity Mete...</td>\n",
       "      <td>2</td>\n",
       "      <td>1</td>\n",
       "      <td>107</td>\n",
       "      <td>No</td>\n",
       "      <td>6</td>\n",
       "      <td>1150000</td>\n",
       "      <td>شقة بمدينتي بال B1 نموذج 100 اقل من سعر ال...</td>\n",
       "      <td>Madinaty</td>\n",
       "      <td>Madinaty</td>\n",
       "    </tr>\n",
       "    <tr>\n",
       "      <th>4</th>\n",
       "      <td>Balcony,Electricity Meter</td>\n",
       "      <td>2</td>\n",
       "      <td>1</td>\n",
       "      <td>80</td>\n",
       "      <td>No</td>\n",
       "      <td>6</td>\n",
       "      <td>185000</td>\n",
       "      <td>شقة تشطيب فاخر للبيع</td>\n",
       "      <td>Marg</td>\n",
       "      <td>Not in Compound</td>\n",
       "    </tr>\n",
       "  </tbody>\n",
       "</table>\n",
       "</div>"
      ],
      "text/plain": [
       "                                           Amenities Bedrooms Bathrooms Area  \\\n",
       "0  Balcony,Security,Covered Parking,Electricity M...        3         2  135   \n",
       "1  Balcony,Pets Allowed,Private Garden,Security,E...        3         2  140   \n",
       "2                                                 No        3         3  180   \n",
       "3  Balcony,Pets Allowed,Security,Electricity Mete...        2         1  107   \n",
       "4                          Balcony,Electricity Meter        2         1   80   \n",
       "\n",
       "  Furnished Level    price                                          title  \\\n",
       "0        No     5  1600000  مدينتي ١٣٥م بال B1 بحري قريبه جدا من الخدم...   \n",
       "1        No     2   355000  شقة بسعر التكلفة في الحي المتميز مدينة بدر...   \n",
       "2        No     0  3100000  فرررصة برحاب ٢ للبيع شقة ١٨٠م ارضي بحديقة ...   \n",
       "3        No     6  1150000  شقة بمدينتي بال B1 نموذج 100 اقل من سعر ال...   \n",
       "4        No     6   185000                           شقة تشطيب فاخر للبيع   \n",
       "\n",
       "     location            Compound  \n",
       "0    Madinaty            Madinaty  \n",
       "1   Badr City  El Ashgar District  \n",
       "2  Rehab City     Not in Compound  \n",
       "3    Madinaty            Madinaty  \n",
       "4        Marg     Not in Compound  "
      ]
     },
     "execution_count": 139,
     "metadata": {},
     "output_type": "execute_result"
    }
   ],
   "source": [
    "df.head()"
   ]
  },
  {
   "cell_type": "code",
   "execution_count": 140,
   "metadata": {
    "scrolled": true
   },
   "outputs": [
    {
     "data": {
      "text/html": [
       "<div>\n",
       "<style scoped>\n",
       "    .dataframe tbody tr th:only-of-type {\n",
       "        vertical-align: middle;\n",
       "    }\n",
       "\n",
       "    .dataframe tbody tr th {\n",
       "        vertical-align: top;\n",
       "    }\n",
       "\n",
       "    .dataframe thead th {\n",
       "        text-align: right;\n",
       "    }\n",
       "</style>\n",
       "<table border=\"1\" class=\"dataframe\">\n",
       "  <thead>\n",
       "    <tr style=\"text-align: right;\">\n",
       "      <th></th>\n",
       "      <th>Amenities</th>\n",
       "      <th>Bedrooms</th>\n",
       "      <th>Bathrooms</th>\n",
       "      <th>Area</th>\n",
       "      <th>Furnished</th>\n",
       "      <th>Level</th>\n",
       "      <th>location</th>\n",
       "      <th>Compound</th>\n",
       "      <th>price</th>\n",
       "      <th>title</th>\n",
       "    </tr>\n",
       "  </thead>\n",
       "  <tbody>\n",
       "    <tr>\n",
       "      <th>0</th>\n",
       "      <td>Balcony,Security,Covered Parking,Electricity M...</td>\n",
       "      <td>3</td>\n",
       "      <td>2</td>\n",
       "      <td>135</td>\n",
       "      <td>No</td>\n",
       "      <td>5</td>\n",
       "      <td>Madinaty</td>\n",
       "      <td>Madinaty</td>\n",
       "      <td>1600000</td>\n",
       "      <td>مدينتي ١٣٥م بال B1 بحري قريبه جدا من الخدم...</td>\n",
       "    </tr>\n",
       "    <tr>\n",
       "      <th>1</th>\n",
       "      <td>Balcony,Pets Allowed,Private Garden,Security,E...</td>\n",
       "      <td>3</td>\n",
       "      <td>2</td>\n",
       "      <td>140</td>\n",
       "      <td>No</td>\n",
       "      <td>2</td>\n",
       "      <td>Badr City</td>\n",
       "      <td>El Ashgar District</td>\n",
       "      <td>355000</td>\n",
       "      <td>شقة بسعر التكلفة في الحي المتميز مدينة بدر...</td>\n",
       "    </tr>\n",
       "    <tr>\n",
       "      <th>2</th>\n",
       "      <td>No</td>\n",
       "      <td>3</td>\n",
       "      <td>3</td>\n",
       "      <td>180</td>\n",
       "      <td>No</td>\n",
       "      <td>0</td>\n",
       "      <td>Rehab City</td>\n",
       "      <td>Not in Compound</td>\n",
       "      <td>3100000</td>\n",
       "      <td>فرررصة برحاب ٢ للبيع شقة ١٨٠م ارضي بحديقة ...</td>\n",
       "    </tr>\n",
       "    <tr>\n",
       "      <th>3</th>\n",
       "      <td>Balcony,Pets Allowed,Security,Electricity Mete...</td>\n",
       "      <td>2</td>\n",
       "      <td>1</td>\n",
       "      <td>107</td>\n",
       "      <td>No</td>\n",
       "      <td>6</td>\n",
       "      <td>Madinaty</td>\n",
       "      <td>Madinaty</td>\n",
       "      <td>1150000</td>\n",
       "      <td>شقة بمدينتي بال B1 نموذج 100 اقل من سعر ال...</td>\n",
       "    </tr>\n",
       "    <tr>\n",
       "      <th>4</th>\n",
       "      <td>Balcony,Electricity Meter</td>\n",
       "      <td>2</td>\n",
       "      <td>1</td>\n",
       "      <td>80</td>\n",
       "      <td>No</td>\n",
       "      <td>6</td>\n",
       "      <td>Marg</td>\n",
       "      <td>Not in Compound</td>\n",
       "      <td>185000</td>\n",
       "      <td>شقة تشطيب فاخر للبيع</td>\n",
       "    </tr>\n",
       "  </tbody>\n",
       "</table>\n",
       "</div>"
      ],
      "text/plain": [
       "                                           Amenities Bedrooms Bathrooms Area  \\\n",
       "0  Balcony,Security,Covered Parking,Electricity M...        3         2  135   \n",
       "1  Balcony,Pets Allowed,Private Garden,Security,E...        3         2  140   \n",
       "2                                                 No        3         3  180   \n",
       "3  Balcony,Pets Allowed,Security,Electricity Mete...        2         1  107   \n",
       "4                          Balcony,Electricity Meter        2         1   80   \n",
       "\n",
       "  Furnished Level    location            Compound    price  \\\n",
       "0        No     5    Madinaty            Madinaty  1600000   \n",
       "1        No     2   Badr City  El Ashgar District   355000   \n",
       "2        No     0  Rehab City     Not in Compound  3100000   \n",
       "3        No     6    Madinaty            Madinaty  1150000   \n",
       "4        No     6        Marg     Not in Compound   185000   \n",
       "\n",
       "                                           title  \n",
       "0  مدينتي ١٣٥م بال B1 بحري قريبه جدا من الخدم...  \n",
       "1  شقة بسعر التكلفة في الحي المتميز مدينة بدر...  \n",
       "2  فرررصة برحاب ٢ للبيع شقة ١٨٠م ارضي بحديقة ...  \n",
       "3  شقة بمدينتي بال B1 نموذج 100 اقل من سعر ال...  \n",
       "4                           شقة تشطيب فاخر للبيع  "
      ]
     },
     "execution_count": 140,
     "metadata": {},
     "output_type": "execute_result"
    }
   ],
   "source": [
    "# reorder columns\n",
    "df=df.loc[:,['Amenities','Bedrooms','Bathrooms','Area','Furnished','Level','location','Compound','price','title']]\n",
    "df.head()"
   ]
  },
  {
   "cell_type": "code",
   "execution_count": 141,
   "metadata": {},
   "outputs": [],
   "source": [
    "# convert funished category\n",
    "df.Furnished=df.Furnished.replace({'No':0,'Yes':1})"
   ]
  },
  {
   "cell_type": "code",
   "execution_count": 142,
   "metadata": {},
   "outputs": [
    {
     "data": {
      "text/plain": [
       "Amenities    object\n",
       "Bedrooms     object\n",
       "Bathrooms    object\n",
       "Area         object\n",
       "Furnished     int64\n",
       "Level        object\n",
       "location     object\n",
       "Compound     object\n",
       "price        object\n",
       "title        object\n",
       "dtype: object"
      ]
     },
     "execution_count": 142,
     "metadata": {},
     "output_type": "execute_result"
    }
   ],
   "source": [
    "# check data types\n",
    "df.dtypes"
   ]
  },
  {
   "cell_type": "code",
   "execution_count": 143,
   "metadata": {},
   "outputs": [
    {
     "data": {
      "text/plain": [
       "Amenities     object\n",
       "Bedrooms       int32\n",
       "Bathrooms      int32\n",
       "Area         float64\n",
       "Furnished      int64\n",
       "Level          int32\n",
       "location      object\n",
       "Compound      object\n",
       "price        float64\n",
       "title         object\n",
       "dtype: object"
      ]
     },
     "execution_count": 143,
     "metadata": {},
     "output_type": "execute_result"
    }
   ],
   "source": [
    "# change bedrooms, bathrooms and area into integers, and price into float\n",
    "df.Bedrooms=df.Bedrooms.astype(int)\n",
    "df.Bathrooms=df.Bathrooms.astype(int)\n",
    "df.Area=df.Area.astype(float)\n",
    "df.Level=df.Level.astype(int)\n",
    "df.price=df.price.astype(float)\n",
    "df.dtypes"
   ]
  },
  {
   "cell_type": "code",
   "execution_count": 144,
   "metadata": {},
   "outputs": [
    {
     "data": {
      "text/html": [
       "<div>\n",
       "<style scoped>\n",
       "    .dataframe tbody tr th:only-of-type {\n",
       "        vertical-align: middle;\n",
       "    }\n",
       "\n",
       "    .dataframe tbody tr th {\n",
       "        vertical-align: top;\n",
       "    }\n",
       "\n",
       "    .dataframe thead th {\n",
       "        text-align: right;\n",
       "    }\n",
       "</style>\n",
       "<table border=\"1\" class=\"dataframe\">\n",
       "  <thead>\n",
       "    <tr style=\"text-align: right;\">\n",
       "      <th></th>\n",
       "      <th>Amenities</th>\n",
       "      <th>Bedrooms</th>\n",
       "      <th>Bathrooms</th>\n",
       "      <th>Area</th>\n",
       "      <th>Furnished</th>\n",
       "      <th>Level</th>\n",
       "      <th>location</th>\n",
       "      <th>Compound</th>\n",
       "      <th>price</th>\n",
       "      <th>title</th>\n",
       "    </tr>\n",
       "  </thead>\n",
       "  <tbody>\n",
       "    <tr>\n",
       "      <th>0</th>\n",
       "      <td>Balcony,Security,Covered Parking,Electricity M...</td>\n",
       "      <td>3</td>\n",
       "      <td>2</td>\n",
       "      <td>135.0</td>\n",
       "      <td>0</td>\n",
       "      <td>5</td>\n",
       "      <td>Madinaty</td>\n",
       "      <td>Madinaty</td>\n",
       "      <td>1600000.0</td>\n",
       "      <td>مدينتي ١٣٥م بال B1 بحري قريبه جدا من الخدم...</td>\n",
       "    </tr>\n",
       "    <tr>\n",
       "      <th>1</th>\n",
       "      <td>Balcony,Pets Allowed,Private Garden,Security,E...</td>\n",
       "      <td>3</td>\n",
       "      <td>2</td>\n",
       "      <td>140.0</td>\n",
       "      <td>0</td>\n",
       "      <td>2</td>\n",
       "      <td>Badr City</td>\n",
       "      <td>El Ashgar District</td>\n",
       "      <td>355000.0</td>\n",
       "      <td>شقة بسعر التكلفة في الحي المتميز مدينة بدر...</td>\n",
       "    </tr>\n",
       "    <tr>\n",
       "      <th>2</th>\n",
       "      <td>No</td>\n",
       "      <td>3</td>\n",
       "      <td>3</td>\n",
       "      <td>180.0</td>\n",
       "      <td>0</td>\n",
       "      <td>0</td>\n",
       "      <td>Rehab City</td>\n",
       "      <td>Not in Compound</td>\n",
       "      <td>3100000.0</td>\n",
       "      <td>فرررصة برحاب ٢ للبيع شقة ١٨٠م ارضي بحديقة ...</td>\n",
       "    </tr>\n",
       "    <tr>\n",
       "      <th>3</th>\n",
       "      <td>Balcony,Pets Allowed,Security,Electricity Mete...</td>\n",
       "      <td>2</td>\n",
       "      <td>1</td>\n",
       "      <td>107.0</td>\n",
       "      <td>0</td>\n",
       "      <td>6</td>\n",
       "      <td>Madinaty</td>\n",
       "      <td>Madinaty</td>\n",
       "      <td>1150000.0</td>\n",
       "      <td>شقة بمدينتي بال B1 نموذج 100 اقل من سعر ال...</td>\n",
       "    </tr>\n",
       "    <tr>\n",
       "      <th>4</th>\n",
       "      <td>Balcony,Electricity Meter</td>\n",
       "      <td>2</td>\n",
       "      <td>1</td>\n",
       "      <td>80.0</td>\n",
       "      <td>0</td>\n",
       "      <td>6</td>\n",
       "      <td>Marg</td>\n",
       "      <td>Not in Compound</td>\n",
       "      <td>185000.0</td>\n",
       "      <td>شقة تشطيب فاخر للبيع</td>\n",
       "    </tr>\n",
       "  </tbody>\n",
       "</table>\n",
       "</div>"
      ],
      "text/plain": [
       "                                           Amenities  Bedrooms  Bathrooms  \\\n",
       "0  Balcony,Security,Covered Parking,Electricity M...         3          2   \n",
       "1  Balcony,Pets Allowed,Private Garden,Security,E...         3          2   \n",
       "2                                                 No         3          3   \n",
       "3  Balcony,Pets Allowed,Security,Electricity Mete...         2          1   \n",
       "4                          Balcony,Electricity Meter         2          1   \n",
       "\n",
       "    Area  Furnished  Level    location            Compound      price  \\\n",
       "0  135.0          0      5    Madinaty            Madinaty  1600000.0   \n",
       "1  140.0          0      2   Badr City  El Ashgar District   355000.0   \n",
       "2  180.0          0      0  Rehab City     Not in Compound  3100000.0   \n",
       "3  107.0          0      6    Madinaty            Madinaty  1150000.0   \n",
       "4   80.0          0      6        Marg     Not in Compound   185000.0   \n",
       "\n",
       "                                           title  \n",
       "0  مدينتي ١٣٥م بال B1 بحري قريبه جدا من الخدم...  \n",
       "1  شقة بسعر التكلفة في الحي المتميز مدينة بدر...  \n",
       "2  فرررصة برحاب ٢ للبيع شقة ١٨٠م ارضي بحديقة ...  \n",
       "3  شقة بمدينتي بال B1 نموذج 100 اقل من سعر ال...  \n",
       "4                           شقة تشطيب فاخر للبيع  "
      ]
     },
     "execution_count": 144,
     "metadata": {},
     "output_type": "execute_result"
    }
   ],
   "source": [
    "df.head()"
   ]
  },
  {
   "cell_type": "markdown",
   "metadata": {},
   "source": [
    "# Explaratory data analysis"
   ]
  },
  {
   "cell_type": "code",
   "execution_count": 145,
   "metadata": {},
   "outputs": [
    {
     "data": {
      "text/html": [
       "<div>\n",
       "<style scoped>\n",
       "    .dataframe tbody tr th:only-of-type {\n",
       "        vertical-align: middle;\n",
       "    }\n",
       "\n",
       "    .dataframe tbody tr th {\n",
       "        vertical-align: top;\n",
       "    }\n",
       "\n",
       "    .dataframe thead th {\n",
       "        text-align: right;\n",
       "    }\n",
       "</style>\n",
       "<table border=\"1\" class=\"dataframe\">\n",
       "  <thead>\n",
       "    <tr style=\"text-align: right;\">\n",
       "      <th></th>\n",
       "      <th>Bedrooms</th>\n",
       "      <th>Bathrooms</th>\n",
       "      <th>Area</th>\n",
       "      <th>Level</th>\n",
       "      <th>Furnished</th>\n",
       "      <th>price</th>\n",
       "    </tr>\n",
       "  </thead>\n",
       "  <tbody>\n",
       "    <tr>\n",
       "      <th>Bedrooms</th>\n",
       "      <td>1.000000</td>\n",
       "      <td>0.501941</td>\n",
       "      <td>-0.005364</td>\n",
       "      <td>0.046264</td>\n",
       "      <td>-0.009444</td>\n",
       "      <td>0.235967</td>\n",
       "    </tr>\n",
       "    <tr>\n",
       "      <th>Bathrooms</th>\n",
       "      <td>0.501941</td>\n",
       "      <td>1.000000</td>\n",
       "      <td>-0.002762</td>\n",
       "      <td>-0.077131</td>\n",
       "      <td>-0.000988</td>\n",
       "      <td>0.382985</td>\n",
       "    </tr>\n",
       "    <tr>\n",
       "      <th>Area</th>\n",
       "      <td>-0.005364</td>\n",
       "      <td>-0.002762</td>\n",
       "      <td>1.000000</td>\n",
       "      <td>-0.001604</td>\n",
       "      <td>-0.000562</td>\n",
       "      <td>-0.004602</td>\n",
       "    </tr>\n",
       "    <tr>\n",
       "      <th>Level</th>\n",
       "      <td>0.046264</td>\n",
       "      <td>-0.077131</td>\n",
       "      <td>-0.001604</td>\n",
       "      <td>1.000000</td>\n",
       "      <td>0.043166</td>\n",
       "      <td>-0.051438</td>\n",
       "    </tr>\n",
       "    <tr>\n",
       "      <th>Furnished</th>\n",
       "      <td>-0.009444</td>\n",
       "      <td>-0.000988</td>\n",
       "      <td>-0.000562</td>\n",
       "      <td>0.043166</td>\n",
       "      <td>1.000000</td>\n",
       "      <td>0.061817</td>\n",
       "    </tr>\n",
       "    <tr>\n",
       "      <th>price</th>\n",
       "      <td>0.235967</td>\n",
       "      <td>0.382985</td>\n",
       "      <td>-0.004602</td>\n",
       "      <td>-0.051438</td>\n",
       "      <td>0.061817</td>\n",
       "      <td>1.000000</td>\n",
       "    </tr>\n",
       "  </tbody>\n",
       "</table>\n",
       "</div>"
      ],
      "text/plain": [
       "           Bedrooms  Bathrooms      Area     Level  Furnished     price\n",
       "Bedrooms   1.000000   0.501941 -0.005364  0.046264  -0.009444  0.235967\n",
       "Bathrooms  0.501941   1.000000 -0.002762 -0.077131  -0.000988  0.382985\n",
       "Area      -0.005364  -0.002762  1.000000 -0.001604  -0.000562 -0.004602\n",
       "Level      0.046264  -0.077131 -0.001604  1.000000   0.043166 -0.051438\n",
       "Furnished -0.009444  -0.000988 -0.000562  0.043166   1.000000  0.061817\n",
       "price      0.235967   0.382985 -0.004602 -0.051438   0.061817  1.000000"
      ]
     },
     "execution_count": 145,
     "metadata": {},
     "output_type": "execute_result"
    }
   ],
   "source": [
    "#check correllation of feature with the predicted variable (price)\n",
    "df[['Bedrooms','Bathrooms','Area','Level','Furnished','price']].corr()"
   ]
  },
  {
   "cell_type": "markdown",
   "metadata": {},
   "source": [
    "it seems that all correlations are weak"
   ]
  },
  {
   "cell_type": "markdown",
   "metadata": {},
   "source": [
    "#### >> Price"
   ]
  },
  {
   "cell_type": "code",
   "execution_count": 146,
   "metadata": {},
   "outputs": [
    {
     "data": {
      "image/png": "[encoded data removed]",
      "text/plain": [
       "<Figure size 432x288 with 1 Axes>"
      ]
     },
     "metadata": {
      "needs_background": "light"
     },
     "output_type": "display_data"
    }
   ],
   "source": [
    "plt.boxplot(df.price)\n",
    "plt.ylim(-200000,5000000)\n",
    "plt.show()"
   ]
  },
  {
   "cell_type": "code",
   "execution_count": 147,
   "metadata": {},
   "outputs": [
    {
     "name": "stdout",
     "output_type": "stream",
     "text": [
      "median: 999999.0 , Q3: 1650000.0, Q1: 450000.0,upper_whisker: 3450000.0 ,lower_whisker: 800.0\n"
     ]
    }
   ],
   "source": [
    "#check price stats\n",
    "median = np.median(df.price)\n",
    "upper_quartile = np.percentile(df.price, 75)\n",
    "lower_quartile = np.percentile(df.price, 25)\n",
    "iqr = upper_quartile - lower_quartile\n",
    "upper_whisker = df.price[df.price<=upper_quartile+1.5*iqr].max()\n",
    "lower_whisker = df.price[df.price>=lower_quartile-1.5*iqr].min()\n",
    "print(\"median: {} , Q3: {}, Q1: {},upper_whisker: {} ,lower_whisker: {}\".format(median,upper_quartile,lower_quartile,upper_whisker,lower_whisker))"
   ]
  },
  {
   "cell_type": "code",
   "execution_count": 148,
   "metadata": {},
   "outputs": [
    {
     "data": {
      "text/plain": [
       "(737, 10)"
      ]
     },
     "execution_count": 148,
     "metadata": {},
     "output_type": "execute_result"
    }
   ],
   "source": [
    "# check number of outliers in price\n",
    "df[df.price>3750000].shape"
   ]
  },
  {
   "cell_type": "code",
   "execution_count": 149,
   "metadata": {},
   "outputs": [],
   "source": [
    "# remove price outliers\n",
    "df=df[df.price<3750000]"
   ]
  },
  {
   "cell_type": "code",
   "execution_count": 150,
   "metadata": {},
   "outputs": [
    {
     "data": {
      "text/plain": [
       "(1042, 10)"
      ]
     },
     "execution_count": 150,
     "metadata": {},
     "output_type": "execute_result"
    }
   ],
   "source": [
    "# check number of outliers in price\n",
    "df[df.price<100000].shape"
   ]
  },
  {
   "cell_type": "code",
   "execution_count": 151,
   "metadata": {},
   "outputs": [
    {
     "name": "stdout",
     "output_type": "stream",
     "text": [
      "(20806, 10)\n"
     ]
    }
   ],
   "source": [
    "# remove price outliers\n",
    "print(df[df.price.between(100000,3750000)].shape)\n",
    "df=df[df.price.between(100000,3750000)]"
   ]
  },
  {
   "cell_type": "markdown",
   "metadata": {},
   "source": [
    "#### Enhancing correlation"
   ]
  },
  {
   "cell_type": "markdown",
   "metadata": {},
   "source": [
    "#### >>Area"
   ]
  },
  {
   "cell_type": "code",
   "execution_count": 152,
   "metadata": {},
   "outputs": [
    {
     "data": {
      "text/plain": [
       "(-50, 500)"
      ]
     },
     "execution_count": 152,
     "metadata": {},
     "output_type": "execute_result"
    },
    {
     "data": {
      "image/png": "[encoded data removed]",
      "text/plain": [
       "<Figure size 432x288 with 1 Axes>"
      ]
     },
     "metadata": {
      "needs_background": "light"
     },
     "output_type": "display_data"
    }
   ],
   "source": [
    "plt.boxplot(df.Area)\n",
    "plt.ylim(-50,500)"
   ]
  },
  {
   "cell_type": "code",
   "execution_count": 153,
   "metadata": {},
   "outputs": [
    {
     "name": "stdout",
     "output_type": "stream",
     "text": [
      "median: 135.0 , Q3: 175.0, Q1: 100.0,upper_whisker: 287.0 ,lower_whisker: 0.0\n"
     ]
    }
   ],
   "source": [
    "median = np.median(df.Area)\n",
    "upper_quartile = np.percentile(df.Area, 75)\n",
    "lower_quartile = np.percentile(df.Area, 25)\n",
    "\n",
    "iqr = upper_quartile - lower_quartile\n",
    "upper_whisker = df.Area[df.Area<=upper_quartile+1.5*iqr].max()\n",
    "lower_whisker = df.Area[df.Area>=lower_quartile-1.5*iqr].min()\n",
    "print(\"median: {} , Q3: {}, Q1: {},upper_whisker: {} ,lower_whisker: {}\".format(median,upper_quartile,lower_quartile,upper_whisker,lower_whisker))"
   ]
  },
  {
   "cell_type": "code",
   "execution_count": 154,
   "metadata": {},
   "outputs": [
    {
     "data": {
      "text/plain": [
       "(336, 10)"
      ]
     },
     "execution_count": 154,
     "metadata": {},
     "output_type": "execute_result"
    }
   ],
   "source": [
    "df[df.Area>287].shape"
   ]
  },
  {
   "cell_type": "code",
   "execution_count": 155,
   "metadata": {},
   "outputs": [
    {
     "data": {
      "text/plain": [
       "(32, 10)"
      ]
     },
     "execution_count": 155,
     "metadata": {},
     "output_type": "execute_result"
    }
   ],
   "source": [
    "df[df.Area<50].shape"
   ]
  },
  {
   "cell_type": "code",
   "execution_count": 156,
   "metadata": {},
   "outputs": [
    {
     "data": {
      "text/plain": [
       "(20438, 10)"
      ]
     },
     "execution_count": 156,
     "metadata": {},
     "output_type": "execute_result"
    }
   ],
   "source": [
    "# remove Area outliers\n",
    "df=df[df.Area.between(50,287)]\n",
    "df.shape"
   ]
  },
  {
   "cell_type": "code",
   "execution_count": 157,
   "metadata": {},
   "outputs": [
    {
     "data": {
      "text/html": [
       "<div>\n",
       "<style scoped>\n",
       "    .dataframe tbody tr th:only-of-type {\n",
       "        vertical-align: middle;\n",
       "    }\n",
       "\n",
       "    .dataframe tbody tr th {\n",
       "        vertical-align: top;\n",
       "    }\n",
       "\n",
       "    .dataframe thead th {\n",
       "        text-align: right;\n",
       "    }\n",
       "</style>\n",
       "<table border=\"1\" class=\"dataframe\">\n",
       "  <thead>\n",
       "    <tr style=\"text-align: right;\">\n",
       "      <th></th>\n",
       "      <th>Area</th>\n",
       "      <th>price</th>\n",
       "    </tr>\n",
       "  </thead>\n",
       "  <tbody>\n",
       "    <tr>\n",
       "      <th>Area</th>\n",
       "      <td>1.000000</td>\n",
       "      <td>0.674181</td>\n",
       "    </tr>\n",
       "    <tr>\n",
       "      <th>price</th>\n",
       "      <td>0.674181</td>\n",
       "      <td>1.000000</td>\n",
       "    </tr>\n",
       "  </tbody>\n",
       "</table>\n",
       "</div>"
      ],
      "text/plain": [
       "           Area     price\n",
       "Area   1.000000  0.674181\n",
       "price  0.674181  1.000000"
      ]
     },
     "execution_count": 157,
     "metadata": {},
     "output_type": "execute_result"
    }
   ],
   "source": [
    "# check corr\n",
    "df[['Area','price']].corr()"
   ]
  },
  {
   "cell_type": "markdown",
   "metadata": {},
   "source": [
    "after removing outliers from price and area we increased the area correlation from -0.003480 to 0.672541"
   ]
  },
  {
   "cell_type": "code",
   "execution_count": 158,
   "metadata": {},
   "outputs": [
    {
     "data": {
      "text/plain": [
       "<matplotlib.axes._subplots.AxesSubplot at 0xaab2263748>"
      ]
     },
     "execution_count": 158,
     "metadata": {},
     "output_type": "execute_result"
    },
    {
     "data": {
      "image/png": "[encoded data removed]",
      "text/plain": [
       "<Figure size 432x288 with 1 Axes>"
      ]
     },
     "metadata": {
      "needs_background": "light"
     },
     "output_type": "display_data"
    }
   ],
   "source": [
    "sns.regplot(df.price,df.Area,line_kws = {'color': 'red'})\n"
   ]
  },
  {
   "cell_type": "markdown",
   "metadata": {},
   "source": [
    "#### >> Bathroom"
   ]
  },
  {
   "cell_type": "code",
   "execution_count": 159,
   "metadata": {},
   "outputs": [
    {
     "data": {
      "text/plain": [
       "{'whiskers': [<matplotlib.lines.Line2D at 0xaab22bb688>,\n",
       "  <matplotlib.lines.Line2D at 0xaab22f4fc8>],\n",
       " 'caps': [<matplotlib.lines.Line2D at 0xaab22f99c8>,\n",
       "  <matplotlib.lines.Line2D at 0xaab22f9f08>],\n",
       " 'boxes': [<matplotlib.lines.Line2D at 0xaab22f46c8>],\n",
       " 'medians': [<matplotlib.lines.Line2D at 0xaab22f9b48>],\n",
       " 'fliers': [<matplotlib.lines.Line2D at 0xaab22ffa08>],\n",
       " 'means': []}"
      ]
     },
     "execution_count": 159,
     "metadata": {},
     "output_type": "execute_result"
    },
    {
     "data": {
      "image/png": "[encoded data removed]",
      "text/plain": [
       "<Figure size 432x288 with 1 Axes>"
      ]
     },
     "metadata": {
      "needs_background": "light"
     },
     "output_type": "display_data"
    }
   ],
   "source": [
    "plt.boxplot( df.Bathrooms)"
   ]
  },
  {
   "cell_type": "code",
   "execution_count": 160,
   "metadata": {},
   "outputs": [
    {
     "data": {
      "text/plain": [
       "(173, 10)"
      ]
     },
     "execution_count": 160,
     "metadata": {},
     "output_type": "execute_result"
    }
   ],
   "source": [
    "#chek numbers of outliers\n",
    "df[df.Bathrooms>3].shape"
   ]
  },
  {
   "cell_type": "code",
   "execution_count": 161,
   "metadata": {},
   "outputs": [
    {
     "data": {
      "text/plain": [
       "(0, 10)"
      ]
     },
     "execution_count": 161,
     "metadata": {},
     "output_type": "execute_result"
    }
   ],
   "source": [
    "#chek numbers of outliers\n",
    "df[df.Bathrooms==0].shape"
   ]
  },
  {
   "cell_type": "code",
   "execution_count": 162,
   "metadata": {},
   "outputs": [],
   "source": [
    "# remove Bathrooms outliers\n",
    "df=df[df.Bathrooms<=3]"
   ]
  },
  {
   "cell_type": "code",
   "execution_count": 163,
   "metadata": {},
   "outputs": [
    {
     "data": {
      "text/html": [
       "<div>\n",
       "<style scoped>\n",
       "    .dataframe tbody tr th:only-of-type {\n",
       "        vertical-align: middle;\n",
       "    }\n",
       "\n",
       "    .dataframe tbody tr th {\n",
       "        vertical-align: top;\n",
       "    }\n",
       "\n",
       "    .dataframe thead th {\n",
       "        text-align: right;\n",
       "    }\n",
       "</style>\n",
       "<table border=\"1\" class=\"dataframe\">\n",
       "  <thead>\n",
       "    <tr style=\"text-align: right;\">\n",
       "      <th></th>\n",
       "      <th>Bathrooms</th>\n",
       "      <th>price</th>\n",
       "    </tr>\n",
       "  </thead>\n",
       "  <tbody>\n",
       "    <tr>\n",
       "      <th>Bathrooms</th>\n",
       "      <td>1.000000</td>\n",
       "      <td>0.677664</td>\n",
       "    </tr>\n",
       "    <tr>\n",
       "      <th>price</th>\n",
       "      <td>0.677664</td>\n",
       "      <td>1.000000</td>\n",
       "    </tr>\n",
       "  </tbody>\n",
       "</table>\n",
       "</div>"
      ],
      "text/plain": [
       "           Bathrooms     price\n",
       "Bathrooms   1.000000  0.677664\n",
       "price       0.677664  1.000000"
      ]
     },
     "execution_count": 163,
     "metadata": {},
     "output_type": "execute_result"
    }
   ],
   "source": [
    "#check correlation\n",
    "df[['Bathrooms','price']].corr()"
   ]
  },
  {
   "cell_type": "markdown",
   "metadata": {},
   "source": [
    "after removing outliers from bathroom we icreased the correlation from 0.365814 to 0.675171"
   ]
  },
  {
   "cell_type": "markdown",
   "metadata": {},
   "source": [
    "#### >> Bedrooms"
   ]
  },
  {
   "cell_type": "code",
   "execution_count": 164,
   "metadata": {},
   "outputs": [
    {
     "data": {
      "text/plain": [
       "{'whiskers': [<matplotlib.lines.Line2D at 0xaab2326c88>,\n",
       "  <matplotlib.lines.Line2D at 0xaab235bb48>],\n",
       " 'caps': [<matplotlib.lines.Line2D at 0xaab235bfc8>,\n",
       "  <matplotlib.lines.Line2D at 0xaab235bcc8>],\n",
       " 'boxes': [<matplotlib.lines.Line2D at 0xaab2352ec8>],\n",
       " 'medians': [<matplotlib.lines.Line2D at 0xaab2360dc8>],\n",
       " 'fliers': [<matplotlib.lines.Line2D at 0xaab2360ec8>],\n",
       " 'means': []}"
      ]
     },
     "execution_count": 164,
     "metadata": {},
     "output_type": "execute_result"
    },
    {
     "data": {
      "image/png": "[encoded data removed]",
      "text/plain": [
       "<Figure size 432x288 with 1 Axes>"
      ]
     },
     "metadata": {
      "needs_background": "light"
     },
     "output_type": "display_data"
    }
   ],
   "source": [
    "#check data distribution\n",
    "plt.boxplot(df.Bedrooms)"
   ]
  },
  {
   "cell_type": "code",
   "execution_count": 165,
   "metadata": {},
   "outputs": [
    {
     "name": "stdout",
     "output_type": "stream",
     "text": [
      "median: 3.0 , Q3: 3.0, Q1: 2.0,upper_whisker: 4 ,lower_whisker: 1\n"
     ]
    }
   ],
   "source": [
    "#check price stats\n",
    "median = np.median(df.Bedrooms)\n",
    "upper_quartile = np.percentile(df.Bedrooms, 75)\n",
    "lower_quartile = np.percentile(df.Bedrooms, 25)\n",
    "iqr = upper_quartile - lower_quartile\n",
    "upper_whisker = df.Bedrooms[df.Bedrooms<=upper_quartile+1.5*iqr].max()\n",
    "lower_whisker = df.Bedrooms[df.Bedrooms>=lower_quartile-1.5*iqr].min()\n",
    "print(\"median: {} , Q3: {}, Q1: {},upper_whisker: {} ,lower_whisker: {}\".format(median,upper_quartile,lower_quartile,upper_whisker,lower_whisker))"
   ]
  },
  {
   "cell_type": "code",
   "execution_count": 166,
   "metadata": {},
   "outputs": [
    {
     "data": {
      "text/plain": [
       "(90, 10)"
      ]
     },
     "execution_count": 166,
     "metadata": {},
     "output_type": "execute_result"
    }
   ],
   "source": [
    "# check shape of outliers\n",
    "df[df.Bedrooms>4].shape"
   ]
  },
  {
   "cell_type": "code",
   "execution_count": 167,
   "metadata": {},
   "outputs": [],
   "source": [
    "# remove outliers of Bedrooms\n",
    "df=df[df.Bedrooms<=4]"
   ]
  },
  {
   "cell_type": "code",
   "execution_count": 168,
   "metadata": {},
   "outputs": [
    {
     "data": {
      "text/html": [
       "<div>\n",
       "<style scoped>\n",
       "    .dataframe tbody tr th:only-of-type {\n",
       "        vertical-align: middle;\n",
       "    }\n",
       "\n",
       "    .dataframe tbody tr th {\n",
       "        vertical-align: top;\n",
       "    }\n",
       "\n",
       "    .dataframe thead th {\n",
       "        text-align: right;\n",
       "    }\n",
       "</style>\n",
       "<table border=\"1\" class=\"dataframe\">\n",
       "  <thead>\n",
       "    <tr style=\"text-align: right;\">\n",
       "      <th></th>\n",
       "      <th>Bedrooms</th>\n",
       "      <th>price</th>\n",
       "    </tr>\n",
       "  </thead>\n",
       "  <tbody>\n",
       "    <tr>\n",
       "      <th>Bedrooms</th>\n",
       "      <td>1.000000</td>\n",
       "      <td>0.363072</td>\n",
       "    </tr>\n",
       "    <tr>\n",
       "      <th>price</th>\n",
       "      <td>0.363072</td>\n",
       "      <td>1.000000</td>\n",
       "    </tr>\n",
       "  </tbody>\n",
       "</table>\n",
       "</div>"
      ],
      "text/plain": [
       "          Bedrooms     price\n",
       "Bedrooms  1.000000  0.363072\n",
       "price     0.363072  1.000000"
      ]
     },
     "execution_count": 168,
     "metadata": {},
     "output_type": "execute_result"
    }
   ],
   "source": [
    "# check correlation\n",
    "df[['Bedrooms','price']].corr()"
   ]
  },
  {
   "cell_type": "markdown",
   "metadata": {},
   "source": [
    "after removing outliers from Bedroom we icreased the correlation from 0.276485 to 0.359961"
   ]
  },
  {
   "cell_type": "markdown",
   "metadata": {},
   "source": [
    "#### >> Level"
   ]
  },
  {
   "cell_type": "code",
   "execution_count": 169,
   "metadata": {},
   "outputs": [
    {
     "data": {
      "image/png": "[encoded data removed]",
      "text/plain": [
       "<Figure size 432x288 with 1 Axes>"
      ]
     },
     "metadata": {
      "needs_background": "light"
     },
     "output_type": "display_data"
    }
   ],
   "source": [
    "plt.boxplot(df.Level)\n",
    "plt.show()"
   ]
  },
  {
   "cell_type": "code",
   "execution_count": 170,
   "metadata": {
    "scrolled": true
   },
   "outputs": [
    {
     "data": {
      "text/html": [
       "<div>\n",
       "<style scoped>\n",
       "    .dataframe tbody tr th:only-of-type {\n",
       "        vertical-align: middle;\n",
       "    }\n",
       "\n",
       "    .dataframe tbody tr th {\n",
       "        vertical-align: top;\n",
       "    }\n",
       "\n",
       "    .dataframe thead th {\n",
       "        text-align: right;\n",
       "    }\n",
       "</style>\n",
       "<table border=\"1\" class=\"dataframe\">\n",
       "  <thead>\n",
       "    <tr style=\"text-align: right;\">\n",
       "      <th></th>\n",
       "      <th>Level</th>\n",
       "      <th>price</th>\n",
       "    </tr>\n",
       "  </thead>\n",
       "  <tbody>\n",
       "    <tr>\n",
       "      <th>Level</th>\n",
       "      <td>1.000000</td>\n",
       "      <td>-0.151718</td>\n",
       "    </tr>\n",
       "    <tr>\n",
       "      <th>price</th>\n",
       "      <td>-0.151718</td>\n",
       "      <td>1.000000</td>\n",
       "    </tr>\n",
       "  </tbody>\n",
       "</table>\n",
       "</div>"
      ],
      "text/plain": [
       "          Level     price\n",
       "Level  1.000000 -0.151718\n",
       "price -0.151718  1.000000"
      ]
     },
     "execution_count": 170,
     "metadata": {},
     "output_type": "execute_result"
    }
   ],
   "source": [
    "df[['Level','price']].corr()"
   ]
  },
  {
   "cell_type": "markdown",
   "metadata": {},
   "source": [
    "#### >> Furnished"
   ]
  },
  {
   "cell_type": "code",
   "execution_count": 171,
   "metadata": {},
   "outputs": [
    {
     "data": {
      "text/plain": [
       "<seaborn.axisgrid.FacetGrid at 0xaab23e0208>"
      ]
     },
     "execution_count": 171,
     "metadata": {},
     "output_type": "execute_result"
    },
    {
     "data": {
      "image/png": "[encoded data removed]",
      "text/plain": [
       "<Figure size 360x360 with 1 Axes>"
      ]
     },
     "metadata": {
      "needs_background": "light"
     },
     "output_type": "display_data"
    }
   ],
   "source": [
    "sns.catplot(x=\"Furnished\", y=\"price\", kind=\"box\", data=df)"
   ]
  },
  {
   "cell_type": "markdown",
   "metadata": {},
   "source": [
    "most of data are overlapped(small variance between data)"
   ]
  },
  {
   "cell_type": "code",
   "execution_count": 172,
   "metadata": {
    "scrolled": false
   },
   "outputs": [
    {
     "data": {
      "text/plain": [
       "<matplotlib.axes._subplots.AxesSubplot at 0xaab36e6488>"
      ]
     },
     "execution_count": 172,
     "metadata": {},
     "output_type": "execute_result"
    },
    {
     "data": {
      "image/png": "[encoded data removed]",
      "text/plain": [
       "<Figure size 720x504 with 2 Axes>"
      ]
     },
     "metadata": {
      "needs_background": "light"
     },
     "output_type": "display_data"
    }
   ],
   "source": [
    "#### check final correlation\n",
    "plt.figure(figsize=(10,7))\n",
    "sns.heatmap(df.corr(),annot = True)"
   ]
  },
  {
   "cell_type": "markdown",
   "metadata": {},
   "source": [
    "### Add More Features"
   ]
  },
  {
   "cell_type": "code",
   "execution_count": 173,
   "metadata": {},
   "outputs": [
    {
     "data": {
      "text/html": [
       "<div>\n",
       "<style scoped>\n",
       "    .dataframe tbody tr th:only-of-type {\n",
       "        vertical-align: middle;\n",
       "    }\n",
       "\n",
       "    .dataframe tbody tr th {\n",
       "        vertical-align: top;\n",
       "    }\n",
       "\n",
       "    .dataframe thead th {\n",
       "        text-align: right;\n",
       "    }\n",
       "</style>\n",
       "<table border=\"1\" class=\"dataframe\">\n",
       "  <thead>\n",
       "    <tr style=\"text-align: right;\">\n",
       "      <th></th>\n",
       "      <th>Amenities</th>\n",
       "      <th>Bedrooms</th>\n",
       "      <th>Bathrooms</th>\n",
       "      <th>Area</th>\n",
       "      <th>Furnished</th>\n",
       "      <th>Level</th>\n",
       "      <th>location</th>\n",
       "      <th>Compound</th>\n",
       "      <th>price</th>\n",
       "      <th>title</th>\n",
       "    </tr>\n",
       "  </thead>\n",
       "  <tbody>\n",
       "    <tr>\n",
       "      <th>0</th>\n",
       "      <td>Balcony,Security,Covered Parking,Electricity M...</td>\n",
       "      <td>3</td>\n",
       "      <td>2</td>\n",
       "      <td>135.0</td>\n",
       "      <td>0</td>\n",
       "      <td>5</td>\n",
       "      <td>Madinaty</td>\n",
       "      <td>Madinaty</td>\n",
       "      <td>1600000.0</td>\n",
       "      <td>مدينتي ١٣٥م بال B1 بحري قريبه جدا من الخدم...</td>\n",
       "    </tr>\n",
       "    <tr>\n",
       "      <th>1</th>\n",
       "      <td>Balcony,Pets Allowed,Private Garden,Security,E...</td>\n",
       "      <td>3</td>\n",
       "      <td>2</td>\n",
       "      <td>140.0</td>\n",
       "      <td>0</td>\n",
       "      <td>2</td>\n",
       "      <td>Badr City</td>\n",
       "      <td>El Ashgar District</td>\n",
       "      <td>355000.0</td>\n",
       "      <td>شقة بسعر التكلفة في الحي المتميز مدينة بدر...</td>\n",
       "    </tr>\n",
       "    <tr>\n",
       "      <th>2</th>\n",
       "      <td>No</td>\n",
       "      <td>3</td>\n",
       "      <td>3</td>\n",
       "      <td>180.0</td>\n",
       "      <td>0</td>\n",
       "      <td>0</td>\n",
       "      <td>Rehab City</td>\n",
       "      <td>Not in Compound</td>\n",
       "      <td>3100000.0</td>\n",
       "      <td>فرررصة برحاب ٢ للبيع شقة ١٨٠م ارضي بحديقة ...</td>\n",
       "    </tr>\n",
       "    <tr>\n",
       "      <th>3</th>\n",
       "      <td>Balcony,Pets Allowed,Security,Electricity Mete...</td>\n",
       "      <td>2</td>\n",
       "      <td>1</td>\n",
       "      <td>107.0</td>\n",
       "      <td>0</td>\n",
       "      <td>6</td>\n",
       "      <td>Madinaty</td>\n",
       "      <td>Madinaty</td>\n",
       "      <td>1150000.0</td>\n",
       "      <td>شقة بمدينتي بال B1 نموذج 100 اقل من سعر ال...</td>\n",
       "    </tr>\n",
       "    <tr>\n",
       "      <th>4</th>\n",
       "      <td>Balcony,Electricity Meter</td>\n",
       "      <td>2</td>\n",
       "      <td>1</td>\n",
       "      <td>80.0</td>\n",
       "      <td>0</td>\n",
       "      <td>6</td>\n",
       "      <td>Marg</td>\n",
       "      <td>Not in Compound</td>\n",
       "      <td>185000.0</td>\n",
       "      <td>شقة تشطيب فاخر للبيع</td>\n",
       "    </tr>\n",
       "  </tbody>\n",
       "</table>\n",
       "</div>"
      ],
      "text/plain": [
       "                                           Amenities  Bedrooms  Bathrooms  \\\n",
       "0  Balcony,Security,Covered Parking,Electricity M...         3          2   \n",
       "1  Balcony,Pets Allowed,Private Garden,Security,E...         3          2   \n",
       "2                                                 No         3          3   \n",
       "3  Balcony,Pets Allowed,Security,Electricity Mete...         2          1   \n",
       "4                          Balcony,Electricity Meter         2          1   \n",
       "\n",
       "    Area  Furnished  Level    location            Compound      price  \\\n",
       "0  135.0          0      5    Madinaty            Madinaty  1600000.0   \n",
       "1  140.0          0      2   Badr City  El Ashgar District   355000.0   \n",
       "2  180.0          0      0  Rehab City     Not in Compound  3100000.0   \n",
       "3  107.0          0      6    Madinaty            Madinaty  1150000.0   \n",
       "4   80.0          0      6        Marg     Not in Compound   185000.0   \n",
       "\n",
       "                                           title  \n",
       "0  مدينتي ١٣٥م بال B1 بحري قريبه جدا من الخدم...  \n",
       "1  شقة بسعر التكلفة في الحي المتميز مدينة بدر...  \n",
       "2  فرررصة برحاب ٢ للبيع شقة ١٨٠م ارضي بحديقة ...  \n",
       "3  شقة بمدينتي بال B1 نموذج 100 اقل من سعر ال...  \n",
       "4                           شقة تشطيب فاخر للبيع  "
      ]
     },
     "execution_count": 173,
     "metadata": {},
     "output_type": "execute_result"
    }
   ],
   "source": [
    "df.head()"
   ]
  },
  {
   "cell_type": "code",
   "execution_count": 174,
   "metadata": {},
   "outputs": [
    {
     "data": {
      "text/plain": [
       "(20175, 10)"
      ]
     },
     "execution_count": 174,
     "metadata": {},
     "output_type": "execute_result"
    }
   ],
   "source": [
    "df.shape"
   ]
  },
  {
   "cell_type": "markdown",
   "metadata": {},
   "source": [
    "#### >> Compound"
   ]
  },
  {
   "cell_type": "code",
   "execution_count": 175,
   "metadata": {},
   "outputs": [
    {
     "data": {
      "text/plain": [
       "Not in Compound            14808\n",
       "Madinaty                    2033\n",
       "Rehab City                   556\n",
       "Abu Al-Hool                  329\n",
       "The Square                   211\n",
       "Dar Misr                     208\n",
       "Mountain View Hyde Park      182\n",
       "VGK                          167\n",
       "Eastown                      135\n",
       "Galleria Moon Valley          81\n",
       "2020 Compound                 79\n",
       "Stone Residence               77\n",
       "Baron City                    77\n",
       "Tag Sultan                    52\n",
       "Name: Compound, dtype: int64"
      ]
     },
     "execution_count": 175,
     "metadata": {},
     "output_type": "execute_result"
    }
   ],
   "source": [
    "\n",
    "df_comp=df[df.Compound.isin(df.Compound.value_counts().reset_index(name='count').query('count>50')['index'])]\n",
    "df_comp.Compound.value_counts()"
   ]
  },
  {
   "cell_type": "code",
   "execution_count": 176,
   "metadata": {},
   "outputs": [
    {
     "data": {
      "text/plain": [
       "<Figure size 1440x720 with 0 Axes>"
      ]
     },
     "metadata": {},
     "output_type": "display_data"
    },
    {
     "data": {
      "image/png": "[encoded data removed]",
      "text/plain": [
       "<Figure size 1080x360 with 1 Axes>"
      ]
     },
     "metadata": {
      "needs_background": "light"
     },
     "output_type": "display_data"
    }
   ],
   "source": [
    "plt.figure(figsize=(20,10))\n",
    "sns.catplot(x='Compound',y='price',kind=\"box\", data=df_comp,height=5, # make the plot 5 units high\n",
    "    aspect=3)\n",
    "plt.xticks(rotation=90)\n",
    "plt.show()"
   ]
  },
  {
   "cell_type": "markdown",
   "metadata": {},
   "source": [
    "#### >> City"
   ]
  },
  {
   "cell_type": "code",
   "execution_count": 177,
   "metadata": {},
   "outputs": [
    {
     "data": {
      "text/plain": [
       "Garden City           5\n",
       "Darrasa               6\n",
       "Ataba                 7\n",
       "Tebeen                7\n",
       "Moski                 8\n",
       "Ma'sara               8\n",
       "Gamaleya             10\n",
       "Darb al-Ahmar        11\n",
       "Boulaq               13\n",
       "Tura                 16\n",
       "Bab al-Shereia       16\n",
       "El Fostat            26\n",
       "Rod al-Farag         28\n",
       "New Heliopolis       28\n",
       "Helmeya al-Gadeda    29\n",
       "New Capital City     31\n",
       "Qasr al-Nil          33\n",
       "Mostakbal City       36\n",
       "Basateen             36\n",
       "Al Amiriyyah         39\n",
       "Name: location, dtype: int64"
      ]
     },
     "execution_count": 177,
     "metadata": {},
     "output_type": "execute_result"
    }
   ],
   "source": [
    "df_comp.location.value_counts().sort_values()[:20]"
   ]
  },
  {
   "cell_type": "code",
   "execution_count": 178,
   "metadata": {},
   "outputs": [
    {
     "data": {
      "text/plain": [
       "Waili              56\n",
       "Katameya           59\n",
       "Abasiya            61\n",
       "Al Manial          70\n",
       "Zawya al-Hamra     97\n",
       "Dar al-Salaam     104\n",
       "Ezbet El Nakhl    126\n",
       "Name: location, dtype: int64"
      ]
     },
     "execution_count": 178,
     "metadata": {},
     "output_type": "execute_result"
    }
   ],
   "source": [
    "df_comp_loc=df_comp[df_comp.location.isin(df_comp.location.value_counts().reset_index(name='count').query('count>50')['index'])]\n",
    "df_comp_loc.location.value_counts().sort_values()[:7]"
   ]
  },
  {
   "cell_type": "code",
   "execution_count": 179,
   "metadata": {},
   "outputs": [
    {
     "data": {
      "text/plain": [
       "<Figure size 1440x360 with 0 Axes>"
      ]
     },
     "metadata": {},
     "output_type": "display_data"
    },
    {
     "data": {
      "image/png": "[encoded data removed]",
      "text/plain": [
       "<Figure size 1080x360 with 1 Axes>"
      ]
     },
     "metadata": {
      "needs_background": "light"
     },
     "output_type": "display_data"
    }
   ],
   "source": [
    "plt.figure(figsize=(20,5))\n",
    "sns.catplot(x='location',y='price',kind=\"box\", data=df_comp_loc,height=5, # make the plot 5 units high\n",
    "    aspect=3)\n",
    "plt.xticks(rotation=90)\n",
    "plt.show()"
   ]
  },
  {
   "cell_type": "code",
   "execution_count": 180,
   "metadata": {},
   "outputs": [
    {
     "name": "stdout",
     "output_type": "stream",
     "text": [
      "(18338, 10)\n"
     ]
    }
   ],
   "source": [
    "print(df_comp_loc.shape)"
   ]
  },
  {
   "cell_type": "code",
   "execution_count": 181,
   "metadata": {
    "scrolled": false
   },
   "outputs": [
    {
     "name": "stderr",
     "output_type": "stream",
     "text": [
      "G:\\Users\\SAAD\\anaconda3\\lib\\site-packages\\ipykernel_launcher.py:3: SettingWithCopyWarning: \n",
      "A value is trying to be set on a copy of a slice from a DataFrame.\n",
      "Try using .loc[row_indexer,col_indexer] = value instead\n",
      "\n",
      "See the caveats in the documentation: https://pandas.pydata.org/pandas-docs/stable/user_guide/indexing.html#returning-a-view-versus-a-copy\n",
      "  This is separate from the ipykernel package so we can avoid doing imports until\n",
      "G:\\Users\\SAAD\\anaconda3\\lib\\site-packages\\ipykernel_launcher.py:4: SettingWithCopyWarning: \n",
      "A value is trying to be set on a copy of a slice from a DataFrame.\n",
      "Try using .loc[row_indexer,col_indexer] = value instead\n",
      "\n",
      "See the caveats in the documentation: https://pandas.pydata.org/pandas-docs/stable/user_guide/indexing.html#returning-a-view-versus-a-copy\n",
      "  after removing the cwd from sys.path.\n"
     ]
    }
   ],
   "source": [
    "# check significancy of Compound\n",
    "enc = LabelEncoder()\n",
    "df_comp['LabeledCompound']=enc.fit_transform(df_comp['Compound'])\n",
    "df_comp['Labeledlocation']=enc.fit_transform(df_comp['location'])"
   ]
  },
  {
   "cell_type": "code",
   "execution_count": 182,
   "metadata": {},
   "outputs": [
    {
     "data": {
      "text/plain": [
       "Index(['Bedrooms', 'Bathrooms', 'Area', 'Furnished', 'Level',\n",
       "       'LabeledCompound', 'Labeledlocation'],\n",
       "      dtype='object')"
      ]
     },
     "execution_count": 182,
     "metadata": {},
     "output_type": "execute_result"
    }
   ],
   "source": [
    "cols=df_comp.loc[:, df_comp.columns[1:6].append(df_comp.columns[10:12])].columns\n",
    "cols"
   ]
  },
  {
   "cell_type": "code",
   "execution_count": 183,
   "metadata": {},
   "outputs": [
    {
     "data": {
      "text/html": [
       "<div>\n",
       "<style scoped>\n",
       "    .dataframe tbody tr th:only-of-type {\n",
       "        vertical-align: middle;\n",
       "    }\n",
       "\n",
       "    .dataframe tbody tr th {\n",
       "        vertical-align: top;\n",
       "    }\n",
       "\n",
       "    .dataframe thead th {\n",
       "        text-align: right;\n",
       "    }\n",
       "</style>\n",
       "<table border=\"1\" class=\"dataframe\">\n",
       "  <thead>\n",
       "    <tr style=\"text-align: right;\">\n",
       "      <th></th>\n",
       "      <th>features</th>\n",
       "      <th>chi2</th>\n",
       "      <th>p-value</th>\n",
       "    </tr>\n",
       "  </thead>\n",
       "  <tbody>\n",
       "    <tr>\n",
       "      <th>0</th>\n",
       "      <td>Bedrooms</td>\n",
       "      <td>455.173106</td>\n",
       "      <td>9.999997e-01</td>\n",
       "    </tr>\n",
       "    <tr>\n",
       "      <th>1</th>\n",
       "      <td>Bathrooms</td>\n",
       "      <td>3070.700164</td>\n",
       "      <td>0.000000e+00</td>\n",
       "    </tr>\n",
       "    <tr>\n",
       "      <th>2</th>\n",
       "      <td>Area</td>\n",
       "      <td>156255.548115</td>\n",
       "      <td>0.000000e+00</td>\n",
       "    </tr>\n",
       "    <tr>\n",
       "      <th>3</th>\n",
       "      <td>Furnished</td>\n",
       "      <td>823.329655</td>\n",
       "      <td>2.934442e-08</td>\n",
       "    </tr>\n",
       "    <tr>\n",
       "      <th>4</th>\n",
       "      <td>Level</td>\n",
       "      <td>2508.675826</td>\n",
       "      <td>1.274700e-226</td>\n",
       "    </tr>\n",
       "    <tr>\n",
       "      <th>5</th>\n",
       "      <td>LabeledCompound</td>\n",
       "      <td>543.585624</td>\n",
       "      <td>9.808937e-01</td>\n",
       "    </tr>\n",
       "    <tr>\n",
       "      <th>6</th>\n",
       "      <td>Labeledlocation</td>\n",
       "      <td>8587.213357</td>\n",
       "      <td>0.000000e+00</td>\n",
       "    </tr>\n",
       "  </tbody>\n",
       "</table>\n",
       "</div>"
      ],
      "text/plain": [
       "          features           chi2        p-value\n",
       "0         Bedrooms     455.173106   9.999997e-01\n",
       "1        Bathrooms    3070.700164   0.000000e+00\n",
       "2             Area  156255.548115   0.000000e+00\n",
       "3        Furnished     823.329655   2.934442e-08\n",
       "4            Level    2508.675826  1.274700e-226\n",
       "5  LabeledCompound     543.585624   9.808937e-01\n",
       "6  Labeledlocation    8587.213357   0.000000e+00"
      ]
     },
     "execution_count": 183,
     "metadata": {},
     "output_type": "execute_result"
    }
   ],
   "source": [
    "from sklearn.feature_selection import chi2\n",
    "res = chi2(df_comp.loc[:, df_comp.columns[1:6].append(df_comp.columns[10:12])], df_comp['price'])\n",
    "features = pd.DataFrame({\n",
    "    'features': cols,\n",
    "    'chi2': res[0],\n",
    "    'p-value': res[1]\n",
    "})\n",
    "features"
   ]
  },
  {
   "cell_type": "markdown",
   "metadata": {},
   "source": [
    "#### >> Aminities"
   ]
  },
  {
   "cell_type": "code",
   "execution_count": 184,
   "metadata": {
    "scrolled": true
   },
   "outputs": [
    {
     "name": "stderr",
     "output_type": "stream",
     "text": [
      "G:\\Users\\SAAD\\anaconda3\\lib\\site-packages\\ipykernel_launcher.py:2: SettingWithCopyWarning: \n",
      "A value is trying to be set on a copy of a slice from a DataFrame.\n",
      "Try using .loc[row_indexer,col_indexer] = value instead\n",
      "\n",
      "See the caveats in the documentation: https://pandas.pydata.org/pandas-docs/stable/user_guide/indexing.html#returning-a-view-versus-a-copy\n",
      "  \n"
     ]
    },
    {
     "data": {
      "text/html": [
       "<div>\n",
       "<style scoped>\n",
       "    .dataframe tbody tr th:only-of-type {\n",
       "        vertical-align: middle;\n",
       "    }\n",
       "\n",
       "    .dataframe tbody tr th {\n",
       "        vertical-align: top;\n",
       "    }\n",
       "\n",
       "    .dataframe thead th {\n",
       "        text-align: right;\n",
       "    }\n",
       "</style>\n",
       "<table border=\"1\" class=\"dataframe\">\n",
       "  <thead>\n",
       "    <tr style=\"text-align: right;\">\n",
       "      <th></th>\n",
       "      <th>Amenities</th>\n",
       "      <th>Bedrooms</th>\n",
       "      <th>Bathrooms</th>\n",
       "      <th>Area</th>\n",
       "      <th>Furnished</th>\n",
       "      <th>Level</th>\n",
       "      <th>location</th>\n",
       "      <th>Compound</th>\n",
       "      <th>price</th>\n",
       "      <th>title</th>\n",
       "    </tr>\n",
       "  </thead>\n",
       "  <tbody>\n",
       "    <tr>\n",
       "      <th>0</th>\n",
       "      <td>[Balcony, Security, Covered Parking, Electrici...</td>\n",
       "      <td>3</td>\n",
       "      <td>2</td>\n",
       "      <td>135.0</td>\n",
       "      <td>0</td>\n",
       "      <td>5</td>\n",
       "      <td>Madinaty</td>\n",
       "      <td>Madinaty</td>\n",
       "      <td>1600000.0</td>\n",
       "      <td>مدينتي ١٣٥م بال B1 بحري قريبه جدا من الخدم...</td>\n",
       "    </tr>\n",
       "    <tr>\n",
       "      <th>2</th>\n",
       "      <td>[No]</td>\n",
       "      <td>3</td>\n",
       "      <td>3</td>\n",
       "      <td>180.0</td>\n",
       "      <td>0</td>\n",
       "      <td>0</td>\n",
       "      <td>Rehab City</td>\n",
       "      <td>Not in Compound</td>\n",
       "      <td>3100000.0</td>\n",
       "      <td>فرررصة برحاب ٢ للبيع شقة ١٨٠م ارضي بحديقة ...</td>\n",
       "    </tr>\n",
       "    <tr>\n",
       "      <th>3</th>\n",
       "      <td>[Balcony, Pets Allowed, Security, Electricity ...</td>\n",
       "      <td>2</td>\n",
       "      <td>1</td>\n",
       "      <td>107.0</td>\n",
       "      <td>0</td>\n",
       "      <td>6</td>\n",
       "      <td>Madinaty</td>\n",
       "      <td>Madinaty</td>\n",
       "      <td>1150000.0</td>\n",
       "      <td>شقة بمدينتي بال B1 نموذج 100 اقل من سعر ال...</td>\n",
       "    </tr>\n",
       "    <tr>\n",
       "      <th>4</th>\n",
       "      <td>[Balcony, Electricity Meter]</td>\n",
       "      <td>2</td>\n",
       "      <td>1</td>\n",
       "      <td>80.0</td>\n",
       "      <td>0</td>\n",
       "      <td>6</td>\n",
       "      <td>Marg</td>\n",
       "      <td>Not in Compound</td>\n",
       "      <td>185000.0</td>\n",
       "      <td>شقة تشطيب فاخر للبيع</td>\n",
       "    </tr>\n",
       "    <tr>\n",
       "      <th>6</th>\n",
       "      <td>[Electricity Meter, Water Meter, Natural Gas]</td>\n",
       "      <td>3</td>\n",
       "      <td>1</td>\n",
       "      <td>85.0</td>\n",
       "      <td>0</td>\n",
       "      <td>6</td>\n",
       "      <td>Zahraa Al Maadi</td>\n",
       "      <td>Not in Compound</td>\n",
       "      <td>290000.0</td>\n",
       "      <td>شقة للبيع العمارات مصر العليا واجهة بحرية ...</td>\n",
       "    </tr>\n",
       "  </tbody>\n",
       "</table>\n",
       "</div>"
      ],
      "text/plain": [
       "                                           Amenities  Bedrooms  Bathrooms  \\\n",
       "0  [Balcony, Security, Covered Parking, Electrici...         3          2   \n",
       "2                                               [No]         3          3   \n",
       "3  [Balcony, Pets Allowed, Security, Electricity ...         2          1   \n",
       "4                       [Balcony, Electricity Meter]         2          1   \n",
       "6      [Electricity Meter, Water Meter, Natural Gas]         3          1   \n",
       "\n",
       "    Area  Furnished  Level         location         Compound      price  \\\n",
       "0  135.0          0      5         Madinaty         Madinaty  1600000.0   \n",
       "2  180.0          0      0       Rehab City  Not in Compound  3100000.0   \n",
       "3  107.0          0      6         Madinaty         Madinaty  1150000.0   \n",
       "4   80.0          0      6             Marg  Not in Compound   185000.0   \n",
       "6   85.0          0      6  Zahraa Al Maadi  Not in Compound   290000.0   \n",
       "\n",
       "                                           title  \n",
       "0  مدينتي ١٣٥م بال B1 بحري قريبه جدا من الخدم...  \n",
       "2  فرررصة برحاب ٢ للبيع شقة ١٨٠م ارضي بحديقة ...  \n",
       "3  شقة بمدينتي بال B1 نموذج 100 اقل من سعر ال...  \n",
       "4                           شقة تشطيب فاخر للبيع  \n",
       "6  شقة للبيع العمارات مصر العليا واجهة بحرية ...  "
      ]
     },
     "execution_count": 184,
     "metadata": {},
     "output_type": "execute_result"
    }
   ],
   "source": [
    "# convert comma separated aminities into lists\n",
    "df_comp_loc['Amenities']=df_comp_loc.Amenities.apply(lambda x: x.split(','))\n",
    "df_comp_loc.head()"
   ]
  },
  {
   "cell_type": "code",
   "execution_count": 185,
   "metadata": {},
   "outputs": [
    {
     "data": {
      "text/plain": [
       "(18338, 10)"
      ]
     },
     "execution_count": 185,
     "metadata": {},
     "output_type": "execute_result"
    }
   ],
   "source": [
    "df_comp_loc.shape"
   ]
  },
  {
   "cell_type": "code",
   "execution_count": 186,
   "metadata": {},
   "outputs": [
    {
     "name": "stdout",
     "output_type": "stream",
     "text": [
      "Index(['Amenities', 'Bedrooms', 'Bathrooms', 'Area', 'Furnished', 'Level',\n",
      "       'location', 'Compound', 'price', 'title', 'Balcony',\n",
      "       'Built in Kitchen Appliances', 'Central A/C & heating',\n",
      "       'Covered Parking', 'Electricity Meter', 'Elevator', 'Landline',\n",
      "       'Maids Room', 'Natural Gas', 'No', 'Pets Allowed', 'Pool',\n",
      "       'Private Garden', 'Security', 'Water Meter'],\n",
      "      dtype='object')\n"
     ]
    },
    {
     "data": {
      "text/html": [
       "<div>\n",
       "<style scoped>\n",
       "    .dataframe tbody tr th:only-of-type {\n",
       "        vertical-align: middle;\n",
       "    }\n",
       "\n",
       "    .dataframe tbody tr th {\n",
       "        vertical-align: top;\n",
       "    }\n",
       "\n",
       "    .dataframe thead th {\n",
       "        text-align: right;\n",
       "    }\n",
       "</style>\n",
       "<table border=\"1\" class=\"dataframe\">\n",
       "  <thead>\n",
       "    <tr style=\"text-align: right;\">\n",
       "      <th></th>\n",
       "      <th>price</th>\n",
       "      <th>title</th>\n",
       "      <th>Balcony</th>\n",
       "      <th>Built in Kitchen Appliances</th>\n",
       "      <th>Central A/C &amp; heating</th>\n",
       "      <th>Covered Parking</th>\n",
       "      <th>Electricity Meter</th>\n",
       "      <th>Elevator</th>\n",
       "      <th>Landline</th>\n",
       "      <th>Maids Room</th>\n",
       "      <th>Natural Gas</th>\n",
       "      <th>No</th>\n",
       "      <th>Pets Allowed</th>\n",
       "      <th>Pool</th>\n",
       "      <th>Private Garden</th>\n",
       "      <th>Security</th>\n",
       "      <th>Water Meter</th>\n",
       "    </tr>\n",
       "  </thead>\n",
       "  <tbody>\n",
       "    <tr>\n",
       "      <th>0</th>\n",
       "      <td>1600000.0</td>\n",
       "      <td>مدينتي ١٣٥م بال B1 بحري قريبه جدا من الخدم...</td>\n",
       "      <td>1</td>\n",
       "      <td>0</td>\n",
       "      <td>0</td>\n",
       "      <td>1</td>\n",
       "      <td>1</td>\n",
       "      <td>1</td>\n",
       "      <td>1</td>\n",
       "      <td>0</td>\n",
       "      <td>0</td>\n",
       "      <td>0</td>\n",
       "      <td>0</td>\n",
       "      <td>0</td>\n",
       "      <td>0</td>\n",
       "      <td>1</td>\n",
       "      <td>1</td>\n",
       "    </tr>\n",
       "    <tr>\n",
       "      <th>2</th>\n",
       "      <td>3100000.0</td>\n",
       "      <td>فرررصة برحاب ٢ للبيع شقة ١٨٠م ارضي بحديقة ...</td>\n",
       "      <td>0</td>\n",
       "      <td>0</td>\n",
       "      <td>0</td>\n",
       "      <td>0</td>\n",
       "      <td>0</td>\n",
       "      <td>0</td>\n",
       "      <td>0</td>\n",
       "      <td>0</td>\n",
       "      <td>0</td>\n",
       "      <td>1</td>\n",
       "      <td>0</td>\n",
       "      <td>0</td>\n",
       "      <td>0</td>\n",
       "      <td>0</td>\n",
       "      <td>0</td>\n",
       "    </tr>\n",
       "    <tr>\n",
       "      <th>3</th>\n",
       "      <td>1150000.0</td>\n",
       "      <td>شقة بمدينتي بال B1 نموذج 100 اقل من سعر ال...</td>\n",
       "      <td>1</td>\n",
       "      <td>0</td>\n",
       "      <td>0</td>\n",
       "      <td>0</td>\n",
       "      <td>1</td>\n",
       "      <td>1</td>\n",
       "      <td>0</td>\n",
       "      <td>0</td>\n",
       "      <td>0</td>\n",
       "      <td>0</td>\n",
       "      <td>1</td>\n",
       "      <td>0</td>\n",
       "      <td>0</td>\n",
       "      <td>1</td>\n",
       "      <td>1</td>\n",
       "    </tr>\n",
       "    <tr>\n",
       "      <th>4</th>\n",
       "      <td>185000.0</td>\n",
       "      <td>شقة تشطيب فاخر للبيع</td>\n",
       "      <td>1</td>\n",
       "      <td>0</td>\n",
       "      <td>0</td>\n",
       "      <td>0</td>\n",
       "      <td>1</td>\n",
       "      <td>0</td>\n",
       "      <td>0</td>\n",
       "      <td>0</td>\n",
       "      <td>0</td>\n",
       "      <td>0</td>\n",
       "      <td>0</td>\n",
       "      <td>0</td>\n",
       "      <td>0</td>\n",
       "      <td>0</td>\n",
       "      <td>0</td>\n",
       "    </tr>\n",
       "    <tr>\n",
       "      <th>6</th>\n",
       "      <td>290000.0</td>\n",
       "      <td>شقة للبيع العمارات مصر العليا واجهة بحرية ...</td>\n",
       "      <td>0</td>\n",
       "      <td>0</td>\n",
       "      <td>0</td>\n",
       "      <td>0</td>\n",
       "      <td>1</td>\n",
       "      <td>0</td>\n",
       "      <td>0</td>\n",
       "      <td>0</td>\n",
       "      <td>1</td>\n",
       "      <td>0</td>\n",
       "      <td>0</td>\n",
       "      <td>0</td>\n",
       "      <td>0</td>\n",
       "      <td>0</td>\n",
       "      <td>1</td>\n",
       "    </tr>\n",
       "  </tbody>\n",
       "</table>\n",
       "</div>"
      ],
      "text/plain": [
       "       price                                          title  Balcony  \\\n",
       "0  1600000.0  مدينتي ١٣٥م بال B1 بحري قريبه جدا من الخدم...        1   \n",
       "2  3100000.0  فرررصة برحاب ٢ للبيع شقة ١٨٠م ارضي بحديقة ...        0   \n",
       "3  1150000.0  شقة بمدينتي بال B1 نموذج 100 اقل من سعر ال...        1   \n",
       "4   185000.0                           شقة تشطيب فاخر للبيع        1   \n",
       "6   290000.0  شقة للبيع العمارات مصر العليا واجهة بحرية ...        0   \n",
       "\n",
       "   Built in Kitchen Appliances  Central A/C & heating  Covered Parking  \\\n",
       "0                            0                      0                1   \n",
       "2                            0                      0                0   \n",
       "3                            0                      0                0   \n",
       "4                            0                      0                0   \n",
       "6                            0                      0                0   \n",
       "\n",
       "   Electricity Meter  Elevator  Landline  Maids Room  Natural Gas  No  \\\n",
       "0                  1         1         1           0            0   0   \n",
       "2                  0         0         0           0            0   1   \n",
       "3                  1         1         0           0            0   0   \n",
       "4                  1         0         0           0            0   0   \n",
       "6                  1         0         0           0            1   0   \n",
       "\n",
       "   Pets Allowed  Pool  Private Garden  Security  Water Meter  \n",
       "0             0     0               0         1            1  \n",
       "2             0     0               0         0            0  \n",
       "3             1     0               0         1            1  \n",
       "4             0     0               0         0            0  \n",
       "6             0     0               0         0            1  "
      ]
     },
     "execution_count": 186,
     "metadata": {},
     "output_type": "execute_result"
    }
   ],
   "source": [
    "mlb = MultiLabelBinarizer()\n",
    "multiLabelBinarizer_df = df_comp_loc.join(pd.DataFrame(mlb.fit_transform(df_comp_loc['Amenities']),\n",
    "                          columns=mlb.classes_,\n",
    "                          index=df_comp_loc.index))\n",
    "print(multiLabelBinarizer_df.columns)\n",
    "multiLabelBinarizer_df.iloc[:,8:].head()"
   ]
  },
  {
   "cell_type": "code",
   "execution_count": 187,
   "metadata": {},
   "outputs": [
    {
     "data": {
      "image/png": "[encoded data removed]",
      "text/plain": [
       "<Figure size 864x576 with 2 Axes>"
      ]
     },
     "metadata": {
      "needs_background": "light"
     },
     "output_type": "display_data"
    }
   ],
   "source": [
    "# check top features\n",
    "corr=multiLabelBinarizer_df.iloc[:,8:].corr()\n",
    "top_feature = corr.index[abs(corr['price']>=0.2)]\n",
    "plt.subplots(figsize=(12, 8))\n",
    "top_corr = multiLabelBinarizer_df[top_feature].corr()\n",
    "sns.heatmap(top_corr, annot=True)\n",
    "plt.show()"
   ]
  },
  {
   "cell_type": "code",
   "execution_count": 188,
   "metadata": {},
   "outputs": [
    {
     "data": {
      "text/plain": [
       "Index(['Amenities', 'Area', 'Balcony', 'Bathrooms', 'Bedrooms',\n",
       "       'Built in Kitchen Appliances', 'Central A/C & heating', 'Compound',\n",
       "       'Electricity Meter', 'Furnished', 'Landline', 'Level', 'Natural Gas',\n",
       "       'No', 'Pool', 'Private Garden', 'Water Meter', 'location', 'title'],\n",
       "      dtype='object')"
      ]
     },
     "execution_count": 188,
     "metadata": {},
     "output_type": "execute_result"
    }
   ],
   "source": [
    "multiLabelBinarizer_df[multiLabelBinarizer_df.columns.difference(list(top_feature))].columns"
   ]
  },
  {
   "cell_type": "code",
   "execution_count": 189,
   "metadata": {},
   "outputs": [
    {
     "data": {
      "text/html": [
       "<div>\n",
       "<style scoped>\n",
       "    .dataframe tbody tr th:only-of-type {\n",
       "        vertical-align: middle;\n",
       "    }\n",
       "\n",
       "    .dataframe tbody tr th {\n",
       "        vertical-align: top;\n",
       "    }\n",
       "\n",
       "    .dataframe thead th {\n",
       "        text-align: right;\n",
       "    }\n",
       "</style>\n",
       "<table border=\"1\" class=\"dataframe\">\n",
       "  <thead>\n",
       "    <tr style=\"text-align: right;\">\n",
       "      <th></th>\n",
       "      <th>Amenities</th>\n",
       "      <th>Bedrooms</th>\n",
       "      <th>Bathrooms</th>\n",
       "      <th>Area</th>\n",
       "      <th>Furnished</th>\n",
       "      <th>Level</th>\n",
       "      <th>location</th>\n",
       "      <th>Compound</th>\n",
       "      <th>price</th>\n",
       "      <th>title</th>\n",
       "    </tr>\n",
       "  </thead>\n",
       "  <tbody>\n",
       "    <tr>\n",
       "      <th>0</th>\n",
       "      <td>[Balcony, Security, Covered Parking, Electrici...</td>\n",
       "      <td>3</td>\n",
       "      <td>2</td>\n",
       "      <td>135.0</td>\n",
       "      <td>0</td>\n",
       "      <td>5</td>\n",
       "      <td>Madinaty</td>\n",
       "      <td>Madinaty</td>\n",
       "      <td>1600000.0</td>\n",
       "      <td>مدينتي ١٣٥م بال B1 بحري قريبه جدا من الخدم...</td>\n",
       "    </tr>\n",
       "  </tbody>\n",
       "</table>\n",
       "</div>"
      ],
      "text/plain": [
       "                                           Amenities  Bedrooms  Bathrooms  \\\n",
       "0  [Balcony, Security, Covered Parking, Electrici...         3          2   \n",
       "\n",
       "    Area  Furnished  Level  location  Compound      price  \\\n",
       "0  135.0          0      5  Madinaty  Madinaty  1600000.0   \n",
       "\n",
       "                                           title  \n",
       "0  مدينتي ١٣٥م بال B1 بحري قريبه جدا من الخدم...  "
      ]
     },
     "execution_count": 189,
     "metadata": {},
     "output_type": "execute_result"
    }
   ],
   "source": [
    "df_comp_loc_amnt=df_comp_loc.copy().reset_index(drop=True)\n",
    "df_comp_loc_amnt.head(1)"
   ]
  },
  {
   "cell_type": "code",
   "execution_count": 190,
   "metadata": {},
   "outputs": [
    {
     "name": "stdout",
     "output_type": "stream",
     "text": [
      "0 ['Balcony', 'Security', 'Covered Parking', 'Electricity Meter', 'Water Meter', 'Landline', 'Elevator']\n",
      "['Security', 'Covered Parking', 'Elevator']\n",
      "--------------------------------------\n",
      "1 ['No']\n",
      "[]\n",
      "--------------------------------------\n",
      "2 ['Balcony', 'Pets Allowed', 'Security', 'Electricity Meter', 'Water Meter', 'Elevator']\n",
      "['Security', 'Pets Allowed', 'Elevator']\n",
      "--------------------------------------\n",
      "3 ['Balcony', 'Electricity Meter']\n",
      "[]\n",
      "--------------------------------------\n"
     ]
    }
   ],
   "source": [
    "# test the not correlated aminities functionality\n",
    "not_correlated_features=list(multiLabelBinarizer_df[multiLabelBinarizer_df.columns.difference(list(top_feature))].columns)\n",
    "for index,aminities in enumerate(df_comp_loc_amnt.Amenities[:4]):\n",
    "    print(index,aminities)\n",
    "    print(list(set(aminities) - set(not_correlated_features)))\n",
    "    print(\"--------------------------------------\")\n",
    "    "
   ]
  },
  {
   "cell_type": "code",
   "execution_count": 191,
   "metadata": {},
   "outputs": [],
   "source": [
    "def RemoveNotCorrelated(aminities):\n",
    "    correlated_list=list(set(aminities) - set(not_correlated_features))\n",
    "    return correlated_list"
   ]
  },
  {
   "cell_type": "code",
   "execution_count": 192,
   "metadata": {
    "scrolled": true
   },
   "outputs": [
    {
     "data": {
      "text/html": [
       "<div>\n",
       "<style scoped>\n",
       "    .dataframe tbody tr th:only-of-type {\n",
       "        vertical-align: middle;\n",
       "    }\n",
       "\n",
       "    .dataframe tbody tr th {\n",
       "        vertical-align: top;\n",
       "    }\n",
       "\n",
       "    .dataframe thead th {\n",
       "        text-align: right;\n",
       "    }\n",
       "</style>\n",
       "<table border=\"1\" class=\"dataframe\">\n",
       "  <thead>\n",
       "    <tr style=\"text-align: right;\">\n",
       "      <th></th>\n",
       "      <th>Amenities</th>\n",
       "      <th>Bedrooms</th>\n",
       "      <th>Bathrooms</th>\n",
       "      <th>Area</th>\n",
       "      <th>Furnished</th>\n",
       "      <th>Level</th>\n",
       "      <th>location</th>\n",
       "      <th>Compound</th>\n",
       "      <th>price</th>\n",
       "      <th>title</th>\n",
       "    </tr>\n",
       "  </thead>\n",
       "  <tbody>\n",
       "    <tr>\n",
       "      <th>0</th>\n",
       "      <td>[Security, Covered Parking, Elevator]</td>\n",
       "      <td>3</td>\n",
       "      <td>2</td>\n",
       "      <td>135.0</td>\n",
       "      <td>0</td>\n",
       "      <td>5</td>\n",
       "      <td>Madinaty</td>\n",
       "      <td>Madinaty</td>\n",
       "      <td>1600000.0</td>\n",
       "      <td>مدينتي ١٣٥م بال B1 بحري قريبه جدا من الخدم...</td>\n",
       "    </tr>\n",
       "    <tr>\n",
       "      <th>1</th>\n",
       "      <td>[]</td>\n",
       "      <td>3</td>\n",
       "      <td>3</td>\n",
       "      <td>180.0</td>\n",
       "      <td>0</td>\n",
       "      <td>0</td>\n",
       "      <td>Rehab City</td>\n",
       "      <td>Not in Compound</td>\n",
       "      <td>3100000.0</td>\n",
       "      <td>فرررصة برحاب ٢ للبيع شقة ١٨٠م ارضي بحديقة ...</td>\n",
       "    </tr>\n",
       "    <tr>\n",
       "      <th>2</th>\n",
       "      <td>[Security, Pets Allowed, Elevator]</td>\n",
       "      <td>2</td>\n",
       "      <td>1</td>\n",
       "      <td>107.0</td>\n",
       "      <td>0</td>\n",
       "      <td>6</td>\n",
       "      <td>Madinaty</td>\n",
       "      <td>Madinaty</td>\n",
       "      <td>1150000.0</td>\n",
       "      <td>شقة بمدينتي بال B1 نموذج 100 اقل من سعر ال...</td>\n",
       "    </tr>\n",
       "    <tr>\n",
       "      <th>3</th>\n",
       "      <td>[]</td>\n",
       "      <td>2</td>\n",
       "      <td>1</td>\n",
       "      <td>80.0</td>\n",
       "      <td>0</td>\n",
       "      <td>6</td>\n",
       "      <td>Marg</td>\n",
       "      <td>Not in Compound</td>\n",
       "      <td>185000.0</td>\n",
       "      <td>شقة تشطيب فاخر للبيع</td>\n",
       "    </tr>\n",
       "    <tr>\n",
       "      <th>4</th>\n",
       "      <td>[]</td>\n",
       "      <td>3</td>\n",
       "      <td>1</td>\n",
       "      <td>85.0</td>\n",
       "      <td>0</td>\n",
       "      <td>6</td>\n",
       "      <td>Zahraa Al Maadi</td>\n",
       "      <td>Not in Compound</td>\n",
       "      <td>290000.0</td>\n",
       "      <td>شقة للبيع العمارات مصر العليا واجهة بحرية ...</td>\n",
       "    </tr>\n",
       "  </tbody>\n",
       "</table>\n",
       "</div>"
      ],
      "text/plain": [
       "                               Amenities  Bedrooms  Bathrooms   Area  \\\n",
       "0  [Security, Covered Parking, Elevator]         3          2  135.0   \n",
       "1                                     []         3          3  180.0   \n",
       "2     [Security, Pets Allowed, Elevator]         2          1  107.0   \n",
       "3                                     []         2          1   80.0   \n",
       "4                                     []         3          1   85.0   \n",
       "\n",
       "   Furnished  Level         location         Compound      price  \\\n",
       "0          0      5         Madinaty         Madinaty  1600000.0   \n",
       "1          0      0       Rehab City  Not in Compound  3100000.0   \n",
       "2          0      6         Madinaty         Madinaty  1150000.0   \n",
       "3          0      6             Marg  Not in Compound   185000.0   \n",
       "4          0      6  Zahraa Al Maadi  Not in Compound   290000.0   \n",
       "\n",
       "                                           title  \n",
       "0  مدينتي ١٣٥م بال B1 بحري قريبه جدا من الخدم...  \n",
       "1  فرررصة برحاب ٢ للبيع شقة ١٨٠م ارضي بحديقة ...  \n",
       "2  شقة بمدينتي بال B1 نموذج 100 اقل من سعر ال...  \n",
       "3                           شقة تشطيب فاخر للبيع  \n",
       "4  شقة للبيع العمارات مصر العليا واجهة بحرية ...  "
      ]
     },
     "execution_count": 192,
     "metadata": {},
     "output_type": "execute_result"
    }
   ],
   "source": [
    "# remove the not correlated aminities\n",
    "not_correlated_features=list(multiLabelBinarizer_df[multiLabelBinarizer_df.columns.difference(list(top_feature))].columns)\n",
    "df_comp_loc_amnt.Amenities=df_comp_loc_amnt.Amenities.apply(lambda x: RemoveNotCorrelated(x))\n",
    "df_comp_loc_amnt.head()"
   ]
  },
  {
   "cell_type": "code",
   "execution_count": 193,
   "metadata": {},
   "outputs": [
    {
     "name": "stdout",
     "output_type": "stream",
     "text": [
      "[['Security', 'Covered Parking', 'Elevator'], [], ['Security', 'Pets Allowed', 'Elevator'], []]\n"
     ]
    }
   ],
   "source": [
    "#test on CountVectorizer to be used in pipeline\n",
    "vectorizer=CountVectorizer(analyzer=set)\n",
    "X2=vectorizer.fit_transform(df_comp_loc_amnt['Amenities'])\n",
    "print(list(df_comp_loc_amnt.iloc[0:4,0].values))"
   ]
  },
  {
   "cell_type": "code",
   "execution_count": 194,
   "metadata": {},
   "outputs": [
    {
     "name": "stdout",
     "output_type": "stream",
     "text": [
      "(18338, 5) (18338, 10)\n"
     ]
    },
    {
     "data": {
      "text/html": [
       "<div>\n",
       "<style scoped>\n",
       "    .dataframe tbody tr th:only-of-type {\n",
       "        vertical-align: middle;\n",
       "    }\n",
       "\n",
       "    .dataframe tbody tr th {\n",
       "        vertical-align: top;\n",
       "    }\n",
       "\n",
       "    .dataframe thead th {\n",
       "        text-align: right;\n",
       "    }\n",
       "</style>\n",
       "<table border=\"1\" class=\"dataframe\">\n",
       "  <thead>\n",
       "    <tr style=\"text-align: right;\">\n",
       "      <th></th>\n",
       "      <th>Covered Parking</th>\n",
       "      <th>Elevator</th>\n",
       "      <th>Maids Room</th>\n",
       "      <th>Pets Allowed</th>\n",
       "      <th>Security</th>\n",
       "    </tr>\n",
       "  </thead>\n",
       "  <tbody>\n",
       "    <tr>\n",
       "      <th>0</th>\n",
       "      <td>1</td>\n",
       "      <td>1</td>\n",
       "      <td>0</td>\n",
       "      <td>0</td>\n",
       "      <td>1</td>\n",
       "    </tr>\n",
       "    <tr>\n",
       "      <th>1</th>\n",
       "      <td>0</td>\n",
       "      <td>0</td>\n",
       "      <td>0</td>\n",
       "      <td>0</td>\n",
       "      <td>0</td>\n",
       "    </tr>\n",
       "    <tr>\n",
       "      <th>2</th>\n",
       "      <td>0</td>\n",
       "      <td>1</td>\n",
       "      <td>0</td>\n",
       "      <td>1</td>\n",
       "      <td>1</td>\n",
       "    </tr>\n",
       "    <tr>\n",
       "      <th>3</th>\n",
       "      <td>0</td>\n",
       "      <td>0</td>\n",
       "      <td>0</td>\n",
       "      <td>0</td>\n",
       "      <td>0</td>\n",
       "    </tr>\n",
       "  </tbody>\n",
       "</table>\n",
       "</div>"
      ],
      "text/plain": [
       "   Covered Parking  Elevator  Maids Room  Pets Allowed  Security\n",
       "0                1         1           0             0         1\n",
       "1                0         0           0             0         0\n",
       "2                0         1           0             1         1\n",
       "3                0         0           0             0         0"
      ]
     },
     "execution_count": 194,
     "metadata": {},
     "output_type": "execute_result"
    }
   ],
   "source": [
    "vectorized_df=pd.DataFrame(X2.toarray(),columns=vectorizer.get_feature_names())\n",
    "print(vectorized_df.shape,df_comp_loc_amnt.shape)\n",
    "vectorized_df.head(4)"
   ]
  },
  {
   "cell_type": "code",
   "execution_count": 195,
   "metadata": {},
   "outputs": [],
   "source": [
    "df_comp_loc_amnt.to_csv('olx_data_cleaned_for_model.csv')"
   ]
  },
  {
   "cell_type": "markdown",
   "metadata": {},
   "source": [
    "# Prediction"
   ]
  },
  {
   "cell_type": "code",
   "execution_count": 196,
   "metadata": {},
   "outputs": [
    {
     "data": {
      "text/plain": [
       "(Index(['Area', 'Bathrooms', 'Bedrooms', 'Furnished', 'Level'], dtype='object'),\n",
       " Index(['Amenities', 'Area', 'Bathrooms', 'Bedrooms', 'Compound', 'Furnished',\n",
       "        'Level', 'location'],\n",
       "       dtype='object'))"
      ]
     },
     "execution_count": 196,
     "metadata": {},
     "output_type": "execute_result"
    }
   ],
   "source": [
    "df_numerical=df_comp_loc_amnt.loc[:,df_comp_loc_amnt.columns.difference(['Amenities', 'Compound','location','title','price'])]\n",
    "df_features=df_comp_loc_amnt.loc[:,df_comp_loc_amnt.columns.difference(['price','title'])]\n",
    "df_target=df_comp_loc_amnt.loc[:,'price']\n",
    "df_numerical.columns,df_features.columns"
   ]
  },
  {
   "cell_type": "code",
   "execution_count": 197,
   "metadata": {},
   "outputs": [],
   "source": [
    "numeric_features = list(df_numerical.columns)\n",
    "categorical_features = ['location', 'Compound']\n",
    "amanities_feature='Amenities'\n",
    "numeric_transformer = Pipeline(steps=[\n",
    "    ('scaler', preprocessing.MinMaxScaler())])\n",
    "categorical_transformer = Pipeline(steps=[\n",
    "    ('onehot', OneHotEncoder(handle_unknown='ignore')),\n",
    "])\n",
    "countVectorizer_transformer = Pipeline(steps=[\n",
    "    ('countVectorizer',CountVectorizer(analyzer=set))\n",
    "])\n",
    "preprocessor = ColumnTransformer(\n",
    "    transformers=[\n",
    "        ('multi_label', countVectorizer_transformer, amanities_feature),\n",
    "        ('num', numeric_transformer, numeric_features),\n",
    "        ('cat', categorical_transformer, categorical_features)\n",
    "        ])"
   ]
  },
  {
   "cell_type": "code",
   "execution_count": 198,
   "metadata": {},
   "outputs": [
    {
     "name": "stdout",
     "output_type": "stream",
     "text": [
      "training set:  (16504, 8) (16504,)\n",
      "test set:  (1834, 8) (1834,)\n"
     ]
    },
    {
     "data": {
      "text/html": [
       "<div>\n",
       "<style scoped>\n",
       "    .dataframe tbody tr th:only-of-type {\n",
       "        vertical-align: middle;\n",
       "    }\n",
       "\n",
       "    .dataframe tbody tr th {\n",
       "        vertical-align: top;\n",
       "    }\n",
       "\n",
       "    .dataframe thead th {\n",
       "        text-align: right;\n",
       "    }\n",
       "</style>\n",
       "<table border=\"1\" class=\"dataframe\">\n",
       "  <thead>\n",
       "    <tr style=\"text-align: right;\">\n",
       "      <th></th>\n",
       "      <th>Amenities</th>\n",
       "      <th>Area</th>\n",
       "      <th>Bathrooms</th>\n",
       "      <th>Bedrooms</th>\n",
       "      <th>Compound</th>\n",
       "      <th>Furnished</th>\n",
       "      <th>Level</th>\n",
       "      <th>location</th>\n",
       "    </tr>\n",
       "  </thead>\n",
       "  <tbody>\n",
       "    <tr>\n",
       "      <th>9895</th>\n",
       "      <td>[Elevator]</td>\n",
       "      <td>155.0</td>\n",
       "      <td>2</td>\n",
       "      <td>3</td>\n",
       "      <td>Not in Compound</td>\n",
       "      <td>0</td>\n",
       "      <td>8</td>\n",
       "      <td>Nasr City</td>\n",
       "    </tr>\n",
       "    <tr>\n",
       "      <th>3855</th>\n",
       "      <td>[Security, Covered Parking, Pets Allowed, Elev...</td>\n",
       "      <td>96.0</td>\n",
       "      <td>2</td>\n",
       "      <td>2</td>\n",
       "      <td>Madinaty</td>\n",
       "      <td>0</td>\n",
       "      <td>4</td>\n",
       "      <td>Madinaty</td>\n",
       "    </tr>\n",
       "  </tbody>\n",
       "</table>\n",
       "</div>"
      ],
      "text/plain": [
       "                                              Amenities   Area  Bathrooms  \\\n",
       "9895                                         [Elevator]  155.0          2   \n",
       "3855  [Security, Covered Parking, Pets Allowed, Elev...   96.0          2   \n",
       "\n",
       "      Bedrooms         Compound  Furnished  Level   location  \n",
       "9895         3  Not in Compound          0      8  Nasr City  \n",
       "3855         2         Madinaty          0      4   Madinaty  "
      ]
     },
     "execution_count": 198,
     "metadata": {},
     "output_type": "execute_result"
    }
   ],
   "source": [
    "#split data to train/test\n",
    "X=df_features\n",
    "Y=df_target\n",
    "X_train,X_test,y_train,y_test=train_test_split(X,Y,test_size=0.1,random_state=40)\n",
    "print('training set: ',X_train.shape,y_train.shape)\n",
    "print('test set: ',X_test.shape,y_test.shape)\n",
    "X_train.head(2)"
   ]
  },
  {
   "cell_type": "code",
   "execution_count": 200,
   "metadata": {},
   "outputs": [],
   "source": [
    "def train_model(model):\n",
    "    global y_hat\n",
    "    pipeline = Pipeline(steps=[('preprocessor',preprocessor),('model', model)])\n",
    "    pipeline.fit(X_train,y_train)\n",
    "    y_hat=pipeline.predict(X_test)\n",
    "    y_hat_train=pipeline.predict(X_train)\n",
    "    print('R square:{:0.2f} '.format(r2_score(y_test,y_hat))) \n",
    "    print('Train R square:{:0.2f} '.format(r2_score(y_train,y_hat_train))) \n",
    "    return pipeline"
   ]
  },
  {
   "cell_type": "code",
   "execution_count": null,
   "metadata": {},
   "outputs": [],
   "source": []
  },
  {
   "cell_type": "markdown",
   "metadata": {},
   "source": [
    "### 1. Linear Regression"
   ]
  },
  {
   "cell_type": "code",
   "execution_count": 201,
   "metadata": {},
   "outputs": [
    {
     "name": "stdout",
     "output_type": "stream",
     "text": [
      "R square:0.77 \n",
      "Train R square:0.76 \n"
     ]
    }
   ],
   "source": [
    "# train the linear regression model\n",
    "reg = linear_model.LinearRegression()\n",
    "reg=train_model(reg)\n",
    "pickle.dump(reg, open('Reg_model.pkl','wb'))"
   ]
  },
  {
   "cell_type": "code",
   "execution_count": 82,
   "metadata": {},
   "outputs": [
    {
     "name": "stdout",
     "output_type": "stream",
     "text": [
      "Accuracy: 0.76 (+/- 0.05)\n"
     ]
    }
   ],
   "source": [
    "# cross validation\n",
    "scores = cross_val_score(reg, X, Y, cv=50)\n",
    "print(\"Accuracy: %0.2f (+/- %0.2f)\" % (scores.mean(), scores.std() * 2))"
   ]
  },
  {
   "cell_type": "code",
   "execution_count": 83,
   "metadata": {},
   "outputs": [
    {
     "data": {
      "text/plain": [
       "array([0.78302134, 0.80208215, 0.72400069, 0.78392963, 0.70653132,\n",
       "       0.76118425, 0.74851754, 0.7735098 , 0.76592166, 0.74597688,\n",
       "       0.73854941, 0.70278839, 0.7580151 , 0.76557307, 0.77143127,\n",
       "       0.74016423, 0.73254353, 0.72596468, 0.78465726, 0.7726919 ,\n",
       "       0.79424147, 0.76309225, 0.75057759, 0.75981987, 0.79043032,\n",
       "       0.76948662, 0.76637412, 0.77856916, 0.7835588 , 0.73723627,\n",
       "       0.72235228, 0.77405513, 0.77189991, 0.721679  , 0.76181616,\n",
       "       0.76003177, 0.72527867, 0.77690859, 0.71693801, 0.78369264,\n",
       "       0.80080601, 0.77112919, 0.77319504, 0.79375228, 0.71298526,\n",
       "       0.72687507, 0.71276379, 0.75322201, 0.77368824, 0.74957306])"
      ]
     },
     "execution_count": 83,
     "metadata": {},
     "output_type": "execute_result"
    }
   ],
   "source": [
    "scores"
   ]
  },
  {
   "cell_type": "markdown",
   "metadata": {},
   "source": [
    "##### Linear Model regularization (Lasso and Ridge Regression) to prevent overfitting"
   ]
  },
  {
   "cell_type": "code",
   "execution_count": 202,
   "metadata": {},
   "outputs": [
    {
     "name": "stdout",
     "output_type": "stream",
     "text": [
      "R square:0.77 \n",
      "Train R square:0.76 \n",
      "R square:0.77 \n",
      "Train R square:0.76 \n"
     ]
    }
   ],
   "source": [
    "clf_ridge = linear_model.Ridge(alpha=.09)\n",
    "clf_Lasso = linear_model.Ridge(alpha=1)\n",
    "train_model(clf_ridge)\n",
    "train_model(clf_Lasso);"
   ]
  },
  {
   "cell_type": "markdown",
   "metadata": {},
   "source": [
    "### 2. KNN"
   ]
  },
  {
   "cell_type": "code",
   "execution_count": 203,
   "metadata": {},
   "outputs": [
    {
     "name": "stdout",
     "output_type": "stream",
     "text": [
      "R square:0.72 \n",
      "Train R square:0.76 \n"
     ]
    }
   ],
   "source": [
    "neigh = KNeighborsRegressor(n_neighbors=14)\n",
    "neigh=train_model(neigh);\n",
    "# serialize the model \n",
    "pickle.dump(neigh, open('KNN_model.pkl','wb'))"
   ]
  },
  {
   "cell_type": "code",
   "execution_count": null,
   "metadata": {},
   "outputs": [],
   "source": [
    "# cross validation\n",
    "scores = cross_val_score(neigh, X, Y, cv=10)\n",
    "print(\"Accuracy: %0.2f (+/- %0.2f)\" % (scores.mean(), scores.std() * 2))"
   ]
  },
  {
   "cell_type": "code",
   "execution_count": 87,
   "metadata": {},
   "outputs": [
    {
     "data": {
      "text/plain": [
       "array([0.76639545, 0.78312428, 0.77148067, 0.74562181, 0.77254287,\n",
       "       0.76573818, 0.75555871, 0.74955437, 0.75920266, 0.73994762])"
      ]
     },
     "execution_count": 87,
     "metadata": {},
     "output_type": "execute_result"
    }
   ],
   "source": [
    "scores"
   ]
  },
  {
   "cell_type": "markdown",
   "metadata": {},
   "source": [
    "### 3. GBoost"
   ]
  },
  {
   "cell_type": "code",
   "execution_count": 88,
   "metadata": {},
   "outputs": [
    {
     "data": {
      "text/plain": [
       "\"\\np_test3 = {'model__learning_rate':[0.1,0.01,0.005],\\n           'model__n_estimators':[100,200,300],\\n           'model__min_samples_split':[2,6,10],\\n           'model__max_depth':[5,7,9] ,\\n           'model__random_state':[10]\\n          }\\n\\npipeline = Pipeline(steps=[('preprocessor',preprocessor),('model', ensemble.GradientBoostingRegressor())])\\ntuned=GridSearchCV(pipeline, \\n            param_grid = p_test3,n_jobs=-1,cv=3)#cv determines number of folds,n_jobs=-1 use all CPU cores\\ntuned.fit(X_train, y_train)\\n#results = tuned.cv_results_\\ntuned.best_params_, tuned.best_score_\\n\""
      ]
     },
     "execution_count": 88,
     "metadata": {},
     "output_type": "execute_result"
    }
   ],
   "source": [
    "# check best parameter tuning\n",
    "\"\"\"\n",
    "p_test3 = {'model__learning_rate':[0.1,0.01,0.005],\n",
    "           'model__n_estimators':[100,200,300],\n",
    "           'model__min_samples_split':[2,6,10],\n",
    "           'model__max_depth':[5,7,9] ,\n",
    "           'model__random_state':[10]\n",
    "          }\n",
    "\n",
    "pipeline = Pipeline(steps=[('preprocessor',preprocessor),('model', ensemble.GradientBoostingRegressor())])\n",
    "tuned=GridSearchCV(pipeline, \n",
    "            param_grid = p_test3,n_jobs=-1,cv=3)#cv determines number of folds,n_jobs=-1 use all CPU cores\n",
    "tuned.fit(X_train, y_train)\n",
    "#results = tuned.cv_results_\n",
    "tuned.best_params_, tuned.best_score_\n",
    "\"\"\""
   ]
  },
  {
   "cell_type": "code",
   "execution_count": 205,
   "metadata": {},
   "outputs": [
    {
     "data": {
      "text/plain": [
       "({'model__n_estimators': 700,\n",
       "  'model__min_samples_split': 2,\n",
       "  'model__max_depth': 7,\n",
       "  'model__learning_rate': 0.01},\n",
       " 0.7925435009929673)"
      ]
     },
     "execution_count": 205,
     "metadata": {},
     "output_type": "execute_result"
    }
   ],
   "source": [
    "# check best parameter tuning\n",
    "p_test3 = {'model__learning_rate':[0.001,0.005,0.01],\n",
    "           'model__n_estimators':[100,500,700],\n",
    "           'model__min_samples_split':[2,6,10],\n",
    "           'model__max_depth':[5,7,9] \n",
    "          }\n",
    "\n",
    "pipeline = Pipeline(steps=[('preprocessor',preprocessor),('model', ensemble.GradientBoostingRegressor())])\n",
    "tuned=RandomizedSearchCV(pipeline, \n",
    "            p_test3,n_iter=10,random_state=10,cv=3)#cv determines number of folds,n_jobs=-1 use all CPU cores\n",
    "tuned.fit(X_train, y_train)\n",
    "results = tuned.cv_results_\n",
    "tuned.best_params_, tuned.best_score_"
   ]
  },
  {
   "cell_type": "code",
   "execution_count": 209,
   "metadata": {},
   "outputs": [
    {
     "name": "stdout",
     "output_type": "stream",
     "text": [
      "R square:0.81 \n",
      "Train R square:0.84 \n"
     ]
    }
   ],
   "source": [
    "# apply best parameters\n",
    "params = {'learning_rate': 0.01,#how much the contribution of each tree will shrink.\n",
    "          'n_estimators': 700,#the number of boosting stages\n",
    "          'max_depth': 7,#limits the number of nodes in the tree\n",
    "          'min_samples_split': 5,# the minimum number of samples required to split an internal node.\n",
    "          #'min_samples_leaf': 2,# the minimum number of samples required to split an internal node.\n",
    "          'random_state':10,\n",
    "         # 'loss': 'ls'\n",
    "         }#loss function to optimize. The least squares function is used in this case\n",
    "\n",
    "gBoost_model=ensemble.GradientBoostingRegressor(**params)\n",
    "trained_gBoost_model=train_model(gBoost_model)"
   ]
  },
  {
   "cell_type": "markdown",
   "metadata": {},
   "source": [
    "#### train the model on all data"
   ]
  },
  {
   "cell_type": "code",
   "execution_count": 211,
   "metadata": {},
   "outputs": [
    {
     "name": "stdout",
     "output_type": "stream",
     "text": [
      "R square:0.85 \n"
     ]
    }
   ],
   "source": [
    "acc={}\n",
    "params = {'n_estimators': 700,#the number of boosting stages\n",
    "          'max_depth': 7,#limits the number of nodes in the tree\n",
    "          'min_samples_split': 5,# the minimum number of samples required to split an internal node.\n",
    "          'learning_rate': 0.01,#how much the contribution of each tree will shrink.\n",
    "           'random_state':10,\n",
    "          #'loss': 'ls'\n",
    "         }#loss function to optimize. The least squares function is used in this case\n",
    "\n",
    "gBoost_model=ensemble.GradientBoostingRegressor(**params)\n",
    "trained_gBoost_model = Pipeline(steps=[('preprocessor',preprocessor),('model', gBoost_model)])\n",
    "trained_gBoost_model.fit(X,Y)\n",
    "y_hat=trained_gBoost_model.predict(X_test)\n",
    "print('R square:{:0.2f} '.format(r2_score(y_test,y_hat))) "
   ]
  },
  {
   "cell_type": "markdown",
   "metadata": {},
   "source": [
    "## Test The Model Prediction"
   ]
  },
  {
   "cell_type": "code",
   "execution_count": 212,
   "metadata": {},
   "outputs": [],
   "source": [
    "# serialize the model \n",
    "pickle.dump(trained_gBoost_model, open('GBoost_model.pkl','wb'))"
   ]
  },
  {
   "cell_type": "code",
   "execution_count": 213,
   "metadata": {},
   "outputs": [
    {
     "data": {
      "text/html": [
       "<div>\n",
       "<style scoped>\n",
       "    .dataframe tbody tr th:only-of-type {\n",
       "        vertical-align: middle;\n",
       "    }\n",
       "\n",
       "    .dataframe tbody tr th {\n",
       "        vertical-align: top;\n",
       "    }\n",
       "\n",
       "    .dataframe thead th {\n",
       "        text-align: right;\n",
       "    }\n",
       "</style>\n",
       "<table border=\"1\" class=\"dataframe\">\n",
       "  <thead>\n",
       "    <tr style=\"text-align: right;\">\n",
       "      <th></th>\n",
       "      <th>Amenities</th>\n",
       "      <th>Area</th>\n",
       "      <th>Bathrooms</th>\n",
       "      <th>Bedrooms</th>\n",
       "      <th>Compound</th>\n",
       "      <th>Furnished</th>\n",
       "      <th>Level</th>\n",
       "      <th>location</th>\n",
       "    </tr>\n",
       "  </thead>\n",
       "  <tbody>\n",
       "    <tr>\n",
       "      <th>0</th>\n",
       "      <td>[Central A/C &amp; heating, Electricity Meter, Wat...</td>\n",
       "      <td>211</td>\n",
       "      <td>3</td>\n",
       "      <td>3</td>\n",
       "      <td>Rehab City</td>\n",
       "      <td>0</td>\n",
       "      <td>4</td>\n",
       "      <td>Rehab City</td>\n",
       "    </tr>\n",
       "  </tbody>\n",
       "</table>\n",
       "</div>"
      ],
      "text/plain": [
       "                                           Amenities Area Bathrooms Bedrooms  \\\n",
       "0  [Central A/C & heating, Electricity Meter, Wat...  211         3        3   \n",
       "\n",
       "     Compound Furnished Level    location  \n",
       "0  Rehab City         0     4  Rehab City  "
      ]
     },
     "execution_count": 213,
     "metadata": {},
     "output_type": "execute_result"
    }
   ],
   "source": [
    "#Test Data\n",
    "dict_test={'Amenities':['Central A/C & heating','Electricity Meter','Water Meter','Elevator'],'Area':211,'Bathrooms':3,'Bedrooms':3,\"Compound\":\"Rehab City\",'Furnished':0,'Level':4,'location':\"Rehab City\"}\n",
    "columns = list(dict_test.keys())\n",
    "values = list(dict_test.values())\n",
    "arr_len = len(values)\n",
    "test_row=pd.DataFrame(np.array(values, dtype=object).reshape(1, arr_len), columns=columns)\n",
    "test_row"
   ]
  },
  {
   "cell_type": "code",
   "execution_count": 214,
   "metadata": {},
   "outputs": [
    {
     "name": "stdout",
     "output_type": "stream",
     "text": [
      "GBoost : 3,072,148.99\n"
     ]
    }
   ],
   "source": [
    "model = pickle.load(open('GBoost_model.pkl','rb'))\n",
    "print('GBoost : {:,.2f}'.format(model.predict(test_row)[0]))"
   ]
  },
  {
   "cell_type": "code",
   "execution_count": 215,
   "metadata": {},
   "outputs": [
    {
     "data": {
      "text/plain": [
       "<matplotlib.axes._subplots.AxesSubplot at 0xaa9bc55cc8>"
      ]
     },
     "execution_count": 215,
     "metadata": {},
     "output_type": "execute_result"
    },
    {
     "data": {
      "image/png": "[encoded data removed]",
      "text/plain": [
       "<Figure size 432x288 with 1 Axes>"
      ]
     },
     "metadata": {
      "needs_background": "light"
     },
     "output_type": "display_data"
    }
   ],
   "source": [
    "# check the accuracy visually\n",
    "ax1 = sns.distplot(y_test, hist=False, color=\"r\", label=\"Actual Value\")\n",
    "sns.distplot(y_hat, hist=False, color=\"b\", label=\"Fitted Values\" , ax=ax1)"
   ]
  }
 ],
 "metadata": {
  "kernelspec": {
   "display_name": "Python 3",
   "language": "python",
   "name": "python3"
  },
  "language_info": {
   "codemirror_mode": {
    "name": "ipython",
    "version": 3
   },
   "file_extension": ".py",
   "mimetype": "text/x-python",
   "name": "python",
   "nbconvert_exporter": "python",
   "pygments_lexer": "ipython3",
   "version": "3.7.6"
  }
 },
 "nbformat": 4,
 "nbformat_minor": 4
}
